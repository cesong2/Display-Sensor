{
  "nbformat": 4,
  "nbformat_minor": 0,
  "metadata": {
    "colab": {
      "provenance": [],
      "authorship_tag": "ABX9TyP6RvJ3r0faMr3QsxrpG68Y",
      "include_colab_link": true
    },
    "kernelspec": {
      "name": "python3",
      "display_name": "Python 3"
    },
    "language_info": {
      "name": "python"
    }
  },
  "cells": [
    {
      "cell_type": "markdown",
      "metadata": {
        "id": "view-in-github",
        "colab_type": "text"
      },
      "source": [
        "<a href=\"https://colab.research.google.com/github/cesong2/Display-Sensor/blob/yngkyng/ppt_%EB%82%B4%EC%9A%A9_%EB%84%A3%EC%9D%84_%EA%B1%B0_%EB%AA%A8%EC%9D%8C.ipynb\" target=\"_parent\"><img src=\"https://colab.research.google.com/assets/colab-badge.svg\" alt=\"Open In Colab\"/></a>"
      ]
    },
    {
      "cell_type": "code",
      "execution_count": null,
      "metadata": {
        "id": "ufDQWUyb9LgL"
      },
      "outputs": [],
      "source": []
    },
    {
      "cell_type": "markdown",
      "source": [
        ">>프로젝트 배경 및 목적\n",
        "예측 유지보수는 다음과 같은 몇 가지 이유로 예측 분석에서 가장 수요가 많은 애플리케이션 중 하나로 부상하고 있습니다.\n",
        "\n",
        "첫째, 그리고 가장 중요한 것은 중요한 자산의 예상치 못한 고장을 방지하고 내용연수를 연장하는 것이 장비와 인력 모두에서 명확한 비용 절감 편익을 가져온다는 점이다.이러한 이점은 수익성 향상으로 직결됩니다.또한 이러한 자산은 조직의 가치사슬과 직접 관련되어 있는 경우가 많기 때문에 보다 신뢰성 높은 사용은 일반적으로 고객 서비스를 향상시키고 브랜드상의 이점을 가져옵니다.단기적으로는 서비스 중단으로 인해 비용만 증가할 수 있지만 장기적으로는 서비스 중단으로 인해 조직의 평판에 부정적인 영향을 미치므로 기존 고객을 유지하고 신규 고객을 추가하는 데 비용이 많이 듭니다.\n",
        "둘째, 예측 유지보수는 거의 보편적으로 적용할 수 있습니다. 즉, 거의 모든 업종이 고자본 자산을 보유하고 있으며, 그 활용률로 인한 수익은 수익으로 이어집니다.이산 제조에 대한 적용 가능성은 분명하지만, 프로세스 제조, 에너지, 운송, 석유 및 가스, 소비재, 의료 및 기타 많은 산업에서는 경쟁력에 영향을 미치는 장기 자산을 사용하고 있습니다.\n",
        "셋째, 다른 많은 AI 영역과 비교하여 예측 유지보수에 사용되는 개념, 접근법 및 알고리즘은 보다 친숙하고 직관적이다.기기 성능의 이상 검출, 고장 발생 시기 예측, 고장 원인 식별 및 남은 내용연수 추정은 비교적 명확하게 이해되어 있으며, 단순하고 성숙하며 널리 사용되는 회귀 또는 분류 방법을 사용하여 답을 얻을 수 있다.\n",
        "\n",
        "\n",
        ">>데이터 분석해놓은 블로그\n",
        "https://medium.com/@Medini_2020/predictive-maintenance-using-machine-learning-3d8b62d5df8e\n",
        "\n",
        "\n",
        ">>데이터 설명\n",
        "PdM_errors - 에러(고장은 아닌 것)/ 발생한 시간, 기계id(1~100), 에러id(1~4)\n",
        "PdM_failures - 고장교체기록(maint의 하위 집합)/ 발생 날짜(모두 6시로 기록), 기계id, 교체부품(comp1~4)\n",
        "PdM_maint - 컴포넌트 교체 기록(정기적 교체+고장으로 인한 교체)/ 교체 날짜(이것도 6시), 기계id, 교체부품 \n",
        "PdM_Machines - 기계 정보 / 기계id, 모델 종류(1~4), 사용연식\n",
        "PdM_telemetry - 시계열정보 / 시간, 기계id, 전압, 회전, 압력, 진동(각각 기계별 시간당 평균)\n",
        "\n",
        "\n",
        ">> 결론 및 제시방향\n",
        "예측 유지보수의 목표는 장애를 미리 예측하여 비용을 절감하는 동시에 정상 컴포넌트 교체(예방적 유지 보수)를 피하는 것입니다."
      ],
      "metadata": {
        "id": "-0Wt8eFjVLbT"
      }
    }
  ]
}