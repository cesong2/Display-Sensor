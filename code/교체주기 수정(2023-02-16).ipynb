{
  "nbformat": 4,
  "nbformat_minor": 0,
  "metadata": {
    "colab": {
      "provenance": [],
      "collapsed_sections": [
        "oceWbr2kmRq7"
      ],
      "authorship_tag": "ABX9TyO5+cRkLULRM4hD6jyA7sEi",
      "include_colab_link": true
    },
    "kernelspec": {
      "name": "python3",
      "display_name": "Python 3"
    },
    "language_info": {
      "name": "python"
    }
  },
  "cells": [
    {
      "cell_type": "markdown",
      "metadata": {
        "id": "view-in-github",
        "colab_type": "text"
      },
      "source": [
        "<a href=\"https://colab.research.google.com/github/cesong2/Display-Sensor/blob/Chan/%EA%B5%90%EC%B2%B4%EC%A3%BC%EA%B8%B0%20%EC%88%98%EC%A0%95(2023-02-16).ipynb\" target=\"_parent\"><img src=\"https://colab.research.google.com/assets/colab-badge.svg\" alt=\"Open In Colab\"/></a>"
      ]
    },
    {
      "cell_type": "code",
      "execution_count": 1,
      "metadata": {
        "id": "PfQoUva-jorZ"
      },
      "outputs": [],
      "source": [
        "import pandas as pd\n",
        "import matplotlib.pyplot as plt\n",
        "import matplotlib\n",
        "import seaborn as sns\n",
        "import numpy as np"
      ]
    },
    {
      "cell_type": "code",
      "source": [
        "from datetime import timedelta\n",
        "import datetime\n",
        "import numpy as np\n",
        "from datetime import datetime\n",
        "import time"
      ],
      "metadata": {
        "id": "pGawzSshl5S1"
      },
      "execution_count": 2,
      "outputs": []
    },
    {
      "cell_type": "code",
      "source": [
        "#Load the data\n",
        "telemetry_df = pd.read_csv(\"/content/PdM_telemetry.csv\")\n",
        "errors_df = pd.read_csv(\"/content/PdM_errors.csv\")\n",
        "maint_df = pd.read_csv(\"/content/PdM_maint.csv\")\n",
        "failures_df = pd.read_csv(\"/content/PdM_failures.csv\")\n",
        "machines_df = pd.read_csv(\"/content/PdM_machines.csv\")\n",
        "machines_age = pd.DataFrame(machines_df[['machineID','age']]).set_index('machineID')\n",
        "machines_errors = pd.DataFrame(errors_df.groupby('machineID')['errorID'].count())\n",
        "machines_maint = pd.DataFrame(maint_df.groupby('machineID')['comp'].count())\n",
        "machines_failures = pd.DataFrame(failures_df.groupby('machineID')['failure'].count())"
      ],
      "metadata": {
        "id": "BFQ3l13KkScD"
      },
      "execution_count": 3,
      "outputs": []
    },
    {
      "cell_type": "markdown",
      "source": [
        "#전체 데이터 다시구하기"
      ],
      "metadata": {
        "id": "ZOeD8_lvvZFs"
      }
    },
    {
      "cell_type": "code",
      "source": [
        "maint_df.head(3)"
      ],
      "metadata": {
        "colab": {
          "base_uri": "https://localhost:8080/",
          "height": 143
        },
        "id": "KnJQJTVWvbLt",
        "outputId": "5e263f2c-4940-4544-cd3e-81e6b10059a4"
      },
      "execution_count": 69,
      "outputs": [
        {
          "output_type": "execute_result",
          "data": {
            "text/plain": [
              "              datetime  machineID   comp\n",
              "0  2014-06-01 06:00:00          1  comp2\n",
              "1  2014-07-16 06:00:00          1  comp4\n",
              "2  2014-07-31 06:00:00          1  comp3"
            ],
            "text/html": [
              "\n",
              "  <div id=\"df-29668c29-3c6f-4732-991c-018ab68f4b4c\">\n",
              "    <div class=\"colab-df-container\">\n",
              "      <div>\n",
              "<style scoped>\n",
              "    .dataframe tbody tr th:only-of-type {\n",
              "        vertical-align: middle;\n",
              "    }\n",
              "\n",
              "    .dataframe tbody tr th {\n",
              "        vertical-align: top;\n",
              "    }\n",
              "\n",
              "    .dataframe thead th {\n",
              "        text-align: right;\n",
              "    }\n",
              "</style>\n",
              "<table border=\"1\" class=\"dataframe\">\n",
              "  <thead>\n",
              "    <tr style=\"text-align: right;\">\n",
              "      <th></th>\n",
              "      <th>datetime</th>\n",
              "      <th>machineID</th>\n",
              "      <th>comp</th>\n",
              "    </tr>\n",
              "  </thead>\n",
              "  <tbody>\n",
              "    <tr>\n",
              "      <th>0</th>\n",
              "      <td>2014-06-01 06:00:00</td>\n",
              "      <td>1</td>\n",
              "      <td>comp2</td>\n",
              "    </tr>\n",
              "    <tr>\n",
              "      <th>1</th>\n",
              "      <td>2014-07-16 06:00:00</td>\n",
              "      <td>1</td>\n",
              "      <td>comp4</td>\n",
              "    </tr>\n",
              "    <tr>\n",
              "      <th>2</th>\n",
              "      <td>2014-07-31 06:00:00</td>\n",
              "      <td>1</td>\n",
              "      <td>comp3</td>\n",
              "    </tr>\n",
              "  </tbody>\n",
              "</table>\n",
              "</div>\n",
              "      <button class=\"colab-df-convert\" onclick=\"convertToInteractive('df-29668c29-3c6f-4732-991c-018ab68f4b4c')\"\n",
              "              title=\"Convert this dataframe to an interactive table.\"\n",
              "              style=\"display:none;\">\n",
              "        \n",
              "  <svg xmlns=\"http://www.w3.org/2000/svg\" height=\"24px\"viewBox=\"0 0 24 24\"\n",
              "       width=\"24px\">\n",
              "    <path d=\"M0 0h24v24H0V0z\" fill=\"none\"/>\n",
              "    <path d=\"M18.56 5.44l.94 2.06.94-2.06 2.06-.94-2.06-.94-.94-2.06-.94 2.06-2.06.94zm-11 1L8.5 8.5l.94-2.06 2.06-.94-2.06-.94L8.5 2.5l-.94 2.06-2.06.94zm10 10l.94 2.06.94-2.06 2.06-.94-2.06-.94-.94-2.06-.94 2.06-2.06.94z\"/><path d=\"M17.41 7.96l-1.37-1.37c-.4-.4-.92-.59-1.43-.59-.52 0-1.04.2-1.43.59L10.3 9.45l-7.72 7.72c-.78.78-.78 2.05 0 2.83L4 21.41c.39.39.9.59 1.41.59.51 0 1.02-.2 1.41-.59l7.78-7.78 2.81-2.81c.8-.78.8-2.07 0-2.86zM5.41 20L4 18.59l7.72-7.72 1.47 1.35L5.41 20z\"/>\n",
              "  </svg>\n",
              "      </button>\n",
              "      \n",
              "  <style>\n",
              "    .colab-df-container {\n",
              "      display:flex;\n",
              "      flex-wrap:wrap;\n",
              "      gap: 12px;\n",
              "    }\n",
              "\n",
              "    .colab-df-convert {\n",
              "      background-color: #E8F0FE;\n",
              "      border: none;\n",
              "      border-radius: 50%;\n",
              "      cursor: pointer;\n",
              "      display: none;\n",
              "      fill: #1967D2;\n",
              "      height: 32px;\n",
              "      padding: 0 0 0 0;\n",
              "      width: 32px;\n",
              "    }\n",
              "\n",
              "    .colab-df-convert:hover {\n",
              "      background-color: #E2EBFA;\n",
              "      box-shadow: 0px 1px 2px rgba(60, 64, 67, 0.3), 0px 1px 3px 1px rgba(60, 64, 67, 0.15);\n",
              "      fill: #174EA6;\n",
              "    }\n",
              "\n",
              "    [theme=dark] .colab-df-convert {\n",
              "      background-color: #3B4455;\n",
              "      fill: #D2E3FC;\n",
              "    }\n",
              "\n",
              "    [theme=dark] .colab-df-convert:hover {\n",
              "      background-color: #434B5C;\n",
              "      box-shadow: 0px 1px 3px 1px rgba(0, 0, 0, 0.15);\n",
              "      filter: drop-shadow(0px 1px 2px rgba(0, 0, 0, 0.3));\n",
              "      fill: #FFFFFF;\n",
              "    }\n",
              "  </style>\n",
              "\n",
              "      <script>\n",
              "        const buttonEl =\n",
              "          document.querySelector('#df-29668c29-3c6f-4732-991c-018ab68f4b4c button.colab-df-convert');\n",
              "        buttonEl.style.display =\n",
              "          google.colab.kernel.accessAllowed ? 'block' : 'none';\n",
              "\n",
              "        async function convertToInteractive(key) {\n",
              "          const element = document.querySelector('#df-29668c29-3c6f-4732-991c-018ab68f4b4c');\n",
              "          const dataTable =\n",
              "            await google.colab.kernel.invokeFunction('convertToInteractive',\n",
              "                                                     [key], {});\n",
              "          if (!dataTable) return;\n",
              "\n",
              "          const docLinkHtml = 'Like what you see? Visit the ' +\n",
              "            '<a target=\"_blank\" href=https://colab.research.google.com/notebooks/data_table.ipynb>data table notebook</a>'\n",
              "            + ' to learn more about interactive tables.';\n",
              "          element.innerHTML = '';\n",
              "          dataTable['output_type'] = 'display_data';\n",
              "          await google.colab.output.renderOutput(dataTable, element);\n",
              "          const docLink = document.createElement('div');\n",
              "          docLink.innerHTML = docLinkHtml;\n",
              "          element.appendChild(docLink);\n",
              "        }\n",
              "      </script>\n",
              "    </div>\n",
              "  </div>\n",
              "  "
            ]
          },
          "metadata": {},
          "execution_count": 69
        }
      ]
    },
    {
      "cell_type": "code",
      "source": [
        "tot_data = maint_df[maint_df['comp']== 'comp1'] #failures_maint별 정리\n",
        "tot_data1 = maint_df[maint_df['comp']== 'comp2']\n",
        "tot_data2 = maint_df[maint_df['comp']== 'comp3']\n",
        "tot_data3 = maint_df[maint_df['comp']== 'comp4']\n",
        "tot_dataset = tot_data.set_index('datetime').reset_index()#숫자 재정렬\n",
        "tot_dataset1 = tot_data1.set_index('datetime').reset_index()\n",
        "tot_dataset2 = tot_data2.set_index('datetime').reset_index()\n",
        "tot_dataset3 = tot_data3.set_index('datetime').reset_index()"
      ],
      "metadata": {
        "id": "Xl1je0f7v6fs"
      },
      "execution_count": 112,
      "outputs": []
    },
    {
      "cell_type": "code",
      "source": [
        "tot_dataset"
      ],
      "metadata": {
        "id": "42HHDC-zwPHr"
      },
      "execution_count": null,
      "outputs": []
    },
    {
      "cell_type": "markdown",
      "source": [
        "#총 몇번 교체되었는지 component별 확인"
      ],
      "metadata": {
        "id": "p1YsT0uMlFic"
      }
    },
    {
      "cell_type": "code",
      "source": [
        "#maint 데이터파일 0과 1로 정리해주기\n",
        "import numpy as np\n",
        "comp_rep = pd.get_dummies(maint_df.set_index('datetime')).reset_index()\n",
        "comp_rep.columns = ['datetime', 'machineID','comp1', 'comp2', 'comp3', 'comp4']\n",
        "comp_rep = maint_df[['datetime', 'machineID']].merge(comp_rep,on=['datetime','machineID'],how='outer').fillna(0).sort_values(by=['machineID', 'datetime'])"
      ],
      "metadata": {
        "id": "Fp2nKD1PlMBT"
      },
      "execution_count": 6,
      "outputs": []
    },
    {
      "cell_type": "code",
      "source": [
        "comp_rep"
      ],
      "metadata": {
        "id": "Lp_FoZzm1DBa"
      },
      "execution_count": null,
      "outputs": []
    },
    {
      "cell_type": "code",
      "source": [
        "#maint 데이터파일 시간대별로 채우기\n",
        "components = ['comp1', 'comp2', 'comp3', 'comp4']\n",
        "for comp in components:\n",
        "    comp_rep.loc[comp_rep[comp] < 1, comp] = None\n",
        "    comp_rep.loc[-comp_rep[comp].isnull(),\n",
        "                 comp] = comp_rep.loc[-comp_rep[comp].isnull(), 'datetime']\n",
        "    comp_rep[comp] = comp_rep[comp].fillna(method='ffill')"
      ],
      "metadata": {
        "id": "LIHJVS7rlM4E"
      },
      "execution_count": 7,
      "outputs": []
    },
    {
      "cell_type": "code",
      "source": [
        "#컴포넌트별 모든 시간대 정리\n",
        "comp1_t = pd.DataFrame(comp_rep, columns = ['datetime','machineID','comp1'])\n",
        "comp2_t = pd.DataFrame(comp_rep, columns = ['datetime','machineID','comp2'])\n",
        "comp3_t = pd.DataFrame(comp_rep, columns = ['datetime','machineID','comp3'])\n",
        "comp4_t = pd.DataFrame(comp_rep, columns = ['datetime','machineID','comp4'])"
      ],
      "metadata": {
        "id": "UMgy1Of3lOHr"
      },
      "execution_count": 8,
      "outputs": []
    },
    {
      "cell_type": "code",
      "source": [
        "#컴포넌트 시간대별 중복 데이터 정리\n",
        "comp1_rep = comp1_t.drop_duplicates(['comp1']) #303데이터열\n",
        "comp2_rep = comp2_t.drop_duplicates(['comp2']) #317데이터열\n",
        "comp3_rep = comp3_t.drop_duplicates(['comp3']) #311데이터열\n",
        "comp4_rep = comp4_t.drop_duplicates(['comp4']) #314데이터열"
      ],
      "metadata": {
        "id": "M3coQE9RlPaN"
      },
      "execution_count": 9,
      "outputs": []
    },
    {
      "cell_type": "code",
      "source": [
        "print(f'comp1은 {len(comp1_rep)}번 교체, comp2은 {len(comp2_rep)}번 교체, comp3은 {len(comp3_rep)}번 교체, comp4은 {len(comp4_rep)}번 교체,')"
      ],
      "metadata": {
        "id": "nfPFtLKYlQzL"
      },
      "execution_count": null,
      "outputs": []
    },
    {
      "cell_type": "code",
      "source": [
        "comp1_t.head(30)"
      ],
      "metadata": {
        "id": "_V1e9vXxQK5-"
      },
      "execution_count": null,
      "outputs": []
    },
    {
      "cell_type": "markdown",
      "source": [
        "#고장에 의한 교체 찾기 $1 #다시 확인해보기.\n",
        "--- "
      ],
      "metadata": {
        "id": "kvaDeYzQlXQD"
      }
    },
    {
      "cell_type": "code",
      "source": [
        "comp1 = tot_dataset.set_index('datetime').reset_index()\n",
        "comp2 = tot_dataset1.set_index('datetime').reset_index()\n",
        "comp3 = tot_dataset2.set_index('datetime').reset_index()\n",
        "comp4 = tot_dataset3.set_index('datetime').reset_index()"
      ],
      "metadata": {
        "id": "lIoClCw3lSJD"
      },
      "execution_count": 114,
      "outputs": []
    },
    {
      "cell_type": "code",
      "source": [
        "#결측치 제거 전 (Nan값제거)\n",
        "comp1\n",
        "comp2\n",
        "comp3\n",
        "comp4\n",
        "#결측치 제거 후 (Nan값제거)\n",
        "comp1_n = comp1.dropna(axis=0) #결측치 1개 삭제\n",
        "comp2_n = comp2.dropna(axis=0) #결측치 0개 삭제\n",
        "comp3_n = comp3.dropna(axis=0) #결측치 1개 삭제\n",
        "comp4_n = comp4.dropna(axis=0) #결측치 1개 삭제\n",
        "#순서 재배치\n",
        "comp1_n = comp1_n.set_index('datetime').reset_index()\n",
        "comp2_n = comp2_n.set_index('datetime').reset_index()\n",
        "comp3_n = comp3_n.set_index('datetime').reset_index()\n",
        "comp4_n = comp4_n.set_index('datetime').reset_index()"
      ],
      "metadata": {
        "id": "Kkjx7zOHlTaT"
      },
      "execution_count": 115,
      "outputs": []
    },
    {
      "cell_type": "code",
      "source": [
        "#전체 교체주기 - 고장 교체주기 = 일반 교체주기\n",
        "list_test_positive = [] #고장 안난데이터\n",
        "list_id_positive = []\n",
        "list_test_negative = []\n",
        "list_id_negative = []\n",
        "for i in range(len(comp1_n)):\n",
        "  if comp1_n['datetime'][i] not in list(df_com1['datetime']): #겹치는애들 = 고장난애들\n",
        "    list_test_negative.append(comp1_n['datetime'][i])\n",
        "    list_id_negative.append(comp1_n['machineID'][i])\n",
        "  else:\n",
        "    #겹치지 않는애들 = 고장안난애들\n",
        "    list_test_positive.append(comp1_n['datetime'][i])\n",
        "    list_id_positive.append(comp1_n['machineID'][i])\n",
        "\n",
        "list_test_positive2 = [] #고장 안난데이터\n",
        "list_id_positive2 = []\n",
        "list_test_negative2 = []\n",
        "list_id_negative2 = []\n",
        "for i in range(len(comp2_n)):\n",
        "  if comp2_n['datetime'][i] not in list(df_com2['datetime']): #겹치는애들 = 고장난애들\n",
        "    list_test_negative2.append(comp2_n['datetime'][i])\n",
        "    list_id_negative2.append(comp2_n['machineID'][i])\n",
        "  else:\n",
        "    #겹치지 않는애들 = 고장안난애들\n",
        "    list_test_positive2.append(comp2_n['datetime'][i])\n",
        "    list_id_positive2.append(comp2_n['machineID'][i])\n",
        "\n",
        "list_test_positive3 = [] #고장 안난데이터\n",
        "list_id_positive3 = []\n",
        "list_test_negative3 = []\n",
        "list_id_negative3 = []\n",
        "\n",
        "for i in range(len(comp3_n)):\n",
        "  if comp3_n['datetime'][i] not in list(df_com3['datetime']): #겹치는애들 = 고장난애들\n",
        "    list_test_negative3.append(comp3_n['datetime'][i])\n",
        "    list_id_negative3.append(comp3_n['machineID'][i])\n",
        "  else:\n",
        "    #겹치지 않는애들 = 고장안난애들\n",
        "    list_test_positive3.append(comp3_n['datetime'][i])\n",
        "    list_id_positive3.append(comp3_n['machineID'][i])\n",
        "\n",
        "\n",
        "list_test_positive4 = [] #고장 안난데이터\n",
        "list_id_positive4 = []\n",
        "list_test_negative4 = []\n",
        "list_id_negative4 = []\n",
        "for i in range(len(comp4_n)):\n",
        "  if comp4_n['datetime'][i] not in list(df_com4['datetime']): #겹치는애들 = 고장난애들\n",
        "    list_test_negative4.append(comp4_n['datetime'][i])\n",
        "    list_id_negative4.append(comp4_n['machineID'][i])\n",
        "  else:\n",
        "    #겹치지 않는애들 = 고장안난애들\n",
        "    list_test_positive4.append(comp4_n['datetime'][i])\n",
        "    list_id_positive4.append(comp4_n['machineID'][i])"
      ],
      "metadata": {
        "id": "17FnmUBUXynY"
      },
      "execution_count": 196,
      "outputs": []
    },
    {
      "cell_type": "code",
      "source": [
        "neg_t= pd.DataFrame(data=list(zip(list_test_negative,list_id_negative)),columns = ['datetime','machineID'])\n",
        "neg_t1= pd.DataFrame(data=list(zip(list_test_negative2,list_id_negative2)),columns = ['datetime','machineID'])\n",
        "neg_t2= pd.DataFrame(data=list(zip(list_test_negative3,list_id_negative3)),columns = ['datetime','machineID'])\n",
        "neg_t3= pd.DataFrame(data=list(zip(list_test_negative4,list_id_negative4)),columns = ['datetime','machineID'])\n",
        "neg_t['comp1'] = 'comp1'\n",
        "neg_t1['comp2'] = 'comp2'\n",
        "neg_t2['comp3'] = 'comp3'\n",
        "neg_t3['comp4'] = 'comp4'"
      ],
      "metadata": {
        "id": "qRo6qQty7nfJ"
      },
      "execution_count": 199,
      "outputs": []
    },
    {
      "cell_type": "code",
      "source": [
        "neg_t"
      ],
      "metadata": {
        "id": "PNlJKzfk9KQJ"
      },
      "execution_count": null,
      "outputs": []
    },
    {
      "cell_type": "code",
      "source": [
        "#----------------------------------------------------------------------\n",
        "df = pd.DataFrame(columns = {'failures_maint','machineID','datetime'})\n",
        "df = df.reindex(columns = ['machineID','datetime','failures_maint'])\n",
        "df"
      ],
      "metadata": {
        "colab": {
          "base_uri": "https://localhost:8080/",
          "height": 49
        },
        "id": "U2xyVzR0lcR8",
        "outputId": "5de387cf-5f48-4f31-985d-d87c24a6598c"
      },
      "execution_count": 116,
      "outputs": [
        {
          "output_type": "execute_result",
          "data": {
            "text/plain": [
              "Empty DataFrame\n",
              "Columns: [machineID, datetime, failures_maint]\n",
              "Index: []"
            ],
            "text/html": [
              "\n",
              "  <div id=\"df-012977b0-c810-4e10-97db-df56ec246833\">\n",
              "    <div class=\"colab-df-container\">\n",
              "      <div>\n",
              "<style scoped>\n",
              "    .dataframe tbody tr th:only-of-type {\n",
              "        vertical-align: middle;\n",
              "    }\n",
              "\n",
              "    .dataframe tbody tr th {\n",
              "        vertical-align: top;\n",
              "    }\n",
              "\n",
              "    .dataframe thead th {\n",
              "        text-align: right;\n",
              "    }\n",
              "</style>\n",
              "<table border=\"1\" class=\"dataframe\">\n",
              "  <thead>\n",
              "    <tr style=\"text-align: right;\">\n",
              "      <th></th>\n",
              "      <th>machineID</th>\n",
              "      <th>datetime</th>\n",
              "      <th>failures_maint</th>\n",
              "    </tr>\n",
              "  </thead>\n",
              "  <tbody>\n",
              "  </tbody>\n",
              "</table>\n",
              "</div>\n",
              "      <button class=\"colab-df-convert\" onclick=\"convertToInteractive('df-012977b0-c810-4e10-97db-df56ec246833')\"\n",
              "              title=\"Convert this dataframe to an interactive table.\"\n",
              "              style=\"display:none;\">\n",
              "        \n",
              "  <svg xmlns=\"http://www.w3.org/2000/svg\" height=\"24px\"viewBox=\"0 0 24 24\"\n",
              "       width=\"24px\">\n",
              "    <path d=\"M0 0h24v24H0V0z\" fill=\"none\"/>\n",
              "    <path d=\"M18.56 5.44l.94 2.06.94-2.06 2.06-.94-2.06-.94-.94-2.06-.94 2.06-2.06.94zm-11 1L8.5 8.5l.94-2.06 2.06-.94-2.06-.94L8.5 2.5l-.94 2.06-2.06.94zm10 10l.94 2.06.94-2.06 2.06-.94-2.06-.94-.94-2.06-.94 2.06-2.06.94z\"/><path d=\"M17.41 7.96l-1.37-1.37c-.4-.4-.92-.59-1.43-.59-.52 0-1.04.2-1.43.59L10.3 9.45l-7.72 7.72c-.78.78-.78 2.05 0 2.83L4 21.41c.39.39.9.59 1.41.59.51 0 1.02-.2 1.41-.59l7.78-7.78 2.81-2.81c.8-.78.8-2.07 0-2.86zM5.41 20L4 18.59l7.72-7.72 1.47 1.35L5.41 20z\"/>\n",
              "  </svg>\n",
              "      </button>\n",
              "      \n",
              "  <style>\n",
              "    .colab-df-container {\n",
              "      display:flex;\n",
              "      flex-wrap:wrap;\n",
              "      gap: 12px;\n",
              "    }\n",
              "\n",
              "    .colab-df-convert {\n",
              "      background-color: #E8F0FE;\n",
              "      border: none;\n",
              "      border-radius: 50%;\n",
              "      cursor: pointer;\n",
              "      display: none;\n",
              "      fill: #1967D2;\n",
              "      height: 32px;\n",
              "      padding: 0 0 0 0;\n",
              "      width: 32px;\n",
              "    }\n",
              "\n",
              "    .colab-df-convert:hover {\n",
              "      background-color: #E2EBFA;\n",
              "      box-shadow: 0px 1px 2px rgba(60, 64, 67, 0.3), 0px 1px 3px 1px rgba(60, 64, 67, 0.15);\n",
              "      fill: #174EA6;\n",
              "    }\n",
              "\n",
              "    [theme=dark] .colab-df-convert {\n",
              "      background-color: #3B4455;\n",
              "      fill: #D2E3FC;\n",
              "    }\n",
              "\n",
              "    [theme=dark] .colab-df-convert:hover {\n",
              "      background-color: #434B5C;\n",
              "      box-shadow: 0px 1px 3px 1px rgba(0, 0, 0, 0.15);\n",
              "      filter: drop-shadow(0px 1px 2px rgba(0, 0, 0, 0.3));\n",
              "      fill: #FFFFFF;\n",
              "    }\n",
              "  </style>\n",
              "\n",
              "      <script>\n",
              "        const buttonEl =\n",
              "          document.querySelector('#df-012977b0-c810-4e10-97db-df56ec246833 button.colab-df-convert');\n",
              "        buttonEl.style.display =\n",
              "          google.colab.kernel.accessAllowed ? 'block' : 'none';\n",
              "\n",
              "        async function convertToInteractive(key) {\n",
              "          const element = document.querySelector('#df-012977b0-c810-4e10-97db-df56ec246833');\n",
              "          const dataTable =\n",
              "            await google.colab.kernel.invokeFunction('convertToInteractive',\n",
              "                                                     [key], {});\n",
              "          if (!dataTable) return;\n",
              "\n",
              "          const docLinkHtml = 'Like what you see? Visit the ' +\n",
              "            '<a target=\"_blank\" href=https://colab.research.google.com/notebooks/data_table.ipynb>data table notebook</a>'\n",
              "            + ' to learn more about interactive tables.';\n",
              "          element.innerHTML = '';\n",
              "          dataTable['output_type'] = 'display_data';\n",
              "          await google.colab.output.renderOutput(dataTable, element);\n",
              "          const docLink = document.createElement('div');\n",
              "          docLink.innerHTML = docLinkHtml;\n",
              "          element.appendChild(docLink);\n",
              "        }\n",
              "      </script>\n",
              "    </div>\n",
              "  </div>\n",
              "  "
            ]
          },
          "metadata": {},
          "execution_count": 116
        }
      ]
    },
    {
      "cell_type": "code",
      "source": [
        "#n = maint_df.merge(failures_df, on = ('machineID','datetime'),how = 'inner')\n",
        "#for i in range(len(n)):\n",
        "  #if n['comp'][i] == n['failure'][i]: #겹치는애들\n",
        "    #df.loc[i] = [n['machineID'][i],n['datetime'][i],n['failure'][i]]\n",
        " # else:#겹치지 않는애들 (제거 요망)\n",
        "   # pass"
      ],
      "metadata": {
        "id": "CsdJxpMGle4j"
      },
      "execution_count": 117,
      "outputs": []
    },
    {
      "cell_type": "code",
      "source": [
        "#------------------------------------------------\n",
        "df1 = df.set_index('datetime').reset_index() #숫자 재정렬\n",
        "df1"
      ],
      "metadata": {
        "id": "h0-4jujMlgWD"
      },
      "execution_count": null,
      "outputs": []
    },
    {
      "cell_type": "code",
      "source": [
        "#-------------------------------------\n",
        "df_comp1 = df1[df1['failures_maint']== 'comp1'] #failures_maint별 정리\n",
        "df_comp2 = df1[df1['failures_maint']== 'comp2']\n",
        "df_comp3 = df1[df1['failures_maint']== 'comp3']\n",
        "df_comp4 = df1[df1['failures_maint']== 'comp4']\n",
        "df_com1 = df_comp1.set_index('datetime').reset_index()#숫자 재정렬\n",
        "df_com2 = df_comp2.set_index('datetime').reset_index()\n",
        "df_com3 = df_comp3.set_index('datetime').reset_index()\n",
        "df_com4 = df_comp4.set_index('datetime').reset_index()"
      ],
      "metadata": {
        "id": "CEV5Ir9rlkSr"
      },
      "execution_count": 120,
      "outputs": []
    },
    {
      "cell_type": "code",
      "source": [
        "#datetime 을 이용한 교체주기 확인\n",
        "fail_com = []\n",
        "n = 1\n",
        "for i in range(len(neg_t)-1):\n",
        "  if n != range(len(neg_t)):\n",
        "    str_datetime1 = neg_t[\"datetime\"][n]\n",
        "    str_datetime2 = neg_t[\"datetime\"][i]\n",
        "    currdate1 = datetime.strptime(str_datetime1, '%Y-%m-%d %H:%M:%S')\n",
        "    currdate2 = datetime.strptime(str_datetime2, '%Y-%m-%d %H:%M:%S')\n",
        "    new = currdate1- currdate2\n",
        "    fail_com.append(new.days)\n",
        "    n += 1\n",
        "  else:\n",
        "    break\n",
        "fail_com1 = []\n",
        "n1 = 1\n",
        "for i in range(len(neg_t1)-1):\n",
        "  if n1 != range(len(neg_t1)):\n",
        "    str_datetime1 = neg_t1[\"datetime\"][n1]\n",
        "    str_datetime2 = neg_t1[\"datetime\"][i]\n",
        "    currdate1 = datetime.strptime(str_datetime1, '%Y-%m-%d %H:%M:%S')\n",
        "    currdate2 = datetime.strptime(str_datetime2, '%Y-%m-%d %H:%M:%S')\n",
        "    new = currdate1- currdate2\n",
        "    fail_com1.append(new.days)\n",
        "    n1 += 1\n",
        "  else:\n",
        "    break\n",
        "fail_com2 = []\n",
        "n2 = 1\n",
        "for i in range(len(neg_t2)-1):\n",
        "  if n2 != range(len(neg_t2)):\n",
        "    str_datetime1 = neg_t2[\"datetime\"][n2]\n",
        "    str_datetime2 = neg_t2[\"datetime\"][i]\n",
        "    currdate1 = datetime.strptime(str_datetime1, '%Y-%m-%d %H:%M:%S')\n",
        "    currdate2 = datetime.strptime(str_datetime2, '%Y-%m-%d %H:%M:%S')\n",
        "    new = currdate1- currdate2\n",
        "    fail_com2.append(new.days)\n",
        "    n2 += 1\n",
        "  else:\n",
        "    break\n",
        "fail_com3 = []\n",
        "n3 = 1\n",
        "for i in range(len(neg_t3)-1):\n",
        "  if n3 != range(len(neg_t3)):\n",
        "    str_datetime1 = neg_t3[\"datetime\"][n3]\n",
        "    str_datetime2 = neg_t3[\"datetime\"][i]\n",
        "    currdate1 = datetime.strptime(str_datetime1, '%Y-%m-%d %H:%M:%S')\n",
        "    currdate2 = datetime.strptime(str_datetime2, '%Y-%m-%d %H:%M:%S')\n",
        "    new = currdate1- currdate2\n",
        "    fail_com3.append(new.days)\n",
        "    n3 += 1\n",
        "  else:\n",
        "    break"
      ],
      "metadata": {
        "id": "eSAQTB82lmaT"
      },
      "execution_count": 203,
      "outputs": []
    },
    {
      "cell_type": "code",
      "source": [
        "#리스트 안의 음수를 none으로 바꾸기 #def로 바꾸기\n",
        "fail_comp =[]\n",
        "for i in range(len(fail_com)):\n",
        "  if fail_com[i] > 0:\n",
        "    fail_comp.append(fail_com[i])\n",
        "  else:\n",
        "    fail_comp.append(None)\n",
        "fail_comp1 =[]\n",
        "for i in range(len(fail_com1)):\n",
        "  if fail_com1[i] > 0:\n",
        "    fail_comp1.append(fail_com1[i])\n",
        "  else:\n",
        "    fail_comp1.append(None)\n",
        "fail_comp2 =[]\n",
        "for i in range(len(fail_com2)):\n",
        "  if fail_com2[i] > 0:\n",
        "    fail_comp2.append(fail_com2[i])\n",
        "  else:\n",
        "    fail_comp2.append(None)\n",
        "fail_comp3 =[]\n",
        "for i in range(len(fail_com3)):\n",
        "  if fail_com3[i] > 0:\n",
        "    fail_comp3.append(fail_com3[i])\n",
        "  else:\n",
        "    fail_comp3.append(None)"
      ],
      "metadata": {
        "id": "nQYgGVqyloJr"
      },
      "execution_count": 204,
      "outputs": []
    },
    {
      "cell_type": "code",
      "source": [
        "#마지막 한 열은 다음 계산할것이 없으니 None값 하나를 추가해줘서 index개수 맞춰주기\n",
        "fail_comp.append(None)\n",
        "fail_comp1.append(None) \n",
        "fail_comp2.append(None) \n",
        "fail_comp3.append(None) "
      ],
      "metadata": {
        "id": "3e8QnhGyrPHt"
      },
      "execution_count": 205,
      "outputs": []
    },
    {
      "cell_type": "code",
      "source": [
        "#기존데이터에 dataframe으로 추가해주기\n",
        "neg_t['time_diff'] = fail_comp\n",
        "neg_t1['time_diff'] = fail_comp1\n",
        "neg_t2['time_diff'] = fail_comp2\n",
        "neg_t3['time_diff'] = fail_comp3"
      ],
      "metadata": {
        "id": "arnhvxqPrRAz"
      },
      "execution_count": 207,
      "outputs": []
    },
    {
      "cell_type": "code",
      "source": [
        "#def 로 바꾸기\n",
        "li_co = []#한개씩가져오기\n",
        "li1_co = []#최소 한개 이상인 데이터 머신아이디 뽑아오기\n",
        "for i in range(len(df_com1)):\n",
        "  if df_com1['machineID'][i] not in li_co:\n",
        "    li_co.append(df_com1['machineID'][i])\n",
        "  else:\n",
        "    li1_co.append(df_com1['machineID'][i])\n",
        "li_co1 = []#한개씩가져오기\n",
        "li1_co1 = []#최소 한개 이상인 데이터 머신아이디 뽑아오기\n",
        "for i in range(len(df_com1)):\n",
        "  if df_com1['machineID'][i] not in li_co1:\n",
        "    li_co1.append(df_com1['machineID'][i])\n",
        "  else:\n",
        "    li1_co1.append(df_com1['machineID'][i])\n",
        "li_co2 = []#한개씩가져오기\n",
        "li1_co2 = []#최소 한개 이상인 데이터 머신아이디 뽑아오기\n",
        "for i in range(len(df_com1)):\n",
        "  if df_com1['machineID'][i] not in li_co2:\n",
        "    li_co2.append(df_com1['machineID'][i])\n",
        "  else:\n",
        "    li1_co2.append(df_com1['machineID'][i])\n",
        "li_co3 = []#한개씩가져오기\n",
        "li1_co3 = []#최소 한개 이상인 데이터 머신아이디 뽑아오기\n",
        "for i in range(len(df_com1)):\n",
        "  if df_com1['machineID'][i] not in li_co3:\n",
        "    li_co3.append(df_com1['machineID'][i])\n",
        "  else:\n",
        "    li1_co3.append(df_com1['machineID'][i])\n",
        "  "
      ],
      "metadata": {
        "id": "oy2fb3mrrSjT"
      },
      "execution_count": 208,
      "outputs": []
    },
    {
      "cell_type": "code",
      "source": [
        "#중복처리\n",
        "li1_co=set(li1_co)\n",
        "li1_co1=set(li1_co1)\n",
        "li1_co2=set(li1_co2)\n",
        "li1_co3=set(li1_co3)"
      ],
      "metadata": {
        "id": "7N_FbttIrUkk"
      },
      "execution_count": 209,
      "outputs": []
    },
    {
      "cell_type": "code",
      "source": [
        "#한개씩 있는 머신아이디 추출\n",
        "fail_c = []\n",
        "for i in range(len(li_co)):\n",
        "  if li_co[i] not in li1_co:\n",
        "    fail_c.append(li_co[i])\n",
        "  else:\n",
        "    pass\n",
        "fail_c1 = []\n",
        "for i in range(len(li_co1)):\n",
        "  if li_co1[i] not in li1_co1:\n",
        "    fail_c1.append(li_co1[i])\n",
        "  else:\n",
        "    pass\n",
        "fail_c2 = []\n",
        "for i in range(len(li_co2)):\n",
        "  if li_co2[i] not in li1_co2:\n",
        "    fail_c2.append(li_co2[i])\n",
        "  else:\n",
        "    pass\n",
        "fail_c3 = []\n",
        "for i in range(len(li_co3)):\n",
        "  if li_co3[i] not in li1_co3:\n",
        "    fail_c3.append(li_co3[i])\n",
        "  else:\n",
        "    pass"
      ],
      "metadata": {
        "id": "gAayZprdrWH7"
      },
      "execution_count": 210,
      "outputs": []
    },
    {
      "cell_type": "code",
      "source": [
        "#한개씩 있는 machineID의 time_diff를 nan값으로 처리\n",
        "for i in range(len(fail_c)):\n",
        "  df_com1.loc[df_com1['machineID']==fail_c[i],'time_diff'] = None\n",
        "for i in range(len(fail_c1)):\n",
        "  df_com2.loc[df_com2['machineID']==fail_c1[i],'time_diff'] = None\n",
        "for i in range(len(fail_c2)):\n",
        "  df_com3.loc[df_com3['machineID']==fail_c2[i],'time_diff'] = None\n",
        "for i in range(len(fail_c3)):\n",
        "  df_com4.loc[df_com4['machineID']==fail_c3[i],'time_diff'] = None"
      ],
      "metadata": {
        "id": "710rOPBbrXfL"
      },
      "execution_count": 211,
      "outputs": []
    },
    {
      "cell_type": "code",
      "source": [
        "ans1 = neg_t['time_diff'].mean().round(2)\n",
        "ans2 = neg_t1['time_diff'].mean().round(2)\n",
        "ans3= neg_t2['time_diff'].mean().round(2)\n",
        "ans4= neg_t3['time_diff'].mean().round(2)\n",
        "print(f'고장난 컴포넌트 1의 평균 교체주기 (day)는 {ans1}일입니다,   컴포넌트 2의 평균 교체주기 (day)는 {ans2}일입니다,    컴포넌트 3의 평균 교체주기 (day)는 {ans3}일입니다,    컴포넌트 4의 평균 교체주기 (day)는 {ans4}일입니다')"
      ],
      "metadata": {
        "colab": {
          "base_uri": "https://localhost:8080/"
        },
        "id": "2W90Q1WQrYgE",
        "outputId": "d2cfbba3-30f9-4a65-9b22-240382ae9b9d"
      },
      "execution_count": 213,
      "outputs": [
        {
          "output_type": "stream",
          "name": "stdout",
          "text": [
            "고장난 컴포넌트 1의 평균 교체주기 (day)는 124.04일입니다,   컴포넌트 2의 평균 교체주기 (day)는 136.96일입니다,    컴포넌트 3의 평균 교체주기 (day)는 92.89일입니다,    컴포넌트 4의 평균 교체주기 (day)는 117.81일입니다\n"
          ]
        }
      ]
    },
    {
      "cell_type": "code",
      "source": [],
      "metadata": {
        "id": "JJHhhZu0B6Nm"
      },
      "execution_count": null,
      "outputs": []
    },
    {
      "cell_type": "markdown",
      "source": [
        "#고장+일반교체) 교체주기 확인 $3\n",
        "\n",
        "---\n",
        "\n"
      ],
      "metadata": {
        "id": "oceWbr2kmRq7"
      }
    },
    {
      "cell_type": "code",
      "source": [
        "comp2_n"
      ],
      "metadata": {
        "id": "o2tkv6xZ2zLx"
      },
      "execution_count": null,
      "outputs": []
    },
    {
      "cell_type": "code",
      "source": [
        "#datetime 을 이용한 교체주기 확인\n",
        "comp1_re = []\n",
        "n = 1\n",
        "for i in range(len(comp1_n)-1):\n",
        "  if n != range(len(comp1_n)):\n",
        "    str_datetime1 = comp1_n[\"datetime\"][n]\n",
        "    str_datetime2 = comp1_n[\"datetime\"][i]\n",
        "    currdate1 = datetime.strptime(str_datetime1, '%Y-%m-%d %H:%M:%S')\n",
        "    currdate2 = datetime.strptime(str_datetime2, '%Y-%m-%d %H:%M:%S')\n",
        "    new = currdate1- currdate2\n",
        "    comp1_re.append(new.days)\n",
        "    n += 1\n",
        "  else:\n",
        "    break\n",
        "comp2_re = []\n",
        "n1 = 1\n",
        "for i in range(len(comp2_n)-1):\n",
        "  if n1 != range(len(comp2_n)):\n",
        "    str_datetime1 = comp2_n[\"datetime\"][n1]\n",
        "    str_datetime2 = comp2_n[\"datetime\"][i]\n",
        "    currdate1 = datetime.strptime(str_datetime1, '%Y-%m-%d %H:%M:%S')\n",
        "    currdate2 = datetime.strptime(str_datetime2, '%Y-%m-%d %H:%M:%S')\n",
        "    new = currdate1- currdate2\n",
        "    comp2_re.append(new.days)\n",
        "    n1 += 1\n",
        "  else:\n",
        "    break\n",
        "comp3_re = []\n",
        "n2 = 1\n",
        "for i in range(len(comp3_n)-1):\n",
        "  if n2 != range(len(comp3_n)):\n",
        "    str_datetime1 = comp3_n[\"datetime\"][n2]\n",
        "    str_datetime2 = comp3_n[\"datetime\"][i]\n",
        "    currdate1 = datetime.strptime(str_datetime1, '%Y-%m-%d %H:%M:%S')\n",
        "    currdate2 = datetime.strptime(str_datetime2, '%Y-%m-%d %H:%M:%S')\n",
        "    new = currdate1- currdate2\n",
        "    comp3_re.append(new.days)\n",
        "    n2 += 1\n",
        "  else:\n",
        "    break\n",
        "comp4_re = []\n",
        "n3 = 1\n",
        "for i in range(len(comp4_n)-1):\n",
        "  if n3 != range(len(comp4_n)):\n",
        "    str_datetime1 = comp4_n[\"datetime\"][n3]\n",
        "    str_datetime2 = comp4_n[\"datetime\"][i]\n",
        "    currdate1 = datetime.strptime(str_datetime1, '%Y-%m-%d %H:%M:%S')\n",
        "    currdate2 = datetime.strptime(str_datetime2, '%Y-%m-%d %H:%M:%S')\n",
        "    new = currdate1- currdate2\n",
        "    comp4_re.append(new.days)\n",
        "    n3 += 1\n",
        "  else:\n",
        "    break"
      ],
      "metadata": {
        "id": "pkQ-w-UkmWST"
      },
      "execution_count": 132,
      "outputs": []
    },
    {
      "cell_type": "code",
      "source": [
        "# 음수인 데이터는 machineID 가 바뀌면서 생기는 데이터로 사실상 의미가없음.\n",
        "len(comp1_re),len(comp2_re),len(comp3_re),len(comp4_re)"
      ],
      "metadata": {
        "colab": {
          "base_uri": "https://localhost:8080/"
        },
        "id": "v5qpMowcmZ6T",
        "outputId": "3560708c-507d-4949-a1a3-1249f10f1459"
      },
      "execution_count": 133,
      "outputs": [
        {
          "output_type": "execute_result",
          "data": {
            "text/plain": [
              "(803, 862, 807, 810)"
            ]
          },
          "metadata": {},
          "execution_count": 133
        }
      ]
    },
    {
      "cell_type": "code",
      "source": [
        "#리스트 안의 음수를 none으로 바꾸기 #def로 바꾸기\n",
        "comp1_re1 =[]\n",
        "for i in range(len(comp1_re)):\n",
        "  if comp1_re[i] > 0:\n",
        "    comp1_re1.append(comp1_re[i])\n",
        "  else:\n",
        "    comp1_re1.append(None)\n",
        "  \n",
        "comp2_re1 =[]\n",
        "for i in range(len(comp2_re)):\n",
        "  if comp2_re[i] > 0:\n",
        "    comp2_re1.append(comp2_re[i])\n",
        "  else:\n",
        "    comp2_re1.append(None)\n",
        "  \n",
        "comp3_re1 =[]\n",
        "for i in range(len(comp3_re)):\n",
        "  if comp3_re[i] > 0:\n",
        "    comp3_re1.append(comp3_re[i])\n",
        "  else:\n",
        "    comp3_re1.append(None)\n",
        "  \n",
        "comp4_re1 =[]\n",
        "for i in range(len(comp4_re)):\n",
        "  if comp4_re[i] > 0:\n",
        "    comp4_re1.append(comp4_re[i])\n",
        "  else:\n",
        "    comp4_re1.append(None)"
      ],
      "metadata": {
        "id": "2IAv6CBemehr"
      },
      "execution_count": 134,
      "outputs": []
    },
    {
      "cell_type": "code",
      "source": [
        "#마지막 한 열은 다음 계산할것이 없으니 None값 하나를 추가해줘서 index개수 맞춰주기\n",
        "comp1_re1.append(None) \n",
        "comp2_re1.append(None) \n",
        "comp3_re1.append(None) \n",
        "comp4_re1.append(None) "
      ],
      "metadata": {
        "id": "hze1GKC9mfqz"
      },
      "execution_count": 135,
      "outputs": []
    },
    {
      "cell_type": "code",
      "source": [
        "#기존데이터에 dataframe으로 추가해주기\n",
        "comp1_n['time_diff'] = comp1_re1\n",
        "comp2_n['time_diff'] = comp2_re1\n",
        "comp3_n['time_diff'] = comp3_re1\n",
        "comp4_n['time_diff'] = comp4_re1"
      ],
      "metadata": {
        "id": "9UpmTfT5mgzD"
      },
      "execution_count": 136,
      "outputs": []
    },
    {
      "cell_type": "code",
      "source": [
        "#def 로 바꾸기\n",
        "li = []#한개씩가져오기\n",
        "li1 = []#최소 한개 이상인 데이터 머신아이디 뽑아오기\n",
        "for i in range(len(comp1_n)):\n",
        "  if comp1_n['machineID'][i] not in li:\n",
        "    li.append(comp1_n['machineID'][i])\n",
        "  else:\n",
        "    li1.append(comp1_n['machineID'][i])\n",
        "\n",
        "\n",
        "li2 = []#한개씩가져오기\n",
        "li3 = []#최소 한개 이상인 데이터 머신아이디 뽑아오기\n",
        "for i in range(len(comp2_n)):\n",
        "  if comp2_n['machineID'][i] not in li2:\n",
        "    li2.append(comp2_n['machineID'][i])\n",
        "  else:\n",
        "    li3.append(comp2_n['machineID'][i])\n",
        "\n",
        "\n",
        "li4 = []#한개씩가져오기\n",
        "li5 = []#최소 한개 이상인 데이터 머신아이디 뽑아오기\n",
        "for i in range(len(comp3_n)):\n",
        "  if comp3_n['machineID'][i] not in li4:\n",
        "    li4.append(comp3_n['machineID'][i])\n",
        "  else:\n",
        "    li5.append(comp3_n['machineID'][i])\n",
        "\n",
        "\n",
        "li6 = []#한개씩가져오기\n",
        "li7 = []#최소 한개 이상인 데이터 머신아이디 뽑아오기\n",
        "for i in range(len(comp4_n)):\n",
        "  if comp4_n['machineID'][i] not in li6:\n",
        "    li6.append(comp4_n['machineID'][i])\n",
        "  else:\n",
        "    li7.append(comp4_n['machineID'][i])"
      ],
      "metadata": {
        "id": "kyMZPVSdmh1b"
      },
      "execution_count": 137,
      "outputs": []
    },
    {
      "cell_type": "code",
      "source": [
        "#중복처리\n",
        "li1=set(li1)\n",
        "li3=set(li3)\n",
        "li5=set(li5)\n",
        "li7=set(li7)"
      ],
      "metadata": {
        "id": "ouFm4rajmj5z"
      },
      "execution_count": 138,
      "outputs": []
    },
    {
      "cell_type": "code",
      "source": [
        "#한개씩 있는 머신아이디 추출\n",
        "nli1 = []\n",
        "for i in range(len(li)):\n",
        "  if li[i] not in li1:\n",
        "    nli1.append(li[i])\n",
        "  else:\n",
        "    pass\n",
        "\n",
        "nli2 = []\n",
        "for i in range(len(li2)):\n",
        "  if li2[i] not in li3:\n",
        "    nli2.append(li2[i])\n",
        "  else:\n",
        "    pass\n",
        "\n",
        "nli3 = []\n",
        "for i in range(len(li4)):\n",
        "  if li4[i] not in li5:\n",
        "    nli3.append(li4[i])\n",
        "  else:\n",
        "    pass\n",
        "\n",
        "nli4 = []\n",
        "for i in range(len(li6)):\n",
        "  if li6[i] not in li7:\n",
        "    nli4.append(li6[i])\n",
        "  else:\n",
        "    pass"
      ],
      "metadata": {
        "id": "GXy9e9TkmlIr"
      },
      "execution_count": 139,
      "outputs": []
    },
    {
      "cell_type": "code",
      "source": [
        " #한개씩 있는 머신아이디 추출\n",
        "nli1\n",
        "nli2\n",
        "nli3\n",
        "nli4"
      ],
      "metadata": {
        "colab": {
          "base_uri": "https://localhost:8080/"
        },
        "id": "m7gPHWzJmmIL",
        "outputId": "f9c88935-e320-4852-98e7-33a8532dace8"
      },
      "execution_count": 140,
      "outputs": [
        {
          "output_type": "execute_result",
          "data": {
            "text/plain": [
              "[]"
            ]
          },
          "metadata": {},
          "execution_count": 140
        }
      ]
    },
    {
      "cell_type": "code",
      "source": [
        "#nli를 이용하여 한개씩 있는 machineID의 time_diff를 nan값으로 처리\n",
        "for i in range(len(nli1)):\n",
        "  comp1_n.loc[comp1_n['machineID']==nli1[i],'time_diff'] = None\n",
        "for i in range(len(nli2)):\n",
        "  comp2_n.loc[comp2_n['machineID']==nli2[i],'time_diff'] = None\n",
        "for i in range(len(nli3)):\n",
        "  comp3_n.loc[comp3_n['machineID']==nli3[i],'time_diff'] = None\n",
        "for i in range(len(nli4)):\n",
        "  comp4_n.loc[comp4_n['machineID']==nli4[i],'time_diff'] = None"
      ],
      "metadata": {
        "id": "KOaeDNKamnLj"
      },
      "execution_count": 141,
      "outputs": []
    },
    {
      "cell_type": "code",
      "source": [
        "#데이터 개수 확인\n",
        "len(comp1_n),len(comp2_n),len(comp3_n),len(comp4_n)"
      ],
      "metadata": {
        "colab": {
          "base_uri": "https://localhost:8080/"
        },
        "id": "KDTRSovJmoPL",
        "outputId": "d982f8e4-0636-4084-d2d7-8cb0c9fcae38"
      },
      "execution_count": 142,
      "outputs": [
        {
          "output_type": "execute_result",
          "data": {
            "text/plain": [
              "(804, 863, 808, 811)"
            ]
          },
          "metadata": {},
          "execution_count": 142
        }
      ]
    },
    {
      "cell_type": "code",
      "source": [
        "#day기준\n",
        "comp1_n['time_diff'].describe()\n",
        "comp2_n['time_diff'].describe()\n",
        "comp3_n['time_diff'].describe()\n",
        "comp4_n['time_diff'].describe()\n",
        "comp_mean1=comp1_n['time_diff'].mean().round(3)\n",
        "comp_mean2=comp2_n['time_diff'].mean().round(3)\n",
        "comp_mean3=comp3_n['time_diff'].mean().round(3)\n",
        "comp_mean4=comp4_n['time_diff'].mean().round(3)\n",
        "print(f'컴포넌트 1의 평균 교체주기 (day)는 {comp_mean1}일입니다,   컴포넌트 2의 평균 교체주기 (day)는 {comp_mean2}일입니다,    컴포넌트 3의 평균 교체주기 (day)는 {comp_mean3}일입니다,    컴포넌트 4의 평균 교체주기 (day)는 {comp_mean4}일입니다')"
      ],
      "metadata": {
        "colab": {
          "base_uri": "https://localhost:8080/"
        },
        "id": "Rv5BNX2LmpgD",
        "outputId": "8e2cf8a0-1af1-4219-bff7-fc04bcbc90dc"
      },
      "execution_count": 143,
      "outputs": [
        {
          "output_type": "stream",
          "name": "stdout",
          "text": [
            "컴포넌트 1의 평균 교체주기 (day)는 61.122일입니다,   컴포넌트 2의 평균 교체주기 (day)는 57.241일입니다,    컴포넌트 3의 평균 교체주기 (day)는 62.006일입니다,    컴포넌트 4의 평균 교체주기 (day)는 61.639일입니다\n"
          ]
        }
      ]
    },
    {
      "cell_type": "markdown",
      "source": [
        "#고장제외) 컴포넌트 교체 주기 $2 302개의 일반데이터에서 고장데이터 182개 뺀 나머지 데이터 조회"
      ],
      "metadata": {
        "id": "vMjip1ZYrq_j"
      }
    },
    {
      "cell_type": "code",
      "source": [
        "df_1 = pd.DataFrame(columns = {'failures_maint','machineID','datetime'})\n",
        "df_1 = df_1.reindex(columns = ['machineID','datetime','failures_maint'])\n",
        "df_1"
      ],
      "metadata": {
        "colab": {
          "base_uri": "https://localhost:8080/",
          "height": 49
        },
        "id": "Zo8l-eyzuc0P",
        "outputId": "c0071e46-8442-47c0-fbf4-553923c2334f"
      },
      "execution_count": 144,
      "outputs": [
        {
          "output_type": "execute_result",
          "data": {
            "text/plain": [
              "Empty DataFrame\n",
              "Columns: [machineID, datetime, failures_maint]\n",
              "Index: []"
            ],
            "text/html": [
              "\n",
              "  <div id=\"df-a6a634c4-8076-433e-8f62-d036ff4a73a5\">\n",
              "    <div class=\"colab-df-container\">\n",
              "      <div>\n",
              "<style scoped>\n",
              "    .dataframe tbody tr th:only-of-type {\n",
              "        vertical-align: middle;\n",
              "    }\n",
              "\n",
              "    .dataframe tbody tr th {\n",
              "        vertical-align: top;\n",
              "    }\n",
              "\n",
              "    .dataframe thead th {\n",
              "        text-align: right;\n",
              "    }\n",
              "</style>\n",
              "<table border=\"1\" class=\"dataframe\">\n",
              "  <thead>\n",
              "    <tr style=\"text-align: right;\">\n",
              "      <th></th>\n",
              "      <th>machineID</th>\n",
              "      <th>datetime</th>\n",
              "      <th>failures_maint</th>\n",
              "    </tr>\n",
              "  </thead>\n",
              "  <tbody>\n",
              "  </tbody>\n",
              "</table>\n",
              "</div>\n",
              "      <button class=\"colab-df-convert\" onclick=\"convertToInteractive('df-a6a634c4-8076-433e-8f62-d036ff4a73a5')\"\n",
              "              title=\"Convert this dataframe to an interactive table.\"\n",
              "              style=\"display:none;\">\n",
              "        \n",
              "  <svg xmlns=\"http://www.w3.org/2000/svg\" height=\"24px\"viewBox=\"0 0 24 24\"\n",
              "       width=\"24px\">\n",
              "    <path d=\"M0 0h24v24H0V0z\" fill=\"none\"/>\n",
              "    <path d=\"M18.56 5.44l.94 2.06.94-2.06 2.06-.94-2.06-.94-.94-2.06-.94 2.06-2.06.94zm-11 1L8.5 8.5l.94-2.06 2.06-.94-2.06-.94L8.5 2.5l-.94 2.06-2.06.94zm10 10l.94 2.06.94-2.06 2.06-.94-2.06-.94-.94-2.06-.94 2.06-2.06.94z\"/><path d=\"M17.41 7.96l-1.37-1.37c-.4-.4-.92-.59-1.43-.59-.52 0-1.04.2-1.43.59L10.3 9.45l-7.72 7.72c-.78.78-.78 2.05 0 2.83L4 21.41c.39.39.9.59 1.41.59.51 0 1.02-.2 1.41-.59l7.78-7.78 2.81-2.81c.8-.78.8-2.07 0-2.86zM5.41 20L4 18.59l7.72-7.72 1.47 1.35L5.41 20z\"/>\n",
              "  </svg>\n",
              "      </button>\n",
              "      \n",
              "  <style>\n",
              "    .colab-df-container {\n",
              "      display:flex;\n",
              "      flex-wrap:wrap;\n",
              "      gap: 12px;\n",
              "    }\n",
              "\n",
              "    .colab-df-convert {\n",
              "      background-color: #E8F0FE;\n",
              "      border: none;\n",
              "      border-radius: 50%;\n",
              "      cursor: pointer;\n",
              "      display: none;\n",
              "      fill: #1967D2;\n",
              "      height: 32px;\n",
              "      padding: 0 0 0 0;\n",
              "      width: 32px;\n",
              "    }\n",
              "\n",
              "    .colab-df-convert:hover {\n",
              "      background-color: #E2EBFA;\n",
              "      box-shadow: 0px 1px 2px rgba(60, 64, 67, 0.3), 0px 1px 3px 1px rgba(60, 64, 67, 0.15);\n",
              "      fill: #174EA6;\n",
              "    }\n",
              "\n",
              "    [theme=dark] .colab-df-convert {\n",
              "      background-color: #3B4455;\n",
              "      fill: #D2E3FC;\n",
              "    }\n",
              "\n",
              "    [theme=dark] .colab-df-convert:hover {\n",
              "      background-color: #434B5C;\n",
              "      box-shadow: 0px 1px 3px 1px rgba(0, 0, 0, 0.15);\n",
              "      filter: drop-shadow(0px 1px 2px rgba(0, 0, 0, 0.3));\n",
              "      fill: #FFFFFF;\n",
              "    }\n",
              "  </style>\n",
              "\n",
              "      <script>\n",
              "        const buttonEl =\n",
              "          document.querySelector('#df-a6a634c4-8076-433e-8f62-d036ff4a73a5 button.colab-df-convert');\n",
              "        buttonEl.style.display =\n",
              "          google.colab.kernel.accessAllowed ? 'block' : 'none';\n",
              "\n",
              "        async function convertToInteractive(key) {\n",
              "          const element = document.querySelector('#df-a6a634c4-8076-433e-8f62-d036ff4a73a5');\n",
              "          const dataTable =\n",
              "            await google.colab.kernel.invokeFunction('convertToInteractive',\n",
              "                                                     [key], {});\n",
              "          if (!dataTable) return;\n",
              "\n",
              "          const docLinkHtml = 'Like what you see? Visit the ' +\n",
              "            '<a target=\"_blank\" href=https://colab.research.google.com/notebooks/data_table.ipynb>data table notebook</a>'\n",
              "            + ' to learn more about interactive tables.';\n",
              "          element.innerHTML = '';\n",
              "          dataTable['output_type'] = 'display_data';\n",
              "          await google.colab.output.renderOutput(dataTable, element);\n",
              "          const docLink = document.createElement('div');\n",
              "          docLink.innerHTML = docLinkHtml;\n",
              "          element.appendChild(docLink);\n",
              "        }\n",
              "      </script>\n",
              "    </div>\n",
              "  </div>\n",
              "  "
            ]
          },
          "metadata": {},
          "execution_count": 144
        }
      ]
    },
    {
      "cell_type": "code",
      "source": [
        "comp1_n['datetime'] #전체 데이터"
      ],
      "metadata": {
        "colab": {
          "base_uri": "https://localhost:8080/"
        },
        "id": "dToM2kglVtMn",
        "outputId": "d34540f0-afb6-4e0b-d7ad-494748aa1fdb"
      },
      "execution_count": 145,
      "outputs": [
        {
          "output_type": "execute_result",
          "data": {
            "text/plain": [
              "0      2014-12-13 06:00:00\n",
              "1      2015-01-05 06:00:00\n",
              "2      2015-01-20 06:00:00\n",
              "3      2015-03-06 06:00:00\n",
              "4      2015-03-21 06:00:00\n",
              "              ...         \n",
              "799    2015-04-28 06:00:00\n",
              "800    2015-07-27 06:00:00\n",
              "801    2015-09-10 06:00:00\n",
              "802    2015-09-25 06:00:00\n",
              "803    2015-10-10 06:00:00\n",
              "Name: datetime, Length: 804, dtype: object"
            ]
          },
          "metadata": {},
          "execution_count": 145
        }
      ]
    },
    {
      "cell_type": "code",
      "source": [
        "df_com1['datetime'] #고장데이터"
      ],
      "metadata": {
        "colab": {
          "base_uri": "https://localhost:8080/"
        },
        "id": "nZ7hmpEJV_sg",
        "outputId": "4c9de2e3-7a71-4918-b430-ea85eed2ca5c"
      },
      "execution_count": 146,
      "outputs": [
        {
          "output_type": "execute_result",
          "data": {
            "text/plain": [
              "0      2015-03-06 06:00:00\n",
              "1      2015-03-19 06:00:00\n",
              "2      2015-02-06 06:00:00\n",
              "3      2015-02-16 06:00:00\n",
              "4      2015-08-30 06:00:00\n",
              "              ...         \n",
              "178    2015-08-13 06:00:00\n",
              "179    2015-02-02 06:00:00\n",
              "180    2015-05-18 06:00:00\n",
              "181    2015-02-12 06:00:00\n",
              "182    2015-09-10 06:00:00\n",
              "Name: datetime, Length: 183, dtype: object"
            ]
          },
          "metadata": {},
          "execution_count": 146
        }
      ]
    },
    {
      "cell_type": "code",
      "source": [],
      "metadata": {
        "id": "P6uE_F7itTB0"
      },
      "execution_count": null,
      "outputs": []
    },
    {
      "cell_type": "code",
      "source": [
        "comp1_n"
      ],
      "metadata": {
        "id": "BBAp8yRd4Sn6"
      },
      "execution_count": null,
      "outputs": []
    },
    {
      "cell_type": "code",
      "source": [
        "#전체 교체주기 - 고장 교체주기 = 일반 교체주기\n",
        "list_test_positive = [] #고장 안난데이터\n",
        "list_id_positive = []\n",
        "for i in range(len(comp1_n)):\n",
        "  if comp1_n['datetime'][i] not in list(df_com1['datetime']): #겹치는애들 = 고장난애들\n",
        "    pass\n",
        "  else:\n",
        "    #겹치지 않는애들 = 고장안난애들\n",
        "    list_test_positive.append(comp1_n['datetime'][i])\n",
        "    list_id_positive.append(comp1_n['machineID'][i])\n",
        "\n",
        "list_test_positive2 = [] #고장 안난데이터\n",
        "list_id_positive2 = []\n",
        "\n",
        "for i in range(len(comp2_n)):\n",
        "  if comp2_n['datetime'][i] not in list(df_com2['datetime']): #겹치는애들 = 고장난애들\n",
        "    pass\n",
        "  else:\n",
        "    #겹치지 않는애들 = 고장안난애들\n",
        "    list_test_positive2.append(comp2_n['datetime'][i])\n",
        "    list_id_positive2.append(comp2_n['machineID'][i])\n",
        "\n",
        "list_test_positive3 = [] #고장 안난데이터\n",
        "list_id_positive3 = []\n",
        "\n",
        "\n",
        "for i in range(len(comp3_n)):\n",
        "  if comp3_n['datetime'][i] not in list(df_com3['datetime']): #겹치는애들 = 고장난애들\n",
        "    pass\n",
        "  else:\n",
        "    #겹치지 않는애들 = 고장안난애들\n",
        "    list_test_positive3.append(comp3_n['datetime'][i])\n",
        "    list_id_positive3.append(comp3_n['machineID'][i])\n",
        "\n",
        "\n",
        "list_test_positive4 = [] #고장 안난데이터\n",
        "list_id_positive4 = []\n",
        "for i in range(len(comp4_n)):\n",
        "  if comp4_n['datetime'][i] not in list(df_com4['datetime']): #겹치는애들 = 고장난애들\n",
        "    pass\n",
        "  else:\n",
        "    #겹치지 않는애들 = 고장안난애들\n",
        "    list_test_positive4.append(comp4_n['datetime'][i])\n",
        "    list_id_positive4.append(comp4_n['machineID'][i])"
      ],
      "metadata": {
        "id": "KFapCEhiuoh8"
      },
      "execution_count": 166,
      "outputs": []
    },
    {
      "cell_type": "code",
      "source": [
        "df_test= pd.DataFrame(data=list(zip(list_test_positive,list_id_positive)),columns = ['datetime','machineID'])\n",
        "df_test1= pd.DataFrame(data=list(zip(list_test_positive2,list_id_positive2)),columns = ['datetime','machineID'])\n",
        "df_test2= pd.DataFrame(data=list(zip(list_test_positive3,list_id_positive3)),columns = ['datetime','machineID'])\n",
        "df_test3= pd.DataFrame(data=list(zip(list_test_positive4,list_id_positive4)),columns = ['datetime','machineID'])\n",
        "df_test['comp1'] = 'comp1'\n",
        "df_test1['comp2'] = 'comp2'\n",
        "df_test2['comp3'] = 'comp3'\n",
        "df_test3['comp4'] = 'comp4'"
      ],
      "metadata": {
        "id": "cBqOKVKb0CXM"
      },
      "execution_count": 168,
      "outputs": []
    },
    {
      "cell_type": "code",
      "source": [
        "df_test"
      ],
      "metadata": {
        "colab": {
          "base_uri": "https://localhost:8080/",
          "height": 424
        },
        "id": "G6XXw0aY2WBj",
        "outputId": "0098cc9c-707f-4adf-8fd9-f899ec0a9733"
      },
      "execution_count": 169,
      "outputs": [
        {
          "output_type": "execute_result",
          "data": {
            "text/plain": [
              "                datetime  machineID  comp1\n",
              "0    2015-03-06 06:00:00          1  comp1\n",
              "1    2015-07-19 06:00:00          1  comp1\n",
              "2    2015-08-03 06:00:00          1  comp1\n",
              "3    2015-10-02 06:00:00          1  comp1\n",
              "4    2015-12-31 06:00:00          1  comp1\n",
              "..                   ...        ...    ...\n",
              "418  2015-09-15 06:00:00         99  comp1\n",
              "419  2015-02-12 06:00:00        100  comp1\n",
              "420  2015-03-29 06:00:00        100  comp1\n",
              "421  2015-09-10 06:00:00        100  comp1\n",
              "422  2015-10-10 06:00:00        100  comp1\n",
              "\n",
              "[423 rows x 3 columns]"
            ],
            "text/html": [
              "\n",
              "  <div id=\"df-97a37123-fa08-4a9b-83f7-55b24cf491c6\">\n",
              "    <div class=\"colab-df-container\">\n",
              "      <div>\n",
              "<style scoped>\n",
              "    .dataframe tbody tr th:only-of-type {\n",
              "        vertical-align: middle;\n",
              "    }\n",
              "\n",
              "    .dataframe tbody tr th {\n",
              "        vertical-align: top;\n",
              "    }\n",
              "\n",
              "    .dataframe thead th {\n",
              "        text-align: right;\n",
              "    }\n",
              "</style>\n",
              "<table border=\"1\" class=\"dataframe\">\n",
              "  <thead>\n",
              "    <tr style=\"text-align: right;\">\n",
              "      <th></th>\n",
              "      <th>datetime</th>\n",
              "      <th>machineID</th>\n",
              "      <th>comp1</th>\n",
              "    </tr>\n",
              "  </thead>\n",
              "  <tbody>\n",
              "    <tr>\n",
              "      <th>0</th>\n",
              "      <td>2015-03-06 06:00:00</td>\n",
              "      <td>1</td>\n",
              "      <td>comp1</td>\n",
              "    </tr>\n",
              "    <tr>\n",
              "      <th>1</th>\n",
              "      <td>2015-07-19 06:00:00</td>\n",
              "      <td>1</td>\n",
              "      <td>comp1</td>\n",
              "    </tr>\n",
              "    <tr>\n",
              "      <th>2</th>\n",
              "      <td>2015-08-03 06:00:00</td>\n",
              "      <td>1</td>\n",
              "      <td>comp1</td>\n",
              "    </tr>\n",
              "    <tr>\n",
              "      <th>3</th>\n",
              "      <td>2015-10-02 06:00:00</td>\n",
              "      <td>1</td>\n",
              "      <td>comp1</td>\n",
              "    </tr>\n",
              "    <tr>\n",
              "      <th>4</th>\n",
              "      <td>2015-12-31 06:00:00</td>\n",
              "      <td>1</td>\n",
              "      <td>comp1</td>\n",
              "    </tr>\n",
              "    <tr>\n",
              "      <th>...</th>\n",
              "      <td>...</td>\n",
              "      <td>...</td>\n",
              "      <td>...</td>\n",
              "    </tr>\n",
              "    <tr>\n",
              "      <th>418</th>\n",
              "      <td>2015-09-15 06:00:00</td>\n",
              "      <td>99</td>\n",
              "      <td>comp1</td>\n",
              "    </tr>\n",
              "    <tr>\n",
              "      <th>419</th>\n",
              "      <td>2015-02-12 06:00:00</td>\n",
              "      <td>100</td>\n",
              "      <td>comp1</td>\n",
              "    </tr>\n",
              "    <tr>\n",
              "      <th>420</th>\n",
              "      <td>2015-03-29 06:00:00</td>\n",
              "      <td>100</td>\n",
              "      <td>comp1</td>\n",
              "    </tr>\n",
              "    <tr>\n",
              "      <th>421</th>\n",
              "      <td>2015-09-10 06:00:00</td>\n",
              "      <td>100</td>\n",
              "      <td>comp1</td>\n",
              "    </tr>\n",
              "    <tr>\n",
              "      <th>422</th>\n",
              "      <td>2015-10-10 06:00:00</td>\n",
              "      <td>100</td>\n",
              "      <td>comp1</td>\n",
              "    </tr>\n",
              "  </tbody>\n",
              "</table>\n",
              "<p>423 rows × 3 columns</p>\n",
              "</div>\n",
              "      <button class=\"colab-df-convert\" onclick=\"convertToInteractive('df-97a37123-fa08-4a9b-83f7-55b24cf491c6')\"\n",
              "              title=\"Convert this dataframe to an interactive table.\"\n",
              "              style=\"display:none;\">\n",
              "        \n",
              "  <svg xmlns=\"http://www.w3.org/2000/svg\" height=\"24px\"viewBox=\"0 0 24 24\"\n",
              "       width=\"24px\">\n",
              "    <path d=\"M0 0h24v24H0V0z\" fill=\"none\"/>\n",
              "    <path d=\"M18.56 5.44l.94 2.06.94-2.06 2.06-.94-2.06-.94-.94-2.06-.94 2.06-2.06.94zm-11 1L8.5 8.5l.94-2.06 2.06-.94-2.06-.94L8.5 2.5l-.94 2.06-2.06.94zm10 10l.94 2.06.94-2.06 2.06-.94-2.06-.94-.94-2.06-.94 2.06-2.06.94z\"/><path d=\"M17.41 7.96l-1.37-1.37c-.4-.4-.92-.59-1.43-.59-.52 0-1.04.2-1.43.59L10.3 9.45l-7.72 7.72c-.78.78-.78 2.05 0 2.83L4 21.41c.39.39.9.59 1.41.59.51 0 1.02-.2 1.41-.59l7.78-7.78 2.81-2.81c.8-.78.8-2.07 0-2.86zM5.41 20L4 18.59l7.72-7.72 1.47 1.35L5.41 20z\"/>\n",
              "  </svg>\n",
              "      </button>\n",
              "      \n",
              "  <style>\n",
              "    .colab-df-container {\n",
              "      display:flex;\n",
              "      flex-wrap:wrap;\n",
              "      gap: 12px;\n",
              "    }\n",
              "\n",
              "    .colab-df-convert {\n",
              "      background-color: #E8F0FE;\n",
              "      border: none;\n",
              "      border-radius: 50%;\n",
              "      cursor: pointer;\n",
              "      display: none;\n",
              "      fill: #1967D2;\n",
              "      height: 32px;\n",
              "      padding: 0 0 0 0;\n",
              "      width: 32px;\n",
              "    }\n",
              "\n",
              "    .colab-df-convert:hover {\n",
              "      background-color: #E2EBFA;\n",
              "      box-shadow: 0px 1px 2px rgba(60, 64, 67, 0.3), 0px 1px 3px 1px rgba(60, 64, 67, 0.15);\n",
              "      fill: #174EA6;\n",
              "    }\n",
              "\n",
              "    [theme=dark] .colab-df-convert {\n",
              "      background-color: #3B4455;\n",
              "      fill: #D2E3FC;\n",
              "    }\n",
              "\n",
              "    [theme=dark] .colab-df-convert:hover {\n",
              "      background-color: #434B5C;\n",
              "      box-shadow: 0px 1px 3px 1px rgba(0, 0, 0, 0.15);\n",
              "      filter: drop-shadow(0px 1px 2px rgba(0, 0, 0, 0.3));\n",
              "      fill: #FFFFFF;\n",
              "    }\n",
              "  </style>\n",
              "\n",
              "      <script>\n",
              "        const buttonEl =\n",
              "          document.querySelector('#df-97a37123-fa08-4a9b-83f7-55b24cf491c6 button.colab-df-convert');\n",
              "        buttonEl.style.display =\n",
              "          google.colab.kernel.accessAllowed ? 'block' : 'none';\n",
              "\n",
              "        async function convertToInteractive(key) {\n",
              "          const element = document.querySelector('#df-97a37123-fa08-4a9b-83f7-55b24cf491c6');\n",
              "          const dataTable =\n",
              "            await google.colab.kernel.invokeFunction('convertToInteractive',\n",
              "                                                     [key], {});\n",
              "          if (!dataTable) return;\n",
              "\n",
              "          const docLinkHtml = 'Like what you see? Visit the ' +\n",
              "            '<a target=\"_blank\" href=https://colab.research.google.com/notebooks/data_table.ipynb>data table notebook</a>'\n",
              "            + ' to learn more about interactive tables.';\n",
              "          element.innerHTML = '';\n",
              "          dataTable['output_type'] = 'display_data';\n",
              "          await google.colab.output.renderOutput(dataTable, element);\n",
              "          const docLink = document.createElement('div');\n",
              "          docLink.innerHTML = docLinkHtml;\n",
              "          element.appendChild(docLink);\n",
              "        }\n",
              "      </script>\n",
              "    </div>\n",
              "  </div>\n",
              "  "
            ]
          },
          "metadata": {},
          "execution_count": 169
        }
      ]
    },
    {
      "cell_type": "code",
      "source": [
        "#datetime 을 이용한 교체주기 확인\n",
        "comp1_re = []\n",
        "n = 1\n",
        "for i in range(len(df_test)-1):\n",
        "  if n != range(len(df_test)):\n",
        "    str_datetime1 = df_test[\"datetime\"][n]\n",
        "    str_datetime2 = df_test[\"datetime\"][i]\n",
        "    currdate1 = datetime.strptime(str_datetime1, '%Y-%m-%d %H:%M:%S')\n",
        "    currdate2 = datetime.strptime(str_datetime2, '%Y-%m-%d %H:%M:%S')\n",
        "    new = currdate1- currdate2\n",
        "    comp1_re.append(new.days)\n",
        "    n += 1\n",
        "  else:\n",
        "    break\n",
        "comp1_re1 = []\n",
        "n = 1\n",
        "for i in range(len(df_test1)-1):\n",
        "  if n != range(len(df_test1)):\n",
        "    str_datetime1 = df_test1[\"datetime\"][n]\n",
        "    str_datetime2 = df_test1[\"datetime\"][i]\n",
        "    currdate1 = datetime.strptime(str_datetime1, '%Y-%m-%d %H:%M:%S')\n",
        "    currdate2 = datetime.strptime(str_datetime2, '%Y-%m-%d %H:%M:%S')\n",
        "    new = currdate1- currdate2\n",
        "    comp1_re1.append(new.days)\n",
        "    n += 1\n",
        "  else:\n",
        "    break\n",
        "comp1_re2 = []\n",
        "n = 1\n",
        "for i in range(len(df_test2)-1):\n",
        "  if n != range(len(df_test2)):\n",
        "    str_datetime1 = df_test2[\"datetime\"][n]\n",
        "    str_datetime2 = df_test2[\"datetime\"][i]\n",
        "    currdate1 = datetime.strptime(str_datetime1, '%Y-%m-%d %H:%M:%S')\n",
        "    currdate2 = datetime.strptime(str_datetime2, '%Y-%m-%d %H:%M:%S')\n",
        "    new = currdate1- currdate2\n",
        "    comp1_re2.append(new.days)\n",
        "    n += 1\n",
        "  else:\n",
        "    break\n",
        "comp1_re3 = []\n",
        "n = 1\n",
        "for i in range(len(df_test3)-1):\n",
        "  if n != range(len(df_test3)):\n",
        "    str_datetime1 = df_test3[\"datetime\"][n]\n",
        "    str_datetime2 = df_test3[\"datetime\"][i]\n",
        "    currdate1 = datetime.strptime(str_datetime1, '%Y-%m-%d %H:%M:%S')\n",
        "    currdate2 = datetime.strptime(str_datetime2, '%Y-%m-%d %H:%M:%S')\n",
        "    new = currdate1- currdate2\n",
        "    comp1_re3.append(new.days)\n",
        "    n += 1\n",
        "  else:\n",
        "    break"
      ],
      "metadata": {
        "id": "9PCIJXx46Pid"
      },
      "execution_count": 170,
      "outputs": []
    },
    {
      "cell_type": "code",
      "source": [
        "# 각 데이터 별 개수\n",
        "len(comp1_re),len(comp1_re1),len(comp1_re2),len(comp1_re3)"
      ],
      "metadata": {
        "colab": {
          "base_uri": "https://localhost:8080/"
        },
        "id": "JDlwoUoJ6gDO",
        "outputId": "3ddcd9e4-3611-41d9-8768-71aa8855293e"
      },
      "execution_count": 171,
      "outputs": [
        {
          "output_type": "execute_result",
          "data": {
            "text/plain": [
              "(422, 517, 293, 431)"
            ]
          },
          "metadata": {},
          "execution_count": 171
        }
      ]
    },
    {
      "cell_type": "code",
      "source": [
        "#리스트 안의 음수를 none으로 바꾸기 #def로 바꾸기\n",
        "comp1_a1 =[]\n",
        "for i in range(len(comp1_re)):\n",
        "  if comp1_re[i] > 0:\n",
        "    comp1_a1.append(comp1_re[i])\n",
        "  else:\n",
        "    comp1_a1.append(None)\n",
        "comp1_a2 =[]\n",
        "for i in range(len(comp1_re1)):\n",
        "  if comp1_re1[i] > 0:\n",
        "    comp1_a2.append(comp1_re1[i])\n",
        "  else:\n",
        "    comp1_a2.append(None)\n",
        "comp1_a3 =[]\n",
        "for i in range(len(comp1_re2)):\n",
        "  if comp1_re2[i] > 0:\n",
        "    comp1_a3.append(comp1_re2[i])\n",
        "  else:\n",
        "    comp1_a3.append(None)\n",
        "comp1_a4 =[]\n",
        "for i in range(len(comp1_re3)):\n",
        "  if comp1_re3[i] > 0:\n",
        "    comp1_a4.append(comp1_re3[i])\n",
        "  else:\n",
        "    comp1_a4.append(None)\n"
      ],
      "metadata": {
        "id": "Fg9_HVwo7WmF"
      },
      "execution_count": 172,
      "outputs": []
    },
    {
      "cell_type": "code",
      "source": [
        "#마지막 한 열은 다음 계산할것이 없으니 None값 하나를 추가해줘서 index개수 맞춰주기\n",
        "comp1_a1.append(None) \n",
        "comp1_a2.append(None) \n",
        "comp1_a3.append(None) \n",
        "comp1_a4.append(None) "
      ],
      "metadata": {
        "id": "8n-K7n3s9hL9"
      },
      "execution_count": 173,
      "outputs": []
    },
    {
      "cell_type": "code",
      "source": [
        "#기존데이터에 dataframe으로 추가해주기\n",
        "df_test['time_diff'] = comp1_a1\n",
        "df_test1['time_diff'] = comp1_a2\n",
        "df_test2['time_diff'] = comp1_a3\n",
        "df_test3['time_diff'] = comp1_a4"
      ],
      "metadata": {
        "id": "VEXHt0xQ9h99"
      },
      "execution_count": 174,
      "outputs": []
    },
    {
      "cell_type": "code",
      "source": [],
      "metadata": {
        "id": "M1bVcSNB_Pc-"
      },
      "execution_count": 52,
      "outputs": []
    },
    {
      "cell_type": "code",
      "source": [
        "#def 로 바꾸기\n",
        "li = []#한개씩가져오기\n",
        "li1 = []#최소 한개 이상인 데이터 머신아이디 뽑아오기\n",
        "for i in range(len(df_test)):\n",
        "  if df_test['machineID'][i] not in li:\n",
        "    li.append(df_test['machineID'][i])\n",
        "  else:\n",
        "    li1.append(df_test['machineID'][i])\n",
        "\n",
        "\n",
        "li2 = []#한개씩가져오기\n",
        "li3 = []#최소 한개 이상인 데이터 머신아이디 뽑아오기\n",
        "for i in range(len(df_test1)):\n",
        "  if df_test1['machineID'][i] not in li2:\n",
        "    li2.append(df_test1['machineID'][i])\n",
        "  else:\n",
        "    li3.append(df_test1['machineID'][i])\n",
        "\n",
        "\n",
        "li4 = []#한개씩가져오기\n",
        "li5 = []#최소 한개 이상인 데이터 머신아이디 뽑아오기\n",
        "for i in range(len(df_test2)):\n",
        "  if df_test2['machineID'][i] not in li4:\n",
        "    li4.append(df_test2['machineID'][i])\n",
        "  else:\n",
        "    li5.append(df_test2['machineID'][i])\n",
        "\n",
        "\n",
        "li6 = []#한개씩가져오기\n",
        "li7 = []#최소 한개 이상인 데이터 머신아이디 뽑아오기\n",
        "for i in range(len(df_test3)):\n",
        "  if df_test3['machineID'][i] not in li6:\n",
        "    li6.append(df_test3['machineID'][i])\n",
        "  else:\n",
        "    li7.append(df_test3['machineID'][i])"
      ],
      "metadata": {
        "id": "tlr79pfa94Yu"
      },
      "execution_count": 175,
      "outputs": []
    },
    {
      "cell_type": "code",
      "source": [
        "#중복처리\n",
        "li1=set(li1)\n",
        "li3=set(li3)\n",
        "li5=set(li5)\n",
        "li7=set(li7)"
      ],
      "metadata": {
        "id": "C-FHmC8Q-cTd"
      },
      "execution_count": 176,
      "outputs": []
    },
    {
      "cell_type": "code",
      "source": [
        "#한개씩 있는 머신아이디 추출\n",
        "nli1 = []\n",
        "for i in range(len(li)):\n",
        "  if li[i] not in li1:\n",
        "    nli1.append(li[i])\n",
        "  else:\n",
        "    pass\n",
        "\n",
        "nli2 = []\n",
        "for i in range(len(li2)):\n",
        "  if li2[i] not in li3:\n",
        "    nli2.append(li2[i])\n",
        "  else:\n",
        "    pass\n",
        "\n",
        "nli3 = []\n",
        "for i in range(len(li4)):\n",
        "  if li4[i] not in li5:\n",
        "    nli3.append(li4[i])\n",
        "  else:\n",
        "    pass\n",
        "\n",
        "nli4 = []\n",
        "for i in range(len(li6)):\n",
        "  if li6[i] not in li7:\n",
        "    nli4.append(li6[i])\n",
        "  else:\n",
        "    pass"
      ],
      "metadata": {
        "id": "c2VoyE14-eul"
      },
      "execution_count": 177,
      "outputs": []
    },
    {
      "cell_type": "code",
      "source": [
        " #한개씩 있는 머신아이디 추출\n",
        "nli1\n",
        "nli2\n",
        "nli3\n",
        "nli4"
      ],
      "metadata": {
        "colab": {
          "base_uri": "https://localhost:8080/"
        },
        "id": "CrzCaC93-ndh",
        "outputId": "b6d2e53d-31d8-46e1-9f12-50d3f22ea779"
      },
      "execution_count": 178,
      "outputs": [
        {
          "output_type": "execute_result",
          "data": {
            "text/plain": [
              "[9, 27, 47, 48, 72, 74, 91]"
            ]
          },
          "metadata": {},
          "execution_count": 178
        }
      ]
    },
    {
      "cell_type": "code",
      "source": [
        "#nli를 이용하여 한개씩 있는 machineID의 time_diff를 nan값으로 처리\n",
        "for i in range(len(nli1)):\n",
        "  df_test.loc[df_test['machineID']==nli1[i],'time_diff'] = None\n",
        "for i in range(len(nli2)):\n",
        "  df_test1.loc[df_test1['machineID']==nli2[i],'time_diff'] = None\n",
        "for i in range(len(nli3)):\n",
        "  df_test2.loc[df_test2['machineID']==nli3[i],'time_diff'] = None\n",
        "for i in range(len(nli4)):\n",
        "  df_test3.loc[df_test3['machineID']==nli4[i],'time_diff'] = None"
      ],
      "metadata": {
        "id": "TqduiWca-trK"
      },
      "execution_count": 179,
      "outputs": []
    },
    {
      "cell_type": "code",
      "source": [
        "#데이터 개수 확인\n",
        "len(df_test),len(df_test1),len(df_test2),len(df_test3)"
      ],
      "metadata": {
        "colab": {
          "base_uri": "https://localhost:8080/"
        },
        "id": "sTPbawbJ_Eyd",
        "outputId": "24897851-98ce-4e7b-e9d6-6c1d0c431029"
      },
      "execution_count": 180,
      "outputs": [
        {
          "output_type": "execute_result",
          "data": {
            "text/plain": [
              "(423, 518, 294, 432)"
            ]
          },
          "metadata": {},
          "execution_count": 180
        }
      ]
    },
    {
      "cell_type": "code",
      "source": [
        "df_test"
      ],
      "metadata": {
        "colab": {
          "base_uri": "https://localhost:8080/",
          "height": 424
        },
        "id": "NaXkwXQjADwl",
        "outputId": "8492f51f-e886-46aa-ef83-22f3f25df152"
      },
      "execution_count": 181,
      "outputs": [
        {
          "output_type": "execute_result",
          "data": {
            "text/plain": [
              "                datetime  machineID  comp1  time_diff\n",
              "0    2015-03-06 06:00:00          1  comp1      135.0\n",
              "1    2015-07-19 06:00:00          1  comp1       15.0\n",
              "2    2015-08-03 06:00:00          1  comp1       60.0\n",
              "3    2015-10-02 06:00:00          1  comp1       90.0\n",
              "4    2015-12-31 06:00:00          1  comp1        NaN\n",
              "..                   ...        ...    ...        ...\n",
              "418  2015-09-15 06:00:00         99  comp1        NaN\n",
              "419  2015-02-12 06:00:00        100  comp1       45.0\n",
              "420  2015-03-29 06:00:00        100  comp1      165.0\n",
              "421  2015-09-10 06:00:00        100  comp1       30.0\n",
              "422  2015-10-10 06:00:00        100  comp1        NaN\n",
              "\n",
              "[423 rows x 4 columns]"
            ],
            "text/html": [
              "\n",
              "  <div id=\"df-ba3d0e85-fd56-40eb-a1c7-d11a79fb093f\">\n",
              "    <div class=\"colab-df-container\">\n",
              "      <div>\n",
              "<style scoped>\n",
              "    .dataframe tbody tr th:only-of-type {\n",
              "        vertical-align: middle;\n",
              "    }\n",
              "\n",
              "    .dataframe tbody tr th {\n",
              "        vertical-align: top;\n",
              "    }\n",
              "\n",
              "    .dataframe thead th {\n",
              "        text-align: right;\n",
              "    }\n",
              "</style>\n",
              "<table border=\"1\" class=\"dataframe\">\n",
              "  <thead>\n",
              "    <tr style=\"text-align: right;\">\n",
              "      <th></th>\n",
              "      <th>datetime</th>\n",
              "      <th>machineID</th>\n",
              "      <th>comp1</th>\n",
              "      <th>time_diff</th>\n",
              "    </tr>\n",
              "  </thead>\n",
              "  <tbody>\n",
              "    <tr>\n",
              "      <th>0</th>\n",
              "      <td>2015-03-06 06:00:00</td>\n",
              "      <td>1</td>\n",
              "      <td>comp1</td>\n",
              "      <td>135.0</td>\n",
              "    </tr>\n",
              "    <tr>\n",
              "      <th>1</th>\n",
              "      <td>2015-07-19 06:00:00</td>\n",
              "      <td>1</td>\n",
              "      <td>comp1</td>\n",
              "      <td>15.0</td>\n",
              "    </tr>\n",
              "    <tr>\n",
              "      <th>2</th>\n",
              "      <td>2015-08-03 06:00:00</td>\n",
              "      <td>1</td>\n",
              "      <td>comp1</td>\n",
              "      <td>60.0</td>\n",
              "    </tr>\n",
              "    <tr>\n",
              "      <th>3</th>\n",
              "      <td>2015-10-02 06:00:00</td>\n",
              "      <td>1</td>\n",
              "      <td>comp1</td>\n",
              "      <td>90.0</td>\n",
              "    </tr>\n",
              "    <tr>\n",
              "      <th>4</th>\n",
              "      <td>2015-12-31 06:00:00</td>\n",
              "      <td>1</td>\n",
              "      <td>comp1</td>\n",
              "      <td>NaN</td>\n",
              "    </tr>\n",
              "    <tr>\n",
              "      <th>...</th>\n",
              "      <td>...</td>\n",
              "      <td>...</td>\n",
              "      <td>...</td>\n",
              "      <td>...</td>\n",
              "    </tr>\n",
              "    <tr>\n",
              "      <th>418</th>\n",
              "      <td>2015-09-15 06:00:00</td>\n",
              "      <td>99</td>\n",
              "      <td>comp1</td>\n",
              "      <td>NaN</td>\n",
              "    </tr>\n",
              "    <tr>\n",
              "      <th>419</th>\n",
              "      <td>2015-02-12 06:00:00</td>\n",
              "      <td>100</td>\n",
              "      <td>comp1</td>\n",
              "      <td>45.0</td>\n",
              "    </tr>\n",
              "    <tr>\n",
              "      <th>420</th>\n",
              "      <td>2015-03-29 06:00:00</td>\n",
              "      <td>100</td>\n",
              "      <td>comp1</td>\n",
              "      <td>165.0</td>\n",
              "    </tr>\n",
              "    <tr>\n",
              "      <th>421</th>\n",
              "      <td>2015-09-10 06:00:00</td>\n",
              "      <td>100</td>\n",
              "      <td>comp1</td>\n",
              "      <td>30.0</td>\n",
              "    </tr>\n",
              "    <tr>\n",
              "      <th>422</th>\n",
              "      <td>2015-10-10 06:00:00</td>\n",
              "      <td>100</td>\n",
              "      <td>comp1</td>\n",
              "      <td>NaN</td>\n",
              "    </tr>\n",
              "  </tbody>\n",
              "</table>\n",
              "<p>423 rows × 4 columns</p>\n",
              "</div>\n",
              "      <button class=\"colab-df-convert\" onclick=\"convertToInteractive('df-ba3d0e85-fd56-40eb-a1c7-d11a79fb093f')\"\n",
              "              title=\"Convert this dataframe to an interactive table.\"\n",
              "              style=\"display:none;\">\n",
              "        \n",
              "  <svg xmlns=\"http://www.w3.org/2000/svg\" height=\"24px\"viewBox=\"0 0 24 24\"\n",
              "       width=\"24px\">\n",
              "    <path d=\"M0 0h24v24H0V0z\" fill=\"none\"/>\n",
              "    <path d=\"M18.56 5.44l.94 2.06.94-2.06 2.06-.94-2.06-.94-.94-2.06-.94 2.06-2.06.94zm-11 1L8.5 8.5l.94-2.06 2.06-.94-2.06-.94L8.5 2.5l-.94 2.06-2.06.94zm10 10l.94 2.06.94-2.06 2.06-.94-2.06-.94-.94-2.06-.94 2.06-2.06.94z\"/><path d=\"M17.41 7.96l-1.37-1.37c-.4-.4-.92-.59-1.43-.59-.52 0-1.04.2-1.43.59L10.3 9.45l-7.72 7.72c-.78.78-.78 2.05 0 2.83L4 21.41c.39.39.9.59 1.41.59.51 0 1.02-.2 1.41-.59l7.78-7.78 2.81-2.81c.8-.78.8-2.07 0-2.86zM5.41 20L4 18.59l7.72-7.72 1.47 1.35L5.41 20z\"/>\n",
              "  </svg>\n",
              "      </button>\n",
              "      \n",
              "  <style>\n",
              "    .colab-df-container {\n",
              "      display:flex;\n",
              "      flex-wrap:wrap;\n",
              "      gap: 12px;\n",
              "    }\n",
              "\n",
              "    .colab-df-convert {\n",
              "      background-color: #E8F0FE;\n",
              "      border: none;\n",
              "      border-radius: 50%;\n",
              "      cursor: pointer;\n",
              "      display: none;\n",
              "      fill: #1967D2;\n",
              "      height: 32px;\n",
              "      padding: 0 0 0 0;\n",
              "      width: 32px;\n",
              "    }\n",
              "\n",
              "    .colab-df-convert:hover {\n",
              "      background-color: #E2EBFA;\n",
              "      box-shadow: 0px 1px 2px rgba(60, 64, 67, 0.3), 0px 1px 3px 1px rgba(60, 64, 67, 0.15);\n",
              "      fill: #174EA6;\n",
              "    }\n",
              "\n",
              "    [theme=dark] .colab-df-convert {\n",
              "      background-color: #3B4455;\n",
              "      fill: #D2E3FC;\n",
              "    }\n",
              "\n",
              "    [theme=dark] .colab-df-convert:hover {\n",
              "      background-color: #434B5C;\n",
              "      box-shadow: 0px 1px 3px 1px rgba(0, 0, 0, 0.15);\n",
              "      filter: drop-shadow(0px 1px 2px rgba(0, 0, 0, 0.3));\n",
              "      fill: #FFFFFF;\n",
              "    }\n",
              "  </style>\n",
              "\n",
              "      <script>\n",
              "        const buttonEl =\n",
              "          document.querySelector('#df-ba3d0e85-fd56-40eb-a1c7-d11a79fb093f button.colab-df-convert');\n",
              "        buttonEl.style.display =\n",
              "          google.colab.kernel.accessAllowed ? 'block' : 'none';\n",
              "\n",
              "        async function convertToInteractive(key) {\n",
              "          const element = document.querySelector('#df-ba3d0e85-fd56-40eb-a1c7-d11a79fb093f');\n",
              "          const dataTable =\n",
              "            await google.colab.kernel.invokeFunction('convertToInteractive',\n",
              "                                                     [key], {});\n",
              "          if (!dataTable) return;\n",
              "\n",
              "          const docLinkHtml = 'Like what you see? Visit the ' +\n",
              "            '<a target=\"_blank\" href=https://colab.research.google.com/notebooks/data_table.ipynb>data table notebook</a>'\n",
              "            + ' to learn more about interactive tables.';\n",
              "          element.innerHTML = '';\n",
              "          dataTable['output_type'] = 'display_data';\n",
              "          await google.colab.output.renderOutput(dataTable, element);\n",
              "          const docLink = document.createElement('div');\n",
              "          docLink.innerHTML = docLinkHtml;\n",
              "          element.appendChild(docLink);\n",
              "        }\n",
              "      </script>\n",
              "    </div>\n",
              "  </div>\n",
              "  "
            ]
          },
          "metadata": {},
          "execution_count": 181
        }
      ]
    },
    {
      "cell_type": "code",
      "source": [
        "#day기준\n",
        "df_test['time_diff'].describe()\n",
        "df_test1['time_diff'].describe()\n",
        "df_test2['time_diff'].describe()\n",
        "df_test3['time_diff'].describe()\n",
        "df_test_t=df_test['time_diff'].mean().round(3)\n",
        "df_test1_t=df_test1['time_diff'].mean().round(3)\n",
        "df_test2_t=df_test2['time_diff'].mean().round(3)\n",
        "df_test3_t=df_test3['time_diff'].mean().round(3)\n",
        "print(f'컴포넌트 일반적인 교체 주기 종합: 1의 평균 교체주기 (day)는 {df_test_t}일입니다,   컴포넌트 2의 평균 교체주기 (day)는 {df_test1_t}일입니다,    컴포넌트 3의 평균 교체주기 (day)는 {df_test2_t}일입니다,    컴포넌트 4의 평균 교체주기 (day)는 {df_test3_t}일입니다')"
      ],
      "metadata": {
        "colab": {
          "base_uri": "https://localhost:8080/"
        },
        "id": "K3Ty5yx__Y0l",
        "outputId": "1269d5cc-0090-4fee-d58d-6c0a59adfbea"
      },
      "execution_count": 182,
      "outputs": [
        {
          "output_type": "stream",
          "name": "stdout",
          "text": [
            "컴포넌트 일반적인 교체 주기 종합: 1의 평균 교체주기 (day)는 68.172일입니다,   컴포넌트 2의 평균 교체주기 (day)는 55.12일입니다,    컴포넌트 3의 평균 교체주기 (day)는 75.642일입니다,    컴포넌트 4의 평균 교체주기 (day)는 66.161일입니다\n"
          ]
        }
      ]
    },
    {
      "cell_type": "markdown",
      "source": [
        "#2,3을활용한 고장 데이터 찾기"
      ],
      "metadata": {
        "id": "VYowLHOCRvKQ"
      }
    },
    {
      "cell_type": "code",
      "source": [
        "df_2 = pd.DataFrame(columns = {'failures_maint','machineID','datetime'})\n",
        "df_2 = df_2.reindex(columns = ['machineID','datetime','failures_maint'])\n",
        "df_2"
      ],
      "metadata": {
        "colab": {
          "base_uri": "https://localhost:8080/",
          "height": 49
        },
        "id": "9Podx393SpSZ",
        "outputId": "ecac5210-4570-4973-f8d6-cc1120a3c48a"
      },
      "execution_count": 183,
      "outputs": [
        {
          "output_type": "execute_result",
          "data": {
            "text/plain": [
              "Empty DataFrame\n",
              "Columns: [machineID, datetime, failures_maint]\n",
              "Index: []"
            ],
            "text/html": [
              "\n",
              "  <div id=\"df-61f0d113-c99b-4486-b190-ee8edfdc7b28\">\n",
              "    <div class=\"colab-df-container\">\n",
              "      <div>\n",
              "<style scoped>\n",
              "    .dataframe tbody tr th:only-of-type {\n",
              "        vertical-align: middle;\n",
              "    }\n",
              "\n",
              "    .dataframe tbody tr th {\n",
              "        vertical-align: top;\n",
              "    }\n",
              "\n",
              "    .dataframe thead th {\n",
              "        text-align: right;\n",
              "    }\n",
              "</style>\n",
              "<table border=\"1\" class=\"dataframe\">\n",
              "  <thead>\n",
              "    <tr style=\"text-align: right;\">\n",
              "      <th></th>\n",
              "      <th>machineID</th>\n",
              "      <th>datetime</th>\n",
              "      <th>failures_maint</th>\n",
              "    </tr>\n",
              "  </thead>\n",
              "  <tbody>\n",
              "  </tbody>\n",
              "</table>\n",
              "</div>\n",
              "      <button class=\"colab-df-convert\" onclick=\"convertToInteractive('df-61f0d113-c99b-4486-b190-ee8edfdc7b28')\"\n",
              "              title=\"Convert this dataframe to an interactive table.\"\n",
              "              style=\"display:none;\">\n",
              "        \n",
              "  <svg xmlns=\"http://www.w3.org/2000/svg\" height=\"24px\"viewBox=\"0 0 24 24\"\n",
              "       width=\"24px\">\n",
              "    <path d=\"M0 0h24v24H0V0z\" fill=\"none\"/>\n",
              "    <path d=\"M18.56 5.44l.94 2.06.94-2.06 2.06-.94-2.06-.94-.94-2.06-.94 2.06-2.06.94zm-11 1L8.5 8.5l.94-2.06 2.06-.94-2.06-.94L8.5 2.5l-.94 2.06-2.06.94zm10 10l.94 2.06.94-2.06 2.06-.94-2.06-.94-.94-2.06-.94 2.06-2.06.94z\"/><path d=\"M17.41 7.96l-1.37-1.37c-.4-.4-.92-.59-1.43-.59-.52 0-1.04.2-1.43.59L10.3 9.45l-7.72 7.72c-.78.78-.78 2.05 0 2.83L4 21.41c.39.39.9.59 1.41.59.51 0 1.02-.2 1.41-.59l7.78-7.78 2.81-2.81c.8-.78.8-2.07 0-2.86zM5.41 20L4 18.59l7.72-7.72 1.47 1.35L5.41 20z\"/>\n",
              "  </svg>\n",
              "      </button>\n",
              "      \n",
              "  <style>\n",
              "    .colab-df-container {\n",
              "      display:flex;\n",
              "      flex-wrap:wrap;\n",
              "      gap: 12px;\n",
              "    }\n",
              "\n",
              "    .colab-df-convert {\n",
              "      background-color: #E8F0FE;\n",
              "      border: none;\n",
              "      border-radius: 50%;\n",
              "      cursor: pointer;\n",
              "      display: none;\n",
              "      fill: #1967D2;\n",
              "      height: 32px;\n",
              "      padding: 0 0 0 0;\n",
              "      width: 32px;\n",
              "    }\n",
              "\n",
              "    .colab-df-convert:hover {\n",
              "      background-color: #E2EBFA;\n",
              "      box-shadow: 0px 1px 2px rgba(60, 64, 67, 0.3), 0px 1px 3px 1px rgba(60, 64, 67, 0.15);\n",
              "      fill: #174EA6;\n",
              "    }\n",
              "\n",
              "    [theme=dark] .colab-df-convert {\n",
              "      background-color: #3B4455;\n",
              "      fill: #D2E3FC;\n",
              "    }\n",
              "\n",
              "    [theme=dark] .colab-df-convert:hover {\n",
              "      background-color: #434B5C;\n",
              "      box-shadow: 0px 1px 3px 1px rgba(0, 0, 0, 0.15);\n",
              "      filter: drop-shadow(0px 1px 2px rgba(0, 0, 0, 0.3));\n",
              "      fill: #FFFFFF;\n",
              "    }\n",
              "  </style>\n",
              "\n",
              "      <script>\n",
              "        const buttonEl =\n",
              "          document.querySelector('#df-61f0d113-c99b-4486-b190-ee8edfdc7b28 button.colab-df-convert');\n",
              "        buttonEl.style.display =\n",
              "          google.colab.kernel.accessAllowed ? 'block' : 'none';\n",
              "\n",
              "        async function convertToInteractive(key) {\n",
              "          const element = document.querySelector('#df-61f0d113-c99b-4486-b190-ee8edfdc7b28');\n",
              "          const dataTable =\n",
              "            await google.colab.kernel.invokeFunction('convertToInteractive',\n",
              "                                                     [key], {});\n",
              "          if (!dataTable) return;\n",
              "\n",
              "          const docLinkHtml = 'Like what you see? Visit the ' +\n",
              "            '<a target=\"_blank\" href=https://colab.research.google.com/notebooks/data_table.ipynb>data table notebook</a>'\n",
              "            + ' to learn more about interactive tables.';\n",
              "          element.innerHTML = '';\n",
              "          dataTable['output_type'] = 'display_data';\n",
              "          await google.colab.output.renderOutput(dataTable, element);\n",
              "          const docLink = document.createElement('div');\n",
              "          docLink.innerHTML = docLinkHtml;\n",
              "          element.appendChild(docLink);\n",
              "        }\n",
              "      </script>\n",
              "    </div>\n",
              "  </div>\n",
              "  "
            ]
          },
          "metadata": {},
          "execution_count": 183
        }
      ]
    },
    {
      "cell_type": "code",
      "source": [
        "df_fail= pd.DataFrame(data=list(zip(list_test,list_id)),columns = ['datetime','machineID'])\n",
        "df_fail1= pd.DataFrame(data=list(zip(list_test2,list_id2)),columns = ['datetime','machineID'])\n",
        "df_fail2= pd.DataFrame(data=list(zip(list_test3,list_id3)),columns = ['datetime','machineID'])\n",
        "df_fail3= pd.DataFrame(data=list(zip(list_test4,list_id4)),columns = ['datetime','machineID'])"
      ],
      "metadata": {
        "id": "ZbCyFcExSZXn"
      },
      "execution_count": 184,
      "outputs": []
    },
    {
      "cell_type": "code",
      "source": [],
      "metadata": {
        "colab": {
          "base_uri": "https://localhost:8080/"
        },
        "id": "DRnfBJhNS5q8",
        "outputId": "eae8e96c-7121-46df-b74b-3f3c27e693a1"
      },
      "execution_count": null,
      "outputs": [
        {
          "output_type": "execute_result",
          "data": {
            "text/plain": [
              "44"
            ]
          },
          "metadata": {},
          "execution_count": 424
        }
      ]
    },
    {
      "cell_type": "markdown",
      "source": [
        "#전체적인 컴포넌트 데이터 종합본"
      ],
      "metadata": {
        "id": "y0Q3iD0uAZj_"
      }
    },
    {
      "cell_type": "code",
      "source": [
        "print(f'고장에 의한 컴포넌트 교체 1의 평균 교체주기 (day)는 {ans1}일입니다,   컴포넌트 2의 평균 교체주기 (day)는 {ans2}일입니다,    컴포넌트 3의 평균 교체주기 (day)는 {ans3}일입니다,    컴포넌트 4의 평균 교체주기 (day)는 {ans4}일입니다')"
      ],
      "metadata": {
        "colab": {
          "base_uri": "https://localhost:8080/"
        },
        "id": "rs5L_J2pAprN",
        "outputId": "fccc59cd-61ed-42d6-83e3-e82f56f94934"
      },
      "execution_count": 214,
      "outputs": [
        {
          "output_type": "stream",
          "name": "stdout",
          "text": [
            "고장에 의한 컴포넌트 교체 1의 평균 교체주기 (day)는 124.04일입니다,   컴포넌트 2의 평균 교체주기 (day)는 136.96일입니다,    컴포넌트 3의 평균 교체주기 (day)는 92.89일입니다,    컴포넌트 4의 평균 교체주기 (day)는 117.81일입니다\n"
          ]
        }
      ]
    },
    {
      "cell_type": "code",
      "source": [
        "print(f'컴포넌트 일반적인 교체 주기 종합: 1의 평균 교체주기 (day)는 {df_test_t}일입니다,   컴포넌트 2의 평균 교체주기 (day)는 {df_test1_t}일입니다,    컴포넌트 3의 평균 교체주기 (day)는 {df_test2_t}일입니다,    컴포넌트 4의 평균 교체주기 (day)는 {df_test3_t}일입니다')"
      ],
      "metadata": {
        "colab": {
          "base_uri": "https://localhost:8080/"
        },
        "id": "ZprNS3HZAd5d",
        "outputId": "9b0138e7-1b7e-4b51-eb5c-73ed200e3f49"
      },
      "execution_count": 215,
      "outputs": [
        {
          "output_type": "stream",
          "name": "stdout",
          "text": [
            "컴포넌트 일반적인 교체 주기 종합: 1의 평균 교체주기 (day)는 68.172일입니다,   컴포넌트 2의 평균 교체주기 (day)는 55.12일입니다,    컴포넌트 3의 평균 교체주기 (day)는 75.642일입니다,    컴포넌트 4의 평균 교체주기 (day)는 66.161일입니다\n"
          ]
        }
      ]
    },
    {
      "cell_type": "code",
      "source": [
        "print(f'컴포넌트 종합 교체주기:  1의 평균 교체주기 (day)는 {comp_mean1}일입니다,   컴포넌트 2의 평균 교체주기 (day)는 {comp_mean2}일입니다,    컴포넌트 3의 평균 교체주기 (day)는 {comp_mean3}일입니다,    컴포넌트 4의 평균 교체주기 (day)는 {comp_mean4}일입니다')"
      ],
      "metadata": {
        "colab": {
          "base_uri": "https://localhost:8080/"
        },
        "id": "UjP5Fx90AiAd",
        "outputId": "8033b136-180c-49cd-de28-9e9eaa4cca65"
      },
      "execution_count": 216,
      "outputs": [
        {
          "output_type": "stream",
          "name": "stdout",
          "text": [
            "컴포넌트 종합 교체주기:  1의 평균 교체주기 (day)는 61.122일입니다,   컴포넌트 2의 평균 교체주기 (day)는 57.241일입니다,    컴포넌트 3의 평균 교체주기 (day)는 62.006일입니다,    컴포넌트 4의 평균 교체주기 (day)는 61.639일입니다\n"
          ]
        }
      ]
    },
    {
      "cell_type": "code",
      "source": [
        "a= len(neg_t)+len(neg_t1)+len(neg_t2)+len(neg_t3) #고장\n",
        "b = len(df_test)+len(df_test1)+len(df_test2)+len(df_test3) #일반\n",
        "c = len(comp1_n)+len(comp2_n)+len(comp3_n)+len(comp4_n) #종합\n",
        "a+b, c"
      ],
      "metadata": {
        "colab": {
          "base_uri": "https://localhost:8080/"
        },
        "id": "2ffuGMHIGvH-",
        "outputId": "e127f614-b70e-4109-a374-a51e38101382"
      },
      "execution_count": 221,
      "outputs": [
        {
          "output_type": "execute_result",
          "data": {
            "text/plain": [
              "(3286, 3286)"
            ]
          },
          "metadata": {},
          "execution_count": 221
        }
      ]
    }
  ]
}
