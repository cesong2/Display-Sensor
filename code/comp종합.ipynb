{
  "nbformat": 4,
  "nbformat_minor": 0,
  "metadata": {
    "colab": {
      "provenance": [],
      "authorship_tag": "ABX9TyObtebqqEbQgPdwF+waESY1",
      "include_colab_link": true
    },
    "kernelspec": {
      "name": "python3",
      "display_name": "Python 3"
    },
    "language_info": {
      "name": "python"
    }
  },
  "cells": [
    {
      "cell_type": "markdown",
      "metadata": {
        "id": "view-in-github",
        "colab_type": "text"
      },
      "source": [
        "<a href=\"https://colab.research.google.com/github/cesong2/Display-Sensor/blob/Chan/comp%EC%A2%85%ED%95%A9.ipynb\" target=\"_parent\"><img src=\"https://colab.research.google.com/assets/colab-badge.svg\" alt=\"Open In Colab\"/></a>"
      ]
    },
    {
      "cell_type": "code",
      "execution_count": 21,
      "metadata": {
        "id": "PfQoUva-jorZ"
      },
      "outputs": [],
      "source": [
        "import pandas as pd\n",
        "import matplotlib.pyplot as plt\n",
        "import matplotlib\n",
        "import seaborn as sns\n",
        "import numpy as np"
      ]
    },
    {
      "cell_type": "code",
      "source": [
        "from datetime import timedelta\n",
        "import datetime\n",
        "import numpy as np\n",
        "from datetime import datetime\n",
        "import time"
      ],
      "metadata": {
        "id": "pGawzSshl5S1"
      },
      "execution_count": 22,
      "outputs": []
    },
    {
      "cell_type": "code",
      "source": [
        "#Load the data\n",
        "telemetry_df = pd.read_csv(\"/content/PdM_telemetry.csv\")\n",
        "errors_df = pd.read_csv(\"/content/PdM_errors.csv\")\n",
        "maint_df = pd.read_csv(\"/content/PdM_maint.csv\")\n",
        "failures_df = pd.read_csv(\"/content/PdM_failures.csv\")\n",
        "machines_df = pd.read_csv(\"/content/PdM_machines.csv\")\n",
        "machines_age = pd.DataFrame(machines_df[['machineID','age']]).set_index('machineID')\n",
        "machines_errors = pd.DataFrame(errors_df.groupby('machineID')['errorID'].count())\n",
        "machines_maint = pd.DataFrame(maint_df.groupby('machineID')['comp'].count())\n",
        "machines_failures = pd.DataFrame(failures_df.groupby('machineID')['failure'].count())"
      ],
      "metadata": {
        "id": "BFQ3l13KkScD"
      },
      "execution_count": 3,
      "outputs": []
    },
    {
      "cell_type": "markdown",
      "source": [
        "#총 몇번 교체되었는지 component별 확인"
      ],
      "metadata": {
        "id": "p1YsT0uMlFic"
      }
    },
    {
      "cell_type": "code",
      "source": [
        "#maint 데이터파일 0과 1로 정리해주기\n",
        "import numpy as np\n",
        "comp_rep = pd.get_dummies(maint_df.set_index('datetime')).reset_index()\n",
        "comp_rep.columns = ['datetime', 'machineID','comp1', 'comp2', 'comp3', 'comp4']\n",
        "comp_rep = telemetry_df[['datetime', 'machineID']].merge(comp_rep,on=['datetime','machineID'],how='outer').fillna(0).sort_values(by=['machineID', 'datetime'])"
      ],
      "metadata": {
        "id": "Fp2nKD1PlMBT"
      },
      "execution_count": 130,
      "outputs": []
    },
    {
      "cell_type": "code",
      "source": [
        "#maint 데이터파일 시간대별로 채우기\n",
        "components = ['comp1', 'comp2', 'comp3', 'comp4']\n",
        "for comp in components:\n",
        "    comp_rep.loc[comp_rep[comp] < 1, comp] = None\n",
        "    comp_rep.loc[-comp_rep[comp].isnull(),\n",
        "                 comp] = comp_rep.loc[-comp_rep[comp].isnull(), 'datetime']\n",
        "    comp_rep[comp] = comp_rep[comp].fillna(method='ffill')"
      ],
      "metadata": {
        "id": "LIHJVS7rlM4E"
      },
      "execution_count": 131,
      "outputs": []
    },
    {
      "cell_type": "code",
      "source": [
        "#컴포넌트별 모든 시간대 정리\n",
        "comp1_t = pd.DataFrame(comp_rep, columns = ['datetime','machineID','comp1'])\n",
        "comp2_t = pd.DataFrame(comp_rep, columns = ['datetime','machineID','comp2'])\n",
        "comp3_t = pd.DataFrame(comp_rep, columns = ['datetime','machineID','comp3'])\n",
        "comp4_t = pd.DataFrame(comp_rep, columns = ['datetime','machineID','comp4'])"
      ],
      "metadata": {
        "id": "UMgy1Of3lOHr"
      },
      "execution_count": 132,
      "outputs": []
    },
    {
      "cell_type": "code",
      "source": [
        "#컴포넌트 시간대별 중복 데이터 정리 (586799데이터 中)\n",
        "comp1_rep = comp1_t.drop_duplicates(['comp1']) #303데이터열\n",
        "comp2_rep = comp2_t.drop_duplicates(['comp2']) #317데이터열\n",
        "comp3_rep = comp3_t.drop_duplicates(['comp3']) #311데이터열\n",
        "comp4_rep = comp4_t.drop_duplicates(['comp4']) #314데이터열"
      ],
      "metadata": {
        "id": "M3coQE9RlPaN"
      },
      "execution_count": 133,
      "outputs": []
    },
    {
      "cell_type": "code",
      "source": [
        "comp1_t"
      ],
      "metadata": {
        "colab": {
          "base_uri": "https://localhost:8080/",
          "height": 424
        },
        "id": "JrjpGgQ_s1cE",
        "outputId": "b012e5b7-30d9-47e9-e751-b3a3c337b1b5"
      },
      "execution_count": 134,
      "outputs": [
        {
          "output_type": "execute_result",
          "data": {
            "text/plain": [
              "                   datetime  machineID                comp1\n",
              "275966  2014-06-01 06:00:00          1                  NaN\n",
              "275967  2014-07-16 06:00:00          1                  NaN\n",
              "275968  2014-07-31 06:00:00          1                  NaN\n",
              "275969  2014-12-13 06:00:00          1  2014-12-13 06:00:00\n",
              "0       2015-01-01 06:00:00          1  2014-12-13 06:00:00\n",
              "...                     ...        ...                  ...\n",
              "278330  2015-10-10 06:00:00        100  2015-10-10 06:00:00\n",
              "278331  2015-10-25 06:00:00        100  2015-10-10 06:00:00\n",
              "278332  2015-11-09 06:00:00        100  2015-10-10 06:00:00\n",
              "278333  2015-12-09 06:00:00        100  2015-10-10 06:00:00\n",
              "278334  2015-12-24 06:00:00        100  2015-10-10 06:00:00\n",
              "\n",
              "[278335 rows x 3 columns]"
            ],
            "text/html": [
              "\n",
              "  <div id=\"df-3aa6412e-f278-4f5d-9e30-ade950e80144\">\n",
              "    <div class=\"colab-df-container\">\n",
              "      <div>\n",
              "<style scoped>\n",
              "    .dataframe tbody tr th:only-of-type {\n",
              "        vertical-align: middle;\n",
              "    }\n",
              "\n",
              "    .dataframe tbody tr th {\n",
              "        vertical-align: top;\n",
              "    }\n",
              "\n",
              "    .dataframe thead th {\n",
              "        text-align: right;\n",
              "    }\n",
              "</style>\n",
              "<table border=\"1\" class=\"dataframe\">\n",
              "  <thead>\n",
              "    <tr style=\"text-align: right;\">\n",
              "      <th></th>\n",
              "      <th>datetime</th>\n",
              "      <th>machineID</th>\n",
              "      <th>comp1</th>\n",
              "    </tr>\n",
              "  </thead>\n",
              "  <tbody>\n",
              "    <tr>\n",
              "      <th>275966</th>\n",
              "      <td>2014-06-01 06:00:00</td>\n",
              "      <td>1</td>\n",
              "      <td>NaN</td>\n",
              "    </tr>\n",
              "    <tr>\n",
              "      <th>275967</th>\n",
              "      <td>2014-07-16 06:00:00</td>\n",
              "      <td>1</td>\n",
              "      <td>NaN</td>\n",
              "    </tr>\n",
              "    <tr>\n",
              "      <th>275968</th>\n",
              "      <td>2014-07-31 06:00:00</td>\n",
              "      <td>1</td>\n",
              "      <td>NaN</td>\n",
              "    </tr>\n",
              "    <tr>\n",
              "      <th>275969</th>\n",
              "      <td>2014-12-13 06:00:00</td>\n",
              "      <td>1</td>\n",
              "      <td>2014-12-13 06:00:00</td>\n",
              "    </tr>\n",
              "    <tr>\n",
              "      <th>0</th>\n",
              "      <td>2015-01-01 06:00:00</td>\n",
              "      <td>1</td>\n",
              "      <td>2014-12-13 06:00:00</td>\n",
              "    </tr>\n",
              "    <tr>\n",
              "      <th>...</th>\n",
              "      <td>...</td>\n",
              "      <td>...</td>\n",
              "      <td>...</td>\n",
              "    </tr>\n",
              "    <tr>\n",
              "      <th>278330</th>\n",
              "      <td>2015-10-10 06:00:00</td>\n",
              "      <td>100</td>\n",
              "      <td>2015-10-10 06:00:00</td>\n",
              "    </tr>\n",
              "    <tr>\n",
              "      <th>278331</th>\n",
              "      <td>2015-10-25 06:00:00</td>\n",
              "      <td>100</td>\n",
              "      <td>2015-10-10 06:00:00</td>\n",
              "    </tr>\n",
              "    <tr>\n",
              "      <th>278332</th>\n",
              "      <td>2015-11-09 06:00:00</td>\n",
              "      <td>100</td>\n",
              "      <td>2015-10-10 06:00:00</td>\n",
              "    </tr>\n",
              "    <tr>\n",
              "      <th>278333</th>\n",
              "      <td>2015-12-09 06:00:00</td>\n",
              "      <td>100</td>\n",
              "      <td>2015-10-10 06:00:00</td>\n",
              "    </tr>\n",
              "    <tr>\n",
              "      <th>278334</th>\n",
              "      <td>2015-12-24 06:00:00</td>\n",
              "      <td>100</td>\n",
              "      <td>2015-10-10 06:00:00</td>\n",
              "    </tr>\n",
              "  </tbody>\n",
              "</table>\n",
              "<p>278335 rows × 3 columns</p>\n",
              "</div>\n",
              "      <button class=\"colab-df-convert\" onclick=\"convertToInteractive('df-3aa6412e-f278-4f5d-9e30-ade950e80144')\"\n",
              "              title=\"Convert this dataframe to an interactive table.\"\n",
              "              style=\"display:none;\">\n",
              "        \n",
              "  <svg xmlns=\"http://www.w3.org/2000/svg\" height=\"24px\"viewBox=\"0 0 24 24\"\n",
              "       width=\"24px\">\n",
              "    <path d=\"M0 0h24v24H0V0z\" fill=\"none\"/>\n",
              "    <path d=\"M18.56 5.44l.94 2.06.94-2.06 2.06-.94-2.06-.94-.94-2.06-.94 2.06-2.06.94zm-11 1L8.5 8.5l.94-2.06 2.06-.94-2.06-.94L8.5 2.5l-.94 2.06-2.06.94zm10 10l.94 2.06.94-2.06 2.06-.94-2.06-.94-.94-2.06-.94 2.06-2.06.94z\"/><path d=\"M17.41 7.96l-1.37-1.37c-.4-.4-.92-.59-1.43-.59-.52 0-1.04.2-1.43.59L10.3 9.45l-7.72 7.72c-.78.78-.78 2.05 0 2.83L4 21.41c.39.39.9.59 1.41.59.51 0 1.02-.2 1.41-.59l7.78-7.78 2.81-2.81c.8-.78.8-2.07 0-2.86zM5.41 20L4 18.59l7.72-7.72 1.47 1.35L5.41 20z\"/>\n",
              "  </svg>\n",
              "      </button>\n",
              "      \n",
              "  <style>\n",
              "    .colab-df-container {\n",
              "      display:flex;\n",
              "      flex-wrap:wrap;\n",
              "      gap: 12px;\n",
              "    }\n",
              "\n",
              "    .colab-df-convert {\n",
              "      background-color: #E8F0FE;\n",
              "      border: none;\n",
              "      border-radius: 50%;\n",
              "      cursor: pointer;\n",
              "      display: none;\n",
              "      fill: #1967D2;\n",
              "      height: 32px;\n",
              "      padding: 0 0 0 0;\n",
              "      width: 32px;\n",
              "    }\n",
              "\n",
              "    .colab-df-convert:hover {\n",
              "      background-color: #E2EBFA;\n",
              "      box-shadow: 0px 1px 2px rgba(60, 64, 67, 0.3), 0px 1px 3px 1px rgba(60, 64, 67, 0.15);\n",
              "      fill: #174EA6;\n",
              "    }\n",
              "\n",
              "    [theme=dark] .colab-df-convert {\n",
              "      background-color: #3B4455;\n",
              "      fill: #D2E3FC;\n",
              "    }\n",
              "\n",
              "    [theme=dark] .colab-df-convert:hover {\n",
              "      background-color: #434B5C;\n",
              "      box-shadow: 0px 1px 3px 1px rgba(0, 0, 0, 0.15);\n",
              "      filter: drop-shadow(0px 1px 2px rgba(0, 0, 0, 0.3));\n",
              "      fill: #FFFFFF;\n",
              "    }\n",
              "  </style>\n",
              "\n",
              "      <script>\n",
              "        const buttonEl =\n",
              "          document.querySelector('#df-3aa6412e-f278-4f5d-9e30-ade950e80144 button.colab-df-convert');\n",
              "        buttonEl.style.display =\n",
              "          google.colab.kernel.accessAllowed ? 'block' : 'none';\n",
              "\n",
              "        async function convertToInteractive(key) {\n",
              "          const element = document.querySelector('#df-3aa6412e-f278-4f5d-9e30-ade950e80144');\n",
              "          const dataTable =\n",
              "            await google.colab.kernel.invokeFunction('convertToInteractive',\n",
              "                                                     [key], {});\n",
              "          if (!dataTable) return;\n",
              "\n",
              "          const docLinkHtml = 'Like what you see? Visit the ' +\n",
              "            '<a target=\"_blank\" href=https://colab.research.google.com/notebooks/data_table.ipynb>data table notebook</a>'\n",
              "            + ' to learn more about interactive tables.';\n",
              "          element.innerHTML = '';\n",
              "          dataTable['output_type'] = 'display_data';\n",
              "          await google.colab.output.renderOutput(dataTable, element);\n",
              "          const docLink = document.createElement('div');\n",
              "          docLink.innerHTML = docLinkHtml;\n",
              "          element.appendChild(docLink);\n",
              "        }\n",
              "      </script>\n",
              "    </div>\n",
              "  </div>\n",
              "  "
            ]
          },
          "metadata": {},
          "execution_count": 134
        }
      ]
    },
    {
      "cell_type": "code",
      "source": [
        "print(f'comp1은 {len(comp1_rep)}번 교체, comp2은 {len(comp2_rep)}번 교체, comp3은 {len(comp3_rep)}번 교체, comp4은 {len(comp4_rep)}번 교체,')"
      ],
      "metadata": {
        "colab": {
          "base_uri": "https://localhost:8080/"
        },
        "id": "nfPFtLKYlQzL",
        "outputId": "602ca57f-caa5-47ba-8e56-3530bcece94b"
      },
      "execution_count": 135,
      "outputs": [
        {
          "output_type": "stream",
          "name": "stdout",
          "text": [
            "comp1은 303번 교체, comp2은 317번 교체, comp3은 311번 교체, comp4은 314번 교체,\n"
          ]
        }
      ]
    },
    {
      "cell_type": "markdown",
      "source": [
        "#고장에 의한 교체 찾기 $1\n",
        "---"
      ],
      "metadata": {
        "id": "kvaDeYzQlXQD"
      }
    },
    {
      "cell_type": "code",
      "source": [
        "comp1 = comp1_rep.set_index('datetime').reset_index()\n",
        "comp2 = comp2_rep.set_index('datetime').reset_index()\n",
        "comp3 = comp3_rep.set_index('datetime').reset_index()\n",
        "comp4 = comp4_rep.set_index('datetime').reset_index()"
      ],
      "metadata": {
        "id": "lIoClCw3lSJD"
      },
      "execution_count": 136,
      "outputs": []
    },
    {
      "cell_type": "code",
      "source": [
        "#결측치 제거 전 (Nan값제거)\n",
        "comp1\n",
        "comp2\n",
        "comp3\n",
        "comp4\n",
        "#결측치 제거 후 (Nan값제거)\n",
        "comp1_n = comp1.dropna(axis=0) #결측치 1개 삭제\n",
        "comp2_n = comp2.dropna(axis=0) #결측치 0개 삭제\n",
        "comp3_n = comp3.dropna(axis=0) #결측치 1개 삭제\n",
        "comp4_n = comp4.dropna(axis=0) #결측치 1개 삭제\n",
        "#순서 재배치\n",
        "comp1_n = comp1_n.set_index('datetime').reset_index()\n",
        "comp2_n = comp2_n.set_index('datetime').reset_index()\n",
        "comp3_n = comp3_n.set_index('datetime').reset_index()\n",
        "comp4_n = comp4_n.set_index('datetime').reset_index()"
      ],
      "metadata": {
        "id": "Kkjx7zOHlTaT"
      },
      "execution_count": 137,
      "outputs": []
    },
    {
      "cell_type": "code",
      "source": [
        "df = pd.DataFrame(columns = {'failures_maint','machineID','datetime'})\n",
        "df = df.reindex(columns = ['machineID','datetime','failures_maint'])\n",
        "df"
      ],
      "metadata": {
        "colab": {
          "base_uri": "https://localhost:8080/",
          "height": 49
        },
        "id": "U2xyVzR0lcR8",
        "outputId": "997d068c-be96-4648-b3b7-ecc89f8dd3ae"
      },
      "execution_count": 138,
      "outputs": [
        {
          "output_type": "execute_result",
          "data": {
            "text/plain": [
              "Empty DataFrame\n",
              "Columns: [machineID, datetime, failures_maint]\n",
              "Index: []"
            ],
            "text/html": [
              "\n",
              "  <div id=\"df-d85c99c9-1ec6-46df-acbc-fbcb3354a6ab\">\n",
              "    <div class=\"colab-df-container\">\n",
              "      <div>\n",
              "<style scoped>\n",
              "    .dataframe tbody tr th:only-of-type {\n",
              "        vertical-align: middle;\n",
              "    }\n",
              "\n",
              "    .dataframe tbody tr th {\n",
              "        vertical-align: top;\n",
              "    }\n",
              "\n",
              "    .dataframe thead th {\n",
              "        text-align: right;\n",
              "    }\n",
              "</style>\n",
              "<table border=\"1\" class=\"dataframe\">\n",
              "  <thead>\n",
              "    <tr style=\"text-align: right;\">\n",
              "      <th></th>\n",
              "      <th>machineID</th>\n",
              "      <th>datetime</th>\n",
              "      <th>failures_maint</th>\n",
              "    </tr>\n",
              "  </thead>\n",
              "  <tbody>\n",
              "  </tbody>\n",
              "</table>\n",
              "</div>\n",
              "      <button class=\"colab-df-convert\" onclick=\"convertToInteractive('df-d85c99c9-1ec6-46df-acbc-fbcb3354a6ab')\"\n",
              "              title=\"Convert this dataframe to an interactive table.\"\n",
              "              style=\"display:none;\">\n",
              "        \n",
              "  <svg xmlns=\"http://www.w3.org/2000/svg\" height=\"24px\"viewBox=\"0 0 24 24\"\n",
              "       width=\"24px\">\n",
              "    <path d=\"M0 0h24v24H0V0z\" fill=\"none\"/>\n",
              "    <path d=\"M18.56 5.44l.94 2.06.94-2.06 2.06-.94-2.06-.94-.94-2.06-.94 2.06-2.06.94zm-11 1L8.5 8.5l.94-2.06 2.06-.94-2.06-.94L8.5 2.5l-.94 2.06-2.06.94zm10 10l.94 2.06.94-2.06 2.06-.94-2.06-.94-.94-2.06-.94 2.06-2.06.94z\"/><path d=\"M17.41 7.96l-1.37-1.37c-.4-.4-.92-.59-1.43-.59-.52 0-1.04.2-1.43.59L10.3 9.45l-7.72 7.72c-.78.78-.78 2.05 0 2.83L4 21.41c.39.39.9.59 1.41.59.51 0 1.02-.2 1.41-.59l7.78-7.78 2.81-2.81c.8-.78.8-2.07 0-2.86zM5.41 20L4 18.59l7.72-7.72 1.47 1.35L5.41 20z\"/>\n",
              "  </svg>\n",
              "      </button>\n",
              "      \n",
              "  <style>\n",
              "    .colab-df-container {\n",
              "      display:flex;\n",
              "      flex-wrap:wrap;\n",
              "      gap: 12px;\n",
              "    }\n",
              "\n",
              "    .colab-df-convert {\n",
              "      background-color: #E8F0FE;\n",
              "      border: none;\n",
              "      border-radius: 50%;\n",
              "      cursor: pointer;\n",
              "      display: none;\n",
              "      fill: #1967D2;\n",
              "      height: 32px;\n",
              "      padding: 0 0 0 0;\n",
              "      width: 32px;\n",
              "    }\n",
              "\n",
              "    .colab-df-convert:hover {\n",
              "      background-color: #E2EBFA;\n",
              "      box-shadow: 0px 1px 2px rgba(60, 64, 67, 0.3), 0px 1px 3px 1px rgba(60, 64, 67, 0.15);\n",
              "      fill: #174EA6;\n",
              "    }\n",
              "\n",
              "    [theme=dark] .colab-df-convert {\n",
              "      background-color: #3B4455;\n",
              "      fill: #D2E3FC;\n",
              "    }\n",
              "\n",
              "    [theme=dark] .colab-df-convert:hover {\n",
              "      background-color: #434B5C;\n",
              "      box-shadow: 0px 1px 3px 1px rgba(0, 0, 0, 0.15);\n",
              "      filter: drop-shadow(0px 1px 2px rgba(0, 0, 0, 0.3));\n",
              "      fill: #FFFFFF;\n",
              "    }\n",
              "  </style>\n",
              "\n",
              "      <script>\n",
              "        const buttonEl =\n",
              "          document.querySelector('#df-d85c99c9-1ec6-46df-acbc-fbcb3354a6ab button.colab-df-convert');\n",
              "        buttonEl.style.display =\n",
              "          google.colab.kernel.accessAllowed ? 'block' : 'none';\n",
              "\n",
              "        async function convertToInteractive(key) {\n",
              "          const element = document.querySelector('#df-d85c99c9-1ec6-46df-acbc-fbcb3354a6ab');\n",
              "          const dataTable =\n",
              "            await google.colab.kernel.invokeFunction('convertToInteractive',\n",
              "                                                     [key], {});\n",
              "          if (!dataTable) return;\n",
              "\n",
              "          const docLinkHtml = 'Like what you see? Visit the ' +\n",
              "            '<a target=\"_blank\" href=https://colab.research.google.com/notebooks/data_table.ipynb>data table notebook</a>'\n",
              "            + ' to learn more about interactive tables.';\n",
              "          element.innerHTML = '';\n",
              "          dataTable['output_type'] = 'display_data';\n",
              "          await google.colab.output.renderOutput(dataTable, element);\n",
              "          const docLink = document.createElement('div');\n",
              "          docLink.innerHTML = docLinkHtml;\n",
              "          element.appendChild(docLink);\n",
              "        }\n",
              "      </script>\n",
              "    </div>\n",
              "  </div>\n",
              "  "
            ]
          },
          "metadata": {},
          "execution_count": 138
        }
      ]
    },
    {
      "cell_type": "code",
      "source": [
        "n = maint_df.merge(failures_df, on = ('machineID','datetime'),how = 'inner')\n",
        "for i in range(len(n)):\n",
        "  if n['comp'][i] == n['failure'][i]: #겹치는애들\n",
        "    df.loc[i] = [n['machineID'][i],n['datetime'][i],n['failure'][i]]\n",
        "  else:#겹치지 않는애들 (제거 요망)\n",
        "    pass"
      ],
      "metadata": {
        "id": "CsdJxpMGle4j"
      },
      "execution_count": 139,
      "outputs": []
    },
    {
      "cell_type": "code",
      "source": [
        "df1 = df.set_index('datetime').reset_index() #숫자 재정렬\n",
        "df1"
      ],
      "metadata": {
        "colab": {
          "base_uri": "https://localhost:8080/",
          "height": 424
        },
        "id": "h0-4jujMlgWD",
        "outputId": "d2bc46ba-0e42-407d-cb1d-690c854df90f"
      },
      "execution_count": 140,
      "outputs": [
        {
          "output_type": "execute_result",
          "data": {
            "text/plain": [
              "                datetime machineID failures_maint\n",
              "0    2015-01-05 06:00:00         1          comp4\n",
              "1    2015-03-06 06:00:00         1          comp1\n",
              "2    2015-04-20 06:00:00         1          comp2\n",
              "3    2015-06-19 06:00:00         1          comp4\n",
              "4    2015-09-02 06:00:00         1          comp4\n",
              "..                   ...       ...            ...\n",
              "738  2015-11-29 06:00:00        99          comp3\n",
              "739  2015-12-14 06:00:00        99          comp4\n",
              "740  2015-02-12 06:00:00       100          comp1\n",
              "741  2015-09-10 06:00:00       100          comp1\n",
              "742  2015-12-09 06:00:00       100          comp2\n",
              "\n",
              "[743 rows x 3 columns]"
            ],
            "text/html": [
              "\n",
              "  <div id=\"df-8df24f89-963b-4566-abf9-b7b44501b898\">\n",
              "    <div class=\"colab-df-container\">\n",
              "      <div>\n",
              "<style scoped>\n",
              "    .dataframe tbody tr th:only-of-type {\n",
              "        vertical-align: middle;\n",
              "    }\n",
              "\n",
              "    .dataframe tbody tr th {\n",
              "        vertical-align: top;\n",
              "    }\n",
              "\n",
              "    .dataframe thead th {\n",
              "        text-align: right;\n",
              "    }\n",
              "</style>\n",
              "<table border=\"1\" class=\"dataframe\">\n",
              "  <thead>\n",
              "    <tr style=\"text-align: right;\">\n",
              "      <th></th>\n",
              "      <th>datetime</th>\n",
              "      <th>machineID</th>\n",
              "      <th>failures_maint</th>\n",
              "    </tr>\n",
              "  </thead>\n",
              "  <tbody>\n",
              "    <tr>\n",
              "      <th>0</th>\n",
              "      <td>2015-01-05 06:00:00</td>\n",
              "      <td>1</td>\n",
              "      <td>comp4</td>\n",
              "    </tr>\n",
              "    <tr>\n",
              "      <th>1</th>\n",
              "      <td>2015-03-06 06:00:00</td>\n",
              "      <td>1</td>\n",
              "      <td>comp1</td>\n",
              "    </tr>\n",
              "    <tr>\n",
              "      <th>2</th>\n",
              "      <td>2015-04-20 06:00:00</td>\n",
              "      <td>1</td>\n",
              "      <td>comp2</td>\n",
              "    </tr>\n",
              "    <tr>\n",
              "      <th>3</th>\n",
              "      <td>2015-06-19 06:00:00</td>\n",
              "      <td>1</td>\n",
              "      <td>comp4</td>\n",
              "    </tr>\n",
              "    <tr>\n",
              "      <th>4</th>\n",
              "      <td>2015-09-02 06:00:00</td>\n",
              "      <td>1</td>\n",
              "      <td>comp4</td>\n",
              "    </tr>\n",
              "    <tr>\n",
              "      <th>...</th>\n",
              "      <td>...</td>\n",
              "      <td>...</td>\n",
              "      <td>...</td>\n",
              "    </tr>\n",
              "    <tr>\n",
              "      <th>738</th>\n",
              "      <td>2015-11-29 06:00:00</td>\n",
              "      <td>99</td>\n",
              "      <td>comp3</td>\n",
              "    </tr>\n",
              "    <tr>\n",
              "      <th>739</th>\n",
              "      <td>2015-12-14 06:00:00</td>\n",
              "      <td>99</td>\n",
              "      <td>comp4</td>\n",
              "    </tr>\n",
              "    <tr>\n",
              "      <th>740</th>\n",
              "      <td>2015-02-12 06:00:00</td>\n",
              "      <td>100</td>\n",
              "      <td>comp1</td>\n",
              "    </tr>\n",
              "    <tr>\n",
              "      <th>741</th>\n",
              "      <td>2015-09-10 06:00:00</td>\n",
              "      <td>100</td>\n",
              "      <td>comp1</td>\n",
              "    </tr>\n",
              "    <tr>\n",
              "      <th>742</th>\n",
              "      <td>2015-12-09 06:00:00</td>\n",
              "      <td>100</td>\n",
              "      <td>comp2</td>\n",
              "    </tr>\n",
              "  </tbody>\n",
              "</table>\n",
              "<p>743 rows × 3 columns</p>\n",
              "</div>\n",
              "      <button class=\"colab-df-convert\" onclick=\"convertToInteractive('df-8df24f89-963b-4566-abf9-b7b44501b898')\"\n",
              "              title=\"Convert this dataframe to an interactive table.\"\n",
              "              style=\"display:none;\">\n",
              "        \n",
              "  <svg xmlns=\"http://www.w3.org/2000/svg\" height=\"24px\"viewBox=\"0 0 24 24\"\n",
              "       width=\"24px\">\n",
              "    <path d=\"M0 0h24v24H0V0z\" fill=\"none\"/>\n",
              "    <path d=\"M18.56 5.44l.94 2.06.94-2.06 2.06-.94-2.06-.94-.94-2.06-.94 2.06-2.06.94zm-11 1L8.5 8.5l.94-2.06 2.06-.94-2.06-.94L8.5 2.5l-.94 2.06-2.06.94zm10 10l.94 2.06.94-2.06 2.06-.94-2.06-.94-.94-2.06-.94 2.06-2.06.94z\"/><path d=\"M17.41 7.96l-1.37-1.37c-.4-.4-.92-.59-1.43-.59-.52 0-1.04.2-1.43.59L10.3 9.45l-7.72 7.72c-.78.78-.78 2.05 0 2.83L4 21.41c.39.39.9.59 1.41.59.51 0 1.02-.2 1.41-.59l7.78-7.78 2.81-2.81c.8-.78.8-2.07 0-2.86zM5.41 20L4 18.59l7.72-7.72 1.47 1.35L5.41 20z\"/>\n",
              "  </svg>\n",
              "      </button>\n",
              "      \n",
              "  <style>\n",
              "    .colab-df-container {\n",
              "      display:flex;\n",
              "      flex-wrap:wrap;\n",
              "      gap: 12px;\n",
              "    }\n",
              "\n",
              "    .colab-df-convert {\n",
              "      background-color: #E8F0FE;\n",
              "      border: none;\n",
              "      border-radius: 50%;\n",
              "      cursor: pointer;\n",
              "      display: none;\n",
              "      fill: #1967D2;\n",
              "      height: 32px;\n",
              "      padding: 0 0 0 0;\n",
              "      width: 32px;\n",
              "    }\n",
              "\n",
              "    .colab-df-convert:hover {\n",
              "      background-color: #E2EBFA;\n",
              "      box-shadow: 0px 1px 2px rgba(60, 64, 67, 0.3), 0px 1px 3px 1px rgba(60, 64, 67, 0.15);\n",
              "      fill: #174EA6;\n",
              "    }\n",
              "\n",
              "    [theme=dark] .colab-df-convert {\n",
              "      background-color: #3B4455;\n",
              "      fill: #D2E3FC;\n",
              "    }\n",
              "\n",
              "    [theme=dark] .colab-df-convert:hover {\n",
              "      background-color: #434B5C;\n",
              "      box-shadow: 0px 1px 3px 1px rgba(0, 0, 0, 0.15);\n",
              "      filter: drop-shadow(0px 1px 2px rgba(0, 0, 0, 0.3));\n",
              "      fill: #FFFFFF;\n",
              "    }\n",
              "  </style>\n",
              "\n",
              "      <script>\n",
              "        const buttonEl =\n",
              "          document.querySelector('#df-8df24f89-963b-4566-abf9-b7b44501b898 button.colab-df-convert');\n",
              "        buttonEl.style.display =\n",
              "          google.colab.kernel.accessAllowed ? 'block' : 'none';\n",
              "\n",
              "        async function convertToInteractive(key) {\n",
              "          const element = document.querySelector('#df-8df24f89-963b-4566-abf9-b7b44501b898');\n",
              "          const dataTable =\n",
              "            await google.colab.kernel.invokeFunction('convertToInteractive',\n",
              "                                                     [key], {});\n",
              "          if (!dataTable) return;\n",
              "\n",
              "          const docLinkHtml = 'Like what you see? Visit the ' +\n",
              "            '<a target=\"_blank\" href=https://colab.research.google.com/notebooks/data_table.ipynb>data table notebook</a>'\n",
              "            + ' to learn more about interactive tables.';\n",
              "          element.innerHTML = '';\n",
              "          dataTable['output_type'] = 'display_data';\n",
              "          await google.colab.output.renderOutput(dataTable, element);\n",
              "          const docLink = document.createElement('div');\n",
              "          docLink.innerHTML = docLinkHtml;\n",
              "          element.appendChild(docLink);\n",
              "        }\n",
              "      </script>\n",
              "    </div>\n",
              "  </div>\n",
              "  "
            ]
          },
          "metadata": {},
          "execution_count": 140
        }
      ]
    },
    {
      "cell_type": "code",
      "source": [
        "df_comp1 = df1[df1['failures_maint']== 'comp1'] #failures_maint별 정리\n",
        "df_comp2 = df1[df1['failures_maint']== 'comp2']\n",
        "df_comp3 = df1[df1['failures_maint']== 'comp3']\n",
        "df_comp4 = df1[df1['failures_maint']== 'comp4']\n",
        "df_com1 = df_comp1.set_index('datetime').reset_index()#숫자 재정렬\n",
        "df_com2 = df_comp2.set_index('datetime').reset_index()\n",
        "df_com3 = df_comp3.set_index('datetime').reset_index()\n",
        "df_com4 = df_comp4.set_index('datetime').reset_index()"
      ],
      "metadata": {
        "id": "CEV5Ir9rlkSr"
      },
      "execution_count": 141,
      "outputs": []
    },
    {
      "cell_type": "code",
      "source": [
        "#datetime 을 이용한 교체주기 확인\n",
        "fail_com = []\n",
        "n = 1\n",
        "for i in range(len(df_com1)-1):\n",
        "  if n != range(len(df_com1)):\n",
        "    str_datetime1 = df_com1[\"datetime\"][n]\n",
        "    str_datetime2 = df_com1[\"datetime\"][i]\n",
        "    currdate1 = datetime.strptime(str_datetime1, '%Y-%m-%d %H:%M:%S')\n",
        "    currdate2 = datetime.strptime(str_datetime2, '%Y-%m-%d %H:%M:%S')\n",
        "    new = currdate1- currdate2\n",
        "    fail_com.append(new.days)\n",
        "    n += 1\n",
        "  else:\n",
        "    break\n",
        "fail_com1 = []\n",
        "n1 = 1\n",
        "for i in range(len(df_com2)-1):\n",
        "  if n1 != range(len(df_com2)):\n",
        "    str_datetime1 = df_com2[\"datetime\"][n1]\n",
        "    str_datetime2 = df_com2[\"datetime\"][i]\n",
        "    currdate1 = datetime.strptime(str_datetime1, '%Y-%m-%d %H:%M:%S')\n",
        "    currdate2 = datetime.strptime(str_datetime2, '%Y-%m-%d %H:%M:%S')\n",
        "    new = currdate1- currdate2\n",
        "    fail_com1.append(new.days)\n",
        "    n1 += 1\n",
        "  else:\n",
        "    break\n",
        "fail_com2 = []\n",
        "n2 = 1\n",
        "for i in range(len(df_com3)-1):\n",
        "  if n2 != range(len(df_com3)):\n",
        "    str_datetime1 = df_com3[\"datetime\"][n2]\n",
        "    str_datetime2 = df_com3[\"datetime\"][i]\n",
        "    currdate1 = datetime.strptime(str_datetime1, '%Y-%m-%d %H:%M:%S')\n",
        "    currdate2 = datetime.strptime(str_datetime2, '%Y-%m-%d %H:%M:%S')\n",
        "    new = currdate1- currdate2\n",
        "    fail_com2.append(new.days)\n",
        "    n2 += 1\n",
        "  else:\n",
        "    break\n",
        "fail_com3 = []\n",
        "n3 = 1\n",
        "for i in range(len(df_com4)-1):\n",
        "  if n3 != range(len(df_com4)):\n",
        "    str_datetime1 = df_com4[\"datetime\"][n3]\n",
        "    str_datetime2 = df_com4[\"datetime\"][i]\n",
        "    currdate1 = datetime.strptime(str_datetime1, '%Y-%m-%d %H:%M:%S')\n",
        "    currdate2 = datetime.strptime(str_datetime2, '%Y-%m-%d %H:%M:%S')\n",
        "    new = currdate1- currdate2\n",
        "    fail_com3.append(new.days)\n",
        "    n3 += 1\n",
        "  else:\n",
        "    break"
      ],
      "metadata": {
        "id": "eSAQTB82lmaT"
      },
      "execution_count": 142,
      "outputs": []
    },
    {
      "cell_type": "code",
      "source": [
        "#리스트 안의 음수를 none으로 바꾸기 #def로 바꾸기\n",
        "fail_comp =[]\n",
        "for i in range(len(fail_com)):\n",
        "  if fail_com[i] > 0:\n",
        "    fail_comp.append(fail_com[i])\n",
        "  else:\n",
        "    fail_comp.append(None)\n",
        "fail_comp1 =[]\n",
        "for i in range(len(fail_com1)):\n",
        "  if fail_com1[i] > 0:\n",
        "    fail_comp1.append(fail_com1[i])\n",
        "  else:\n",
        "    fail_comp1.append(None)\n",
        "fail_comp2 =[]\n",
        "for i in range(len(fail_com2)):\n",
        "  if fail_com2[i] > 0:\n",
        "    fail_comp2.append(fail_com2[i])\n",
        "  else:\n",
        "    fail_comp2.append(None)\n",
        "fail_comp3 =[]\n",
        "for i in range(len(fail_com3)):\n",
        "  if fail_com3[i] > 0:\n",
        "    fail_comp3.append(fail_com3[i])\n",
        "  else:\n",
        "    fail_comp3.append(None)"
      ],
      "metadata": {
        "id": "nQYgGVqyloJr"
      },
      "execution_count": 143,
      "outputs": []
    },
    {
      "cell_type": "code",
      "source": [
        "#마지막 한 열은 다음 계산할것이 없으니 None값 하나를 추가해줘서 index개수 맞춰주기\n",
        "fail_comp.append(None)\n",
        "fail_comp1.append(None) \n",
        "fail_comp2.append(None) \n",
        "fail_comp3.append(None) "
      ],
      "metadata": {
        "id": "3e8QnhGyrPHt"
      },
      "execution_count": 144,
      "outputs": []
    },
    {
      "cell_type": "code",
      "source": [
        "#기존데이터에 dataframe으로 추가해주기\n",
        "df_com1['time_diff'] = fail_comp\n",
        "df_com2['time_diff'] = fail_comp1\n",
        "df_com3['time_diff'] = fail_comp2\n",
        "df_com4['time_diff'] = fail_comp3"
      ],
      "metadata": {
        "id": "arnhvxqPrRAz"
      },
      "execution_count": 145,
      "outputs": []
    },
    {
      "cell_type": "code",
      "source": [
        "#def 로 바꾸기\n",
        "li_co = []#한개씩가져오기\n",
        "li1_co = []#최소 한개 이상인 데이터 머신아이디 뽑아오기\n",
        "for i in range(len(df_com1)):\n",
        "  if df_com1['machineID'][i] not in li_co:\n",
        "    li_co.append(df_com1['machineID'][i])\n",
        "  else:\n",
        "    li1_co.append(df_com1['machineID'][i])\n",
        "li_co1 = []#한개씩가져오기\n",
        "li1_co1 = []#최소 한개 이상인 데이터 머신아이디 뽑아오기\n",
        "for i in range(len(df_com1)):\n",
        "  if df_com1['machineID'][i] not in li_co1:\n",
        "    li_co1.append(df_com1['machineID'][i])\n",
        "  else:\n",
        "    li1_co1.append(df_com1['machineID'][i])\n",
        "li_co2 = []#한개씩가져오기\n",
        "li1_co2 = []#최소 한개 이상인 데이터 머신아이디 뽑아오기\n",
        "for i in range(len(df_com1)):\n",
        "  if df_com1['machineID'][i] not in li_co2:\n",
        "    li_co2.append(df_com1['machineID'][i])\n",
        "  else:\n",
        "    li1_co2.append(df_com1['machineID'][i])\n",
        "li_co3 = []#한개씩가져오기\n",
        "li1_co3 = []#최소 한개 이상인 데이터 머신아이디 뽑아오기\n",
        "for i in range(len(df_com1)):\n",
        "  if df_com1['machineID'][i] not in li_co3:\n",
        "    li_co3.append(df_com1['machineID'][i])\n",
        "  else:\n",
        "    li1_co3.append(df_com1['machineID'][i])\n",
        "  "
      ],
      "metadata": {
        "id": "oy2fb3mrrSjT"
      },
      "execution_count": 146,
      "outputs": []
    },
    {
      "cell_type": "code",
      "source": [
        "#중복처리\n",
        "li1_co=set(li1_co)\n",
        "li1_co1=set(li1_co1)\n",
        "li1_co2=set(li1_co2)\n",
        "li1_co3=set(li1_co3)"
      ],
      "metadata": {
        "id": "7N_FbttIrUkk"
      },
      "execution_count": 147,
      "outputs": []
    },
    {
      "cell_type": "code",
      "source": [
        "#한개씩 있는 머신아이디 추출\n",
        "fail_c = []\n",
        "for i in range(len(li_co)):\n",
        "  if li_co[i] not in li1_co:\n",
        "    fail_c.append(li_co[i])\n",
        "  else:\n",
        "    pass\n",
        "fail_c1 = []\n",
        "for i in range(len(li_co1)):\n",
        "  if li_co1[i] not in li1_co1:\n",
        "    fail_c1.append(li_co1[i])\n",
        "  else:\n",
        "    pass\n",
        "fail_c2 = []\n",
        "for i in range(len(li_co2)):\n",
        "  if li_co2[i] not in li1_co2:\n",
        "    fail_c2.append(li_co2[i])\n",
        "  else:\n",
        "    pass\n",
        "fail_c3 = []\n",
        "for i in range(len(li_co3)):\n",
        "  if li_co3[i] not in li1_co3:\n",
        "    fail_c3.append(li_co3[i])\n",
        "  else:\n",
        "    pass"
      ],
      "metadata": {
        "id": "gAayZprdrWH7"
      },
      "execution_count": 148,
      "outputs": []
    },
    {
      "cell_type": "code",
      "source": [
        "#한개씩 있는 machineID의 time_diff를 nan값으로 처리\n",
        "for i in range(len(fail_c)):\n",
        "  df_com1.loc[df_com1['machineID']==fail_c[i],'time_diff'] = None\n",
        "for i in range(len(fail_c1)):\n",
        "  df_com2.loc[df_com2['machineID']==fail_c1[i],'time_diff'] = None\n",
        "for i in range(len(fail_c2)):\n",
        "  df_com3.loc[df_com3['machineID']==fail_c2[i],'time_diff'] = None\n",
        "for i in range(len(fail_c3)):\n",
        "  df_com4.loc[df_com4['machineID']==fail_c3[i],'time_diff'] = None"
      ],
      "metadata": {
        "id": "710rOPBbrXfL"
      },
      "execution_count": 149,
      "outputs": []
    },
    {
      "cell_type": "code",
      "source": [
        "ans1 = df_com1['time_diff'].mean().round(2)\n",
        "ans2 = df_com2['time_diff'].mean().round(2)\n",
        "ans3= df_com3['time_diff'].mean().round(2)\n",
        "ans4= df_com4['time_diff'].mean().round(2)\n",
        "print(f'고장난 컴포넌트 1의 평균 교체주기 (day)는 {ans1}일입니다,   컴포넌트 2의 평균 교체주기 (day)는 {ans2}일입니다,    컴포넌트 3의 평균 교체주기 (day)는 {ans3}일입니다,    컴포넌트 4의 평균 교체주기 (day)는 {ans4}일입니다')"
      ],
      "metadata": {
        "colab": {
          "base_uri": "https://localhost:8080/"
        },
        "id": "2W90Q1WQrYgE",
        "outputId": "63f8ad21-0225-476e-d416-c08214be95da"
      },
      "execution_count": 150,
      "outputs": [
        {
          "output_type": "stream",
          "name": "stdout",
          "text": [
            "고장난 컴포넌트 1의 평균 교체주기 (day)는 107.43일입니다,   컴포넌트 2의 평균 교체주기 (day)는 89.36일입니다,    컴포넌트 3의 평균 교체주기 (day)는 87.53일입니다,    컴포넌트 4의 평균 교체주기 (day)는 95.39일입니다\n"
          ]
        }
      ]
    },
    {
      "cell_type": "markdown",
      "source": [
        "#고장제외) 컴포넌트 교체 주기 $2"
      ],
      "metadata": {
        "id": "vMjip1ZYrq_j"
      }
    },
    {
      "cell_type": "code",
      "source": [
        "df_1 = pd.DataFrame(columns = {'failures_maint','machineID','datetime'})\n",
        "df_1 = df_1.reindex(columns = ['machineID','datetime','failures_maint'])\n",
        "df_1"
      ],
      "metadata": {
        "colab": {
          "base_uri": "https://localhost:8080/",
          "height": 49
        },
        "id": "Zo8l-eyzuc0P",
        "outputId": "a1475fbc-3f00-4a89-bd2e-1ee6857c20c1"
      },
      "execution_count": 293,
      "outputs": [
        {
          "output_type": "execute_result",
          "data": {
            "text/plain": [
              "Empty DataFrame\n",
              "Columns: [machineID, datetime, failures_maint]\n",
              "Index: []"
            ],
            "text/html": [
              "\n",
              "  <div id=\"df-93f43755-a8ad-4092-81ad-26ecfaf456a6\">\n",
              "    <div class=\"colab-df-container\">\n",
              "      <div>\n",
              "<style scoped>\n",
              "    .dataframe tbody tr th:only-of-type {\n",
              "        vertical-align: middle;\n",
              "    }\n",
              "\n",
              "    .dataframe tbody tr th {\n",
              "        vertical-align: top;\n",
              "    }\n",
              "\n",
              "    .dataframe thead th {\n",
              "        text-align: right;\n",
              "    }\n",
              "</style>\n",
              "<table border=\"1\" class=\"dataframe\">\n",
              "  <thead>\n",
              "    <tr style=\"text-align: right;\">\n",
              "      <th></th>\n",
              "      <th>machineID</th>\n",
              "      <th>datetime</th>\n",
              "      <th>failures_maint</th>\n",
              "    </tr>\n",
              "  </thead>\n",
              "  <tbody>\n",
              "  </tbody>\n",
              "</table>\n",
              "</div>\n",
              "      <button class=\"colab-df-convert\" onclick=\"convertToInteractive('df-93f43755-a8ad-4092-81ad-26ecfaf456a6')\"\n",
              "              title=\"Convert this dataframe to an interactive table.\"\n",
              "              style=\"display:none;\">\n",
              "        \n",
              "  <svg xmlns=\"http://www.w3.org/2000/svg\" height=\"24px\"viewBox=\"0 0 24 24\"\n",
              "       width=\"24px\">\n",
              "    <path d=\"M0 0h24v24H0V0z\" fill=\"none\"/>\n",
              "    <path d=\"M18.56 5.44l.94 2.06.94-2.06 2.06-.94-2.06-.94-.94-2.06-.94 2.06-2.06.94zm-11 1L8.5 8.5l.94-2.06 2.06-.94-2.06-.94L8.5 2.5l-.94 2.06-2.06.94zm10 10l.94 2.06.94-2.06 2.06-.94-2.06-.94-.94-2.06-.94 2.06-2.06.94z\"/><path d=\"M17.41 7.96l-1.37-1.37c-.4-.4-.92-.59-1.43-.59-.52 0-1.04.2-1.43.59L10.3 9.45l-7.72 7.72c-.78.78-.78 2.05 0 2.83L4 21.41c.39.39.9.59 1.41.59.51 0 1.02-.2 1.41-.59l7.78-7.78 2.81-2.81c.8-.78.8-2.07 0-2.86zM5.41 20L4 18.59l7.72-7.72 1.47 1.35L5.41 20z\"/>\n",
              "  </svg>\n",
              "      </button>\n",
              "      \n",
              "  <style>\n",
              "    .colab-df-container {\n",
              "      display:flex;\n",
              "      flex-wrap:wrap;\n",
              "      gap: 12px;\n",
              "    }\n",
              "\n",
              "    .colab-df-convert {\n",
              "      background-color: #E8F0FE;\n",
              "      border: none;\n",
              "      border-radius: 50%;\n",
              "      cursor: pointer;\n",
              "      display: none;\n",
              "      fill: #1967D2;\n",
              "      height: 32px;\n",
              "      padding: 0 0 0 0;\n",
              "      width: 32px;\n",
              "    }\n",
              "\n",
              "    .colab-df-convert:hover {\n",
              "      background-color: #E2EBFA;\n",
              "      box-shadow: 0px 1px 2px rgba(60, 64, 67, 0.3), 0px 1px 3px 1px rgba(60, 64, 67, 0.15);\n",
              "      fill: #174EA6;\n",
              "    }\n",
              "\n",
              "    [theme=dark] .colab-df-convert {\n",
              "      background-color: #3B4455;\n",
              "      fill: #D2E3FC;\n",
              "    }\n",
              "\n",
              "    [theme=dark] .colab-df-convert:hover {\n",
              "      background-color: #434B5C;\n",
              "      box-shadow: 0px 1px 3px 1px rgba(0, 0, 0, 0.15);\n",
              "      filter: drop-shadow(0px 1px 2px rgba(0, 0, 0, 0.3));\n",
              "      fill: #FFFFFF;\n",
              "    }\n",
              "  </style>\n",
              "\n",
              "      <script>\n",
              "        const buttonEl =\n",
              "          document.querySelector('#df-93f43755-a8ad-4092-81ad-26ecfaf456a6 button.colab-df-convert');\n",
              "        buttonEl.style.display =\n",
              "          google.colab.kernel.accessAllowed ? 'block' : 'none';\n",
              "\n",
              "        async function convertToInteractive(key) {\n",
              "          const element = document.querySelector('#df-93f43755-a8ad-4092-81ad-26ecfaf456a6');\n",
              "          const dataTable =\n",
              "            await google.colab.kernel.invokeFunction('convertToInteractive',\n",
              "                                                     [key], {});\n",
              "          if (!dataTable) return;\n",
              "\n",
              "          const docLinkHtml = 'Like what you see? Visit the ' +\n",
              "            '<a target=\"_blank\" href=https://colab.research.google.com/notebooks/data_table.ipynb>data table notebook</a>'\n",
              "            + ' to learn more about interactive tables.';\n",
              "          element.innerHTML = '';\n",
              "          dataTable['output_type'] = 'display_data';\n",
              "          await google.colab.output.renderOutput(dataTable, element);\n",
              "          const docLink = document.createElement('div');\n",
              "          docLink.innerHTML = docLinkHtml;\n",
              "          element.appendChild(docLink);\n",
              "        }\n",
              "      </script>\n",
              "    </div>\n",
              "  </div>\n",
              "  "
            ]
          },
          "metadata": {},
          "execution_count": 293
        }
      ]
    },
    {
      "cell_type": "code",
      "source": [
        "def find_diff(x,y): #x = comp1_n, y = df_com1\n",
        "  list_test = [] #고장난 데이터\n",
        "  list_test_positive = [] #고장 안난데이터\n",
        "  list_id = []\n",
        "  list_id_positive = []\n",
        "  n = 0\n",
        "  for i in range(len(x)):\n",
        "    if x['datetime'][i] == y['datetime'][n]: #겹치는애들 = 고장난애들\n",
        "      list_test.append(x['datetime'][i])\n",
        "      list_id.append(x['machineID'][i])\n",
        "      n+=1\n",
        "    else:\n",
        "      #겹치지 않는애들 = 고장안난애들\n",
        "      list_test_positive.append(x['datetime'][i])\n",
        "      list_id_positive.append(x['machineID'][i])\n",
        "  return"
      ],
      "metadata": {
        "id": "ChD8Q_CI2mT1"
      },
      "execution_count": 294,
      "outputs": []
    },
    {
      "cell_type": "code",
      "source": [
        "find_diff(comp3_n,df_com3)"
      ],
      "metadata": {
        "id": "gWLs5lBZ3Kv1"
      },
      "execution_count": 295,
      "outputs": []
    },
    {
      "cell_type": "code",
      "source": [
        "#전체 교체주기 - 고장 교체주기 = 일반 교체주기\n",
        "list_test_positive = [] #고장 안난데이터\n",
        "list_id_positive = []\n",
        "n = 0\n",
        "for i in range(len(comp1_n)):\n",
        "  if comp1_n['datetime'][i] == df_com1['datetime'][n]: #겹치는애들 = 고장난애들\n",
        "    n+=1\n",
        "  else:\n",
        "    #겹치지 않는애들 = 고장안난애들\n",
        "    list_test_positive.append(comp1_n['datetime'][i])\n",
        "    list_id_positive.append(comp1_n['machineID'][i])\n",
        "\n",
        "list_test_positive2 = [] #고장 안난데이터\n",
        "list_id_positive2 = []\n",
        "n1 = 0\n",
        "for i in range(len(comp2_n)):\n",
        "  if comp2_n['datetime'][i] == df_com2['datetime'][n1]: #겹치는애들 = 고장난애들\n",
        "    n1+=1\n",
        "  else:\n",
        "    #겹치지 않는애들 = 고장안난애들\n",
        "    list_test_positive2.append(comp2_n['datetime'][i])\n",
        "    list_id_positive2.append(comp2_n['machineID'][i])\n",
        "\n",
        "list_test_positive3 = [] #고장 안난데이터\n",
        "list_id_positive3 = []\n",
        "n2 = 0\n",
        "\n",
        "for i in range(len(comp3_n)):\n",
        "  if comp3_n['datetime'][i] == df_com3['datetime'][n2]: #겹치는애들 = 고장난애들\n",
        "    n2+=1\n",
        "  else:\n",
        "    #겹치지 않는애들 = 고장안난애들\n",
        "    list_test_positive3.append(comp3_n['datetime'][i])\n",
        "    list_id_positive3.append(comp3_n['machineID'][i])\n",
        "\n",
        "\n",
        "list_test_positive4 = [] #고장 안난데이터\n",
        "list_id_positive4 = []\n",
        "n3 = 0\n",
        "for i in range(len(comp4_n)):\n",
        "  if comp4_n['datetime'][i] == df_com4['datetime'][n3]: #겹치는애들 = 고장난애들\n",
        "    n3+=1\n",
        "  else:\n",
        "    #겹치지 않는애들 = 고장안난애들\n",
        "    list_test_positive4.append(comp4_n['datetime'][i])\n",
        "    list_id_positive4.append(comp4_n['machineID'][i])"
      ],
      "metadata": {
        "id": "KFapCEhiuoh8"
      },
      "execution_count": 296,
      "outputs": []
    },
    {
      "cell_type": "code",
      "source": [
        "df_test= pd.DataFrame(data=list(zip(list_test_positive,list_id_positive)),columns = ['datetime','machineID'])\n",
        "df_test1= pd.DataFrame(data=list(zip(list_test_positive2,list_id_positive2)),columns = ['datetime','machineID'])\n",
        "df_test2= pd.DataFrame(data=list(zip(list_test_positive3,list_id_positive3)),columns = ['datetime','machineID'])\n",
        "df_test3= pd.DataFrame(data=list(zip(list_test_positive4,list_id_positive4)),columns = ['datetime','machineID'])"
      ],
      "metadata": {
        "id": "hGfOOKMmyVhL"
      },
      "execution_count": 297,
      "outputs": []
    },
    {
      "cell_type": "code",
      "source": [
        "df_test['comp1'] = 'comp1'\n",
        "df_test1['comp2'] = 'comp2'\n",
        "df_test2['comp3'] = 'comp3'\n",
        "df_test3['comp4'] = 'comp4'"
      ],
      "metadata": {
        "id": "cBqOKVKb0CXM"
      },
      "execution_count": 298,
      "outputs": []
    },
    {
      "cell_type": "code",
      "source": [
        "df_test"
      ],
      "metadata": {
        "colab": {
          "base_uri": "https://localhost:8080/",
          "height": 424
        },
        "id": "G6XXw0aY2WBj",
        "outputId": "bdf2b93f-3714-4c3b-eb79-0ef54be9e631"
      },
      "execution_count": 299,
      "outputs": [
        {
          "output_type": "execute_result",
          "data": {
            "text/plain": [
              "                datetime  machineID  comp1\n",
              "0    2014-12-13 06:00:00          1  comp1\n",
              "1    2015-01-05 06:00:00          1  comp1\n",
              "2    2015-01-20 06:00:00          1  comp1\n",
              "3    2015-03-21 06:00:00          1  comp1\n",
              "4    2015-06-19 06:00:00          1  comp1\n",
              "..                   ...        ...    ...\n",
              "282  2015-06-08 06:00:00         97  comp1\n",
              "283  2015-07-23 06:00:00         97  comp1\n",
              "284  2015-10-21 06:00:00         97  comp1\n",
              "285  2015-03-14 06:00:00        100  comp1\n",
              "286  2015-09-25 06:00:00        100  comp1\n",
              "\n",
              "[287 rows x 3 columns]"
            ],
            "text/html": [
              "\n",
              "  <div id=\"df-5b34ecdc-aac1-495e-85ca-b1cbc6b23de2\">\n",
              "    <div class=\"colab-df-container\">\n",
              "      <div>\n",
              "<style scoped>\n",
              "    .dataframe tbody tr th:only-of-type {\n",
              "        vertical-align: middle;\n",
              "    }\n",
              "\n",
              "    .dataframe tbody tr th {\n",
              "        vertical-align: top;\n",
              "    }\n",
              "\n",
              "    .dataframe thead th {\n",
              "        text-align: right;\n",
              "    }\n",
              "</style>\n",
              "<table border=\"1\" class=\"dataframe\">\n",
              "  <thead>\n",
              "    <tr style=\"text-align: right;\">\n",
              "      <th></th>\n",
              "      <th>datetime</th>\n",
              "      <th>machineID</th>\n",
              "      <th>comp1</th>\n",
              "    </tr>\n",
              "  </thead>\n",
              "  <tbody>\n",
              "    <tr>\n",
              "      <th>0</th>\n",
              "      <td>2014-12-13 06:00:00</td>\n",
              "      <td>1</td>\n",
              "      <td>comp1</td>\n",
              "    </tr>\n",
              "    <tr>\n",
              "      <th>1</th>\n",
              "      <td>2015-01-05 06:00:00</td>\n",
              "      <td>1</td>\n",
              "      <td>comp1</td>\n",
              "    </tr>\n",
              "    <tr>\n",
              "      <th>2</th>\n",
              "      <td>2015-01-20 06:00:00</td>\n",
              "      <td>1</td>\n",
              "      <td>comp1</td>\n",
              "    </tr>\n",
              "    <tr>\n",
              "      <th>3</th>\n",
              "      <td>2015-03-21 06:00:00</td>\n",
              "      <td>1</td>\n",
              "      <td>comp1</td>\n",
              "    </tr>\n",
              "    <tr>\n",
              "      <th>4</th>\n",
              "      <td>2015-06-19 06:00:00</td>\n",
              "      <td>1</td>\n",
              "      <td>comp1</td>\n",
              "    </tr>\n",
              "    <tr>\n",
              "      <th>...</th>\n",
              "      <td>...</td>\n",
              "      <td>...</td>\n",
              "      <td>...</td>\n",
              "    </tr>\n",
              "    <tr>\n",
              "      <th>282</th>\n",
              "      <td>2015-06-08 06:00:00</td>\n",
              "      <td>97</td>\n",
              "      <td>comp1</td>\n",
              "    </tr>\n",
              "    <tr>\n",
              "      <th>283</th>\n",
              "      <td>2015-07-23 06:00:00</td>\n",
              "      <td>97</td>\n",
              "      <td>comp1</td>\n",
              "    </tr>\n",
              "    <tr>\n",
              "      <th>284</th>\n",
              "      <td>2015-10-21 06:00:00</td>\n",
              "      <td>97</td>\n",
              "      <td>comp1</td>\n",
              "    </tr>\n",
              "    <tr>\n",
              "      <th>285</th>\n",
              "      <td>2015-03-14 06:00:00</td>\n",
              "      <td>100</td>\n",
              "      <td>comp1</td>\n",
              "    </tr>\n",
              "    <tr>\n",
              "      <th>286</th>\n",
              "      <td>2015-09-25 06:00:00</td>\n",
              "      <td>100</td>\n",
              "      <td>comp1</td>\n",
              "    </tr>\n",
              "  </tbody>\n",
              "</table>\n",
              "<p>287 rows × 3 columns</p>\n",
              "</div>\n",
              "      <button class=\"colab-df-convert\" onclick=\"convertToInteractive('df-5b34ecdc-aac1-495e-85ca-b1cbc6b23de2')\"\n",
              "              title=\"Convert this dataframe to an interactive table.\"\n",
              "              style=\"display:none;\">\n",
              "        \n",
              "  <svg xmlns=\"http://www.w3.org/2000/svg\" height=\"24px\"viewBox=\"0 0 24 24\"\n",
              "       width=\"24px\">\n",
              "    <path d=\"M0 0h24v24H0V0z\" fill=\"none\"/>\n",
              "    <path d=\"M18.56 5.44l.94 2.06.94-2.06 2.06-.94-2.06-.94-.94-2.06-.94 2.06-2.06.94zm-11 1L8.5 8.5l.94-2.06 2.06-.94-2.06-.94L8.5 2.5l-.94 2.06-2.06.94zm10 10l.94 2.06.94-2.06 2.06-.94-2.06-.94-.94-2.06-.94 2.06-2.06.94z\"/><path d=\"M17.41 7.96l-1.37-1.37c-.4-.4-.92-.59-1.43-.59-.52 0-1.04.2-1.43.59L10.3 9.45l-7.72 7.72c-.78.78-.78 2.05 0 2.83L4 21.41c.39.39.9.59 1.41.59.51 0 1.02-.2 1.41-.59l7.78-7.78 2.81-2.81c.8-.78.8-2.07 0-2.86zM5.41 20L4 18.59l7.72-7.72 1.47 1.35L5.41 20z\"/>\n",
              "  </svg>\n",
              "      </button>\n",
              "      \n",
              "  <style>\n",
              "    .colab-df-container {\n",
              "      display:flex;\n",
              "      flex-wrap:wrap;\n",
              "      gap: 12px;\n",
              "    }\n",
              "\n",
              "    .colab-df-convert {\n",
              "      background-color: #E8F0FE;\n",
              "      border: none;\n",
              "      border-radius: 50%;\n",
              "      cursor: pointer;\n",
              "      display: none;\n",
              "      fill: #1967D2;\n",
              "      height: 32px;\n",
              "      padding: 0 0 0 0;\n",
              "      width: 32px;\n",
              "    }\n",
              "\n",
              "    .colab-df-convert:hover {\n",
              "      background-color: #E2EBFA;\n",
              "      box-shadow: 0px 1px 2px rgba(60, 64, 67, 0.3), 0px 1px 3px 1px rgba(60, 64, 67, 0.15);\n",
              "      fill: #174EA6;\n",
              "    }\n",
              "\n",
              "    [theme=dark] .colab-df-convert {\n",
              "      background-color: #3B4455;\n",
              "      fill: #D2E3FC;\n",
              "    }\n",
              "\n",
              "    [theme=dark] .colab-df-convert:hover {\n",
              "      background-color: #434B5C;\n",
              "      box-shadow: 0px 1px 3px 1px rgba(0, 0, 0, 0.15);\n",
              "      filter: drop-shadow(0px 1px 2px rgba(0, 0, 0, 0.3));\n",
              "      fill: #FFFFFF;\n",
              "    }\n",
              "  </style>\n",
              "\n",
              "      <script>\n",
              "        const buttonEl =\n",
              "          document.querySelector('#df-5b34ecdc-aac1-495e-85ca-b1cbc6b23de2 button.colab-df-convert');\n",
              "        buttonEl.style.display =\n",
              "          google.colab.kernel.accessAllowed ? 'block' : 'none';\n",
              "\n",
              "        async function convertToInteractive(key) {\n",
              "          const element = document.querySelector('#df-5b34ecdc-aac1-495e-85ca-b1cbc6b23de2');\n",
              "          const dataTable =\n",
              "            await google.colab.kernel.invokeFunction('convertToInteractive',\n",
              "                                                     [key], {});\n",
              "          if (!dataTable) return;\n",
              "\n",
              "          const docLinkHtml = 'Like what you see? Visit the ' +\n",
              "            '<a target=\"_blank\" href=https://colab.research.google.com/notebooks/data_table.ipynb>data table notebook</a>'\n",
              "            + ' to learn more about interactive tables.';\n",
              "          element.innerHTML = '';\n",
              "          dataTable['output_type'] = 'display_data';\n",
              "          await google.colab.output.renderOutput(dataTable, element);\n",
              "          const docLink = document.createElement('div');\n",
              "          docLink.innerHTML = docLinkHtml;\n",
              "          element.appendChild(docLink);\n",
              "        }\n",
              "      </script>\n",
              "    </div>\n",
              "  </div>\n",
              "  "
            ]
          },
          "metadata": {},
          "execution_count": 299
        }
      ]
    },
    {
      "cell_type": "code",
      "source": [
        "#datetime 을 이용한 교체주기 확인\n",
        "comp1_re = []\n",
        "n = 1\n",
        "for i in range(len(df_test)-1):\n",
        "  if n != range(len(df_test)):\n",
        "    str_datetime1 = df_test[\"datetime\"][n]\n",
        "    str_datetime2 = df_test[\"datetime\"][i]\n",
        "    currdate1 = datetime.strptime(str_datetime1, '%Y-%m-%d %H:%M:%S')\n",
        "    currdate2 = datetime.strptime(str_datetime2, '%Y-%m-%d %H:%M:%S')\n",
        "    new = currdate1- currdate2\n",
        "    comp1_re.append(new.days)\n",
        "    n += 1\n",
        "  else:\n",
        "    break\n",
        "comp1_re1 = []\n",
        "n = 1\n",
        "for i in range(len(df_test1)-1):\n",
        "  if n != range(len(df_test1)):\n",
        "    str_datetime1 = df_test1[\"datetime\"][n]\n",
        "    str_datetime2 = df_test1[\"datetime\"][i]\n",
        "    currdate1 = datetime.strptime(str_datetime1, '%Y-%m-%d %H:%M:%S')\n",
        "    currdate2 = datetime.strptime(str_datetime2, '%Y-%m-%d %H:%M:%S')\n",
        "    new = currdate1- currdate2\n",
        "    comp1_re1.append(new.days)\n",
        "    n += 1\n",
        "  else:\n",
        "    break\n",
        "comp1_re2 = []\n",
        "n = 1\n",
        "for i in range(len(df_test2)-1):\n",
        "  if n != range(len(df_test2)):\n",
        "    str_datetime1 = df_test2[\"datetime\"][n]\n",
        "    str_datetime2 = df_test2[\"datetime\"][i]\n",
        "    currdate1 = datetime.strptime(str_datetime1, '%Y-%m-%d %H:%M:%S')\n",
        "    currdate2 = datetime.strptime(str_datetime2, '%Y-%m-%d %H:%M:%S')\n",
        "    new = currdate1- currdate2\n",
        "    comp1_re2.append(new.days)\n",
        "    n += 1\n",
        "  else:\n",
        "    break\n",
        "comp1_re3 = []\n",
        "n = 1\n",
        "for i in range(len(df_test3)-1):\n",
        "  if n != range(len(df_test3)):\n",
        "    str_datetime1 = df_test3[\"datetime\"][n]\n",
        "    str_datetime2 = df_test3[\"datetime\"][i]\n",
        "    currdate1 = datetime.strptime(str_datetime1, '%Y-%m-%d %H:%M:%S')\n",
        "    currdate2 = datetime.strptime(str_datetime2, '%Y-%m-%d %H:%M:%S')\n",
        "    new = currdate1- currdate2\n",
        "    comp1_re3.append(new.days)\n",
        "    n += 1\n",
        "  else:\n",
        "    break"
      ],
      "metadata": {
        "id": "9PCIJXx46Pid"
      },
      "execution_count": 300,
      "outputs": []
    },
    {
      "cell_type": "code",
      "source": [
        "# 각 데이터 별 개수\n",
        "len(comp1_re),len(comp1_re1),len(comp1_re2),len(comp1_re3)"
      ],
      "metadata": {
        "colab": {
          "base_uri": "https://localhost:8080/"
        },
        "id": "JDlwoUoJ6gDO",
        "outputId": "53aa34cf-7f84-4412-d25a-21b30a4990a2"
      },
      "execution_count": 301,
      "outputs": [
        {
          "output_type": "execute_result",
          "data": {
            "text/plain": [
              "(286, 300, 301, 307)"
            ]
          },
          "metadata": {},
          "execution_count": 301
        }
      ]
    },
    {
      "cell_type": "code",
      "source": [
        "#리스트 안의 음수를 none으로 바꾸기 #def로 바꾸기\n",
        "comp1_a1 =[]\n",
        "for i in range(len(comp1_re)):\n",
        "  if comp1_re[i] > 0:\n",
        "    comp1_a1.append(comp1_re[i])\n",
        "  else:\n",
        "    comp1_a1.append(None)\n",
        "comp1_a2 =[]\n",
        "for i in range(len(comp1_re1)):\n",
        "  if comp1_re1[i] > 0:\n",
        "    comp1_a2.append(comp1_re1[i])\n",
        "  else:\n",
        "    comp1_a2.append(None)\n",
        "comp1_a3 =[]\n",
        "for i in range(len(comp1_re2)):\n",
        "  if comp1_re2[i] > 0:\n",
        "    comp1_a3.append(comp1_re2[i])\n",
        "  else:\n",
        "    comp1_a3.append(None)\n",
        "comp1_a4 =[]\n",
        "for i in range(len(comp1_re3)):\n",
        "  if comp1_re3[i] > 0:\n",
        "    comp1_a4.append(comp1_re3[i])\n",
        "  else:\n",
        "    comp1_a4.append(None)\n"
      ],
      "metadata": {
        "id": "Fg9_HVwo7WmF"
      },
      "execution_count": 302,
      "outputs": []
    },
    {
      "cell_type": "code",
      "source": [
        "#마지막 한 열은 다음 계산할것이 없으니 None값 하나를 추가해줘서 index개수 맞춰주기\n",
        "comp1_a1.append(None) \n",
        "comp1_a2.append(None) \n",
        "comp1_a3.append(None) \n",
        "comp1_a4.append(None) "
      ],
      "metadata": {
        "id": "8n-K7n3s9hL9"
      },
      "execution_count": 303,
      "outputs": []
    },
    {
      "cell_type": "code",
      "source": [
        "#기존데이터에 dataframe으로 추가해주기\n",
        "df_test['time_diff'] = comp1_a1\n",
        "df_test1['time_diff'] = comp1_a2\n",
        "df_test2['time_diff'] = comp1_a3\n",
        "df_test3['time_diff'] = comp1_a4"
      ],
      "metadata": {
        "id": "VEXHt0xQ9h99"
      },
      "execution_count": 304,
      "outputs": []
    },
    {
      "cell_type": "code",
      "source": [],
      "metadata": {
        "id": "M1bVcSNB_Pc-"
      },
      "execution_count": 304,
      "outputs": []
    },
    {
      "cell_type": "code",
      "source": [
        "#def 로 바꾸기\n",
        "li = []#한개씩가져오기\n",
        "li1 = []#최소 한개 이상인 데이터 머신아이디 뽑아오기\n",
        "for i in range(len(df_test)):\n",
        "  if df_test['machineID'][i] not in li:\n",
        "    li.append(df_test['machineID'][i])\n",
        "  else:\n",
        "    li1.append(df_test['machineID'][i])\n",
        "\n",
        "\n",
        "li2 = []#한개씩가져오기\n",
        "li3 = []#최소 한개 이상인 데이터 머신아이디 뽑아오기\n",
        "for i in range(len(df_test1)):\n",
        "  if df_test1['machineID'][i] not in li2:\n",
        "    li2.append(df_test1['machineID'][i])\n",
        "  else:\n",
        "    li3.append(df_test1['machineID'][i])\n",
        "\n",
        "\n",
        "li4 = []#한개씩가져오기\n",
        "li5 = []#최소 한개 이상인 데이터 머신아이디 뽑아오기\n",
        "for i in range(len(df_test2)):\n",
        "  if df_test2['machineID'][i] not in li4:\n",
        "    li4.append(df_test2['machineID'][i])\n",
        "  else:\n",
        "    li5.append(df_test2['machineID'][i])\n",
        "\n",
        "\n",
        "li6 = []#한개씩가져오기\n",
        "li7 = []#최소 한개 이상인 데이터 머신아이디 뽑아오기\n",
        "for i in range(len(df_test3)):\n",
        "  if df_test3['machineID'][i] not in li6:\n",
        "    li6.append(df_test3['machineID'][i])\n",
        "  else:\n",
        "    li7.append(df_test3['machineID'][i])"
      ],
      "metadata": {
        "id": "tlr79pfa94Yu"
      },
      "execution_count": 305,
      "outputs": []
    },
    {
      "cell_type": "code",
      "source": [
        "#중복처리\n",
        "li1=set(li1)\n",
        "li3=set(li3)\n",
        "li5=set(li5)\n",
        "li7=set(li7)"
      ],
      "metadata": {
        "id": "C-FHmC8Q-cTd"
      },
      "execution_count": 306,
      "outputs": []
    },
    {
      "cell_type": "code",
      "source": [
        "#한개씩 있는 머신아이디 추출\n",
        "nli1 = []\n",
        "for i in range(len(li)):\n",
        "  if li[i] not in li1:\n",
        "    nli1.append(li[i])\n",
        "  else:\n",
        "    pass\n",
        "\n",
        "nli2 = []\n",
        "for i in range(len(li2)):\n",
        "  if li2[i] not in li3:\n",
        "    nli2.append(li2[i])\n",
        "  else:\n",
        "    pass\n",
        "\n",
        "nli3 = []\n",
        "for i in range(len(li4)):\n",
        "  if li4[i] not in li5:\n",
        "    nli3.append(li4[i])\n",
        "  else:\n",
        "    pass\n",
        "\n",
        "nli4 = []\n",
        "for i in range(len(li6)):\n",
        "  if li6[i] not in li7:\n",
        "    nli4.append(li6[i])\n",
        "  else:\n",
        "    pass"
      ],
      "metadata": {
        "id": "c2VoyE14-eul"
      },
      "execution_count": 307,
      "outputs": []
    },
    {
      "cell_type": "code",
      "source": [
        " #한개씩 있는 머신아이디 추출\n",
        "nli1\n",
        "nli2\n",
        "nli3\n",
        "nli4"
      ],
      "metadata": {
        "colab": {
          "base_uri": "https://localhost:8080/"
        },
        "id": "CrzCaC93-ndh",
        "outputId": "4005c874-8c97-4326-e8e0-531710b34ae7"
      },
      "execution_count": 308,
      "outputs": [
        {
          "output_type": "execute_result",
          "data": {
            "text/plain": [
              "[15, 34, 43, 51, 52, 60, 76, 80, 82, 86, 88, 90, 94, 97, 100]"
            ]
          },
          "metadata": {},
          "execution_count": 308
        }
      ]
    },
    {
      "cell_type": "code",
      "source": [
        "#nli를 이용하여 한개씩 있는 machineID의 time_diff를 nan값으로 처리\n",
        "for i in range(len(nli1)):\n",
        "  df_test.loc[df_test['machineID']==nli1[i],'time_diff'] = None\n",
        "for i in range(len(nli2)):\n",
        "  df_test1.loc[df_test1['machineID']==nli2[i],'time_diff'] = None\n",
        "for i in range(len(nli3)):\n",
        "  df_test2.loc[df_test2['machineID']==nli3[i],'time_diff'] = None\n",
        "for i in range(len(nli4)):\n",
        "  df_test3.loc[df_test3['machineID']==nli4[i],'time_diff'] = None"
      ],
      "metadata": {
        "id": "TqduiWca-trK"
      },
      "execution_count": 309,
      "outputs": []
    },
    {
      "cell_type": "code",
      "source": [
        "#데이터 개수 확인\n",
        "len(df_test),len(df_test1),len(df_test2),len(df_test3)"
      ],
      "metadata": {
        "colab": {
          "base_uri": "https://localhost:8080/"
        },
        "id": "sTPbawbJ_Eyd",
        "outputId": "8c814f66-05fa-4120-f23b-4b95c42bddb4"
      },
      "execution_count": 310,
      "outputs": [
        {
          "output_type": "execute_result",
          "data": {
            "text/plain": [
              "(287, 301, 302, 308)"
            ]
          },
          "metadata": {},
          "execution_count": 310
        }
      ]
    },
    {
      "cell_type": "code",
      "source": [
        "df_test"
      ],
      "metadata": {
        "colab": {
          "base_uri": "https://localhost:8080/",
          "height": 424
        },
        "id": "NaXkwXQjADwl",
        "outputId": "f1a5120f-6db5-4946-c6b5-9ce3dc455ae0"
      },
      "execution_count": 311,
      "outputs": [
        {
          "output_type": "execute_result",
          "data": {
            "text/plain": [
              "                datetime  machineID  comp1  time_diff\n",
              "0    2014-12-13 06:00:00          1  comp1       23.0\n",
              "1    2015-01-05 06:00:00          1  comp1       15.0\n",
              "2    2015-01-20 06:00:00          1  comp1       60.0\n",
              "3    2015-03-21 06:00:00          1  comp1       90.0\n",
              "4    2015-06-19 06:00:00          1  comp1       30.0\n",
              "..                   ...        ...    ...        ...\n",
              "282  2015-06-08 06:00:00         97  comp1       45.0\n",
              "283  2015-07-23 06:00:00         97  comp1       90.0\n",
              "284  2015-10-21 06:00:00         97  comp1        NaN\n",
              "285  2015-03-14 06:00:00        100  comp1      195.0\n",
              "286  2015-09-25 06:00:00        100  comp1        NaN\n",
              "\n",
              "[287 rows x 4 columns]"
            ],
            "text/html": [
              "\n",
              "  <div id=\"df-312267e5-ad07-4df7-baba-d5ab743c629c\">\n",
              "    <div class=\"colab-df-container\">\n",
              "      <div>\n",
              "<style scoped>\n",
              "    .dataframe tbody tr th:only-of-type {\n",
              "        vertical-align: middle;\n",
              "    }\n",
              "\n",
              "    .dataframe tbody tr th {\n",
              "        vertical-align: top;\n",
              "    }\n",
              "\n",
              "    .dataframe thead th {\n",
              "        text-align: right;\n",
              "    }\n",
              "</style>\n",
              "<table border=\"1\" class=\"dataframe\">\n",
              "  <thead>\n",
              "    <tr style=\"text-align: right;\">\n",
              "      <th></th>\n",
              "      <th>datetime</th>\n",
              "      <th>machineID</th>\n",
              "      <th>comp1</th>\n",
              "      <th>time_diff</th>\n",
              "    </tr>\n",
              "  </thead>\n",
              "  <tbody>\n",
              "    <tr>\n",
              "      <th>0</th>\n",
              "      <td>2014-12-13 06:00:00</td>\n",
              "      <td>1</td>\n",
              "      <td>comp1</td>\n",
              "      <td>23.0</td>\n",
              "    </tr>\n",
              "    <tr>\n",
              "      <th>1</th>\n",
              "      <td>2015-01-05 06:00:00</td>\n",
              "      <td>1</td>\n",
              "      <td>comp1</td>\n",
              "      <td>15.0</td>\n",
              "    </tr>\n",
              "    <tr>\n",
              "      <th>2</th>\n",
              "      <td>2015-01-20 06:00:00</td>\n",
              "      <td>1</td>\n",
              "      <td>comp1</td>\n",
              "      <td>60.0</td>\n",
              "    </tr>\n",
              "    <tr>\n",
              "      <th>3</th>\n",
              "      <td>2015-03-21 06:00:00</td>\n",
              "      <td>1</td>\n",
              "      <td>comp1</td>\n",
              "      <td>90.0</td>\n",
              "    </tr>\n",
              "    <tr>\n",
              "      <th>4</th>\n",
              "      <td>2015-06-19 06:00:00</td>\n",
              "      <td>1</td>\n",
              "      <td>comp1</td>\n",
              "      <td>30.0</td>\n",
              "    </tr>\n",
              "    <tr>\n",
              "      <th>...</th>\n",
              "      <td>...</td>\n",
              "      <td>...</td>\n",
              "      <td>...</td>\n",
              "      <td>...</td>\n",
              "    </tr>\n",
              "    <tr>\n",
              "      <th>282</th>\n",
              "      <td>2015-06-08 06:00:00</td>\n",
              "      <td>97</td>\n",
              "      <td>comp1</td>\n",
              "      <td>45.0</td>\n",
              "    </tr>\n",
              "    <tr>\n",
              "      <th>283</th>\n",
              "      <td>2015-07-23 06:00:00</td>\n",
              "      <td>97</td>\n",
              "      <td>comp1</td>\n",
              "      <td>90.0</td>\n",
              "    </tr>\n",
              "    <tr>\n",
              "      <th>284</th>\n",
              "      <td>2015-10-21 06:00:00</td>\n",
              "      <td>97</td>\n",
              "      <td>comp1</td>\n",
              "      <td>NaN</td>\n",
              "    </tr>\n",
              "    <tr>\n",
              "      <th>285</th>\n",
              "      <td>2015-03-14 06:00:00</td>\n",
              "      <td>100</td>\n",
              "      <td>comp1</td>\n",
              "      <td>195.0</td>\n",
              "    </tr>\n",
              "    <tr>\n",
              "      <th>286</th>\n",
              "      <td>2015-09-25 06:00:00</td>\n",
              "      <td>100</td>\n",
              "      <td>comp1</td>\n",
              "      <td>NaN</td>\n",
              "    </tr>\n",
              "  </tbody>\n",
              "</table>\n",
              "<p>287 rows × 4 columns</p>\n",
              "</div>\n",
              "      <button class=\"colab-df-convert\" onclick=\"convertToInteractive('df-312267e5-ad07-4df7-baba-d5ab743c629c')\"\n",
              "              title=\"Convert this dataframe to an interactive table.\"\n",
              "              style=\"display:none;\">\n",
              "        \n",
              "  <svg xmlns=\"http://www.w3.org/2000/svg\" height=\"24px\"viewBox=\"0 0 24 24\"\n",
              "       width=\"24px\">\n",
              "    <path d=\"M0 0h24v24H0V0z\" fill=\"none\"/>\n",
              "    <path d=\"M18.56 5.44l.94 2.06.94-2.06 2.06-.94-2.06-.94-.94-2.06-.94 2.06-2.06.94zm-11 1L8.5 8.5l.94-2.06 2.06-.94-2.06-.94L8.5 2.5l-.94 2.06-2.06.94zm10 10l.94 2.06.94-2.06 2.06-.94-2.06-.94-.94-2.06-.94 2.06-2.06.94z\"/><path d=\"M17.41 7.96l-1.37-1.37c-.4-.4-.92-.59-1.43-.59-.52 0-1.04.2-1.43.59L10.3 9.45l-7.72 7.72c-.78.78-.78 2.05 0 2.83L4 21.41c.39.39.9.59 1.41.59.51 0 1.02-.2 1.41-.59l7.78-7.78 2.81-2.81c.8-.78.8-2.07 0-2.86zM5.41 20L4 18.59l7.72-7.72 1.47 1.35L5.41 20z\"/>\n",
              "  </svg>\n",
              "      </button>\n",
              "      \n",
              "  <style>\n",
              "    .colab-df-container {\n",
              "      display:flex;\n",
              "      flex-wrap:wrap;\n",
              "      gap: 12px;\n",
              "    }\n",
              "\n",
              "    .colab-df-convert {\n",
              "      background-color: #E8F0FE;\n",
              "      border: none;\n",
              "      border-radius: 50%;\n",
              "      cursor: pointer;\n",
              "      display: none;\n",
              "      fill: #1967D2;\n",
              "      height: 32px;\n",
              "      padding: 0 0 0 0;\n",
              "      width: 32px;\n",
              "    }\n",
              "\n",
              "    .colab-df-convert:hover {\n",
              "      background-color: #E2EBFA;\n",
              "      box-shadow: 0px 1px 2px rgba(60, 64, 67, 0.3), 0px 1px 3px 1px rgba(60, 64, 67, 0.15);\n",
              "      fill: #174EA6;\n",
              "    }\n",
              "\n",
              "    [theme=dark] .colab-df-convert {\n",
              "      background-color: #3B4455;\n",
              "      fill: #D2E3FC;\n",
              "    }\n",
              "\n",
              "    [theme=dark] .colab-df-convert:hover {\n",
              "      background-color: #434B5C;\n",
              "      box-shadow: 0px 1px 3px 1px rgba(0, 0, 0, 0.15);\n",
              "      filter: drop-shadow(0px 1px 2px rgba(0, 0, 0, 0.3));\n",
              "      fill: #FFFFFF;\n",
              "    }\n",
              "  </style>\n",
              "\n",
              "      <script>\n",
              "        const buttonEl =\n",
              "          document.querySelector('#df-312267e5-ad07-4df7-baba-d5ab743c629c button.colab-df-convert');\n",
              "        buttonEl.style.display =\n",
              "          google.colab.kernel.accessAllowed ? 'block' : 'none';\n",
              "\n",
              "        async function convertToInteractive(key) {\n",
              "          const element = document.querySelector('#df-312267e5-ad07-4df7-baba-d5ab743c629c');\n",
              "          const dataTable =\n",
              "            await google.colab.kernel.invokeFunction('convertToInteractive',\n",
              "                                                     [key], {});\n",
              "          if (!dataTable) return;\n",
              "\n",
              "          const docLinkHtml = 'Like what you see? Visit the ' +\n",
              "            '<a target=\"_blank\" href=https://colab.research.google.com/notebooks/data_table.ipynb>data table notebook</a>'\n",
              "            + ' to learn more about interactive tables.';\n",
              "          element.innerHTML = '';\n",
              "          dataTable['output_type'] = 'display_data';\n",
              "          await google.colab.output.renderOutput(dataTable, element);\n",
              "          const docLink = document.createElement('div');\n",
              "          docLink.innerHTML = docLinkHtml;\n",
              "          element.appendChild(docLink);\n",
              "        }\n",
              "      </script>\n",
              "    </div>\n",
              "  </div>\n",
              "  "
            ]
          },
          "metadata": {},
          "execution_count": 311
        }
      ]
    },
    {
      "cell_type": "code",
      "source": [
        "#day기준\n",
        "df_test['time_diff'].describe()\n",
        "df_test1['time_diff'].describe()\n",
        "df_test2['time_diff'].describe()\n",
        "df_test3['time_diff'].describe()\n",
        "df_test_t=df_test['time_diff'].mean().round(3)\n",
        "df_test1_t=df_test1['time_diff'].mean().round(3)\n",
        "df_test2_t=df_test2['time_diff'].mean().round(3)\n",
        "df_test3_t=df_test3['time_diff'].mean().round(3)\n",
        "print(f'컴포넌트 일반적인 교체 주기 종합: 1의 평균 교체주기 (day)는 {df_test_t}일입니다,   컴포넌트 2의 평균 교체주기 (day)는 {df_test1_t}일입니다,    컴포넌트 3의 평균 교체주기 (day)는 {df_test2_t}일입니다,    컴포넌트 4의 평균 교체주기 (day)는 {df_test3_t}일입니다')"
      ],
      "metadata": {
        "colab": {
          "base_uri": "https://localhost:8080/"
        },
        "id": "K3Ty5yx__Y0l",
        "outputId": "c896ec4e-d4f1-4e43-a815-1629e39e82e9"
      },
      "execution_count": 313,
      "outputs": [
        {
          "output_type": "stream",
          "name": "stdout",
          "text": [
            "컴포넌트 일반적인 교체 주기 종합: 1의 평균 교체주기 (day)는 77.766일입니다,   컴포넌트 2의 평균 교체주기 (day)는 66.969일입니다,    컴포넌트 3의 평균 교체주기 (day)는 78.018일입니다,    컴포넌트 4의 평균 교체주기 (day)는 69.81일입니다\n"
          ]
        }
      ]
    },
    {
      "cell_type": "markdown",
      "source": [
        "#고장+일반교체) 교체주기 확인 $3\n",
        "\n",
        "---\n",
        "\n"
      ],
      "metadata": {
        "id": "oceWbr2kmRq7"
      }
    },
    {
      "cell_type": "code",
      "source": [
        "#datetime 을 이용한 교체주기 확인\n",
        "comp1_re = []\n",
        "n = 1\n",
        "for i in range(len(comp1_n)-1):\n",
        "  if n != range(len(comp1_n)):\n",
        "    str_datetime1 = comp1_n[\"comp1\"][n]\n",
        "    str_datetime2 = comp1_n[\"comp1\"][i]\n",
        "    currdate1 = datetime.strptime(str_datetime1, '%Y-%m-%d %H:%M:%S')\n",
        "    currdate2 = datetime.strptime(str_datetime2, '%Y-%m-%d %H:%M:%S')\n",
        "    new = currdate1- currdate2\n",
        "    comp1_re.append(new.days)\n",
        "    n += 1\n",
        "  else:\n",
        "    break\n",
        "comp2_re = []\n",
        "n1 = 1\n",
        "for i in range(len(comp2_n)-1):\n",
        "  if n1 != range(len(comp2_n)):\n",
        "    str_datetime1 = comp2_n[\"comp2\"][n1]\n",
        "    str_datetime2 = comp2_n[\"comp2\"][i]\n",
        "    currdate1 = datetime.strptime(str_datetime1, '%Y-%m-%d %H:%M:%S')\n",
        "    currdate2 = datetime.strptime(str_datetime2, '%Y-%m-%d %H:%M:%S')\n",
        "    new = currdate1- currdate2\n",
        "    comp2_re.append(new.days)\n",
        "    n1 += 1\n",
        "  else:\n",
        "    break\n",
        "comp3_re = []\n",
        "n2 = 1\n",
        "for i in range(len(comp3_n)-1):\n",
        "  if n2 != range(len(comp3_n)):\n",
        "    str_datetime1 = comp3_n[\"comp3\"][n2]\n",
        "    str_datetime2 = comp3_n[\"comp3\"][i]\n",
        "    currdate1 = datetime.strptime(str_datetime1, '%Y-%m-%d %H:%M:%S')\n",
        "    currdate2 = datetime.strptime(str_datetime2, '%Y-%m-%d %H:%M:%S')\n",
        "    new = currdate1- currdate2\n",
        "    comp3_re.append(new.days)\n",
        "    n2 += 1\n",
        "  else:\n",
        "    break\n",
        "comp4_re = []\n",
        "n3 = 1\n",
        "for i in range(len(comp4_n)-1):\n",
        "  if n3 != range(len(comp4_n)):\n",
        "    str_datetime1 = comp4_n[\"comp4\"][n3]\n",
        "    str_datetime2 = comp4_n[\"comp4\"][i]\n",
        "    currdate1 = datetime.strptime(str_datetime1, '%Y-%m-%d %H:%M:%S')\n",
        "    currdate2 = datetime.strptime(str_datetime2, '%Y-%m-%d %H:%M:%S')\n",
        "    new = currdate1- currdate2\n",
        "    comp4_re.append(new.days)\n",
        "    n3 += 1\n",
        "  else:\n",
        "    break"
      ],
      "metadata": {
        "id": "pkQ-w-UkmWST"
      },
      "execution_count": 261,
      "outputs": []
    },
    {
      "cell_type": "code",
      "source": [
        "# 음수인 데이터는 machineID 가 바뀌면서 생기는 데이터로 사실상 의미가없음.\n",
        "len(comp1_re),len(comp2_re),len(comp3_re),len(comp4_re)"
      ],
      "metadata": {
        "colab": {
          "base_uri": "https://localhost:8080/"
        },
        "id": "v5qpMowcmZ6T",
        "outputId": "07c8ff21-4831-48f6-944b-71617d8adc92"
      },
      "execution_count": 262,
      "outputs": [
        {
          "output_type": "execute_result",
          "data": {
            "text/plain": [
              "(301, 316, 309, 312)"
            ]
          },
          "metadata": {},
          "execution_count": 262
        }
      ]
    },
    {
      "cell_type": "code",
      "source": [
        "#리스트 안의 음수를 none으로 바꾸기 #def로 바꾸기\n",
        "comp1_re1 =[]\n",
        "for i in range(len(comp1_re)):\n",
        "  if comp1_re[i] > 0:\n",
        "    comp1_re1.append(comp1_re[i])\n",
        "  else:\n",
        "    comp1_re1.append(None)\n",
        "  \n",
        "comp2_re1 =[]\n",
        "for i in range(len(comp2_re)):\n",
        "  if comp2_re[i] > 0:\n",
        "    comp2_re1.append(comp2_re[i])\n",
        "  else:\n",
        "    comp2_re1.append(None)\n",
        "  \n",
        "comp3_re1 =[]\n",
        "for i in range(len(comp3_re)):\n",
        "  if comp3_re[i] > 0:\n",
        "    comp3_re1.append(comp3_re[i])\n",
        "  else:\n",
        "    comp3_re1.append(None)\n",
        "  \n",
        "comp4_re1 =[]\n",
        "for i in range(len(comp4_re)):\n",
        "  if comp4_re[i] > 0:\n",
        "    comp4_re1.append(comp4_re[i])\n",
        "  else:\n",
        "    comp4_re1.append(None)"
      ],
      "metadata": {
        "id": "2IAv6CBemehr"
      },
      "execution_count": 263,
      "outputs": []
    },
    {
      "cell_type": "code",
      "source": [
        "#마지막 한 열은 다음 계산할것이 없으니 None값 하나를 추가해줘서 index개수 맞춰주기\n",
        "comp1_re1.append(None) \n",
        "comp2_re1.append(None) \n",
        "comp3_re1.append(None) \n",
        "comp4_re1.append(None) "
      ],
      "metadata": {
        "id": "hze1GKC9mfqz"
      },
      "execution_count": 264,
      "outputs": []
    },
    {
      "cell_type": "code",
      "source": [
        "#기존데이터에 dataframe으로 추가해주기\n",
        "comp1_n['time_diff'] = comp1_re1\n",
        "comp2_n['time_diff'] = comp2_re1\n",
        "comp3_n['time_diff'] = comp3_re1\n",
        "comp4_n['time_diff'] = comp4_re1"
      ],
      "metadata": {
        "id": "9UpmTfT5mgzD"
      },
      "execution_count": 265,
      "outputs": []
    },
    {
      "cell_type": "code",
      "source": [
        "#def 로 바꾸기\n",
        "li = []#한개씩가져오기\n",
        "li1 = []#최소 한개 이상인 데이터 머신아이디 뽑아오기\n",
        "for i in range(len(comp1_n)):\n",
        "  if comp1_n['machineID'][i] not in li:\n",
        "    li.append(comp1_n['machineID'][i])\n",
        "  else:\n",
        "    li1.append(comp1_n['machineID'][i])\n",
        "\n",
        "\n",
        "li2 = []#한개씩가져오기\n",
        "li3 = []#최소 한개 이상인 데이터 머신아이디 뽑아오기\n",
        "for i in range(len(comp2_n)):\n",
        "  if comp2_n['machineID'][i] not in li2:\n",
        "    li2.append(comp2_n['machineID'][i])\n",
        "  else:\n",
        "    li3.append(comp2_n['machineID'][i])\n",
        "\n",
        "\n",
        "li4 = []#한개씩가져오기\n",
        "li5 = []#최소 한개 이상인 데이터 머신아이디 뽑아오기\n",
        "for i in range(len(comp3_n)):\n",
        "  if comp3_n['machineID'][i] not in li4:\n",
        "    li4.append(comp3_n['machineID'][i])\n",
        "  else:\n",
        "    li5.append(comp3_n['machineID'][i])\n",
        "\n",
        "\n",
        "li6 = []#한개씩가져오기\n",
        "li7 = []#최소 한개 이상인 데이터 머신아이디 뽑아오기\n",
        "for i in range(len(comp4_n)):\n",
        "  if comp4_n['machineID'][i] not in li6:\n",
        "    li6.append(comp4_n['machineID'][i])\n",
        "  else:\n",
        "    li7.append(comp4_n['machineID'][i])"
      ],
      "metadata": {
        "id": "kyMZPVSdmh1b"
      },
      "execution_count": 266,
      "outputs": []
    },
    {
      "cell_type": "code",
      "source": [
        "#중복처리\n",
        "li1=set(li1)\n",
        "li3=set(li3)\n",
        "li5=set(li5)\n",
        "li7=set(li7)"
      ],
      "metadata": {
        "id": "ouFm4rajmj5z"
      },
      "execution_count": 267,
      "outputs": []
    },
    {
      "cell_type": "code",
      "source": [
        "#한개씩 있는 머신아이디 추출\n",
        "nli1 = []\n",
        "for i in range(len(li)):\n",
        "  if li[i] not in li1:\n",
        "    nli1.append(li[i])\n",
        "  else:\n",
        "    pass\n",
        "\n",
        "nli2 = []\n",
        "for i in range(len(li2)):\n",
        "  if li2[i] not in li3:\n",
        "    nli2.append(li2[i])\n",
        "  else:\n",
        "    pass\n",
        "\n",
        "nli3 = []\n",
        "for i in range(len(li4)):\n",
        "  if li4[i] not in li5:\n",
        "    nli3.append(li4[i])\n",
        "  else:\n",
        "    pass\n",
        "\n",
        "nli4 = []\n",
        "for i in range(len(li6)):\n",
        "  if li6[i] not in li7:\n",
        "    nli4.append(li6[i])\n",
        "  else:\n",
        "    pass"
      ],
      "metadata": {
        "id": "GXy9e9TkmlIr"
      },
      "execution_count": 268,
      "outputs": []
    },
    {
      "cell_type": "code",
      "source": [
        " #한개씩 있는 머신아이디 추출\n",
        "nli1\n",
        "nli2\n",
        "nli3\n",
        "nli4"
      ],
      "metadata": {
        "colab": {
          "base_uri": "https://localhost:8080/"
        },
        "id": "m7gPHWzJmmIL",
        "outputId": "bc830084-a051-4d84-fc34-bef2e116e113"
      },
      "execution_count": 269,
      "outputs": [
        {
          "output_type": "execute_result",
          "data": {
            "text/plain": [
              "[15, 34, 43, 51, 52, 60, 76, 80, 82, 86, 88, 90, 94, 97, 100]"
            ]
          },
          "metadata": {},
          "execution_count": 269
        }
      ]
    },
    {
      "cell_type": "code",
      "source": [
        "#nli를 이용하여 한개씩 있는 machineID의 time_diff를 nan값으로 처리\n",
        "for i in range(len(nli1)):\n",
        "  comp1_n.loc[comp1_n['machineID']==nli1[i],'time_diff'] = None\n",
        "for i in range(len(nli2)):\n",
        "  comp2_n.loc[comp2_n['machineID']==nli2[i],'time_diff'] = None\n",
        "for i in range(len(nli3)):\n",
        "  comp3_n.loc[comp3_n['machineID']==nli3[i],'time_diff'] = None\n",
        "for i in range(len(nli4)):\n",
        "  comp4_n.loc[comp4_n['machineID']==nli4[i],'time_diff'] = None"
      ],
      "metadata": {
        "id": "KOaeDNKamnLj"
      },
      "execution_count": 270,
      "outputs": []
    },
    {
      "cell_type": "code",
      "source": [
        "#데이터 개수 확인\n",
        "len(comp1_n),len(comp2_n),len(comp3_n),len(comp4_n)"
      ],
      "metadata": {
        "colab": {
          "base_uri": "https://localhost:8080/"
        },
        "id": "KDTRSovJmoPL",
        "outputId": "73b8127d-46c0-4b81-ad85-f81a93cd9786"
      },
      "execution_count": 271,
      "outputs": [
        {
          "output_type": "execute_result",
          "data": {
            "text/plain": [
              "(302, 317, 310, 313)"
            ]
          },
          "metadata": {},
          "execution_count": 271
        }
      ]
    },
    {
      "cell_type": "code",
      "source": [
        "#day기준\n",
        "comp1_n['time_diff'].describe()\n",
        "comp2_n['time_diff'].describe()\n",
        "comp3_n['time_diff'].describe()\n",
        "comp4_n['time_diff'].describe()\n",
        "comp_mean1=comp1_n['time_diff'].mean().round(3)\n",
        "comp_mean2=comp2_n['time_diff'].mean().round(3)\n",
        "comp_mean3=comp3_n['time_diff'].mean().round(3)\n",
        "comp_mean4=comp4_n['time_diff'].mean().round(3)\n",
        "print(f'컴포넌트 1의 평균 교체주기 (day)는 {comp_mean1}일입니다,   컴포넌트 2의 평균 교체주기 (day)는 {comp_mean2}일입니다,    컴포넌트 3의 평균 교체주기 (day)는 {comp_mean3}일입니다,    컴포넌트 4의 평균 교체주기 (day)는 {comp_mean4}일입니다')"
      ],
      "metadata": {
        "colab": {
          "base_uri": "https://localhost:8080/"
        },
        "id": "Rv5BNX2LmpgD",
        "outputId": "5b0df086-baab-4b9d-8422-de7af4344c32"
      },
      "execution_count": 272,
      "outputs": [
        {
          "output_type": "stream",
          "name": "stdout",
          "text": [
            "컴포넌트 1의 평균 교체주기 (day)는 73.655일입니다,   컴포넌트 2의 평균 교체주기 (day)는 63.177일입니다,    컴포넌트 3의 평균 교체주기 (day)는 76.194일입니다,    컴포넌트 4의 평균 교체주기 (day)는 69.667일입니다\n"
          ]
        }
      ]
    },
    {
      "cell_type": "code",
      "source": [],
      "metadata": {
        "id": "Hia4RM0Lmqwb"
      },
      "execution_count": 166,
      "outputs": []
    },
    {
      "cell_type": "markdown",
      "source": [
        "#전체적인 컴포넌트 데이터 종합본"
      ],
      "metadata": {
        "id": "y0Q3iD0uAZj_"
      }
    },
    {
      "cell_type": "code",
      "source": [
        "print(f'고장난 컴포넌트 1의 평균 교체주기 (day)는 {ans1}일입니다,   컴포넌트 2의 평균 교체주기 (day)는 {ans2}일입니다,    컴포넌트 3의 평균 교체주기 (day)는 {ans3}일입니다,    컴포넌트 4의 평균 교체주기 (day)는 {ans4}일입니다')"
      ],
      "metadata": {
        "colab": {
          "base_uri": "https://localhost:8080/"
        },
        "id": "rs5L_J2pAprN",
        "outputId": "1edf8ea4-22e6-4c26-aa04-a4a7cbbd0092"
      },
      "execution_count": 316,
      "outputs": [
        {
          "output_type": "stream",
          "name": "stdout",
          "text": [
            "고장난 컴포넌트 1의 평균 교체주기 (day)는 107.43일입니다,   컴포넌트 2의 평균 교체주기 (day)는 89.36일입니다,    컴포넌트 3의 평균 교체주기 (day)는 87.53일입니다,    컴포넌트 4의 평균 교체주기 (day)는 95.39일입니다\n"
          ]
        }
      ]
    },
    {
      "cell_type": "code",
      "source": [
        "print(f'컴포넌트 일반적인 교체 주기 종합: 1의 평균 교체주기 (day)는 {df_test_t}일입니다,   컴포넌트 2의 평균 교체주기 (day)는 {df_test1_t}일입니다,    컴포넌트 3의 평균 교체주기 (day)는 {df_test2_t}일입니다,    컴포넌트 4의 평균 교체주기 (day)는 {df_test3_t}일입니다')"
      ],
      "metadata": {
        "colab": {
          "base_uri": "https://localhost:8080/"
        },
        "id": "ZprNS3HZAd5d",
        "outputId": "2947ff4f-ff38-436b-8ab4-2f61b6b4613b"
      },
      "execution_count": 314,
      "outputs": [
        {
          "output_type": "stream",
          "name": "stdout",
          "text": [
            "컴포넌트 일반적인 교체 주기 종합: 1의 평균 교체주기 (day)는 77.766일입니다,   컴포넌트 2의 평균 교체주기 (day)는 66.969일입니다,    컴포넌트 3의 평균 교체주기 (day)는 78.018일입니다,    컴포넌트 4의 평균 교체주기 (day)는 69.81일입니다\n"
          ]
        }
      ]
    },
    {
      "cell_type": "code",
      "source": [
        "print(f'컴포넌트 1의 평균 교체주기 (day)는 {comp_mean1}일입니다,   컴포넌트 2의 평균 교체주기 (day)는 {comp_mean2}일입니다,    컴포넌트 3의 평균 교체주기 (day)는 {comp_mean3}일입니다,    컴포넌트 4의 평균 교체주기 (day)는 {comp_mean4}일입니다')"
      ],
      "metadata": {
        "colab": {
          "base_uri": "https://localhost:8080/"
        },
        "id": "UjP5Fx90AiAd",
        "outputId": "60a351fe-db57-4247-96d9-169df0404c32"
      },
      "execution_count": 315,
      "outputs": [
        {
          "output_type": "stream",
          "name": "stdout",
          "text": [
            "컴포넌트 1의 평균 교체주기 (day)는 73.655일입니다,   컴포넌트 2의 평균 교체주기 (day)는 63.177일입니다,    컴포넌트 3의 평균 교체주기 (day)는 76.194일입니다,    컴포넌트 4의 평균 교체주기 (day)는 69.667일입니다\n"
          ]
        }
      ]
    }
  ]
}
