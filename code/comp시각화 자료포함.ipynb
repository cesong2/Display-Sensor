{
  "nbformat": 4,
  "nbformat_minor": 0,
  "metadata": {
    "colab": {
      "provenance": [],
      "collapsed_sections": [
        "oceWbr2kmRq7"
      ],
      "authorship_tag": "ABX9TyOCAvGdXlBdo3jDZ4EQLn9w",
      "include_colab_link": true
    },
    "kernelspec": {
      "name": "python3",
      "display_name": "Python 3"
    },
    "language_info": {
      "name": "python"
    }
  },
  "cells": [
    {
      "cell_type": "markdown",
      "metadata": {
        "id": "view-in-github",
        "colab_type": "text"
      },
      "source": [
        "<a href=\"https://colab.research.google.com/github/cesong2/Display-Sensor/blob/Chan/comp%EC%8B%9C%EA%B0%81%ED%99%94%20%EC%9E%90%EB%A3%8C%ED%8F%AC%ED%95%A8.ipynb\" target=\"_parent\"><img src=\"https://colab.research.google.com/assets/colab-badge.svg\" alt=\"Open In Colab\"/></a>"
      ]
    },
    {
      "cell_type": "code",
      "source": [
        "!sudo apt-get install -y fonts-nanum\n",
        "!sudo fc-cache -fv\n",
        "!rm ~/.cache/matplotlib -rf\n",
        "\n",
        "import matplotlib.pyplot as plt\n",
        "plt.rc('font', family='NanumBarunGothic') \n"
      ],
      "metadata": {
        "colab": {
          "base_uri": "https://localhost:8080/"
        },
        "id": "9S-UgzpPUNFh",
        "outputId": "9975c2d7-c4cd-4d6b-cef6-9bb1d3d7cdd3"
      },
      "execution_count": 1,
      "outputs": [
        {
          "output_type": "stream",
          "name": "stdout",
          "text": [
            "Reading package lists... Done\n",
            "Building dependency tree       \n",
            "Reading state information... Done\n",
            "fonts-nanum is already the newest version (20180306-3).\n",
            "The following package was automatically installed and is no longer required:\n",
            "  libnvidia-common-510\n",
            "Use 'sudo apt autoremove' to remove it.\n",
            "0 upgraded, 0 newly installed, 0 to remove and 21 not upgraded.\n",
            "/usr/share/fonts: caching, new cache contents: 0 fonts, 1 dirs\n",
            "/usr/share/fonts/truetype: caching, new cache contents: 0 fonts, 3 dirs\n",
            "/usr/share/fonts/truetype/humor-sans: caching, new cache contents: 1 fonts, 0 dirs\n",
            "/usr/share/fonts/truetype/liberation: caching, new cache contents: 16 fonts, 0 dirs\n",
            "/usr/share/fonts/truetype/nanum: caching, new cache contents: 10 fonts, 0 dirs\n",
            "/usr/local/share/fonts: caching, new cache contents: 0 fonts, 0 dirs\n",
            "/root/.local/share/fonts: skipping, no such directory\n",
            "/root/.fonts: skipping, no such directory\n",
            "/usr/share/fonts/truetype: skipping, looped directory detected\n",
            "/usr/share/fonts/truetype/humor-sans: skipping, looped directory detected\n",
            "/usr/share/fonts/truetype/liberation: skipping, looped directory detected\n",
            "/usr/share/fonts/truetype/nanum: skipping, looped directory detected\n",
            "/var/cache/fontconfig: cleaning cache directory\n",
            "/root/.cache/fontconfig: not cleaning non-existent cache directory\n",
            "/root/.fontconfig: not cleaning non-existent cache directory\n",
            "fc-cache: succeeded\n"
          ]
        }
      ]
    },
    {
      "cell_type": "code",
      "execution_count": 2,
      "metadata": {
        "id": "PfQoUva-jorZ"
      },
      "outputs": [],
      "source": [
        "import pandas as pd\n",
        "import matplotlib.pyplot as plt\n",
        "import matplotlib\n",
        "import seaborn as sns\n",
        "import numpy as np"
      ]
    },
    {
      "cell_type": "code",
      "source": [
        "from datetime import timedelta\n",
        "import datetime\n",
        "import numpy as np\n",
        "from datetime import datetime\n",
        "import time"
      ],
      "metadata": {
        "id": "pGawzSshl5S1"
      },
      "execution_count": 3,
      "outputs": []
    },
    {
      "cell_type": "code",
      "source": [
        "#Load the data\n",
        "#telemetry_df = pd.read_csv(\"/content/PdM_telemetry.csv\")\n",
        "errors_df = pd.read_csv(\"/content/PdM_errors.csv\")\n",
        "maint_df = pd.read_csv(\"/content/PdM_maint.csv\")\n",
        "failures_df = pd.read_csv(\"/content/PdM_failures.csv\")\n",
        "machines_df = pd.read_csv(\"/content/PdM_machines.csv\")\n",
        "machines_age = pd.DataFrame(machines_df[['machineID','age']]).set_index('machineID')\n",
        "machines_errors = pd.DataFrame(errors_df.groupby('machineID')['errorID'].count())\n",
        "machines_maint = pd.DataFrame(maint_df.groupby('machineID')['comp'].count())\n",
        "machines_failures = pd.DataFrame(failures_df.groupby('machineID')['failure'].count())"
      ],
      "metadata": {
        "id": "BFQ3l13KkScD"
      },
      "execution_count": 4,
      "outputs": []
    },
    {
      "cell_type": "markdown",
      "source": [
        "#전체 데이터 다시구하기"
      ],
      "metadata": {
        "id": "ZOeD8_lvvZFs"
      }
    },
    {
      "cell_type": "code",
      "source": [
        "maint_df.head(3)"
      ],
      "metadata": {
        "colab": {
          "base_uri": "https://localhost:8080/",
          "height": 0
        },
        "id": "KnJQJTVWvbLt",
        "outputId": "1ac2e0f6-30b7-4548-b4bb-ba198f54b20e"
      },
      "execution_count": 5,
      "outputs": [
        {
          "output_type": "execute_result",
          "data": {
            "text/plain": [
              "              datetime  machineID   comp\n",
              "0  2014-06-01 06:00:00          1  comp2\n",
              "1  2014-07-16 06:00:00          1  comp4\n",
              "2  2014-07-31 06:00:00          1  comp3"
            ],
            "text/html": [
              "\n",
              "  <div id=\"df-f816edb6-71bb-4cbc-ad65-314a740f70b6\">\n",
              "    <div class=\"colab-df-container\">\n",
              "      <div>\n",
              "<style scoped>\n",
              "    .dataframe tbody tr th:only-of-type {\n",
              "        vertical-align: middle;\n",
              "    }\n",
              "\n",
              "    .dataframe tbody tr th {\n",
              "        vertical-align: top;\n",
              "    }\n",
              "\n",
              "    .dataframe thead th {\n",
              "        text-align: right;\n",
              "    }\n",
              "</style>\n",
              "<table border=\"1\" class=\"dataframe\">\n",
              "  <thead>\n",
              "    <tr style=\"text-align: right;\">\n",
              "      <th></th>\n",
              "      <th>datetime</th>\n",
              "      <th>machineID</th>\n",
              "      <th>comp</th>\n",
              "    </tr>\n",
              "  </thead>\n",
              "  <tbody>\n",
              "    <tr>\n",
              "      <th>0</th>\n",
              "      <td>2014-06-01 06:00:00</td>\n",
              "      <td>1</td>\n",
              "      <td>comp2</td>\n",
              "    </tr>\n",
              "    <tr>\n",
              "      <th>1</th>\n",
              "      <td>2014-07-16 06:00:00</td>\n",
              "      <td>1</td>\n",
              "      <td>comp4</td>\n",
              "    </tr>\n",
              "    <tr>\n",
              "      <th>2</th>\n",
              "      <td>2014-07-31 06:00:00</td>\n",
              "      <td>1</td>\n",
              "      <td>comp3</td>\n",
              "    </tr>\n",
              "  </tbody>\n",
              "</table>\n",
              "</div>\n",
              "      <button class=\"colab-df-convert\" onclick=\"convertToInteractive('df-f816edb6-71bb-4cbc-ad65-314a740f70b6')\"\n",
              "              title=\"Convert this dataframe to an interactive table.\"\n",
              "              style=\"display:none;\">\n",
              "        \n",
              "  <svg xmlns=\"http://www.w3.org/2000/svg\" height=\"24px\"viewBox=\"0 0 24 24\"\n",
              "       width=\"24px\">\n",
              "    <path d=\"M0 0h24v24H0V0z\" fill=\"none\"/>\n",
              "    <path d=\"M18.56 5.44l.94 2.06.94-2.06 2.06-.94-2.06-.94-.94-2.06-.94 2.06-2.06.94zm-11 1L8.5 8.5l.94-2.06 2.06-.94-2.06-.94L8.5 2.5l-.94 2.06-2.06.94zm10 10l.94 2.06.94-2.06 2.06-.94-2.06-.94-.94-2.06-.94 2.06-2.06.94z\"/><path d=\"M17.41 7.96l-1.37-1.37c-.4-.4-.92-.59-1.43-.59-.52 0-1.04.2-1.43.59L10.3 9.45l-7.72 7.72c-.78.78-.78 2.05 0 2.83L4 21.41c.39.39.9.59 1.41.59.51 0 1.02-.2 1.41-.59l7.78-7.78 2.81-2.81c.8-.78.8-2.07 0-2.86zM5.41 20L4 18.59l7.72-7.72 1.47 1.35L5.41 20z\"/>\n",
              "  </svg>\n",
              "      </button>\n",
              "      \n",
              "  <style>\n",
              "    .colab-df-container {\n",
              "      display:flex;\n",
              "      flex-wrap:wrap;\n",
              "      gap: 12px;\n",
              "    }\n",
              "\n",
              "    .colab-df-convert {\n",
              "      background-color: #E8F0FE;\n",
              "      border: none;\n",
              "      border-radius: 50%;\n",
              "      cursor: pointer;\n",
              "      display: none;\n",
              "      fill: #1967D2;\n",
              "      height: 32px;\n",
              "      padding: 0 0 0 0;\n",
              "      width: 32px;\n",
              "    }\n",
              "\n",
              "    .colab-df-convert:hover {\n",
              "      background-color: #E2EBFA;\n",
              "      box-shadow: 0px 1px 2px rgba(60, 64, 67, 0.3), 0px 1px 3px 1px rgba(60, 64, 67, 0.15);\n",
              "      fill: #174EA6;\n",
              "    }\n",
              "\n",
              "    [theme=dark] .colab-df-convert {\n",
              "      background-color: #3B4455;\n",
              "      fill: #D2E3FC;\n",
              "    }\n",
              "\n",
              "    [theme=dark] .colab-df-convert:hover {\n",
              "      background-color: #434B5C;\n",
              "      box-shadow: 0px 1px 3px 1px rgba(0, 0, 0, 0.15);\n",
              "      filter: drop-shadow(0px 1px 2px rgba(0, 0, 0, 0.3));\n",
              "      fill: #FFFFFF;\n",
              "    }\n",
              "  </style>\n",
              "\n",
              "      <script>\n",
              "        const buttonEl =\n",
              "          document.querySelector('#df-f816edb6-71bb-4cbc-ad65-314a740f70b6 button.colab-df-convert');\n",
              "        buttonEl.style.display =\n",
              "          google.colab.kernel.accessAllowed ? 'block' : 'none';\n",
              "\n",
              "        async function convertToInteractive(key) {\n",
              "          const element = document.querySelector('#df-f816edb6-71bb-4cbc-ad65-314a740f70b6');\n",
              "          const dataTable =\n",
              "            await google.colab.kernel.invokeFunction('convertToInteractive',\n",
              "                                                     [key], {});\n",
              "          if (!dataTable) return;\n",
              "\n",
              "          const docLinkHtml = 'Like what you see? Visit the ' +\n",
              "            '<a target=\"_blank\" href=https://colab.research.google.com/notebooks/data_table.ipynb>data table notebook</a>'\n",
              "            + ' to learn more about interactive tables.';\n",
              "          element.innerHTML = '';\n",
              "          dataTable['output_type'] = 'display_data';\n",
              "          await google.colab.output.renderOutput(dataTable, element);\n",
              "          const docLink = document.createElement('div');\n",
              "          docLink.innerHTML = docLinkHtml;\n",
              "          element.appendChild(docLink);\n",
              "        }\n",
              "      </script>\n",
              "    </div>\n",
              "  </div>\n",
              "  "
            ]
          },
          "metadata": {},
          "execution_count": 5
        }
      ]
    },
    {
      "cell_type": "code",
      "source": [
        "tot_data = maint_df[maint_df['comp']== 'comp1'] #failures_maint별 정리\n",
        "tot_data1 = maint_df[maint_df['comp']== 'comp2']\n",
        "tot_data2 = maint_df[maint_df['comp']== 'comp3']\n",
        "tot_data3 = maint_df[maint_df['comp']== 'comp4']\n",
        "tot_dataset = tot_data.set_index('datetime').reset_index()#숫자 재정렬\n",
        "tot_dataset1 = tot_data1.set_index('datetime').reset_index()\n",
        "tot_dataset2 = tot_data2.set_index('datetime').reset_index()\n",
        "tot_dataset3 = tot_data3.set_index('datetime').reset_index()"
      ],
      "metadata": {
        "id": "Xl1je0f7v6fs"
      },
      "execution_count": 6,
      "outputs": []
    },
    {
      "cell_type": "code",
      "source": [
        "tot_dataset"
      ],
      "metadata": {
        "id": "42HHDC-zwPHr",
        "colab": {
          "base_uri": "https://localhost:8080/",
          "height": 0
        },
        "outputId": "1a9baeb4-5921-427d-c348-f2a2e6d1934d"
      },
      "execution_count": 7,
      "outputs": [
        {
          "output_type": "execute_result",
          "data": {
            "text/plain": [
              "                datetime  machineID   comp\n",
              "0    2014-12-13 06:00:00          1  comp1\n",
              "1    2015-01-05 06:00:00          1  comp1\n",
              "2    2015-01-20 06:00:00          1  comp1\n",
              "3    2015-03-06 06:00:00          1  comp1\n",
              "4    2015-03-21 06:00:00          1  comp1\n",
              "..                   ...        ...    ...\n",
              "799  2015-04-28 06:00:00        100  comp1\n",
              "800  2015-07-27 06:00:00        100  comp1\n",
              "801  2015-09-10 06:00:00        100  comp1\n",
              "802  2015-09-25 06:00:00        100  comp1\n",
              "803  2015-10-10 06:00:00        100  comp1\n",
              "\n",
              "[804 rows x 3 columns]"
            ],
            "text/html": [
              "\n",
              "  <div id=\"df-e8460273-e1b2-488c-8a05-3a08df1b5b27\">\n",
              "    <div class=\"colab-df-container\">\n",
              "      <div>\n",
              "<style scoped>\n",
              "    .dataframe tbody tr th:only-of-type {\n",
              "        vertical-align: middle;\n",
              "    }\n",
              "\n",
              "    .dataframe tbody tr th {\n",
              "        vertical-align: top;\n",
              "    }\n",
              "\n",
              "    .dataframe thead th {\n",
              "        text-align: right;\n",
              "    }\n",
              "</style>\n",
              "<table border=\"1\" class=\"dataframe\">\n",
              "  <thead>\n",
              "    <tr style=\"text-align: right;\">\n",
              "      <th></th>\n",
              "      <th>datetime</th>\n",
              "      <th>machineID</th>\n",
              "      <th>comp</th>\n",
              "    </tr>\n",
              "  </thead>\n",
              "  <tbody>\n",
              "    <tr>\n",
              "      <th>0</th>\n",
              "      <td>2014-12-13 06:00:00</td>\n",
              "      <td>1</td>\n",
              "      <td>comp1</td>\n",
              "    </tr>\n",
              "    <tr>\n",
              "      <th>1</th>\n",
              "      <td>2015-01-05 06:00:00</td>\n",
              "      <td>1</td>\n",
              "      <td>comp1</td>\n",
              "    </tr>\n",
              "    <tr>\n",
              "      <th>2</th>\n",
              "      <td>2015-01-20 06:00:00</td>\n",
              "      <td>1</td>\n",
              "      <td>comp1</td>\n",
              "    </tr>\n",
              "    <tr>\n",
              "      <th>3</th>\n",
              "      <td>2015-03-06 06:00:00</td>\n",
              "      <td>1</td>\n",
              "      <td>comp1</td>\n",
              "    </tr>\n",
              "    <tr>\n",
              "      <th>4</th>\n",
              "      <td>2015-03-21 06:00:00</td>\n",
              "      <td>1</td>\n",
              "      <td>comp1</td>\n",
              "    </tr>\n",
              "    <tr>\n",
              "      <th>...</th>\n",
              "      <td>...</td>\n",
              "      <td>...</td>\n",
              "      <td>...</td>\n",
              "    </tr>\n",
              "    <tr>\n",
              "      <th>799</th>\n",
              "      <td>2015-04-28 06:00:00</td>\n",
              "      <td>100</td>\n",
              "      <td>comp1</td>\n",
              "    </tr>\n",
              "    <tr>\n",
              "      <th>800</th>\n",
              "      <td>2015-07-27 06:00:00</td>\n",
              "      <td>100</td>\n",
              "      <td>comp1</td>\n",
              "    </tr>\n",
              "    <tr>\n",
              "      <th>801</th>\n",
              "      <td>2015-09-10 06:00:00</td>\n",
              "      <td>100</td>\n",
              "      <td>comp1</td>\n",
              "    </tr>\n",
              "    <tr>\n",
              "      <th>802</th>\n",
              "      <td>2015-09-25 06:00:00</td>\n",
              "      <td>100</td>\n",
              "      <td>comp1</td>\n",
              "    </tr>\n",
              "    <tr>\n",
              "      <th>803</th>\n",
              "      <td>2015-10-10 06:00:00</td>\n",
              "      <td>100</td>\n",
              "      <td>comp1</td>\n",
              "    </tr>\n",
              "  </tbody>\n",
              "</table>\n",
              "<p>804 rows × 3 columns</p>\n",
              "</div>\n",
              "      <button class=\"colab-df-convert\" onclick=\"convertToInteractive('df-e8460273-e1b2-488c-8a05-3a08df1b5b27')\"\n",
              "              title=\"Convert this dataframe to an interactive table.\"\n",
              "              style=\"display:none;\">\n",
              "        \n",
              "  <svg xmlns=\"http://www.w3.org/2000/svg\" height=\"24px\"viewBox=\"0 0 24 24\"\n",
              "       width=\"24px\">\n",
              "    <path d=\"M0 0h24v24H0V0z\" fill=\"none\"/>\n",
              "    <path d=\"M18.56 5.44l.94 2.06.94-2.06 2.06-.94-2.06-.94-.94-2.06-.94 2.06-2.06.94zm-11 1L8.5 8.5l.94-2.06 2.06-.94-2.06-.94L8.5 2.5l-.94 2.06-2.06.94zm10 10l.94 2.06.94-2.06 2.06-.94-2.06-.94-.94-2.06-.94 2.06-2.06.94z\"/><path d=\"M17.41 7.96l-1.37-1.37c-.4-.4-.92-.59-1.43-.59-.52 0-1.04.2-1.43.59L10.3 9.45l-7.72 7.72c-.78.78-.78 2.05 0 2.83L4 21.41c.39.39.9.59 1.41.59.51 0 1.02-.2 1.41-.59l7.78-7.78 2.81-2.81c.8-.78.8-2.07 0-2.86zM5.41 20L4 18.59l7.72-7.72 1.47 1.35L5.41 20z\"/>\n",
              "  </svg>\n",
              "      </button>\n",
              "      \n",
              "  <style>\n",
              "    .colab-df-container {\n",
              "      display:flex;\n",
              "      flex-wrap:wrap;\n",
              "      gap: 12px;\n",
              "    }\n",
              "\n",
              "    .colab-df-convert {\n",
              "      background-color: #E8F0FE;\n",
              "      border: none;\n",
              "      border-radius: 50%;\n",
              "      cursor: pointer;\n",
              "      display: none;\n",
              "      fill: #1967D2;\n",
              "      height: 32px;\n",
              "      padding: 0 0 0 0;\n",
              "      width: 32px;\n",
              "    }\n",
              "\n",
              "    .colab-df-convert:hover {\n",
              "      background-color: #E2EBFA;\n",
              "      box-shadow: 0px 1px 2px rgba(60, 64, 67, 0.3), 0px 1px 3px 1px rgba(60, 64, 67, 0.15);\n",
              "      fill: #174EA6;\n",
              "    }\n",
              "\n",
              "    [theme=dark] .colab-df-convert {\n",
              "      background-color: #3B4455;\n",
              "      fill: #D2E3FC;\n",
              "    }\n",
              "\n",
              "    [theme=dark] .colab-df-convert:hover {\n",
              "      background-color: #434B5C;\n",
              "      box-shadow: 0px 1px 3px 1px rgba(0, 0, 0, 0.15);\n",
              "      filter: drop-shadow(0px 1px 2px rgba(0, 0, 0, 0.3));\n",
              "      fill: #FFFFFF;\n",
              "    }\n",
              "  </style>\n",
              "\n",
              "      <script>\n",
              "        const buttonEl =\n",
              "          document.querySelector('#df-e8460273-e1b2-488c-8a05-3a08df1b5b27 button.colab-df-convert');\n",
              "        buttonEl.style.display =\n",
              "          google.colab.kernel.accessAllowed ? 'block' : 'none';\n",
              "\n",
              "        async function convertToInteractive(key) {\n",
              "          const element = document.querySelector('#df-e8460273-e1b2-488c-8a05-3a08df1b5b27');\n",
              "          const dataTable =\n",
              "            await google.colab.kernel.invokeFunction('convertToInteractive',\n",
              "                                                     [key], {});\n",
              "          if (!dataTable) return;\n",
              "\n",
              "          const docLinkHtml = 'Like what you see? Visit the ' +\n",
              "            '<a target=\"_blank\" href=https://colab.research.google.com/notebooks/data_table.ipynb>data table notebook</a>'\n",
              "            + ' to learn more about interactive tables.';\n",
              "          element.innerHTML = '';\n",
              "          dataTable['output_type'] = 'display_data';\n",
              "          await google.colab.output.renderOutput(dataTable, element);\n",
              "          const docLink = document.createElement('div');\n",
              "          docLink.innerHTML = docLinkHtml;\n",
              "          element.appendChild(docLink);\n",
              "        }\n",
              "      </script>\n",
              "    </div>\n",
              "  </div>\n",
              "  "
            ]
          },
          "metadata": {},
          "execution_count": 7
        }
      ]
    },
    {
      "cell_type": "markdown",
      "source": [
        "#총 몇번 교체되었는지 component별 확인"
      ],
      "metadata": {
        "id": "p1YsT0uMlFic"
      }
    },
    {
      "cell_type": "code",
      "source": [
        "#maint 데이터파일 0과 1로 정리해주기\n",
        "import numpy as np\n",
        "comp_rep = pd.get_dummies(maint_df.set_index('datetime')).reset_index()\n",
        "comp_rep.columns = ['datetime', 'machineID','comp1', 'comp2', 'comp3', 'comp4']\n",
        "comp_rep = maint_df[['datetime', 'machineID']].merge(comp_rep,on=['datetime','machineID'],how='outer').fillna(0).sort_values(by=['machineID', 'datetime'])"
      ],
      "metadata": {
        "id": "Fp2nKD1PlMBT"
      },
      "execution_count": 8,
      "outputs": []
    },
    {
      "cell_type": "code",
      "source": [
        "comp_rep"
      ],
      "metadata": {
        "id": "Lp_FoZzm1DBa",
        "colab": {
          "base_uri": "https://localhost:8080/",
          "height": 0
        },
        "outputId": "a3d8fe0a-735f-4412-82ea-8802e87ca653"
      },
      "execution_count": 9,
      "outputs": [
        {
          "output_type": "execute_result",
          "data": {
            "text/plain": [
              "                 datetime  machineID  comp1  comp2  comp3  comp4\n",
              "0     2014-06-01 06:00:00          1      0      1      0      0\n",
              "1     2014-07-16 06:00:00          1      0      0      0      1\n",
              "2     2014-07-31 06:00:00          1      0      0      1      0\n",
              "3     2014-12-13 06:00:00          1      1      0      0      0\n",
              "4     2015-01-05 06:00:00          1      0      0      0      1\n",
              "...                   ...        ...    ...    ...    ...    ...\n",
              "4801  2015-10-10 06:00:00        100      0      0      1      0\n",
              "4802  2015-10-25 06:00:00        100      0      0      0      1\n",
              "4803  2015-11-09 06:00:00        100      0      0      0      1\n",
              "4804  2015-12-09 06:00:00        100      0      1      0      0\n",
              "4805  2015-12-24 06:00:00        100      0      1      0      0\n",
              "\n",
              "[4806 rows x 6 columns]"
            ],
            "text/html": [
              "\n",
              "  <div id=\"df-459e77e2-7552-4ecb-a0a8-7e6aa4131739\">\n",
              "    <div class=\"colab-df-container\">\n",
              "      <div>\n",
              "<style scoped>\n",
              "    .dataframe tbody tr th:only-of-type {\n",
              "        vertical-align: middle;\n",
              "    }\n",
              "\n",
              "    .dataframe tbody tr th {\n",
              "        vertical-align: top;\n",
              "    }\n",
              "\n",
              "    .dataframe thead th {\n",
              "        text-align: right;\n",
              "    }\n",
              "</style>\n",
              "<table border=\"1\" class=\"dataframe\">\n",
              "  <thead>\n",
              "    <tr style=\"text-align: right;\">\n",
              "      <th></th>\n",
              "      <th>datetime</th>\n",
              "      <th>machineID</th>\n",
              "      <th>comp1</th>\n",
              "      <th>comp2</th>\n",
              "      <th>comp3</th>\n",
              "      <th>comp4</th>\n",
              "    </tr>\n",
              "  </thead>\n",
              "  <tbody>\n",
              "    <tr>\n",
              "      <th>0</th>\n",
              "      <td>2014-06-01 06:00:00</td>\n",
              "      <td>1</td>\n",
              "      <td>0</td>\n",
              "      <td>1</td>\n",
              "      <td>0</td>\n",
              "      <td>0</td>\n",
              "    </tr>\n",
              "    <tr>\n",
              "      <th>1</th>\n",
              "      <td>2014-07-16 06:00:00</td>\n",
              "      <td>1</td>\n",
              "      <td>0</td>\n",
              "      <td>0</td>\n",
              "      <td>0</td>\n",
              "      <td>1</td>\n",
              "    </tr>\n",
              "    <tr>\n",
              "      <th>2</th>\n",
              "      <td>2014-07-31 06:00:00</td>\n",
              "      <td>1</td>\n",
              "      <td>0</td>\n",
              "      <td>0</td>\n",
              "      <td>1</td>\n",
              "      <td>0</td>\n",
              "    </tr>\n",
              "    <tr>\n",
              "      <th>3</th>\n",
              "      <td>2014-12-13 06:00:00</td>\n",
              "      <td>1</td>\n",
              "      <td>1</td>\n",
              "      <td>0</td>\n",
              "      <td>0</td>\n",
              "      <td>0</td>\n",
              "    </tr>\n",
              "    <tr>\n",
              "      <th>4</th>\n",
              "      <td>2015-01-05 06:00:00</td>\n",
              "      <td>1</td>\n",
              "      <td>0</td>\n",
              "      <td>0</td>\n",
              "      <td>0</td>\n",
              "      <td>1</td>\n",
              "    </tr>\n",
              "    <tr>\n",
              "      <th>...</th>\n",
              "      <td>...</td>\n",
              "      <td>...</td>\n",
              "      <td>...</td>\n",
              "      <td>...</td>\n",
              "      <td>...</td>\n",
              "      <td>...</td>\n",
              "    </tr>\n",
              "    <tr>\n",
              "      <th>4801</th>\n",
              "      <td>2015-10-10 06:00:00</td>\n",
              "      <td>100</td>\n",
              "      <td>0</td>\n",
              "      <td>0</td>\n",
              "      <td>1</td>\n",
              "      <td>0</td>\n",
              "    </tr>\n",
              "    <tr>\n",
              "      <th>4802</th>\n",
              "      <td>2015-10-25 06:00:00</td>\n",
              "      <td>100</td>\n",
              "      <td>0</td>\n",
              "      <td>0</td>\n",
              "      <td>0</td>\n",
              "      <td>1</td>\n",
              "    </tr>\n",
              "    <tr>\n",
              "      <th>4803</th>\n",
              "      <td>2015-11-09 06:00:00</td>\n",
              "      <td>100</td>\n",
              "      <td>0</td>\n",
              "      <td>0</td>\n",
              "      <td>0</td>\n",
              "      <td>1</td>\n",
              "    </tr>\n",
              "    <tr>\n",
              "      <th>4804</th>\n",
              "      <td>2015-12-09 06:00:00</td>\n",
              "      <td>100</td>\n",
              "      <td>0</td>\n",
              "      <td>1</td>\n",
              "      <td>0</td>\n",
              "      <td>0</td>\n",
              "    </tr>\n",
              "    <tr>\n",
              "      <th>4805</th>\n",
              "      <td>2015-12-24 06:00:00</td>\n",
              "      <td>100</td>\n",
              "      <td>0</td>\n",
              "      <td>1</td>\n",
              "      <td>0</td>\n",
              "      <td>0</td>\n",
              "    </tr>\n",
              "  </tbody>\n",
              "</table>\n",
              "<p>4806 rows × 6 columns</p>\n",
              "</div>\n",
              "      <button class=\"colab-df-convert\" onclick=\"convertToInteractive('df-459e77e2-7552-4ecb-a0a8-7e6aa4131739')\"\n",
              "              title=\"Convert this dataframe to an interactive table.\"\n",
              "              style=\"display:none;\">\n",
              "        \n",
              "  <svg xmlns=\"http://www.w3.org/2000/svg\" height=\"24px\"viewBox=\"0 0 24 24\"\n",
              "       width=\"24px\">\n",
              "    <path d=\"M0 0h24v24H0V0z\" fill=\"none\"/>\n",
              "    <path d=\"M18.56 5.44l.94 2.06.94-2.06 2.06-.94-2.06-.94-.94-2.06-.94 2.06-2.06.94zm-11 1L8.5 8.5l.94-2.06 2.06-.94-2.06-.94L8.5 2.5l-.94 2.06-2.06.94zm10 10l.94 2.06.94-2.06 2.06-.94-2.06-.94-.94-2.06-.94 2.06-2.06.94z\"/><path d=\"M17.41 7.96l-1.37-1.37c-.4-.4-.92-.59-1.43-.59-.52 0-1.04.2-1.43.59L10.3 9.45l-7.72 7.72c-.78.78-.78 2.05 0 2.83L4 21.41c.39.39.9.59 1.41.59.51 0 1.02-.2 1.41-.59l7.78-7.78 2.81-2.81c.8-.78.8-2.07 0-2.86zM5.41 20L4 18.59l7.72-7.72 1.47 1.35L5.41 20z\"/>\n",
              "  </svg>\n",
              "      </button>\n",
              "      \n",
              "  <style>\n",
              "    .colab-df-container {\n",
              "      display:flex;\n",
              "      flex-wrap:wrap;\n",
              "      gap: 12px;\n",
              "    }\n",
              "\n",
              "    .colab-df-convert {\n",
              "      background-color: #E8F0FE;\n",
              "      border: none;\n",
              "      border-radius: 50%;\n",
              "      cursor: pointer;\n",
              "      display: none;\n",
              "      fill: #1967D2;\n",
              "      height: 32px;\n",
              "      padding: 0 0 0 0;\n",
              "      width: 32px;\n",
              "    }\n",
              "\n",
              "    .colab-df-convert:hover {\n",
              "      background-color: #E2EBFA;\n",
              "      box-shadow: 0px 1px 2px rgba(60, 64, 67, 0.3), 0px 1px 3px 1px rgba(60, 64, 67, 0.15);\n",
              "      fill: #174EA6;\n",
              "    }\n",
              "\n",
              "    [theme=dark] .colab-df-convert {\n",
              "      background-color: #3B4455;\n",
              "      fill: #D2E3FC;\n",
              "    }\n",
              "\n",
              "    [theme=dark] .colab-df-convert:hover {\n",
              "      background-color: #434B5C;\n",
              "      box-shadow: 0px 1px 3px 1px rgba(0, 0, 0, 0.15);\n",
              "      filter: drop-shadow(0px 1px 2px rgba(0, 0, 0, 0.3));\n",
              "      fill: #FFFFFF;\n",
              "    }\n",
              "  </style>\n",
              "\n",
              "      <script>\n",
              "        const buttonEl =\n",
              "          document.querySelector('#df-459e77e2-7552-4ecb-a0a8-7e6aa4131739 button.colab-df-convert');\n",
              "        buttonEl.style.display =\n",
              "          google.colab.kernel.accessAllowed ? 'block' : 'none';\n",
              "\n",
              "        async function convertToInteractive(key) {\n",
              "          const element = document.querySelector('#df-459e77e2-7552-4ecb-a0a8-7e6aa4131739');\n",
              "          const dataTable =\n",
              "            await google.colab.kernel.invokeFunction('convertToInteractive',\n",
              "                                                     [key], {});\n",
              "          if (!dataTable) return;\n",
              "\n",
              "          const docLinkHtml = 'Like what you see? Visit the ' +\n",
              "            '<a target=\"_blank\" href=https://colab.research.google.com/notebooks/data_table.ipynb>data table notebook</a>'\n",
              "            + ' to learn more about interactive tables.';\n",
              "          element.innerHTML = '';\n",
              "          dataTable['output_type'] = 'display_data';\n",
              "          await google.colab.output.renderOutput(dataTable, element);\n",
              "          const docLink = document.createElement('div');\n",
              "          docLink.innerHTML = docLinkHtml;\n",
              "          element.appendChild(docLink);\n",
              "        }\n",
              "      </script>\n",
              "    </div>\n",
              "  </div>\n",
              "  "
            ]
          },
          "metadata": {},
          "execution_count": 9
        }
      ]
    },
    {
      "cell_type": "code",
      "source": [
        "#maint 데이터파일 시간대별로 채우기\n",
        "components = ['comp1', 'comp2', 'comp3', 'comp4']\n",
        "for comp in components:\n",
        "    comp_rep.loc[comp_rep[comp] < 1, comp] = None\n",
        "    comp_rep.loc[-comp_rep[comp].isnull(),\n",
        "                 comp] = comp_rep.loc[-comp_rep[comp].isnull(), 'datetime']\n",
        "    comp_rep[comp] = comp_rep[comp].fillna(method='ffill')"
      ],
      "metadata": {
        "id": "LIHJVS7rlM4E"
      },
      "execution_count": 10,
      "outputs": []
    },
    {
      "cell_type": "code",
      "source": [
        "#컴포넌트별 모든 시간대 정리\n",
        "comp1_t = pd.DataFrame(comp_rep, columns = ['datetime','machineID','comp1'])\n",
        "comp2_t = pd.DataFrame(comp_rep, columns = ['datetime','machineID','comp2'])\n",
        "comp3_t = pd.DataFrame(comp_rep, columns = ['datetime','machineID','comp3'])\n",
        "comp4_t = pd.DataFrame(comp_rep, columns = ['datetime','machineID','comp4'])"
      ],
      "metadata": {
        "id": "UMgy1Of3lOHr"
      },
      "execution_count": 11,
      "outputs": []
    },
    {
      "cell_type": "code",
      "source": [
        "#컴포넌트 시간대별 중복 데이터 정리\n",
        "comp1_rep = comp1_t.drop_duplicates(['comp1']) #303데이터열\n",
        "comp2_rep = comp2_t.drop_duplicates(['comp2']) #317데이터열\n",
        "comp3_rep = comp3_t.drop_duplicates(['comp3']) #311데이터열\n",
        "comp4_rep = comp4_t.drop_duplicates(['comp4']) #314데이터열"
      ],
      "metadata": {
        "id": "M3coQE9RlPaN"
      },
      "execution_count": 12,
      "outputs": []
    },
    {
      "cell_type": "code",
      "source": [
        "print(f'comp1은 {len(comp1_rep)}번 교체, comp2은 {len(comp2_rep)}번 교체, comp3은 {len(comp3_rep)}번 교체, comp4은 {len(comp4_rep)}번 교체,')"
      ],
      "metadata": {
        "id": "nfPFtLKYlQzL",
        "colab": {
          "base_uri": "https://localhost:8080/"
        },
        "outputId": "4f96d96b-5ca9-4103-9e91-d755b6399706"
      },
      "execution_count": 13,
      "outputs": [
        {
          "output_type": "stream",
          "name": "stdout",
          "text": [
            "comp1은 303번 교체, comp2은 317번 교체, comp3은 311번 교체, comp4은 314번 교체,\n"
          ]
        }
      ]
    },
    {
      "cell_type": "code",
      "source": [
        "comp1_t.head(30)"
      ],
      "metadata": {
        "id": "_V1e9vXxQK5-",
        "colab": {
          "base_uri": "https://localhost:8080/",
          "height": 0
        },
        "outputId": "015be3ce-cb62-4570-a8ce-29ba8a163238"
      },
      "execution_count": 14,
      "outputs": [
        {
          "output_type": "execute_result",
          "data": {
            "text/plain": [
              "               datetime  machineID                comp1\n",
              "0   2014-06-01 06:00:00          1                  NaN\n",
              "1   2014-07-16 06:00:00          1                  NaN\n",
              "2   2014-07-31 06:00:00          1                  NaN\n",
              "3   2014-12-13 06:00:00          1  2014-12-13 06:00:00\n",
              "4   2015-01-05 06:00:00          1  2014-12-13 06:00:00\n",
              "5   2015-01-05 06:00:00          1  2015-01-05 06:00:00\n",
              "6   2015-01-05 06:00:00          1  2015-01-05 06:00:00\n",
              "7   2015-01-05 06:00:00          1  2015-01-05 06:00:00\n",
              "8   2015-01-20 06:00:00          1  2015-01-05 06:00:00\n",
              "9   2015-01-20 06:00:00          1  2015-01-20 06:00:00\n",
              "10  2015-01-20 06:00:00          1  2015-01-20 06:00:00\n",
              "11  2015-01-20 06:00:00          1  2015-01-20 06:00:00\n",
              "12  2015-02-04 06:00:00          1  2015-01-20 06:00:00\n",
              "13  2015-02-04 06:00:00          1  2015-01-20 06:00:00\n",
              "14  2015-02-04 06:00:00          1  2015-01-20 06:00:00\n",
              "15  2015-02-04 06:00:00          1  2015-01-20 06:00:00\n",
              "16  2015-02-19 06:00:00          1  2015-01-20 06:00:00\n",
              "17  2015-03-06 06:00:00          1  2015-03-06 06:00:00\n",
              "18  2015-03-21 06:00:00          1  2015-03-21 06:00:00\n",
              "19  2015-04-05 06:00:00          1  2015-03-21 06:00:00\n",
              "20  2015-04-20 06:00:00          1  2015-03-21 06:00:00\n",
              "21  2015-05-05 06:00:00          1  2015-03-21 06:00:00\n",
              "22  2015-05-05 06:00:00          1  2015-03-21 06:00:00\n",
              "23  2015-05-05 06:00:00          1  2015-03-21 06:00:00\n",
              "24  2015-05-05 06:00:00          1  2015-03-21 06:00:00\n",
              "25  2015-05-20 06:00:00          1  2015-03-21 06:00:00\n",
              "26  2015-06-04 06:00:00          1  2015-03-21 06:00:00\n",
              "27  2015-06-19 06:00:00          1  2015-06-19 06:00:00\n",
              "28  2015-06-19 06:00:00          1  2015-06-19 06:00:00\n",
              "29  2015-06-19 06:00:00          1  2015-06-19 06:00:00"
            ],
            "text/html": [
              "\n",
              "  <div id=\"df-9a6688c4-d5f2-446d-bc64-5432f30df062\">\n",
              "    <div class=\"colab-df-container\">\n",
              "      <div>\n",
              "<style scoped>\n",
              "    .dataframe tbody tr th:only-of-type {\n",
              "        vertical-align: middle;\n",
              "    }\n",
              "\n",
              "    .dataframe tbody tr th {\n",
              "        vertical-align: top;\n",
              "    }\n",
              "\n",
              "    .dataframe thead th {\n",
              "        text-align: right;\n",
              "    }\n",
              "</style>\n",
              "<table border=\"1\" class=\"dataframe\">\n",
              "  <thead>\n",
              "    <tr style=\"text-align: right;\">\n",
              "      <th></th>\n",
              "      <th>datetime</th>\n",
              "      <th>machineID</th>\n",
              "      <th>comp1</th>\n",
              "    </tr>\n",
              "  </thead>\n",
              "  <tbody>\n",
              "    <tr>\n",
              "      <th>0</th>\n",
              "      <td>2014-06-01 06:00:00</td>\n",
              "      <td>1</td>\n",
              "      <td>NaN</td>\n",
              "    </tr>\n",
              "    <tr>\n",
              "      <th>1</th>\n",
              "      <td>2014-07-16 06:00:00</td>\n",
              "      <td>1</td>\n",
              "      <td>NaN</td>\n",
              "    </tr>\n",
              "    <tr>\n",
              "      <th>2</th>\n",
              "      <td>2014-07-31 06:00:00</td>\n",
              "      <td>1</td>\n",
              "      <td>NaN</td>\n",
              "    </tr>\n",
              "    <tr>\n",
              "      <th>3</th>\n",
              "      <td>2014-12-13 06:00:00</td>\n",
              "      <td>1</td>\n",
              "      <td>2014-12-13 06:00:00</td>\n",
              "    </tr>\n",
              "    <tr>\n",
              "      <th>4</th>\n",
              "      <td>2015-01-05 06:00:00</td>\n",
              "      <td>1</td>\n",
              "      <td>2014-12-13 06:00:00</td>\n",
              "    </tr>\n",
              "    <tr>\n",
              "      <th>5</th>\n",
              "      <td>2015-01-05 06:00:00</td>\n",
              "      <td>1</td>\n",
              "      <td>2015-01-05 06:00:00</td>\n",
              "    </tr>\n",
              "    <tr>\n",
              "      <th>6</th>\n",
              "      <td>2015-01-05 06:00:00</td>\n",
              "      <td>1</td>\n",
              "      <td>2015-01-05 06:00:00</td>\n",
              "    </tr>\n",
              "    <tr>\n",
              "      <th>7</th>\n",
              "      <td>2015-01-05 06:00:00</td>\n",
              "      <td>1</td>\n",
              "      <td>2015-01-05 06:00:00</td>\n",
              "    </tr>\n",
              "    <tr>\n",
              "      <th>8</th>\n",
              "      <td>2015-01-20 06:00:00</td>\n",
              "      <td>1</td>\n",
              "      <td>2015-01-05 06:00:00</td>\n",
              "    </tr>\n",
              "    <tr>\n",
              "      <th>9</th>\n",
              "      <td>2015-01-20 06:00:00</td>\n",
              "      <td>1</td>\n",
              "      <td>2015-01-20 06:00:00</td>\n",
              "    </tr>\n",
              "    <tr>\n",
              "      <th>10</th>\n",
              "      <td>2015-01-20 06:00:00</td>\n",
              "      <td>1</td>\n",
              "      <td>2015-01-20 06:00:00</td>\n",
              "    </tr>\n",
              "    <tr>\n",
              "      <th>11</th>\n",
              "      <td>2015-01-20 06:00:00</td>\n",
              "      <td>1</td>\n",
              "      <td>2015-01-20 06:00:00</td>\n",
              "    </tr>\n",
              "    <tr>\n",
              "      <th>12</th>\n",
              "      <td>2015-02-04 06:00:00</td>\n",
              "      <td>1</td>\n",
              "      <td>2015-01-20 06:00:00</td>\n",
              "    </tr>\n",
              "    <tr>\n",
              "      <th>13</th>\n",
              "      <td>2015-02-04 06:00:00</td>\n",
              "      <td>1</td>\n",
              "      <td>2015-01-20 06:00:00</td>\n",
              "    </tr>\n",
              "    <tr>\n",
              "      <th>14</th>\n",
              "      <td>2015-02-04 06:00:00</td>\n",
              "      <td>1</td>\n",
              "      <td>2015-01-20 06:00:00</td>\n",
              "    </tr>\n",
              "    <tr>\n",
              "      <th>15</th>\n",
              "      <td>2015-02-04 06:00:00</td>\n",
              "      <td>1</td>\n",
              "      <td>2015-01-20 06:00:00</td>\n",
              "    </tr>\n",
              "    <tr>\n",
              "      <th>16</th>\n",
              "      <td>2015-02-19 06:00:00</td>\n",
              "      <td>1</td>\n",
              "      <td>2015-01-20 06:00:00</td>\n",
              "    </tr>\n",
              "    <tr>\n",
              "      <th>17</th>\n",
              "      <td>2015-03-06 06:00:00</td>\n",
              "      <td>1</td>\n",
              "      <td>2015-03-06 06:00:00</td>\n",
              "    </tr>\n",
              "    <tr>\n",
              "      <th>18</th>\n",
              "      <td>2015-03-21 06:00:00</td>\n",
              "      <td>1</td>\n",
              "      <td>2015-03-21 06:00:00</td>\n",
              "    </tr>\n",
              "    <tr>\n",
              "      <th>19</th>\n",
              "      <td>2015-04-05 06:00:00</td>\n",
              "      <td>1</td>\n",
              "      <td>2015-03-21 06:00:00</td>\n",
              "    </tr>\n",
              "    <tr>\n",
              "      <th>20</th>\n",
              "      <td>2015-04-20 06:00:00</td>\n",
              "      <td>1</td>\n",
              "      <td>2015-03-21 06:00:00</td>\n",
              "    </tr>\n",
              "    <tr>\n",
              "      <th>21</th>\n",
              "      <td>2015-05-05 06:00:00</td>\n",
              "      <td>1</td>\n",
              "      <td>2015-03-21 06:00:00</td>\n",
              "    </tr>\n",
              "    <tr>\n",
              "      <th>22</th>\n",
              "      <td>2015-05-05 06:00:00</td>\n",
              "      <td>1</td>\n",
              "      <td>2015-03-21 06:00:00</td>\n",
              "    </tr>\n",
              "    <tr>\n",
              "      <th>23</th>\n",
              "      <td>2015-05-05 06:00:00</td>\n",
              "      <td>1</td>\n",
              "      <td>2015-03-21 06:00:00</td>\n",
              "    </tr>\n",
              "    <tr>\n",
              "      <th>24</th>\n",
              "      <td>2015-05-05 06:00:00</td>\n",
              "      <td>1</td>\n",
              "      <td>2015-03-21 06:00:00</td>\n",
              "    </tr>\n",
              "    <tr>\n",
              "      <th>25</th>\n",
              "      <td>2015-05-20 06:00:00</td>\n",
              "      <td>1</td>\n",
              "      <td>2015-03-21 06:00:00</td>\n",
              "    </tr>\n",
              "    <tr>\n",
              "      <th>26</th>\n",
              "      <td>2015-06-04 06:00:00</td>\n",
              "      <td>1</td>\n",
              "      <td>2015-03-21 06:00:00</td>\n",
              "    </tr>\n",
              "    <tr>\n",
              "      <th>27</th>\n",
              "      <td>2015-06-19 06:00:00</td>\n",
              "      <td>1</td>\n",
              "      <td>2015-06-19 06:00:00</td>\n",
              "    </tr>\n",
              "    <tr>\n",
              "      <th>28</th>\n",
              "      <td>2015-06-19 06:00:00</td>\n",
              "      <td>1</td>\n",
              "      <td>2015-06-19 06:00:00</td>\n",
              "    </tr>\n",
              "    <tr>\n",
              "      <th>29</th>\n",
              "      <td>2015-06-19 06:00:00</td>\n",
              "      <td>1</td>\n",
              "      <td>2015-06-19 06:00:00</td>\n",
              "    </tr>\n",
              "  </tbody>\n",
              "</table>\n",
              "</div>\n",
              "      <button class=\"colab-df-convert\" onclick=\"convertToInteractive('df-9a6688c4-d5f2-446d-bc64-5432f30df062')\"\n",
              "              title=\"Convert this dataframe to an interactive table.\"\n",
              "              style=\"display:none;\">\n",
              "        \n",
              "  <svg xmlns=\"http://www.w3.org/2000/svg\" height=\"24px\"viewBox=\"0 0 24 24\"\n",
              "       width=\"24px\">\n",
              "    <path d=\"M0 0h24v24H0V0z\" fill=\"none\"/>\n",
              "    <path d=\"M18.56 5.44l.94 2.06.94-2.06 2.06-.94-2.06-.94-.94-2.06-.94 2.06-2.06.94zm-11 1L8.5 8.5l.94-2.06 2.06-.94-2.06-.94L8.5 2.5l-.94 2.06-2.06.94zm10 10l.94 2.06.94-2.06 2.06-.94-2.06-.94-.94-2.06-.94 2.06-2.06.94z\"/><path d=\"M17.41 7.96l-1.37-1.37c-.4-.4-.92-.59-1.43-.59-.52 0-1.04.2-1.43.59L10.3 9.45l-7.72 7.72c-.78.78-.78 2.05 0 2.83L4 21.41c.39.39.9.59 1.41.59.51 0 1.02-.2 1.41-.59l7.78-7.78 2.81-2.81c.8-.78.8-2.07 0-2.86zM5.41 20L4 18.59l7.72-7.72 1.47 1.35L5.41 20z\"/>\n",
              "  </svg>\n",
              "      </button>\n",
              "      \n",
              "  <style>\n",
              "    .colab-df-container {\n",
              "      display:flex;\n",
              "      flex-wrap:wrap;\n",
              "      gap: 12px;\n",
              "    }\n",
              "\n",
              "    .colab-df-convert {\n",
              "      background-color: #E8F0FE;\n",
              "      border: none;\n",
              "      border-radius: 50%;\n",
              "      cursor: pointer;\n",
              "      display: none;\n",
              "      fill: #1967D2;\n",
              "      height: 32px;\n",
              "      padding: 0 0 0 0;\n",
              "      width: 32px;\n",
              "    }\n",
              "\n",
              "    .colab-df-convert:hover {\n",
              "      background-color: #E2EBFA;\n",
              "      box-shadow: 0px 1px 2px rgba(60, 64, 67, 0.3), 0px 1px 3px 1px rgba(60, 64, 67, 0.15);\n",
              "      fill: #174EA6;\n",
              "    }\n",
              "\n",
              "    [theme=dark] .colab-df-convert {\n",
              "      background-color: #3B4455;\n",
              "      fill: #D2E3FC;\n",
              "    }\n",
              "\n",
              "    [theme=dark] .colab-df-convert:hover {\n",
              "      background-color: #434B5C;\n",
              "      box-shadow: 0px 1px 3px 1px rgba(0, 0, 0, 0.15);\n",
              "      filter: drop-shadow(0px 1px 2px rgba(0, 0, 0, 0.3));\n",
              "      fill: #FFFFFF;\n",
              "    }\n",
              "  </style>\n",
              "\n",
              "      <script>\n",
              "        const buttonEl =\n",
              "          document.querySelector('#df-9a6688c4-d5f2-446d-bc64-5432f30df062 button.colab-df-convert');\n",
              "        buttonEl.style.display =\n",
              "          google.colab.kernel.accessAllowed ? 'block' : 'none';\n",
              "\n",
              "        async function convertToInteractive(key) {\n",
              "          const element = document.querySelector('#df-9a6688c4-d5f2-446d-bc64-5432f30df062');\n",
              "          const dataTable =\n",
              "            await google.colab.kernel.invokeFunction('convertToInteractive',\n",
              "                                                     [key], {});\n",
              "          if (!dataTable) return;\n",
              "\n",
              "          const docLinkHtml = 'Like what you see? Visit the ' +\n",
              "            '<a target=\"_blank\" href=https://colab.research.google.com/notebooks/data_table.ipynb>data table notebook</a>'\n",
              "            + ' to learn more about interactive tables.';\n",
              "          element.innerHTML = '';\n",
              "          dataTable['output_type'] = 'display_data';\n",
              "          await google.colab.output.renderOutput(dataTable, element);\n",
              "          const docLink = document.createElement('div');\n",
              "          docLink.innerHTML = docLinkHtml;\n",
              "          element.appendChild(docLink);\n",
              "        }\n",
              "      </script>\n",
              "    </div>\n",
              "  </div>\n",
              "  "
            ]
          },
          "metadata": {},
          "execution_count": 14
        }
      ]
    },
    {
      "cell_type": "markdown",
      "source": [
        "#고장에 의한 교체 찾기 $1 #다시 확인해보기.\n",
        "--- "
      ],
      "metadata": {
        "id": "kvaDeYzQlXQD"
      }
    },
    {
      "cell_type": "code",
      "source": [
        "#----------------------------------------------------------------------\n",
        "df = pd.DataFrame(columns = {'failures_maint','machineID','datetime'})\n",
        "df = df.reindex(columns = ['machineID','datetime','failures_maint'])\n",
        "df"
      ],
      "metadata": {
        "colab": {
          "base_uri": "https://localhost:8080/",
          "height": 0
        },
        "id": "U2xyVzR0lcR8",
        "outputId": "06ef1ee3-e6d9-4afa-afa7-f5686e367dd5"
      },
      "execution_count": 15,
      "outputs": [
        {
          "output_type": "execute_result",
          "data": {
            "text/plain": [
              "Empty DataFrame\n",
              "Columns: [machineID, datetime, failures_maint]\n",
              "Index: []"
            ],
            "text/html": [
              "\n",
              "  <div id=\"df-01ceefe0-8e2a-470d-82e8-269ad4dc4cc9\">\n",
              "    <div class=\"colab-df-container\">\n",
              "      <div>\n",
              "<style scoped>\n",
              "    .dataframe tbody tr th:only-of-type {\n",
              "        vertical-align: middle;\n",
              "    }\n",
              "\n",
              "    .dataframe tbody tr th {\n",
              "        vertical-align: top;\n",
              "    }\n",
              "\n",
              "    .dataframe thead th {\n",
              "        text-align: right;\n",
              "    }\n",
              "</style>\n",
              "<table border=\"1\" class=\"dataframe\">\n",
              "  <thead>\n",
              "    <tr style=\"text-align: right;\">\n",
              "      <th></th>\n",
              "      <th>machineID</th>\n",
              "      <th>datetime</th>\n",
              "      <th>failures_maint</th>\n",
              "    </tr>\n",
              "  </thead>\n",
              "  <tbody>\n",
              "  </tbody>\n",
              "</table>\n",
              "</div>\n",
              "      <button class=\"colab-df-convert\" onclick=\"convertToInteractive('df-01ceefe0-8e2a-470d-82e8-269ad4dc4cc9')\"\n",
              "              title=\"Convert this dataframe to an interactive table.\"\n",
              "              style=\"display:none;\">\n",
              "        \n",
              "  <svg xmlns=\"http://www.w3.org/2000/svg\" height=\"24px\"viewBox=\"0 0 24 24\"\n",
              "       width=\"24px\">\n",
              "    <path d=\"M0 0h24v24H0V0z\" fill=\"none\"/>\n",
              "    <path d=\"M18.56 5.44l.94 2.06.94-2.06 2.06-.94-2.06-.94-.94-2.06-.94 2.06-2.06.94zm-11 1L8.5 8.5l.94-2.06 2.06-.94-2.06-.94L8.5 2.5l-.94 2.06-2.06.94zm10 10l.94 2.06.94-2.06 2.06-.94-2.06-.94-.94-2.06-.94 2.06-2.06.94z\"/><path d=\"M17.41 7.96l-1.37-1.37c-.4-.4-.92-.59-1.43-.59-.52 0-1.04.2-1.43.59L10.3 9.45l-7.72 7.72c-.78.78-.78 2.05 0 2.83L4 21.41c.39.39.9.59 1.41.59.51 0 1.02-.2 1.41-.59l7.78-7.78 2.81-2.81c.8-.78.8-2.07 0-2.86zM5.41 20L4 18.59l7.72-7.72 1.47 1.35L5.41 20z\"/>\n",
              "  </svg>\n",
              "      </button>\n",
              "      \n",
              "  <style>\n",
              "    .colab-df-container {\n",
              "      display:flex;\n",
              "      flex-wrap:wrap;\n",
              "      gap: 12px;\n",
              "    }\n",
              "\n",
              "    .colab-df-convert {\n",
              "      background-color: #E8F0FE;\n",
              "      border: none;\n",
              "      border-radius: 50%;\n",
              "      cursor: pointer;\n",
              "      display: none;\n",
              "      fill: #1967D2;\n",
              "      height: 32px;\n",
              "      padding: 0 0 0 0;\n",
              "      width: 32px;\n",
              "    }\n",
              "\n",
              "    .colab-df-convert:hover {\n",
              "      background-color: #E2EBFA;\n",
              "      box-shadow: 0px 1px 2px rgba(60, 64, 67, 0.3), 0px 1px 3px 1px rgba(60, 64, 67, 0.15);\n",
              "      fill: #174EA6;\n",
              "    }\n",
              "\n",
              "    [theme=dark] .colab-df-convert {\n",
              "      background-color: #3B4455;\n",
              "      fill: #D2E3FC;\n",
              "    }\n",
              "\n",
              "    [theme=dark] .colab-df-convert:hover {\n",
              "      background-color: #434B5C;\n",
              "      box-shadow: 0px 1px 3px 1px rgba(0, 0, 0, 0.15);\n",
              "      filter: drop-shadow(0px 1px 2px rgba(0, 0, 0, 0.3));\n",
              "      fill: #FFFFFF;\n",
              "    }\n",
              "  </style>\n",
              "\n",
              "      <script>\n",
              "        const buttonEl =\n",
              "          document.querySelector('#df-01ceefe0-8e2a-470d-82e8-269ad4dc4cc9 button.colab-df-convert');\n",
              "        buttonEl.style.display =\n",
              "          google.colab.kernel.accessAllowed ? 'block' : 'none';\n",
              "\n",
              "        async function convertToInteractive(key) {\n",
              "          const element = document.querySelector('#df-01ceefe0-8e2a-470d-82e8-269ad4dc4cc9');\n",
              "          const dataTable =\n",
              "            await google.colab.kernel.invokeFunction('convertToInteractive',\n",
              "                                                     [key], {});\n",
              "          if (!dataTable) return;\n",
              "\n",
              "          const docLinkHtml = 'Like what you see? Visit the ' +\n",
              "            '<a target=\"_blank\" href=https://colab.research.google.com/notebooks/data_table.ipynb>data table notebook</a>'\n",
              "            + ' to learn more about interactive tables.';\n",
              "          element.innerHTML = '';\n",
              "          dataTable['output_type'] = 'display_data';\n",
              "          await google.colab.output.renderOutput(dataTable, element);\n",
              "          const docLink = document.createElement('div');\n",
              "          docLink.innerHTML = docLinkHtml;\n",
              "          element.appendChild(docLink);\n",
              "        }\n",
              "      </script>\n",
              "    </div>\n",
              "  </div>\n",
              "  "
            ]
          },
          "metadata": {},
          "execution_count": 15
        }
      ]
    },
    {
      "cell_type": "code",
      "source": [
        "#----------------------------------------------------------------------------\n",
        "n = maint_df.merge(failures_df, on = ('machineID','datetime'),how = 'inner')\n",
        "for i in range(len(n)):\n",
        "  if n['comp'][i] == n['failure'][i]: #겹치는애들\n",
        "    df.loc[i] = [n['machineID'][i],n['datetime'][i],n['failure'][i]]\n",
        "  else:#겹치지 않는애들 (제거 요망)\n",
        "    pass"
      ],
      "metadata": {
        "id": "CsdJxpMGle4j"
      },
      "execution_count": 16,
      "outputs": []
    },
    {
      "cell_type": "code",
      "source": [
        "#------------------------------------------------\n",
        "df1 = df.set_index('datetime').reset_index() #숫자 재정렬\n",
        "df1"
      ],
      "metadata": {
        "id": "h0-4jujMlgWD",
        "colab": {
          "base_uri": "https://localhost:8080/",
          "height": 0
        },
        "outputId": "65761bf7-e372-4212-8076-f38741f639d2"
      },
      "execution_count": 17,
      "outputs": [
        {
          "output_type": "execute_result",
          "data": {
            "text/plain": [
              "                datetime machineID failures_maint\n",
              "0    2015-01-05 06:00:00         1          comp4\n",
              "1    2015-03-06 06:00:00         1          comp1\n",
              "2    2015-04-20 06:00:00         1          comp2\n",
              "3    2015-06-19 06:00:00         1          comp4\n",
              "4    2015-09-02 06:00:00         1          comp4\n",
              "..                   ...       ...            ...\n",
              "738  2015-11-29 06:00:00        99          comp3\n",
              "739  2015-12-14 06:00:00        99          comp4\n",
              "740  2015-02-12 06:00:00       100          comp1\n",
              "741  2015-09-10 06:00:00       100          comp1\n",
              "742  2015-12-09 06:00:00       100          comp2\n",
              "\n",
              "[743 rows x 3 columns]"
            ],
            "text/html": [
              "\n",
              "  <div id=\"df-cc00ea92-4632-4778-b1b9-63ebadd544b8\">\n",
              "    <div class=\"colab-df-container\">\n",
              "      <div>\n",
              "<style scoped>\n",
              "    .dataframe tbody tr th:only-of-type {\n",
              "        vertical-align: middle;\n",
              "    }\n",
              "\n",
              "    .dataframe tbody tr th {\n",
              "        vertical-align: top;\n",
              "    }\n",
              "\n",
              "    .dataframe thead th {\n",
              "        text-align: right;\n",
              "    }\n",
              "</style>\n",
              "<table border=\"1\" class=\"dataframe\">\n",
              "  <thead>\n",
              "    <tr style=\"text-align: right;\">\n",
              "      <th></th>\n",
              "      <th>datetime</th>\n",
              "      <th>machineID</th>\n",
              "      <th>failures_maint</th>\n",
              "    </tr>\n",
              "  </thead>\n",
              "  <tbody>\n",
              "    <tr>\n",
              "      <th>0</th>\n",
              "      <td>2015-01-05 06:00:00</td>\n",
              "      <td>1</td>\n",
              "      <td>comp4</td>\n",
              "    </tr>\n",
              "    <tr>\n",
              "      <th>1</th>\n",
              "      <td>2015-03-06 06:00:00</td>\n",
              "      <td>1</td>\n",
              "      <td>comp1</td>\n",
              "    </tr>\n",
              "    <tr>\n",
              "      <th>2</th>\n",
              "      <td>2015-04-20 06:00:00</td>\n",
              "      <td>1</td>\n",
              "      <td>comp2</td>\n",
              "    </tr>\n",
              "    <tr>\n",
              "      <th>3</th>\n",
              "      <td>2015-06-19 06:00:00</td>\n",
              "      <td>1</td>\n",
              "      <td>comp4</td>\n",
              "    </tr>\n",
              "    <tr>\n",
              "      <th>4</th>\n",
              "      <td>2015-09-02 06:00:00</td>\n",
              "      <td>1</td>\n",
              "      <td>comp4</td>\n",
              "    </tr>\n",
              "    <tr>\n",
              "      <th>...</th>\n",
              "      <td>...</td>\n",
              "      <td>...</td>\n",
              "      <td>...</td>\n",
              "    </tr>\n",
              "    <tr>\n",
              "      <th>738</th>\n",
              "      <td>2015-11-29 06:00:00</td>\n",
              "      <td>99</td>\n",
              "      <td>comp3</td>\n",
              "    </tr>\n",
              "    <tr>\n",
              "      <th>739</th>\n",
              "      <td>2015-12-14 06:00:00</td>\n",
              "      <td>99</td>\n",
              "      <td>comp4</td>\n",
              "    </tr>\n",
              "    <tr>\n",
              "      <th>740</th>\n",
              "      <td>2015-02-12 06:00:00</td>\n",
              "      <td>100</td>\n",
              "      <td>comp1</td>\n",
              "    </tr>\n",
              "    <tr>\n",
              "      <th>741</th>\n",
              "      <td>2015-09-10 06:00:00</td>\n",
              "      <td>100</td>\n",
              "      <td>comp1</td>\n",
              "    </tr>\n",
              "    <tr>\n",
              "      <th>742</th>\n",
              "      <td>2015-12-09 06:00:00</td>\n",
              "      <td>100</td>\n",
              "      <td>comp2</td>\n",
              "    </tr>\n",
              "  </tbody>\n",
              "</table>\n",
              "<p>743 rows × 3 columns</p>\n",
              "</div>\n",
              "      <button class=\"colab-df-convert\" onclick=\"convertToInteractive('df-cc00ea92-4632-4778-b1b9-63ebadd544b8')\"\n",
              "              title=\"Convert this dataframe to an interactive table.\"\n",
              "              style=\"display:none;\">\n",
              "        \n",
              "  <svg xmlns=\"http://www.w3.org/2000/svg\" height=\"24px\"viewBox=\"0 0 24 24\"\n",
              "       width=\"24px\">\n",
              "    <path d=\"M0 0h24v24H0V0z\" fill=\"none\"/>\n",
              "    <path d=\"M18.56 5.44l.94 2.06.94-2.06 2.06-.94-2.06-.94-.94-2.06-.94 2.06-2.06.94zm-11 1L8.5 8.5l.94-2.06 2.06-.94-2.06-.94L8.5 2.5l-.94 2.06-2.06.94zm10 10l.94 2.06.94-2.06 2.06-.94-2.06-.94-.94-2.06-.94 2.06-2.06.94z\"/><path d=\"M17.41 7.96l-1.37-1.37c-.4-.4-.92-.59-1.43-.59-.52 0-1.04.2-1.43.59L10.3 9.45l-7.72 7.72c-.78.78-.78 2.05 0 2.83L4 21.41c.39.39.9.59 1.41.59.51 0 1.02-.2 1.41-.59l7.78-7.78 2.81-2.81c.8-.78.8-2.07 0-2.86zM5.41 20L4 18.59l7.72-7.72 1.47 1.35L5.41 20z\"/>\n",
              "  </svg>\n",
              "      </button>\n",
              "      \n",
              "  <style>\n",
              "    .colab-df-container {\n",
              "      display:flex;\n",
              "      flex-wrap:wrap;\n",
              "      gap: 12px;\n",
              "    }\n",
              "\n",
              "    .colab-df-convert {\n",
              "      background-color: #E8F0FE;\n",
              "      border: none;\n",
              "      border-radius: 50%;\n",
              "      cursor: pointer;\n",
              "      display: none;\n",
              "      fill: #1967D2;\n",
              "      height: 32px;\n",
              "      padding: 0 0 0 0;\n",
              "      width: 32px;\n",
              "    }\n",
              "\n",
              "    .colab-df-convert:hover {\n",
              "      background-color: #E2EBFA;\n",
              "      box-shadow: 0px 1px 2px rgba(60, 64, 67, 0.3), 0px 1px 3px 1px rgba(60, 64, 67, 0.15);\n",
              "      fill: #174EA6;\n",
              "    }\n",
              "\n",
              "    [theme=dark] .colab-df-convert {\n",
              "      background-color: #3B4455;\n",
              "      fill: #D2E3FC;\n",
              "    }\n",
              "\n",
              "    [theme=dark] .colab-df-convert:hover {\n",
              "      background-color: #434B5C;\n",
              "      box-shadow: 0px 1px 3px 1px rgba(0, 0, 0, 0.15);\n",
              "      filter: drop-shadow(0px 1px 2px rgba(0, 0, 0, 0.3));\n",
              "      fill: #FFFFFF;\n",
              "    }\n",
              "  </style>\n",
              "\n",
              "      <script>\n",
              "        const buttonEl =\n",
              "          document.querySelector('#df-cc00ea92-4632-4778-b1b9-63ebadd544b8 button.colab-df-convert');\n",
              "        buttonEl.style.display =\n",
              "          google.colab.kernel.accessAllowed ? 'block' : 'none';\n",
              "\n",
              "        async function convertToInteractive(key) {\n",
              "          const element = document.querySelector('#df-cc00ea92-4632-4778-b1b9-63ebadd544b8');\n",
              "          const dataTable =\n",
              "            await google.colab.kernel.invokeFunction('convertToInteractive',\n",
              "                                                     [key], {});\n",
              "          if (!dataTable) return;\n",
              "\n",
              "          const docLinkHtml = 'Like what you see? Visit the ' +\n",
              "            '<a target=\"_blank\" href=https://colab.research.google.com/notebooks/data_table.ipynb>data table notebook</a>'\n",
              "            + ' to learn more about interactive tables.';\n",
              "          element.innerHTML = '';\n",
              "          dataTable['output_type'] = 'display_data';\n",
              "          await google.colab.output.renderOutput(dataTable, element);\n",
              "          const docLink = document.createElement('div');\n",
              "          docLink.innerHTML = docLinkHtml;\n",
              "          element.appendChild(docLink);\n",
              "        }\n",
              "      </script>\n",
              "    </div>\n",
              "  </div>\n",
              "  "
            ]
          },
          "metadata": {},
          "execution_count": 17
        }
      ]
    },
    {
      "cell_type": "code",
      "source": [
        "#-------------------------------------\n",
        "df_comp1 = df1[df1['failures_maint']== 'comp1'] #failures_maint별 정리\n",
        "df_comp2 = df1[df1['failures_maint']== 'comp2']\n",
        "df_comp3 = df1[df1['failures_maint']== 'comp3']\n",
        "df_comp4 = df1[df1['failures_maint']== 'comp4']\n",
        "df_com1 = df_comp1.set_index('datetime').reset_index()#숫자 재정렬\n",
        "df_com2 = df_comp2.set_index('datetime').reset_index()\n",
        "df_com3 = df_comp3.set_index('datetime').reset_index()\n",
        "df_com4 = df_comp4.set_index('datetime').reset_index()"
      ],
      "metadata": {
        "id": "CEV5Ir9rlkSr"
      },
      "execution_count": 18,
      "outputs": []
    },
    {
      "cell_type": "code",
      "source": [
        "comp1 = tot_dataset.set_index('datetime').reset_index()\n",
        "comp2 = tot_dataset1.set_index('datetime').reset_index()\n",
        "comp3 = tot_dataset2.set_index('datetime').reset_index()\n",
        "comp4 = tot_dataset3.set_index('datetime').reset_index()"
      ],
      "metadata": {
        "id": "lIoClCw3lSJD"
      },
      "execution_count": 19,
      "outputs": []
    },
    {
      "cell_type": "code",
      "source": [
        "#결측치 제거 전 (Nan값제거)\n",
        "comp1\n",
        "comp2\n",
        "comp3\n",
        "comp4\n",
        "#결측치 제거 후 (Nan값제거)\n",
        "comp1_n = comp1.dropna(axis=0) #결측치 1개 삭제\n",
        "comp2_n = comp2.dropna(axis=0) #결측치 0개 삭제\n",
        "comp3_n = comp3.dropna(axis=0) #결측치 1개 삭제\n",
        "comp4_n = comp4.dropna(axis=0) #결측치 1개 삭제\n",
        "#순서 재배치\n",
        "comp1_n = comp1_n.set_index('datetime').reset_index()\n",
        "comp2_n = comp2_n.set_index('datetime').reset_index()\n",
        "comp3_n = comp3_n.set_index('datetime').reset_index()\n",
        "comp4_n = comp4_n.set_index('datetime').reset_index()"
      ],
      "metadata": {
        "id": "Kkjx7zOHlTaT"
      },
      "execution_count": 20,
      "outputs": []
    },
    {
      "cell_type": "code",
      "source": [
        "#전체 교체주기 - 고장 교체주기 = 일반 교체주기\n",
        "list_test_positive = [] #고장 안난데이터\n",
        "list_id_positive = []\n",
        "list_test_negative = []\n",
        "list_id_negative = []\n",
        "for i in range(len(comp1_n)):\n",
        "  if comp1_n['datetime'][i] not in list(df_com1['datetime']): #겹치는애들 = 고장난애들\n",
        "    list_test_negative.append(comp1_n['datetime'][i])\n",
        "    list_id_negative.append(comp1_n['machineID'][i])\n",
        "  else:\n",
        "    #겹치지 않는애들 = 고장안난애들\n",
        "    list_test_positive.append(comp1_n['datetime'][i])\n",
        "    list_id_positive.append(comp1_n['machineID'][i])\n",
        "\n",
        "list_test_positive2 = [] #고장 안난데이터\n",
        "list_id_positive2 = []\n",
        "list_test_negative2 = []\n",
        "list_id_negative2 = []\n",
        "for i in range(len(comp2_n)):\n",
        "  if comp2_n['datetime'][i] not in list(df_com2['datetime']): #겹치는애들 = 고장난애들\n",
        "    list_test_negative2.append(comp2_n['datetime'][i])\n",
        "    list_id_negative2.append(comp2_n['machineID'][i])\n",
        "  else:\n",
        "    #겹치지 않는애들 = 고장안난애들\n",
        "    list_test_positive2.append(comp2_n['datetime'][i])\n",
        "    list_id_positive2.append(comp2_n['machineID'][i])\n",
        "\n",
        "list_test_positive3 = [] #고장 안난데이터\n",
        "list_id_positive3 = []\n",
        "list_test_negative3 = []\n",
        "list_id_negative3 = []\n",
        "\n",
        "for i in range(len(comp3_n)):\n",
        "  if comp3_n['datetime'][i] not in list(df_com3['datetime']): #겹치는애들 = 고장난애들\n",
        "    list_test_negative3.append(comp3_n['datetime'][i])\n",
        "    list_id_negative3.append(comp3_n['machineID'][i])\n",
        "  else:\n",
        "    #겹치지 않는애들 = 고장안난애들\n",
        "    list_test_positive3.append(comp3_n['datetime'][i])\n",
        "    list_id_positive3.append(comp3_n['machineID'][i])\n",
        "\n",
        "\n",
        "list_test_positive4 = [] #고장 안난데이터\n",
        "list_id_positive4 = []\n",
        "list_test_negative4 = []\n",
        "list_id_negative4 = []\n",
        "for i in range(len(comp4_n)):\n",
        "  if comp4_n['datetime'][i] not in list(df_com4['datetime']): #겹치는애들 = 고장난애들\n",
        "    list_test_negative4.append(comp4_n['datetime'][i])\n",
        "    list_id_negative4.append(comp4_n['machineID'][i])\n",
        "  else:\n",
        "    #겹치지 않는애들 = 고장안난애들\n",
        "    list_test_positive4.append(comp4_n['datetime'][i])\n",
        "    list_id_positive4.append(comp4_n['machineID'][i])"
      ],
      "metadata": {
        "id": "17FnmUBUXynY"
      },
      "execution_count": 21,
      "outputs": []
    },
    {
      "cell_type": "code",
      "source": [
        "neg_t= pd.DataFrame(data=list(zip(list_test_negative,list_id_negative)),columns = ['datetime','machineID'])\n",
        "neg_t1= pd.DataFrame(data=list(zip(list_test_negative2,list_id_negative2)),columns = ['datetime','machineID'])\n",
        "neg_t2= pd.DataFrame(data=list(zip(list_test_negative3,list_id_negative3)),columns = ['datetime','machineID'])\n",
        "neg_t3= pd.DataFrame(data=list(zip(list_test_negative4,list_id_negative4)),columns = ['datetime','machineID'])\n",
        "neg_t['comp1'] = 'comp1'\n",
        "neg_t1['comp2'] = 'comp2'\n",
        "neg_t2['comp3'] = 'comp3'\n",
        "neg_t3['comp4'] = 'comp4'"
      ],
      "metadata": {
        "id": "qRo6qQty7nfJ"
      },
      "execution_count": 22,
      "outputs": []
    },
    {
      "cell_type": "code",
      "source": [
        "len(neg_t),len(neg_t1),len(neg_t2),len(neg_t3)"
      ],
      "metadata": {
        "colab": {
          "base_uri": "https://localhost:8080/"
        },
        "id": "1y29gzGN3JTT",
        "outputId": "c3db696e-6818-4850-cebc-7bdb6217e654"
      },
      "execution_count": 23,
      "outputs": [
        {
          "output_type": "execute_result",
          "data": {
            "text/plain": [
              "(381, 345, 514, 379)"
            ]
          },
          "metadata": {},
          "execution_count": 23
        }
      ]
    },
    {
      "cell_type": "code",
      "source": [
        "#datetime 을 이용한 교체주기 확인\n",
        "fail_com = []\n",
        "n = 1\n",
        "for i in range(len(neg_t)-1):\n",
        "  if n != range(len(neg_t)):\n",
        "    str_datetime1 = neg_t[\"datetime\"][n]\n",
        "    str_datetime2 = neg_t[\"datetime\"][i]\n",
        "    currdate1 = datetime.strptime(str_datetime1, '%Y-%m-%d %H:%M:%S')\n",
        "    currdate2 = datetime.strptime(str_datetime2, '%Y-%m-%d %H:%M:%S')\n",
        "    new = currdate1- currdate2\n",
        "    fail_com.append(new.days)\n",
        "    n += 1\n",
        "  else:\n",
        "    break\n",
        "fail_com1 = []\n",
        "n1 = 1\n",
        "for i in range(len(neg_t1)-1):\n",
        "  if n1 != range(len(neg_t1)):\n",
        "    str_datetime1 = neg_t1[\"datetime\"][n1]\n",
        "    str_datetime2 = neg_t1[\"datetime\"][i]\n",
        "    currdate1 = datetime.strptime(str_datetime1, '%Y-%m-%d %H:%M:%S')\n",
        "    currdate2 = datetime.strptime(str_datetime2, '%Y-%m-%d %H:%M:%S')\n",
        "    new = currdate1- currdate2\n",
        "    fail_com1.append(new.days)\n",
        "    n1 += 1\n",
        "  else:\n",
        "    break\n",
        "fail_com2 = []\n",
        "n2 = 1\n",
        "for i in range(len(neg_t2)-1):\n",
        "  if n2 != range(len(neg_t2)):\n",
        "    str_datetime1 = neg_t2[\"datetime\"][n2]\n",
        "    str_datetime2 = neg_t2[\"datetime\"][i]\n",
        "    currdate1 = datetime.strptime(str_datetime1, '%Y-%m-%d %H:%M:%S')\n",
        "    currdate2 = datetime.strptime(str_datetime2, '%Y-%m-%d %H:%M:%S')\n",
        "    new = currdate1- currdate2\n",
        "    fail_com2.append(new.days)\n",
        "    n2 += 1\n",
        "  else:\n",
        "    break\n",
        "fail_com3 = []\n",
        "n3 = 1\n",
        "for i in range(len(neg_t3)-1):\n",
        "  if n3 != range(len(neg_t3)):\n",
        "    str_datetime1 = neg_t3[\"datetime\"][n3]\n",
        "    str_datetime2 = neg_t3[\"datetime\"][i]\n",
        "    currdate1 = datetime.strptime(str_datetime1, '%Y-%m-%d %H:%M:%S')\n",
        "    currdate2 = datetime.strptime(str_datetime2, '%Y-%m-%d %H:%M:%S')\n",
        "    new = currdate1- currdate2\n",
        "    fail_com3.append(new.days)\n",
        "    n3 += 1\n",
        "  else:\n",
        "    break"
      ],
      "metadata": {
        "id": "eSAQTB82lmaT"
      },
      "execution_count": 24,
      "outputs": []
    },
    {
      "cell_type": "code",
      "source": [
        "#리스트 안의 음수를 none으로 바꾸기 #def로 바꾸기\n",
        "fail_comp =[]\n",
        "for i in range(len(fail_com)):\n",
        "  if fail_com[i] > 0:\n",
        "    fail_comp.append(fail_com[i])\n",
        "  else:\n",
        "    fail_comp.append(None)\n",
        "fail_comp1 =[]\n",
        "for i in range(len(fail_com1)):\n",
        "  if fail_com1[i] > 0:\n",
        "    fail_comp1.append(fail_com1[i])\n",
        "  else:\n",
        "    fail_comp1.append(None)\n",
        "fail_comp2 =[]\n",
        "for i in range(len(fail_com2)):\n",
        "  if fail_com2[i] > 0:\n",
        "    fail_comp2.append(fail_com2[i])\n",
        "  else:\n",
        "    fail_comp2.append(None)\n",
        "fail_comp3 =[]\n",
        "for i in range(len(fail_com3)):\n",
        "  if fail_com3[i] > 0:\n",
        "    fail_comp3.append(fail_com3[i])\n",
        "  else:\n",
        "    fail_comp3.append(None)"
      ],
      "metadata": {
        "id": "nQYgGVqyloJr"
      },
      "execution_count": 25,
      "outputs": []
    },
    {
      "cell_type": "code",
      "source": [
        "#마지막 한 열은 다음 계산할것이 없으니 None값 하나를 추가해줘서 index개수 맞춰주기\n",
        "fail_comp.append(None)\n",
        "fail_comp1.append(None) \n",
        "fail_comp2.append(None) \n",
        "fail_comp3.append(None) "
      ],
      "metadata": {
        "id": "3e8QnhGyrPHt"
      },
      "execution_count": 26,
      "outputs": []
    },
    {
      "cell_type": "code",
      "source": [
        "#기존데이터에 dataframe으로 추가해주기\n",
        "neg_t['time_diff'] = fail_comp\n",
        "neg_t1['time_diff'] = fail_comp1\n",
        "neg_t2['time_diff'] = fail_comp2\n",
        "neg_t3['time_diff'] = fail_comp3"
      ],
      "metadata": {
        "id": "arnhvxqPrRAz"
      },
      "execution_count": 27,
      "outputs": []
    },
    {
      "cell_type": "code",
      "source": [
        "#def 로 바꾸기\n",
        "li_co = []#한개씩가져오기\n",
        "li1_co = []#최소 한개 이상인 데이터 머신아이디 뽑아오기\n",
        "for i in range(len(neg_t)):\n",
        "  if neg_t['machineID'][i] not in li_co:\n",
        "    li_co.append(neg_t['machineID'][i])\n",
        "  else:\n",
        "    li1_co.append(neg_t['machineID'][i])\n",
        "li_co1 = []#한개씩가져오기\n",
        "li1_co1 = []#최소 한개 이상인 데이터 머신아이디 뽑아오기\n",
        "for i in range(len(neg_t1)):\n",
        "  if neg_t1['machineID'][i] not in li_co1:\n",
        "    li_co1.append(neg_t1['machineID'][i])\n",
        "  else:\n",
        "    li1_co1.append(neg_t1['machineID'][i])\n",
        "li_co2 = []#한개씩가져오기\n",
        "li1_co2 = []#최소 한개 이상인 데이터 머신아이디 뽑아오기\n",
        "for i in range(len(neg_t2)):\n",
        "  if neg_t2['machineID'][i] not in li_co2:\n",
        "    li_co2.append(neg_t2['machineID'][i])\n",
        "  else:\n",
        "    li1_co2.append(neg_t2['machineID'][i])\n",
        "li_co3 = []#한개씩가져오기\n",
        "li1_co3 = []#최소 한개 이상인 데이터 머신아이디 뽑아오기\n",
        "for i in range(len(neg_t3)):\n",
        "  if neg_t3['machineID'][i] not in li_co3:\n",
        "    li_co3.append(neg_t3['machineID'][i])\n",
        "  else:\n",
        "    li1_co3.append(neg_t3['machineID'][i])\n",
        "  "
      ],
      "metadata": {
        "id": "oy2fb3mrrSjT"
      },
      "execution_count": 28,
      "outputs": []
    },
    {
      "cell_type": "code",
      "source": [
        "#중복처리\n",
        "li1_co=set(li1_co)\n",
        "li1_co1=set(li1_co1)\n",
        "li1_co2=set(li1_co2)\n",
        "li1_co3=set(li1_co3)"
      ],
      "metadata": {
        "id": "7N_FbttIrUkk"
      },
      "execution_count": 29,
      "outputs": []
    },
    {
      "cell_type": "code",
      "source": [
        "#한개씩 있는 머신아이디 추출\n",
        "fail_c = []\n",
        "for i in range(len(li_co)):\n",
        "  if li_co[i] not in li1_co:\n",
        "    fail_c.append(li_co[i])\n",
        "  else:\n",
        "    pass\n",
        "fail_c1 = []\n",
        "for i in range(len(li_co1)):\n",
        "  if li_co1[i] not in li1_co1:\n",
        "    fail_c1.append(li_co1[i])\n",
        "  else:\n",
        "    pass\n",
        "fail_c2 = []\n",
        "for i in range(len(li_co2)):\n",
        "  if li_co2[i] not in li1_co2:\n",
        "    fail_c2.append(li_co2[i])\n",
        "  else:\n",
        "    pass\n",
        "fail_c3 = []\n",
        "for i in range(len(li_co3)):\n",
        "  if li_co3[i] not in li1_co3:\n",
        "    fail_c3.append(li_co3[i])\n",
        "  else:\n",
        "    pass"
      ],
      "metadata": {
        "id": "gAayZprdrWH7"
      },
      "execution_count": 30,
      "outputs": []
    },
    {
      "cell_type": "code",
      "source": [
        "#한개씩 있는 machineID의 time_diff를 nan값으로 처리\n",
        "for i in range(len(fail_c)):\n",
        "  df_com1.loc[df_com1['machineID']==fail_c[i],'time_diff'] = None\n",
        "for i in range(len(fail_c1)):\n",
        "  df_com2.loc[df_com2['machineID']==fail_c1[i],'time_diff'] = None\n",
        "for i in range(len(fail_c2)):\n",
        "  df_com3.loc[df_com3['machineID']==fail_c2[i],'time_diff'] = None\n",
        "for i in range(len(fail_c3)):\n",
        "  df_com4.loc[df_com4['machineID']==fail_c3[i],'time_diff'] = None"
      ],
      "metadata": {
        "id": "710rOPBbrXfL"
      },
      "execution_count": 31,
      "outputs": []
    },
    {
      "cell_type": "code",
      "source": [
        "ans1 = neg_t['time_diff'].mean().round(2)\n",
        "ans2 = neg_t1['time_diff'].mean().round(2)\n",
        "ans3= neg_t2['time_diff'].mean().round(2)\n",
        "ans4= neg_t3['time_diff'].mean().round(2)\n",
        "print(f'고장난 컴포넌트 1의 평균 교체주기 (day)는 {ans1}일입니다,   컴포넌트 2의 평균 교체주기 (day)는 {ans2}일입니다,    컴포넌트 3의 평균 교체주기 (day)는 {ans3}일입니다,    컴포넌트 4의 평균 교체주기 (day)는 {ans4}일입니다')"
      ],
      "metadata": {
        "colab": {
          "base_uri": "https://localhost:8080/"
        },
        "id": "2W90Q1WQrYgE",
        "outputId": "06e15e2b-0b91-463a-f452-10f45f59d595"
      },
      "execution_count": 32,
      "outputs": [
        {
          "output_type": "stream",
          "name": "stdout",
          "text": [
            "고장난 컴포넌트 1의 평균 교체주기 (day)는 124.04일입니다,   컴포넌트 2의 평균 교체주기 (day)는 136.96일입니다,    컴포넌트 3의 평균 교체주기 (day)는 92.89일입니다,    컴포넌트 4의 평균 교체주기 (day)는 117.81일입니다\n"
          ]
        }
      ]
    },
    {
      "cell_type": "markdown",
      "source": [
        "#고장+일반교체) 교체주기 확인 $3\n",
        "\n",
        "---\n",
        "\n"
      ],
      "metadata": {
        "id": "oceWbr2kmRq7"
      }
    },
    {
      "cell_type": "code",
      "source": [
        "#datetime 을 이용한 교체주기 확인\n",
        "comp1_re = []\n",
        "n = 1\n",
        "for i in range(len(comp1_n)-1):\n",
        "  if n != range(len(comp1_n)):\n",
        "    str_datetime1 = comp1_n[\"datetime\"][n]\n",
        "    str_datetime2 = comp1_n[\"datetime\"][i]\n",
        "    currdate1 = datetime.strptime(str_datetime1, '%Y-%m-%d %H:%M:%S')\n",
        "    currdate2 = datetime.strptime(str_datetime2, '%Y-%m-%d %H:%M:%S')\n",
        "    new = currdate1- currdate2\n",
        "    comp1_re.append(new.days)\n",
        "    n += 1\n",
        "  else:\n",
        "    break\n",
        "comp2_re = []\n",
        "n1 = 1\n",
        "for i in range(len(comp2_n)-1):\n",
        "  if n1 != range(len(comp2_n)):\n",
        "    str_datetime1 = comp2_n[\"datetime\"][n1]\n",
        "    str_datetime2 = comp2_n[\"datetime\"][i]\n",
        "    currdate1 = datetime.strptime(str_datetime1, '%Y-%m-%d %H:%M:%S')\n",
        "    currdate2 = datetime.strptime(str_datetime2, '%Y-%m-%d %H:%M:%S')\n",
        "    new = currdate1- currdate2\n",
        "    comp2_re.append(new.days)\n",
        "    n1 += 1\n",
        "  else:\n",
        "    break\n",
        "comp3_re = []\n",
        "n2 = 1\n",
        "for i in range(len(comp3_n)-1):\n",
        "  if n2 != range(len(comp3_n)):\n",
        "    str_datetime1 = comp3_n[\"datetime\"][n2]\n",
        "    str_datetime2 = comp3_n[\"datetime\"][i]\n",
        "    currdate1 = datetime.strptime(str_datetime1, '%Y-%m-%d %H:%M:%S')\n",
        "    currdate2 = datetime.strptime(str_datetime2, '%Y-%m-%d %H:%M:%S')\n",
        "    new = currdate1- currdate2\n",
        "    comp3_re.append(new.days)\n",
        "    n2 += 1\n",
        "  else:\n",
        "    break\n",
        "comp4_re = []\n",
        "n3 = 1\n",
        "for i in range(len(comp4_n)-1):\n",
        "  if n3 != range(len(comp4_n)):\n",
        "    str_datetime1 = comp4_n[\"datetime\"][n3]\n",
        "    str_datetime2 = comp4_n[\"datetime\"][i]\n",
        "    currdate1 = datetime.strptime(str_datetime1, '%Y-%m-%d %H:%M:%S')\n",
        "    currdate2 = datetime.strptime(str_datetime2, '%Y-%m-%d %H:%M:%S')\n",
        "    new = currdate1- currdate2\n",
        "    comp4_re.append(new.days)\n",
        "    n3 += 1\n",
        "  else:\n",
        "    break"
      ],
      "metadata": {
        "id": "pkQ-w-UkmWST"
      },
      "execution_count": 33,
      "outputs": []
    },
    {
      "cell_type": "code",
      "source": [
        "# 음수인 데이터는 machineID 가 바뀌면서 생기는 데이터로 사실상 의미가없음.\n",
        "len(comp1_re),len(comp2_re),len(comp3_re),len(comp4_re)"
      ],
      "metadata": {
        "colab": {
          "base_uri": "https://localhost:8080/"
        },
        "id": "v5qpMowcmZ6T",
        "outputId": "b1c95bf3-5789-48d2-c0dd-70ebe423d905"
      },
      "execution_count": 34,
      "outputs": [
        {
          "output_type": "execute_result",
          "data": {
            "text/plain": [
              "(803, 862, 807, 810)"
            ]
          },
          "metadata": {},
          "execution_count": 34
        }
      ]
    },
    {
      "cell_type": "code",
      "source": [
        "#리스트 안의 음수를 none으로 바꾸기 #def로 바꾸기\n",
        "comp1_re1 =[]\n",
        "for i in range(len(comp1_re)):\n",
        "  if comp1_re[i] > 0:\n",
        "    comp1_re1.append(comp1_re[i])\n",
        "  else:\n",
        "    comp1_re1.append(None)\n",
        "  \n",
        "comp2_re1 =[]\n",
        "for i in range(len(comp2_re)):\n",
        "  if comp2_re[i] > 0:\n",
        "    comp2_re1.append(comp2_re[i])\n",
        "  else:\n",
        "    comp2_re1.append(None)\n",
        "  \n",
        "comp3_re1 =[]\n",
        "for i in range(len(comp3_re)):\n",
        "  if comp3_re[i] > 0:\n",
        "    comp3_re1.append(comp3_re[i])\n",
        "  else:\n",
        "    comp3_re1.append(None)\n",
        "  \n",
        "comp4_re1 =[]\n",
        "for i in range(len(comp4_re)):\n",
        "  if comp4_re[i] > 0:\n",
        "    comp4_re1.append(comp4_re[i])\n",
        "  else:\n",
        "    comp4_re1.append(None)"
      ],
      "metadata": {
        "id": "2IAv6CBemehr"
      },
      "execution_count": 35,
      "outputs": []
    },
    {
      "cell_type": "code",
      "source": [
        "#마지막 한 열은 다음 계산할것이 없으니 None값 하나를 추가해줘서 index개수 맞춰주기\n",
        "comp1_re1.append(None) \n",
        "comp2_re1.append(None) \n",
        "comp3_re1.append(None) \n",
        "comp4_re1.append(None) "
      ],
      "metadata": {
        "id": "hze1GKC9mfqz"
      },
      "execution_count": 36,
      "outputs": []
    },
    {
      "cell_type": "code",
      "source": [
        "#기존데이터에 dataframe으로 추가해주기\n",
        "comp1_n['time_diff'] = comp1_re1\n",
        "comp2_n['time_diff'] = comp2_re1\n",
        "comp3_n['time_diff'] = comp3_re1\n",
        "comp4_n['time_diff'] = comp4_re1"
      ],
      "metadata": {
        "id": "9UpmTfT5mgzD"
      },
      "execution_count": 37,
      "outputs": []
    },
    {
      "cell_type": "code",
      "source": [
        "#def 로 바꾸기\n",
        "li = []#한개씩가져오기\n",
        "li1 = []#최소 한개 이상인 데이터 머신아이디 뽑아오기\n",
        "for i in range(len(comp1_n)):\n",
        "  if comp1_n['machineID'][i] not in li:\n",
        "    li.append(comp1_n['machineID'][i])\n",
        "  else:\n",
        "    li1.append(comp1_n['machineID'][i])\n",
        "\n",
        "\n",
        "li2 = []#한개씩가져오기\n",
        "li3 = []#최소 한개 이상인 데이터 머신아이디 뽑아오기\n",
        "for i in range(len(comp2_n)):\n",
        "  if comp2_n['machineID'][i] not in li2:\n",
        "    li2.append(comp2_n['machineID'][i])\n",
        "  else:\n",
        "    li3.append(comp2_n['machineID'][i])\n",
        "\n",
        "\n",
        "li4 = []#한개씩가져오기\n",
        "li5 = []#최소 한개 이상인 데이터 머신아이디 뽑아오기\n",
        "for i in range(len(comp3_n)):\n",
        "  if comp3_n['machineID'][i] not in li4:\n",
        "    li4.append(comp3_n['machineID'][i])\n",
        "  else:\n",
        "    li5.append(comp3_n['machineID'][i])\n",
        "\n",
        "\n",
        "li6 = []#한개씩가져오기\n",
        "li7 = []#최소 한개 이상인 데이터 머신아이디 뽑아오기\n",
        "for i in range(len(comp4_n)):\n",
        "  if comp4_n['machineID'][i] not in li6:\n",
        "    li6.append(comp4_n['machineID'][i])\n",
        "  else:\n",
        "    li7.append(comp4_n['machineID'][i])"
      ],
      "metadata": {
        "id": "kyMZPVSdmh1b"
      },
      "execution_count": 38,
      "outputs": []
    },
    {
      "cell_type": "code",
      "source": [
        "#중복처리\n",
        "li1=set(li1)\n",
        "li3=set(li3)\n",
        "li5=set(li5)\n",
        "li7=set(li7)"
      ],
      "metadata": {
        "id": "ouFm4rajmj5z"
      },
      "execution_count": 39,
      "outputs": []
    },
    {
      "cell_type": "code",
      "source": [
        "#한개씩 있는 머신아이디 추출\n",
        "nli1 = []\n",
        "for i in range(len(li)):\n",
        "  if li[i] not in li1:\n",
        "    nli1.append(li[i])\n",
        "  else:\n",
        "    pass\n",
        "\n",
        "nli2 = []\n",
        "for i in range(len(li2)):\n",
        "  if li2[i] not in li3:\n",
        "    nli2.append(li2[i])\n",
        "  else:\n",
        "    pass\n",
        "\n",
        "nli3 = []\n",
        "for i in range(len(li4)):\n",
        "  if li4[i] not in li5:\n",
        "    nli3.append(li4[i])\n",
        "  else:\n",
        "    pass\n",
        "\n",
        "nli4 = []\n",
        "for i in range(len(li6)):\n",
        "  if li6[i] not in li7:\n",
        "    nli4.append(li6[i])\n",
        "  else:\n",
        "    pass"
      ],
      "metadata": {
        "id": "GXy9e9TkmlIr"
      },
      "execution_count": 40,
      "outputs": []
    },
    {
      "cell_type": "code",
      "source": [
        " #한개씩 있는 머신아이디 추출\n",
        "nli1\n",
        "nli2\n",
        "nli3\n",
        "nli4"
      ],
      "metadata": {
        "colab": {
          "base_uri": "https://localhost:8080/"
        },
        "id": "m7gPHWzJmmIL",
        "outputId": "2fe7e01b-78c2-49d4-8c7b-1e555a771f68"
      },
      "execution_count": 41,
      "outputs": [
        {
          "output_type": "execute_result",
          "data": {
            "text/plain": [
              "[]"
            ]
          },
          "metadata": {},
          "execution_count": 41
        }
      ]
    },
    {
      "cell_type": "code",
      "source": [
        "#nli를 이용하여 한개씩 있는 machineID의 time_diff를 nan값으로 처리\n",
        "for i in range(len(nli1)):\n",
        "  comp1_n.loc[comp1_n['machineID']==nli1[i],'time_diff'] = None\n",
        "for i in range(len(nli2)):\n",
        "  comp2_n.loc[comp2_n['machineID']==nli2[i],'time_diff'] = None\n",
        "for i in range(len(nli3)):\n",
        "  comp3_n.loc[comp3_n['machineID']==nli3[i],'time_diff'] = None\n",
        "for i in range(len(nli4)):\n",
        "  comp4_n.loc[comp4_n['machineID']==nli4[i],'time_diff'] = None"
      ],
      "metadata": {
        "id": "KOaeDNKamnLj"
      },
      "execution_count": 42,
      "outputs": []
    },
    {
      "cell_type": "code",
      "source": [
        "#데이터 개수 확인\n",
        "len(comp1_n),len(comp2_n),len(comp3_n),len(comp4_n)"
      ],
      "metadata": {
        "colab": {
          "base_uri": "https://localhost:8080/"
        },
        "id": "KDTRSovJmoPL",
        "outputId": "a47bee66-9fa0-4f0e-f71b-aca2d4702eb7"
      },
      "execution_count": 43,
      "outputs": [
        {
          "output_type": "execute_result",
          "data": {
            "text/plain": [
              "(804, 863, 808, 811)"
            ]
          },
          "metadata": {},
          "execution_count": 43
        }
      ]
    },
    {
      "cell_type": "code",
      "source": [
        "#day기준\n",
        "comp1_n['time_diff'].describe()\n",
        "comp2_n['time_diff'].describe()\n",
        "comp3_n['time_diff'].describe()\n",
        "comp4_n['time_diff'].describe()\n",
        "comp_mean1=comp1_n['time_diff'].mean().round(3)\n",
        "comp_mean2=comp2_n['time_diff'].mean().round(3)\n",
        "comp_mean3=comp3_n['time_diff'].mean().round(3)\n",
        "comp_mean4=comp4_n['time_diff'].mean().round(3)\n",
        "print(f'컴포넌트 1의 평균 교체주기 (day)는 {comp_mean1}일입니다,   컴포넌트 2의 평균 교체주기 (day)는 {comp_mean2}일입니다,    컴포넌트 3의 평균 교체주기 (day)는 {comp_mean3}일입니다,    컴포넌트 4의 평균 교체주기 (day)는 {comp_mean4}일입니다')"
      ],
      "metadata": {
        "colab": {
          "base_uri": "https://localhost:8080/"
        },
        "id": "Rv5BNX2LmpgD",
        "outputId": "e1506866-e814-4433-cc02-38eae5f35299"
      },
      "execution_count": 44,
      "outputs": [
        {
          "output_type": "stream",
          "name": "stdout",
          "text": [
            "컴포넌트 1의 평균 교체주기 (day)는 61.122일입니다,   컴포넌트 2의 평균 교체주기 (day)는 57.241일입니다,    컴포넌트 3의 평균 교체주기 (day)는 62.006일입니다,    컴포넌트 4의 평균 교체주기 (day)는 61.639일입니다\n"
          ]
        }
      ]
    },
    {
      "cell_type": "markdown",
      "source": [
        "#고장제외) 컴포넌트 교체 주기 $2"
      ],
      "metadata": {
        "id": "vMjip1ZYrq_j"
      }
    },
    {
      "cell_type": "code",
      "source": [
        "df_1 = pd.DataFrame(columns = {'failures_maint','machineID','datetime'})\n",
        "df_1 = df_1.reindex(columns = ['machineID','datetime','failures_maint'])\n",
        "df_1"
      ],
      "metadata": {
        "colab": {
          "base_uri": "https://localhost:8080/",
          "height": 0
        },
        "id": "Zo8l-eyzuc0P",
        "outputId": "420e63fb-aa4c-49fc-f802-b038214ea6d2"
      },
      "execution_count": 45,
      "outputs": [
        {
          "output_type": "execute_result",
          "data": {
            "text/plain": [
              "Empty DataFrame\n",
              "Columns: [machineID, datetime, failures_maint]\n",
              "Index: []"
            ],
            "text/html": [
              "\n",
              "  <div id=\"df-6cb4b901-165c-4091-82e0-f63479b78f8f\">\n",
              "    <div class=\"colab-df-container\">\n",
              "      <div>\n",
              "<style scoped>\n",
              "    .dataframe tbody tr th:only-of-type {\n",
              "        vertical-align: middle;\n",
              "    }\n",
              "\n",
              "    .dataframe tbody tr th {\n",
              "        vertical-align: top;\n",
              "    }\n",
              "\n",
              "    .dataframe thead th {\n",
              "        text-align: right;\n",
              "    }\n",
              "</style>\n",
              "<table border=\"1\" class=\"dataframe\">\n",
              "  <thead>\n",
              "    <tr style=\"text-align: right;\">\n",
              "      <th></th>\n",
              "      <th>machineID</th>\n",
              "      <th>datetime</th>\n",
              "      <th>failures_maint</th>\n",
              "    </tr>\n",
              "  </thead>\n",
              "  <tbody>\n",
              "  </tbody>\n",
              "</table>\n",
              "</div>\n",
              "      <button class=\"colab-df-convert\" onclick=\"convertToInteractive('df-6cb4b901-165c-4091-82e0-f63479b78f8f')\"\n",
              "              title=\"Convert this dataframe to an interactive table.\"\n",
              "              style=\"display:none;\">\n",
              "        \n",
              "  <svg xmlns=\"http://www.w3.org/2000/svg\" height=\"24px\"viewBox=\"0 0 24 24\"\n",
              "       width=\"24px\">\n",
              "    <path d=\"M0 0h24v24H0V0z\" fill=\"none\"/>\n",
              "    <path d=\"M18.56 5.44l.94 2.06.94-2.06 2.06-.94-2.06-.94-.94-2.06-.94 2.06-2.06.94zm-11 1L8.5 8.5l.94-2.06 2.06-.94-2.06-.94L8.5 2.5l-.94 2.06-2.06.94zm10 10l.94 2.06.94-2.06 2.06-.94-2.06-.94-.94-2.06-.94 2.06-2.06.94z\"/><path d=\"M17.41 7.96l-1.37-1.37c-.4-.4-.92-.59-1.43-.59-.52 0-1.04.2-1.43.59L10.3 9.45l-7.72 7.72c-.78.78-.78 2.05 0 2.83L4 21.41c.39.39.9.59 1.41.59.51 0 1.02-.2 1.41-.59l7.78-7.78 2.81-2.81c.8-.78.8-2.07 0-2.86zM5.41 20L4 18.59l7.72-7.72 1.47 1.35L5.41 20z\"/>\n",
              "  </svg>\n",
              "      </button>\n",
              "      \n",
              "  <style>\n",
              "    .colab-df-container {\n",
              "      display:flex;\n",
              "      flex-wrap:wrap;\n",
              "      gap: 12px;\n",
              "    }\n",
              "\n",
              "    .colab-df-convert {\n",
              "      background-color: #E8F0FE;\n",
              "      border: none;\n",
              "      border-radius: 50%;\n",
              "      cursor: pointer;\n",
              "      display: none;\n",
              "      fill: #1967D2;\n",
              "      height: 32px;\n",
              "      padding: 0 0 0 0;\n",
              "      width: 32px;\n",
              "    }\n",
              "\n",
              "    .colab-df-convert:hover {\n",
              "      background-color: #E2EBFA;\n",
              "      box-shadow: 0px 1px 2px rgba(60, 64, 67, 0.3), 0px 1px 3px 1px rgba(60, 64, 67, 0.15);\n",
              "      fill: #174EA6;\n",
              "    }\n",
              "\n",
              "    [theme=dark] .colab-df-convert {\n",
              "      background-color: #3B4455;\n",
              "      fill: #D2E3FC;\n",
              "    }\n",
              "\n",
              "    [theme=dark] .colab-df-convert:hover {\n",
              "      background-color: #434B5C;\n",
              "      box-shadow: 0px 1px 3px 1px rgba(0, 0, 0, 0.15);\n",
              "      filter: drop-shadow(0px 1px 2px rgba(0, 0, 0, 0.3));\n",
              "      fill: #FFFFFF;\n",
              "    }\n",
              "  </style>\n",
              "\n",
              "      <script>\n",
              "        const buttonEl =\n",
              "          document.querySelector('#df-6cb4b901-165c-4091-82e0-f63479b78f8f button.colab-df-convert');\n",
              "        buttonEl.style.display =\n",
              "          google.colab.kernel.accessAllowed ? 'block' : 'none';\n",
              "\n",
              "        async function convertToInteractive(key) {\n",
              "          const element = document.querySelector('#df-6cb4b901-165c-4091-82e0-f63479b78f8f');\n",
              "          const dataTable =\n",
              "            await google.colab.kernel.invokeFunction('convertToInteractive',\n",
              "                                                     [key], {});\n",
              "          if (!dataTable) return;\n",
              "\n",
              "          const docLinkHtml = 'Like what you see? Visit the ' +\n",
              "            '<a target=\"_blank\" href=https://colab.research.google.com/notebooks/data_table.ipynb>data table notebook</a>'\n",
              "            + ' to learn more about interactive tables.';\n",
              "          element.innerHTML = '';\n",
              "          dataTable['output_type'] = 'display_data';\n",
              "          await google.colab.output.renderOutput(dataTable, element);\n",
              "          const docLink = document.createElement('div');\n",
              "          docLink.innerHTML = docLinkHtml;\n",
              "          element.appendChild(docLink);\n",
              "        }\n",
              "      </script>\n",
              "    </div>\n",
              "  </div>\n",
              "  "
            ]
          },
          "metadata": {},
          "execution_count": 45
        }
      ]
    },
    {
      "cell_type": "code",
      "source": [
        "list_test_positive #고장 안난데이터\n",
        "len(list_id_positive), len(list_test_negative)"
      ],
      "metadata": {
        "colab": {
          "base_uri": "https://localhost:8080/"
        },
        "id": "tfi2VuCSoIcq",
        "outputId": "284f7e40-b592-40ee-8df6-0c2f613ff8bd"
      },
      "execution_count": 46,
      "outputs": [
        {
          "output_type": "execute_result",
          "data": {
            "text/plain": [
              "(423, 381)"
            ]
          },
          "metadata": {},
          "execution_count": 46
        }
      ]
    },
    {
      "cell_type": "code",
      "source": [
        "#전체 교체주기 - 고장 교체주기 = 일반 교체주기\n",
        "list_test_positive = [] #고장 안난데이터\n",
        "list_id_positive = []\n",
        "for i in range(len(comp1_n)):\n",
        "  if comp1_n['datetime'][i] not in list(df_com1['datetime']): #겹치는애들 = 고장난애들\n",
        "    pass\n",
        "  else:\n",
        "    #겹치지 않는애들 = 고장안난애들\n",
        "    list_test_positive.append(comp1_n['datetime'][i])\n",
        "    list_id_positive.append(comp1_n['machineID'][i])\n",
        "\n",
        "list_test_positive2 = [] #고장 안난데이터\n",
        "list_id_positive2 = []\n",
        "\n",
        "for i in range(len(comp2_n)):\n",
        "  if comp2_n['datetime'][i] not in list(df_com2['datetime']): #겹치는애들 = 고장난애들\n",
        "    pass\n",
        "  else:\n",
        "    #겹치지 않는애들 = 고장안난애들\n",
        "    list_test_positive2.append(comp2_n['datetime'][i])\n",
        "    list_id_positive2.append(comp2_n['machineID'][i])\n",
        "\n",
        "list_test_positive3 = [] #고장 안난데이터\n",
        "list_id_positive3 = []\n",
        "\n",
        "\n",
        "for i in range(len(comp3_n)):\n",
        "  if comp3_n['datetime'][i] not in list(df_com3['datetime']): #겹치는애들 = 고장난애들\n",
        "    pass\n",
        "  else:\n",
        "    #겹치지 않는애들 = 고장안난애들\n",
        "    list_test_positive3.append(comp3_n['datetime'][i])\n",
        "    list_id_positive3.append(comp3_n['machineID'][i])\n",
        "\n",
        "\n",
        "list_test_positive4 = [] #고장 안난데이터\n",
        "list_id_positive4 = []\n",
        "for i in range(len(comp4_n)):\n",
        "  if comp4_n['datetime'][i] not in list(df_com4['datetime']): #겹치는애들 = 고장난애들\n",
        "    pass\n",
        "  else:\n",
        "    #겹치지 않는애들 = 고장안난애들\n",
        "    list_test_positive4.append(comp4_n['datetime'][i])\n",
        "    list_id_positive4.append(comp4_n['machineID'][i])"
      ],
      "metadata": {
        "id": "KFapCEhiuoh8"
      },
      "execution_count": 47,
      "outputs": []
    },
    {
      "cell_type": "code",
      "source": [
        "df_test= pd.DataFrame(data=list(zip(list_test_positive,list_id_positive)),columns = ['datetime','machineID'])\n",
        "df_test1= pd.DataFrame(data=list(zip(list_test_positive2,list_id_positive2)),columns = ['datetime','machineID'])\n",
        "df_test2= pd.DataFrame(data=list(zip(list_test_positive3,list_id_positive3)),columns = ['datetime','machineID'])\n",
        "df_test3= pd.DataFrame(data=list(zip(list_test_positive4,list_id_positive4)),columns = ['datetime','machineID'])\n",
        "df_test['comp1'] = 'comp1'\n",
        "df_test1['comp2'] = 'comp2'\n",
        "df_test2['comp3'] = 'comp3'\n",
        "df_test3['comp4'] = 'comp4'"
      ],
      "metadata": {
        "id": "cBqOKVKb0CXM"
      },
      "execution_count": 48,
      "outputs": []
    },
    {
      "cell_type": "code",
      "source": [
        "#datetime 을 이용한 교체주기 확인\n",
        "comp1_re = []\n",
        "n = 1\n",
        "for i in range(len(df_test)-1):\n",
        "  if n != range(len(df_test)):\n",
        "    str_datetime1 = df_test[\"datetime\"][n]\n",
        "    str_datetime2 = df_test[\"datetime\"][i]\n",
        "    currdate1 = datetime.strptime(str_datetime1, '%Y-%m-%d %H:%M:%S')\n",
        "    currdate2 = datetime.strptime(str_datetime2, '%Y-%m-%d %H:%M:%S')\n",
        "    new = currdate1- currdate2\n",
        "    comp1_re.append(new.days)\n",
        "    n += 1\n",
        "  else:\n",
        "    break\n",
        "comp1_re1 = []\n",
        "n = 1\n",
        "for i in range(len(df_test1)-1):\n",
        "  if n != range(len(df_test1)):\n",
        "    str_datetime1 = df_test1[\"datetime\"][n]\n",
        "    str_datetime2 = df_test1[\"datetime\"][i]\n",
        "    currdate1 = datetime.strptime(str_datetime1, '%Y-%m-%d %H:%M:%S')\n",
        "    currdate2 = datetime.strptime(str_datetime2, '%Y-%m-%d %H:%M:%S')\n",
        "    new = currdate1- currdate2\n",
        "    comp1_re1.append(new.days)\n",
        "    n += 1\n",
        "  else:\n",
        "    break\n",
        "comp1_re2 = []\n",
        "n = 1\n",
        "for i in range(len(df_test2)-1):\n",
        "  if n != range(len(df_test2)):\n",
        "    str_datetime1 = df_test2[\"datetime\"][n]\n",
        "    str_datetime2 = df_test2[\"datetime\"][i]\n",
        "    currdate1 = datetime.strptime(str_datetime1, '%Y-%m-%d %H:%M:%S')\n",
        "    currdate2 = datetime.strptime(str_datetime2, '%Y-%m-%d %H:%M:%S')\n",
        "    new = currdate1- currdate2\n",
        "    comp1_re2.append(new.days)\n",
        "    n += 1\n",
        "  else:\n",
        "    break\n",
        "comp1_re3 = []\n",
        "n = 1\n",
        "for i in range(len(df_test3)-1):\n",
        "  if n != range(len(df_test3)):\n",
        "    str_datetime1 = df_test3[\"datetime\"][n]\n",
        "    str_datetime2 = df_test3[\"datetime\"][i]\n",
        "    currdate1 = datetime.strptime(str_datetime1, '%Y-%m-%d %H:%M:%S')\n",
        "    currdate2 = datetime.strptime(str_datetime2, '%Y-%m-%d %H:%M:%S')\n",
        "    new = currdate1- currdate2\n",
        "    comp1_re3.append(new.days)\n",
        "    n += 1\n",
        "  else:\n",
        "    break"
      ],
      "metadata": {
        "id": "9PCIJXx46Pid"
      },
      "execution_count": 49,
      "outputs": []
    },
    {
      "cell_type": "code",
      "source": [
        "# 각 데이터 별 개수\n",
        "len(comp1_re),len(comp1_re1),len(comp1_re2),len(comp1_re3)\n",
        "len(comp1_n),len(comp2_n),len(comp3_n),len(comp4_n)\n",
        "len(neg_t),len(neg_t1),len(neg_t2),len(neg_t3)"
      ],
      "metadata": {
        "colab": {
          "base_uri": "https://localhost:8080/"
        },
        "id": "JDlwoUoJ6gDO",
        "outputId": "42c8e4a9-33fd-40e4-beba-e5aff66a9d69"
      },
      "execution_count": 50,
      "outputs": [
        {
          "output_type": "execute_result",
          "data": {
            "text/plain": [
              "(381, 345, 514, 379)"
            ]
          },
          "metadata": {},
          "execution_count": 50
        }
      ]
    },
    {
      "cell_type": "code",
      "source": [
        "#리스트 안의 음수를 none으로 바꾸기 #def로 바꾸기\n",
        "comp1_a1 =[]\n",
        "for i in range(len(comp1_re)):\n",
        "  if comp1_re[i] > 0:\n",
        "    comp1_a1.append(comp1_re[i])\n",
        "  else:\n",
        "    comp1_a1.append(None)\n",
        "comp1_a2 =[]\n",
        "for i in range(len(comp1_re1)):\n",
        "  if comp1_re1[i] > 0:\n",
        "    comp1_a2.append(comp1_re1[i])\n",
        "  else:\n",
        "    comp1_a2.append(None)\n",
        "comp1_a3 =[]\n",
        "for i in range(len(comp1_re2)):\n",
        "  if comp1_re2[i] > 0:\n",
        "    comp1_a3.append(comp1_re2[i])\n",
        "  else:\n",
        "    comp1_a3.append(None)\n",
        "comp1_a4 =[]\n",
        "for i in range(len(comp1_re3)):\n",
        "  if comp1_re3[i] > 0:\n",
        "    comp1_a4.append(comp1_re3[i])\n",
        "  else:\n",
        "    comp1_a4.append(None)\n"
      ],
      "metadata": {
        "id": "Fg9_HVwo7WmF"
      },
      "execution_count": 51,
      "outputs": []
    },
    {
      "cell_type": "code",
      "source": [
        "#마지막 한 열은 다음 계산할것이 없으니 None값 하나를 추가해줘서 index개수 맞춰주기\n",
        "comp1_a1.append(None) \n",
        "comp1_a2.append(None) \n",
        "comp1_a3.append(None) \n",
        "comp1_a4.append(None) "
      ],
      "metadata": {
        "id": "8n-K7n3s9hL9"
      },
      "execution_count": 52,
      "outputs": []
    },
    {
      "cell_type": "code",
      "source": [
        "#기존데이터에 dataframe으로 추가해주기\n",
        "df_test['time_diff'] = comp1_a1\n",
        "df_test1['time_diff'] = comp1_a2\n",
        "df_test2['time_diff'] = comp1_a3\n",
        "df_test3['time_diff'] = comp1_a4"
      ],
      "metadata": {
        "id": "VEXHt0xQ9h99"
      },
      "execution_count": 53,
      "outputs": []
    },
    {
      "cell_type": "code",
      "source": [
        "#def 로 바꾸기\n",
        "li = []#한개씩가져오기\n",
        "li1 = []#최소 한개 이상인 데이터 머신아이디 뽑아오기\n",
        "for i in range(len(df_test)):\n",
        "  if df_test['machineID'][i] not in li:\n",
        "    li.append(df_test['machineID'][i])\n",
        "  else:\n",
        "    li1.append(df_test['machineID'][i])\n",
        "\n",
        "\n",
        "li2 = []#한개씩가져오기\n",
        "li3 = []#최소 한개 이상인 데이터 머신아이디 뽑아오기\n",
        "for i in range(len(df_test1)):\n",
        "  if df_test1['machineID'][i] not in li2:\n",
        "    li2.append(df_test1['machineID'][i])\n",
        "  else:\n",
        "    li3.append(df_test1['machineID'][i])\n",
        "\n",
        "\n",
        "li4 = []#한개씩가져오기\n",
        "li5 = []#최소 한개 이상인 데이터 머신아이디 뽑아오기\n",
        "for i in range(len(df_test2)):\n",
        "  if df_test2['machineID'][i] not in li4:\n",
        "    li4.append(df_test2['machineID'][i])\n",
        "  else:\n",
        "    li5.append(df_test2['machineID'][i])\n",
        "\n",
        "\n",
        "li6 = []#한개씩가져오기\n",
        "li7 = []#최소 한개 이상인 데이터 머신아이디 뽑아오기\n",
        "for i in range(len(df_test3)):\n",
        "  if df_test3['machineID'][i] not in li6:\n",
        "    li6.append(df_test3['machineID'][i])\n",
        "  else:\n",
        "    li7.append(df_test3['machineID'][i])"
      ],
      "metadata": {
        "id": "tlr79pfa94Yu"
      },
      "execution_count": 54,
      "outputs": []
    },
    {
      "cell_type": "code",
      "source": [
        "#중복처리\n",
        "li1=set(li1)\n",
        "li3=set(li3)\n",
        "li5=set(li5)\n",
        "li7=set(li7)"
      ],
      "metadata": {
        "id": "C-FHmC8Q-cTd"
      },
      "execution_count": 55,
      "outputs": []
    },
    {
      "cell_type": "code",
      "source": [
        "#한개씩 있는 머신아이디 추출\n",
        "nli1 = []\n",
        "for i in range(len(li)):\n",
        "  if li[i] not in li1:\n",
        "    nli1.append(li[i])\n",
        "  else:\n",
        "    pass\n",
        "\n",
        "nli2 = []\n",
        "for i in range(len(li2)):\n",
        "  if li2[i] not in li3:\n",
        "    nli2.append(li2[i])\n",
        "  else:\n",
        "    pass\n",
        "\n",
        "nli3 = []\n",
        "for i in range(len(li4)):\n",
        "  if li4[i] not in li5:\n",
        "    nli3.append(li4[i])\n",
        "  else:\n",
        "    pass\n",
        "\n",
        "nli4 = []\n",
        "for i in range(len(li6)):\n",
        "  if li6[i] not in li7:\n",
        "    nli4.append(li6[i])\n",
        "  else:\n",
        "    pass"
      ],
      "metadata": {
        "id": "c2VoyE14-eul"
      },
      "execution_count": 56,
      "outputs": []
    },
    {
      "cell_type": "code",
      "source": [
        " #한개씩 있는 머신아이디 추출\n",
        "nli1\n",
        "nli2\n",
        "nli3\n",
        "nli4"
      ],
      "metadata": {
        "colab": {
          "base_uri": "https://localhost:8080/"
        },
        "id": "CrzCaC93-ndh",
        "outputId": "861802e1-80c1-495f-b04f-85f35587e139"
      },
      "execution_count": 57,
      "outputs": [
        {
          "output_type": "execute_result",
          "data": {
            "text/plain": [
              "[9, 27, 47, 48, 72, 74, 91]"
            ]
          },
          "metadata": {},
          "execution_count": 57
        }
      ]
    },
    {
      "cell_type": "code",
      "source": [
        "#nli를 이용하여 한개씩 있는 machineID의 time_diff를 nan값으로 처리\n",
        "for i in range(len(nli1)):\n",
        "  df_test.loc[df_test['machineID']==nli1[i],'time_diff'] = None\n",
        "for i in range(len(nli2)):\n",
        "  df_test1.loc[df_test1['machineID']==nli2[i],'time_diff'] = None\n",
        "for i in range(len(nli3)):\n",
        "  df_test2.loc[df_test2['machineID']==nli3[i],'time_diff'] = None\n",
        "for i in range(len(nli4)):\n",
        "  df_test3.loc[df_test3['machineID']==nli4[i],'time_diff'] = None"
      ],
      "metadata": {
        "id": "TqduiWca-trK"
      },
      "execution_count": 58,
      "outputs": []
    },
    {
      "cell_type": "code",
      "source": [
        "#데이터 개수 확인\n",
        "len(df_test),len(df_test1),len(df_test2),len(df_test3)"
      ],
      "metadata": {
        "colab": {
          "base_uri": "https://localhost:8080/"
        },
        "id": "sTPbawbJ_Eyd",
        "outputId": "a55ff80f-0504-4b5e-9304-a5c5292d9809"
      },
      "execution_count": 59,
      "outputs": [
        {
          "output_type": "execute_result",
          "data": {
            "text/plain": [
              "(423, 518, 294, 432)"
            ]
          },
          "metadata": {},
          "execution_count": 59
        }
      ]
    },
    {
      "cell_type": "code",
      "source": [],
      "metadata": {
        "id": "YFKhBQ1e27WH"
      },
      "execution_count": 59,
      "outputs": []
    },
    {
      "cell_type": "code",
      "source": [
        "df_test"
      ],
      "metadata": {
        "colab": {
          "base_uri": "https://localhost:8080/",
          "height": 0
        },
        "id": "NaXkwXQjADwl",
        "outputId": "465cc7f2-6756-4081-d655-cb7f1aaad5a1"
      },
      "execution_count": 60,
      "outputs": [
        {
          "output_type": "execute_result",
          "data": {
            "text/plain": [
              "                datetime  machineID  comp1  time_diff\n",
              "0    2015-03-06 06:00:00          1  comp1      135.0\n",
              "1    2015-07-19 06:00:00          1  comp1       15.0\n",
              "2    2015-08-03 06:00:00          1  comp1       60.0\n",
              "3    2015-10-02 06:00:00          1  comp1       90.0\n",
              "4    2015-12-31 06:00:00          1  comp1        NaN\n",
              "..                   ...        ...    ...        ...\n",
              "418  2015-09-15 06:00:00         99  comp1        NaN\n",
              "419  2015-02-12 06:00:00        100  comp1       45.0\n",
              "420  2015-03-29 06:00:00        100  comp1      165.0\n",
              "421  2015-09-10 06:00:00        100  comp1       30.0\n",
              "422  2015-10-10 06:00:00        100  comp1        NaN\n",
              "\n",
              "[423 rows x 4 columns]"
            ],
            "text/html": [
              "\n",
              "  <div id=\"df-e8de7760-fc9d-45de-82fe-f1ca21127354\">\n",
              "    <div class=\"colab-df-container\">\n",
              "      <div>\n",
              "<style scoped>\n",
              "    .dataframe tbody tr th:only-of-type {\n",
              "        vertical-align: middle;\n",
              "    }\n",
              "\n",
              "    .dataframe tbody tr th {\n",
              "        vertical-align: top;\n",
              "    }\n",
              "\n",
              "    .dataframe thead th {\n",
              "        text-align: right;\n",
              "    }\n",
              "</style>\n",
              "<table border=\"1\" class=\"dataframe\">\n",
              "  <thead>\n",
              "    <tr style=\"text-align: right;\">\n",
              "      <th></th>\n",
              "      <th>datetime</th>\n",
              "      <th>machineID</th>\n",
              "      <th>comp1</th>\n",
              "      <th>time_diff</th>\n",
              "    </tr>\n",
              "  </thead>\n",
              "  <tbody>\n",
              "    <tr>\n",
              "      <th>0</th>\n",
              "      <td>2015-03-06 06:00:00</td>\n",
              "      <td>1</td>\n",
              "      <td>comp1</td>\n",
              "      <td>135.0</td>\n",
              "    </tr>\n",
              "    <tr>\n",
              "      <th>1</th>\n",
              "      <td>2015-07-19 06:00:00</td>\n",
              "      <td>1</td>\n",
              "      <td>comp1</td>\n",
              "      <td>15.0</td>\n",
              "    </tr>\n",
              "    <tr>\n",
              "      <th>2</th>\n",
              "      <td>2015-08-03 06:00:00</td>\n",
              "      <td>1</td>\n",
              "      <td>comp1</td>\n",
              "      <td>60.0</td>\n",
              "    </tr>\n",
              "    <tr>\n",
              "      <th>3</th>\n",
              "      <td>2015-10-02 06:00:00</td>\n",
              "      <td>1</td>\n",
              "      <td>comp1</td>\n",
              "      <td>90.0</td>\n",
              "    </tr>\n",
              "    <tr>\n",
              "      <th>4</th>\n",
              "      <td>2015-12-31 06:00:00</td>\n",
              "      <td>1</td>\n",
              "      <td>comp1</td>\n",
              "      <td>NaN</td>\n",
              "    </tr>\n",
              "    <tr>\n",
              "      <th>...</th>\n",
              "      <td>...</td>\n",
              "      <td>...</td>\n",
              "      <td>...</td>\n",
              "      <td>...</td>\n",
              "    </tr>\n",
              "    <tr>\n",
              "      <th>418</th>\n",
              "      <td>2015-09-15 06:00:00</td>\n",
              "      <td>99</td>\n",
              "      <td>comp1</td>\n",
              "      <td>NaN</td>\n",
              "    </tr>\n",
              "    <tr>\n",
              "      <th>419</th>\n",
              "      <td>2015-02-12 06:00:00</td>\n",
              "      <td>100</td>\n",
              "      <td>comp1</td>\n",
              "      <td>45.0</td>\n",
              "    </tr>\n",
              "    <tr>\n",
              "      <th>420</th>\n",
              "      <td>2015-03-29 06:00:00</td>\n",
              "      <td>100</td>\n",
              "      <td>comp1</td>\n",
              "      <td>165.0</td>\n",
              "    </tr>\n",
              "    <tr>\n",
              "      <th>421</th>\n",
              "      <td>2015-09-10 06:00:00</td>\n",
              "      <td>100</td>\n",
              "      <td>comp1</td>\n",
              "      <td>30.0</td>\n",
              "    </tr>\n",
              "    <tr>\n",
              "      <th>422</th>\n",
              "      <td>2015-10-10 06:00:00</td>\n",
              "      <td>100</td>\n",
              "      <td>comp1</td>\n",
              "      <td>NaN</td>\n",
              "    </tr>\n",
              "  </tbody>\n",
              "</table>\n",
              "<p>423 rows × 4 columns</p>\n",
              "</div>\n",
              "      <button class=\"colab-df-convert\" onclick=\"convertToInteractive('df-e8de7760-fc9d-45de-82fe-f1ca21127354')\"\n",
              "              title=\"Convert this dataframe to an interactive table.\"\n",
              "              style=\"display:none;\">\n",
              "        \n",
              "  <svg xmlns=\"http://www.w3.org/2000/svg\" height=\"24px\"viewBox=\"0 0 24 24\"\n",
              "       width=\"24px\">\n",
              "    <path d=\"M0 0h24v24H0V0z\" fill=\"none\"/>\n",
              "    <path d=\"M18.56 5.44l.94 2.06.94-2.06 2.06-.94-2.06-.94-.94-2.06-.94 2.06-2.06.94zm-11 1L8.5 8.5l.94-2.06 2.06-.94-2.06-.94L8.5 2.5l-.94 2.06-2.06.94zm10 10l.94 2.06.94-2.06 2.06-.94-2.06-.94-.94-2.06-.94 2.06-2.06.94z\"/><path d=\"M17.41 7.96l-1.37-1.37c-.4-.4-.92-.59-1.43-.59-.52 0-1.04.2-1.43.59L10.3 9.45l-7.72 7.72c-.78.78-.78 2.05 0 2.83L4 21.41c.39.39.9.59 1.41.59.51 0 1.02-.2 1.41-.59l7.78-7.78 2.81-2.81c.8-.78.8-2.07 0-2.86zM5.41 20L4 18.59l7.72-7.72 1.47 1.35L5.41 20z\"/>\n",
              "  </svg>\n",
              "      </button>\n",
              "      \n",
              "  <style>\n",
              "    .colab-df-container {\n",
              "      display:flex;\n",
              "      flex-wrap:wrap;\n",
              "      gap: 12px;\n",
              "    }\n",
              "\n",
              "    .colab-df-convert {\n",
              "      background-color: #E8F0FE;\n",
              "      border: none;\n",
              "      border-radius: 50%;\n",
              "      cursor: pointer;\n",
              "      display: none;\n",
              "      fill: #1967D2;\n",
              "      height: 32px;\n",
              "      padding: 0 0 0 0;\n",
              "      width: 32px;\n",
              "    }\n",
              "\n",
              "    .colab-df-convert:hover {\n",
              "      background-color: #E2EBFA;\n",
              "      box-shadow: 0px 1px 2px rgba(60, 64, 67, 0.3), 0px 1px 3px 1px rgba(60, 64, 67, 0.15);\n",
              "      fill: #174EA6;\n",
              "    }\n",
              "\n",
              "    [theme=dark] .colab-df-convert {\n",
              "      background-color: #3B4455;\n",
              "      fill: #D2E3FC;\n",
              "    }\n",
              "\n",
              "    [theme=dark] .colab-df-convert:hover {\n",
              "      background-color: #434B5C;\n",
              "      box-shadow: 0px 1px 3px 1px rgba(0, 0, 0, 0.15);\n",
              "      filter: drop-shadow(0px 1px 2px rgba(0, 0, 0, 0.3));\n",
              "      fill: #FFFFFF;\n",
              "    }\n",
              "  </style>\n",
              "\n",
              "      <script>\n",
              "        const buttonEl =\n",
              "          document.querySelector('#df-e8de7760-fc9d-45de-82fe-f1ca21127354 button.colab-df-convert');\n",
              "        buttonEl.style.display =\n",
              "          google.colab.kernel.accessAllowed ? 'block' : 'none';\n",
              "\n",
              "        async function convertToInteractive(key) {\n",
              "          const element = document.querySelector('#df-e8de7760-fc9d-45de-82fe-f1ca21127354');\n",
              "          const dataTable =\n",
              "            await google.colab.kernel.invokeFunction('convertToInteractive',\n",
              "                                                     [key], {});\n",
              "          if (!dataTable) return;\n",
              "\n",
              "          const docLinkHtml = 'Like what you see? Visit the ' +\n",
              "            '<a target=\"_blank\" href=https://colab.research.google.com/notebooks/data_table.ipynb>data table notebook</a>'\n",
              "            + ' to learn more about interactive tables.';\n",
              "          element.innerHTML = '';\n",
              "          dataTable['output_type'] = 'display_data';\n",
              "          await google.colab.output.renderOutput(dataTable, element);\n",
              "          const docLink = document.createElement('div');\n",
              "          docLink.innerHTML = docLinkHtml;\n",
              "          element.appendChild(docLink);\n",
              "        }\n",
              "      </script>\n",
              "    </div>\n",
              "  </div>\n",
              "  "
            ]
          },
          "metadata": {},
          "execution_count": 60
        }
      ]
    },
    {
      "cell_type": "code",
      "source": [
        "#day기준\n",
        "df_test['time_diff'].describe()\n",
        "df_test1['time_diff'].describe()\n",
        "df_test2['time_diff'].describe()\n",
        "df_test3['time_diff'].describe()\n",
        "df_test_t=df_test['time_diff'].mean().round(3)\n",
        "df_test1_t=df_test1['time_diff'].mean().round(3)\n",
        "df_test2_t=df_test2['time_diff'].mean().round(3)\n",
        "df_test3_t=df_test3['time_diff'].mean().round(3)\n",
        "print(f'컴포넌트 일반적인 교체 주기 종합: 1의 평균 교체주기 (day)는 {df_test_t}일입니다,   컴포넌트 2의 평균 교체주기 (day)는 {df_test1_t}일입니다,    컴포넌트 3의 평균 교체주기 (day)는 {df_test2_t}일입니다,    컴포넌트 4의 평균 교체주기 (day)는 {df_test3_t}일입니다')"
      ],
      "metadata": {
        "colab": {
          "base_uri": "https://localhost:8080/"
        },
        "id": "K3Ty5yx__Y0l",
        "outputId": "319ef8bd-b66f-4100-a6d8-3581248344d3"
      },
      "execution_count": 61,
      "outputs": [
        {
          "output_type": "stream",
          "name": "stdout",
          "text": [
            "컴포넌트 일반적인 교체 주기 종합: 1의 평균 교체주기 (day)는 68.172일입니다,   컴포넌트 2의 평균 교체주기 (day)는 55.12일입니다,    컴포넌트 3의 평균 교체주기 (day)는 75.642일입니다,    컴포넌트 4의 평균 교체주기 (day)는 66.161일입니다\n"
          ]
        }
      ]
    },
    {
      "cell_type": "markdown",
      "source": [
        "#전체적인 컴포넌트 데이터 종합본"
      ],
      "metadata": {
        "id": "y0Q3iD0uAZj_"
      }
    },
    {
      "cell_type": "code",
      "source": [
        "hi=pd.concat([df_test, neg_t])\n",
        "hi1=pd.concat([df_test1, neg_t1])\n",
        "hi2=pd.concat([df_test2, neg_t2])\n",
        "hi3=pd.concat([df_test3, neg_t3])\n",
        "a=hi.mean().time_diff\n",
        "a1=hi1.mean().time_diff\n",
        "a2=hi2.mean().time_diff\n",
        "a3=hi3.mean().time_diff"
      ],
      "metadata": {
        "colab": {
          "base_uri": "https://localhost:8080/"
        },
        "id": "lSWPJuj_ui9v",
        "outputId": "ee39f464-2649-440f-ee7e-063202b5ddce"
      },
      "execution_count": 62,
      "outputs": [
        {
          "output_type": "stream",
          "name": "stderr",
          "text": [
            "<ipython-input-62-3b886692b635>:5: FutureWarning: Dropping of nuisance columns in DataFrame reductions (with 'numeric_only=None') is deprecated; in a future version this will raise TypeError.  Select only valid columns before calling the reduction.\n",
            "  a=hi.mean().time_diff\n",
            "<ipython-input-62-3b886692b635>:6: FutureWarning: Dropping of nuisance columns in DataFrame reductions (with 'numeric_only=None') is deprecated; in a future version this will raise TypeError.  Select only valid columns before calling the reduction.\n",
            "  a1=hi1.mean().time_diff\n",
            "<ipython-input-62-3b886692b635>:7: FutureWarning: Dropping of nuisance columns in DataFrame reductions (with 'numeric_only=None') is deprecated; in a future version this will raise TypeError.  Select only valid columns before calling the reduction.\n",
            "  a2=hi2.mean().time_diff\n",
            "<ipython-input-62-3b886692b635>:8: FutureWarning: Dropping of nuisance columns in DataFrame reductions (with 'numeric_only=None') is deprecated; in a future version this will raise TypeError.  Select only valid columns before calling the reduction.\n",
            "  a3=hi3.mean().time_diff\n"
          ]
        }
      ]
    },
    {
      "cell_type": "code",
      "source": [
        "print(f'고장에 의한 컴포넌트 교체 1의 평균 교체주기 (day)는 {ans1}일입니다,   컴포넌트 2의 평균 교체주기 (day)는 {ans2}일입니다,    컴포넌트 3의 평균 교체주기 (day)는 {ans3}일입니다,    컴포넌트 4의 평균 교체주기 (day)는 {ans4}일입니다')"
      ],
      "metadata": {
        "colab": {
          "base_uri": "https://localhost:8080/"
        },
        "id": "rs5L_J2pAprN",
        "outputId": "f18b5886-1abe-46d4-ea59-06dfcf9451e4"
      },
      "execution_count": 63,
      "outputs": [
        {
          "output_type": "stream",
          "name": "stdout",
          "text": [
            "고장에 의한 컴포넌트 교체 1의 평균 교체주기 (day)는 124.04일입니다,   컴포넌트 2의 평균 교체주기 (day)는 136.96일입니다,    컴포넌트 3의 평균 교체주기 (day)는 92.89일입니다,    컴포넌트 4의 평균 교체주기 (day)는 117.81일입니다\n"
          ]
        }
      ]
    },
    {
      "cell_type": "code",
      "source": [
        "print(f'컴포넌트 일반적인 교체 주기 종합: 1의 평균 교체주기 (day)는 {df_test_t}일입니다,   컴포넌트 2의 평균 교체주기 (day)는 {df_test1_t}일입니다,    컴포넌트 3의 평균 교체주기 (day)는 {df_test2_t}일입니다,    컴포넌트 4의 평균 교체주기 (day)는 {df_test3_t}일입니다')"
      ],
      "metadata": {
        "colab": {
          "base_uri": "https://localhost:8080/"
        },
        "id": "ZprNS3HZAd5d",
        "outputId": "f6e0828a-50c8-44c7-84c3-4b5676345064"
      },
      "execution_count": 64,
      "outputs": [
        {
          "output_type": "stream",
          "name": "stdout",
          "text": [
            "컴포넌트 일반적인 교체 주기 종합: 1의 평균 교체주기 (day)는 68.172일입니다,   컴포넌트 2의 평균 교체주기 (day)는 55.12일입니다,    컴포넌트 3의 평균 교체주기 (day)는 75.642일입니다,    컴포넌트 4의 평균 교체주기 (day)는 66.161일입니다\n"
          ]
        }
      ]
    },
    {
      "cell_type": "code",
      "source": [
        "print(f'컴포넌트 종합 교체주기:  1의 평균 교체주기 (day)는 {a.round(2)}일입니다,   컴포넌트 2의 평균 교체주기 (day)는 {a1.round(2)}일입니다,    컴포넌트 3의 평균 교체주기 (day)는 {a2.round(2)}일입니다,    컴포넌트 4의 평균 교체주기 (day)는 {a3.round(2)}일입니다')"
      ],
      "metadata": {
        "colab": {
          "base_uri": "https://localhost:8080/"
        },
        "id": "UjP5Fx90AiAd",
        "outputId": "1fd8d870-849a-427b-81e3-a7192459eb0b"
      },
      "execution_count": 65,
      "outputs": [
        {
          "output_type": "stream",
          "name": "stdout",
          "text": [
            "컴포넌트 종합 교체주기:  1의 평균 교체주기 (day)는 94.32일입니다,   컴포넌트 2의 평균 교체주기 (day)는 85.59일입니다,    컴포넌트 3의 평균 교체주기 (day)는 86.96일입니다,    컴포넌트 4의 평균 교체주기 (day)는 89.87일입니다\n"
          ]
        }
      ]
    },
    {
      "cell_type": "markdown",
      "source": [
        "#시각화"
      ],
      "metadata": {
        "id": "FunyqWKezDPQ"
      }
    },
    {
      "cell_type": "code",
      "source": [
        "import numpy as np\n",
        "import pandas as pd\n",
        "import matplotlib.pyplot as plt\n",
        "import seaborn as sns"
      ],
      "metadata": {
        "id": "_JEVvLoizBeI"
      },
      "execution_count": 66,
      "outputs": []
    },
    {
      "cell_type": "code",
      "source": [
        "a"
      ],
      "metadata": {
        "colab": {
          "base_uri": "https://localhost:8080/"
        },
        "id": "XzDHlm-N2CNP",
        "outputId": "ca864cfa-98c6-40e8-d66e-9bdde9069e7c"
      },
      "execution_count": 67,
      "outputs": [
        {
          "output_type": "execute_result",
          "data": {
            "text/plain": [
              "94.32242225859247"
            ]
          },
          "metadata": {},
          "execution_count": 67
        }
      ]
    },
    {
      "cell_type": "code",
      "source": [
        "error_comp = [ans1,ans2,ans3,ans4]\n",
        "norm_comp = [df_test_t,df_test1_t,df_test2_t,df_test3_t]\n",
        "origin_comp= [a.round(2),a1.round(2),a2.round(2),a3.round(2)]"
      ],
      "metadata": {
        "id": "EmzanBivzklH"
      },
      "execution_count": 68,
      "outputs": []
    },
    {
      "cell_type": "code",
      "source": [
        "ata = {'고장에 의한 교체' : error_comp, '정기적 교체': norm_comp, '총 평균': origin_comp}"
      ],
      "metadata": {
        "id": "VWKlWqVl_T9E"
      },
      "execution_count": 69,
      "outputs": []
    },
    {
      "cell_type": "code",
      "source": [
        "dataf = pd.DataFrame(ata, index = ['컴포넌트1','컴포넌트2','컴포넌트3','컴포넌트4'])"
      ],
      "metadata": {
        "id": "suk-5XxU_jSN"
      },
      "execution_count": 70,
      "outputs": []
    },
    {
      "cell_type": "code",
      "source": [
        "dataf"
      ],
      "metadata": {
        "colab": {
          "base_uri": "https://localhost:8080/",
          "height": 175
        },
        "id": "-yFMO29nCjkM",
        "outputId": "c718f69e-e538-4d1d-b20c-8f6f9768ebab"
      },
      "execution_count": 71,
      "outputs": [
        {
          "output_type": "execute_result",
          "data": {
            "text/plain": [
              "       고장에 의한 교체  정기적 교체   총 평균\n",
              "컴포넌트1     124.04  68.172  94.32\n",
              "컴포넌트2     136.96  55.120  85.59\n",
              "컴포넌트3      92.89  75.642  86.96\n",
              "컴포넌트4     117.81  66.161  89.87"
            ],
            "text/html": [
              "\n",
              "  <div id=\"df-198d54f5-c43d-442a-a878-3366659fce81\">\n",
              "    <div class=\"colab-df-container\">\n",
              "      <div>\n",
              "<style scoped>\n",
              "    .dataframe tbody tr th:only-of-type {\n",
              "        vertical-align: middle;\n",
              "    }\n",
              "\n",
              "    .dataframe tbody tr th {\n",
              "        vertical-align: top;\n",
              "    }\n",
              "\n",
              "    .dataframe thead th {\n",
              "        text-align: right;\n",
              "    }\n",
              "</style>\n",
              "<table border=\"1\" class=\"dataframe\">\n",
              "  <thead>\n",
              "    <tr style=\"text-align: right;\">\n",
              "      <th></th>\n",
              "      <th>고장에 의한 교체</th>\n",
              "      <th>정기적 교체</th>\n",
              "      <th>총 평균</th>\n",
              "    </tr>\n",
              "  </thead>\n",
              "  <tbody>\n",
              "    <tr>\n",
              "      <th>컴포넌트1</th>\n",
              "      <td>124.04</td>\n",
              "      <td>68.172</td>\n",
              "      <td>94.32</td>\n",
              "    </tr>\n",
              "    <tr>\n",
              "      <th>컴포넌트2</th>\n",
              "      <td>136.96</td>\n",
              "      <td>55.120</td>\n",
              "      <td>85.59</td>\n",
              "    </tr>\n",
              "    <tr>\n",
              "      <th>컴포넌트3</th>\n",
              "      <td>92.89</td>\n",
              "      <td>75.642</td>\n",
              "      <td>86.96</td>\n",
              "    </tr>\n",
              "    <tr>\n",
              "      <th>컴포넌트4</th>\n",
              "      <td>117.81</td>\n",
              "      <td>66.161</td>\n",
              "      <td>89.87</td>\n",
              "    </tr>\n",
              "  </tbody>\n",
              "</table>\n",
              "</div>\n",
              "      <button class=\"colab-df-convert\" onclick=\"convertToInteractive('df-198d54f5-c43d-442a-a878-3366659fce81')\"\n",
              "              title=\"Convert this dataframe to an interactive table.\"\n",
              "              style=\"display:none;\">\n",
              "        \n",
              "  <svg xmlns=\"http://www.w3.org/2000/svg\" height=\"24px\"viewBox=\"0 0 24 24\"\n",
              "       width=\"24px\">\n",
              "    <path d=\"M0 0h24v24H0V0z\" fill=\"none\"/>\n",
              "    <path d=\"M18.56 5.44l.94 2.06.94-2.06 2.06-.94-2.06-.94-.94-2.06-.94 2.06-2.06.94zm-11 1L8.5 8.5l.94-2.06 2.06-.94-2.06-.94L8.5 2.5l-.94 2.06-2.06.94zm10 10l.94 2.06.94-2.06 2.06-.94-2.06-.94-.94-2.06-.94 2.06-2.06.94z\"/><path d=\"M17.41 7.96l-1.37-1.37c-.4-.4-.92-.59-1.43-.59-.52 0-1.04.2-1.43.59L10.3 9.45l-7.72 7.72c-.78.78-.78 2.05 0 2.83L4 21.41c.39.39.9.59 1.41.59.51 0 1.02-.2 1.41-.59l7.78-7.78 2.81-2.81c.8-.78.8-2.07 0-2.86zM5.41 20L4 18.59l7.72-7.72 1.47 1.35L5.41 20z\"/>\n",
              "  </svg>\n",
              "      </button>\n",
              "      \n",
              "  <style>\n",
              "    .colab-df-container {\n",
              "      display:flex;\n",
              "      flex-wrap:wrap;\n",
              "      gap: 12px;\n",
              "    }\n",
              "\n",
              "    .colab-df-convert {\n",
              "      background-color: #E8F0FE;\n",
              "      border: none;\n",
              "      border-radius: 50%;\n",
              "      cursor: pointer;\n",
              "      display: none;\n",
              "      fill: #1967D2;\n",
              "      height: 32px;\n",
              "      padding: 0 0 0 0;\n",
              "      width: 32px;\n",
              "    }\n",
              "\n",
              "    .colab-df-convert:hover {\n",
              "      background-color: #E2EBFA;\n",
              "      box-shadow: 0px 1px 2px rgba(60, 64, 67, 0.3), 0px 1px 3px 1px rgba(60, 64, 67, 0.15);\n",
              "      fill: #174EA6;\n",
              "    }\n",
              "\n",
              "    [theme=dark] .colab-df-convert {\n",
              "      background-color: #3B4455;\n",
              "      fill: #D2E3FC;\n",
              "    }\n",
              "\n",
              "    [theme=dark] .colab-df-convert:hover {\n",
              "      background-color: #434B5C;\n",
              "      box-shadow: 0px 1px 3px 1px rgba(0, 0, 0, 0.15);\n",
              "      filter: drop-shadow(0px 1px 2px rgba(0, 0, 0, 0.3));\n",
              "      fill: #FFFFFF;\n",
              "    }\n",
              "  </style>\n",
              "\n",
              "      <script>\n",
              "        const buttonEl =\n",
              "          document.querySelector('#df-198d54f5-c43d-442a-a878-3366659fce81 button.colab-df-convert');\n",
              "        buttonEl.style.display =\n",
              "          google.colab.kernel.accessAllowed ? 'block' : 'none';\n",
              "\n",
              "        async function convertToInteractive(key) {\n",
              "          const element = document.querySelector('#df-198d54f5-c43d-442a-a878-3366659fce81');\n",
              "          const dataTable =\n",
              "            await google.colab.kernel.invokeFunction('convertToInteractive',\n",
              "                                                     [key], {});\n",
              "          if (!dataTable) return;\n",
              "\n",
              "          const docLinkHtml = 'Like what you see? Visit the ' +\n",
              "            '<a target=\"_blank\" href=https://colab.research.google.com/notebooks/data_table.ipynb>data table notebook</a>'\n",
              "            + ' to learn more about interactive tables.';\n",
              "          element.innerHTML = '';\n",
              "          dataTable['output_type'] = 'display_data';\n",
              "          await google.colab.output.renderOutput(dataTable, element);\n",
              "          const docLink = document.createElement('div');\n",
              "          docLink.innerHTML = docLinkHtml;\n",
              "          element.appendChild(docLink);\n",
              "        }\n",
              "      </script>\n",
              "    </div>\n",
              "  </div>\n",
              "  "
            ]
          },
          "metadata": {},
          "execution_count": 71
        }
      ]
    },
    {
      "cell_type": "code",
      "source": [
        "error_comp"
      ],
      "metadata": {
        "colab": {
          "base_uri": "https://localhost:8080/"
        },
        "id": "yqNnThFu8JCV",
        "outputId": "1a1c8f37-10aa-4ca1-8bc3-0acdbe3fb54c"
      },
      "execution_count": 72,
      "outputs": [
        {
          "output_type": "execute_result",
          "data": {
            "text/plain": [
              "[124.04, 136.96, 92.89, 117.81]"
            ]
          },
          "metadata": {},
          "execution_count": 72
        }
      ]
    },
    {
      "cell_type": "code",
      "source": [
        "norm_comp"
      ],
      "metadata": {
        "colab": {
          "base_uri": "https://localhost:8080/"
        },
        "id": "eDXBr_t58VXl",
        "outputId": "fe05e9d1-5658-460f-e6d8-14a8f9acccbe"
      },
      "execution_count": 73,
      "outputs": [
        {
          "output_type": "execute_result",
          "data": {
            "text/plain": [
              "[68.172, 55.12, 75.642, 66.161]"
            ]
          },
          "metadata": {},
          "execution_count": 73
        }
      ]
    },
    {
      "cell_type": "code",
      "source": [
        "origin_comp"
      ],
      "metadata": {
        "colab": {
          "base_uri": "https://localhost:8080/"
        },
        "id": "44mzRTdu8WG-",
        "outputId": "9b1a0b65-3dd2-4acf-d04f-de75afc308b9"
      },
      "execution_count": 74,
      "outputs": [
        {
          "output_type": "execute_result",
          "data": {
            "text/plain": [
              "[94.32, 85.59, 86.96, 89.87]"
            ]
          },
          "metadata": {},
          "execution_count": 74
        }
      ]
    },
    {
      "cell_type": "code",
      "source": [
        "t = [422, 517, 293, 431]\n",
        "t"
      ],
      "metadata": {
        "colab": {
          "base_uri": "https://localhost:8080/"
        },
        "id": "V9xrcn0j8iid",
        "outputId": "aad2afed-ad91-4c65-9df1-a71da4a29db4"
      },
      "execution_count": 75,
      "outputs": [
        {
          "output_type": "execute_result",
          "data": {
            "text/plain": [
              "[422, 517, 293, 431]"
            ]
          },
          "metadata": {},
          "execution_count": 75
        }
      ]
    },
    {
      "cell_type": "code",
      "source": [
        "b = [804, 863, 808, 811]\n",
        "b"
      ],
      "metadata": {
        "colab": {
          "base_uri": "https://localhost:8080/"
        },
        "id": "XvLdLvjV8jud",
        "outputId": "1a008f02-da7e-42ad-a666-74c302566855"
      },
      "execution_count": 76,
      "outputs": [
        {
          "output_type": "execute_result",
          "data": {
            "text/plain": [
              "[804, 863, 808, 811]"
            ]
          },
          "metadata": {},
          "execution_count": 76
        }
      ]
    },
    {
      "cell_type": "code",
      "source": [
        "k= [381, 345, 514, 379]\n",
        "k"
      ],
      "metadata": {
        "colab": {
          "base_uri": "https://localhost:8080/"
        },
        "id": "I2bjLDdx8kw1",
        "outputId": "c2df5c06-e569-457b-94d8-49f6eff99985"
      },
      "execution_count": 77,
      "outputs": [
        {
          "output_type": "execute_result",
          "data": {
            "text/plain": [
              "[381, 345, 514, 379]"
            ]
          },
          "metadata": {},
          "execution_count": 77
        }
      ]
    },
    {
      "cell_type": "code",
      "source": [
        "dict_percentage={'고장 교체': t,'정기적 교체': k}"
      ],
      "metadata": {
        "id": "Yvy8yZBR8s0t"
      },
      "execution_count": 78,
      "outputs": []
    },
    {
      "cell_type": "code",
      "source": [
        "data = pd.DataFrame(dict_percentage, index = ['컴포넌트1','컴포넌트2','컴포넌트3','컴포넌트4'])"
      ],
      "metadata": {
        "id": "ltZpHVEe9zst"
      },
      "execution_count": 79,
      "outputs": []
    },
    {
      "cell_type": "code",
      "source": [
        "data = data.sort_values(by='고장 교체')"
      ],
      "metadata": {
        "id": "CrlkI1KbV7W3"
      },
      "execution_count": 85,
      "outputs": []
    },
    {
      "cell_type": "code",
      "source": [
        "bar = data.plot.barh(stacked=True, figsize=(15,7), alpha = 0.4, width = 0.4)\n",
        "plt.title('컴포넌트 별 교체 사유 비율')\n",
        "plt.show()\n"
      ],
      "metadata": {
        "colab": {
          "base_uri": "https://localhost:8080/",
          "height": 392
        },
        "id": "XCYIv2pP9YQV",
        "outputId": "ad5e7541-1958-46f5-a066-52fd9e18072e"
      },
      "execution_count": 86,
      "outputs": [
        {
          "output_type": "display_data",
          "data": {
            "text/plain": [
              "<Figure size 1080x504 with 1 Axes>"
            ],
            "image/png": "[encoded data removed]"
          },
          "metadata": {
            "needs_background": "light"
          }
        }
      ]
    },
    {
      "cell_type": "code",
      "source": [
        "mam =['컴포넌트3','컴포넌트4','컴포넌트1','컴포넌트2']"
      ],
      "metadata": {
        "id": "JakBjorwA-L8"
      },
      "execution_count": 98,
      "outputs": []
    },
    {
      "cell_type": "code",
      "source": [
        "N = dataf.shape[0]\n",
        "index = np.arange(N)\n",
        "index"
      ],
      "metadata": {
        "colab": {
          "base_uri": "https://localhost:8080/"
        },
        "id": "amhrDkUECZcr",
        "outputId": "91d7078d-3799-4497-e958-4846ef42263e"
      },
      "execution_count": 82,
      "outputs": [
        {
          "output_type": "execute_result",
          "data": {
            "text/plain": [
              "array([0, 1, 2, 3])"
            ]
          },
          "metadata": {},
          "execution_count": 82
        }
      ]
    },
    {
      "cell_type": "code",
      "source": [
        "dataf = dataf.sort_values(by='고장에 의한 교체', ascending ='True')"
      ],
      "metadata": {
        "id": "Fmp0sXrZWKbX"
      },
      "execution_count": 94,
      "outputs": []
    },
    {
      "cell_type": "code",
      "source": [
        "dataf"
      ],
      "metadata": {
        "colab": {
          "base_uri": "https://localhost:8080/",
          "height": 175
        },
        "id": "vTzf-GX1Wvp-",
        "outputId": "976dc27b-9593-47e2-8f4b-234d16398021"
      },
      "execution_count": 97,
      "outputs": [
        {
          "output_type": "execute_result",
          "data": {
            "text/plain": [
              "       고장에 의한 교체  정기적 교체   총 평균\n",
              "컴포넌트3      92.89  75.642  86.96\n",
              "컴포넌트4     117.81  66.161  89.87\n",
              "컴포넌트1     124.04  68.172  94.32\n",
              "컴포넌트2     136.96  55.120  85.59"
            ],
            "text/html": [
              "\n",
              "  <div id=\"df-d0d62379-05cf-4eeb-8b1d-eb8747b73533\">\n",
              "    <div class=\"colab-df-container\">\n",
              "      <div>\n",
              "<style scoped>\n",
              "    .dataframe tbody tr th:only-of-type {\n",
              "        vertical-align: middle;\n",
              "    }\n",
              "\n",
              "    .dataframe tbody tr th {\n",
              "        vertical-align: top;\n",
              "    }\n",
              "\n",
              "    .dataframe thead th {\n",
              "        text-align: right;\n",
              "    }\n",
              "</style>\n",
              "<table border=\"1\" class=\"dataframe\">\n",
              "  <thead>\n",
              "    <tr style=\"text-align: right;\">\n",
              "      <th></th>\n",
              "      <th>고장에 의한 교체</th>\n",
              "      <th>정기적 교체</th>\n",
              "      <th>총 평균</th>\n",
              "    </tr>\n",
              "  </thead>\n",
              "  <tbody>\n",
              "    <tr>\n",
              "      <th>컴포넌트3</th>\n",
              "      <td>92.89</td>\n",
              "      <td>75.642</td>\n",
              "      <td>86.96</td>\n",
              "    </tr>\n",
              "    <tr>\n",
              "      <th>컴포넌트4</th>\n",
              "      <td>117.81</td>\n",
              "      <td>66.161</td>\n",
              "      <td>89.87</td>\n",
              "    </tr>\n",
              "    <tr>\n",
              "      <th>컴포넌트1</th>\n",
              "      <td>124.04</td>\n",
              "      <td>68.172</td>\n",
              "      <td>94.32</td>\n",
              "    </tr>\n",
              "    <tr>\n",
              "      <th>컴포넌트2</th>\n",
              "      <td>136.96</td>\n",
              "      <td>55.120</td>\n",
              "      <td>85.59</td>\n",
              "    </tr>\n",
              "  </tbody>\n",
              "</table>\n",
              "</div>\n",
              "      <button class=\"colab-df-convert\" onclick=\"convertToInteractive('df-d0d62379-05cf-4eeb-8b1d-eb8747b73533')\"\n",
              "              title=\"Convert this dataframe to an interactive table.\"\n",
              "              style=\"display:none;\">\n",
              "        \n",
              "  <svg xmlns=\"http://www.w3.org/2000/svg\" height=\"24px\"viewBox=\"0 0 24 24\"\n",
              "       width=\"24px\">\n",
              "    <path d=\"M0 0h24v24H0V0z\" fill=\"none\"/>\n",
              "    <path d=\"M18.56 5.44l.94 2.06.94-2.06 2.06-.94-2.06-.94-.94-2.06-.94 2.06-2.06.94zm-11 1L8.5 8.5l.94-2.06 2.06-.94-2.06-.94L8.5 2.5l-.94 2.06-2.06.94zm10 10l.94 2.06.94-2.06 2.06-.94-2.06-.94-.94-2.06-.94 2.06-2.06.94z\"/><path d=\"M17.41 7.96l-1.37-1.37c-.4-.4-.92-.59-1.43-.59-.52 0-1.04.2-1.43.59L10.3 9.45l-7.72 7.72c-.78.78-.78 2.05 0 2.83L4 21.41c.39.39.9.59 1.41.59.51 0 1.02-.2 1.41-.59l7.78-7.78 2.81-2.81c.8-.78.8-2.07 0-2.86zM5.41 20L4 18.59l7.72-7.72 1.47 1.35L5.41 20z\"/>\n",
              "  </svg>\n",
              "      </button>\n",
              "      \n",
              "  <style>\n",
              "    .colab-df-container {\n",
              "      display:flex;\n",
              "      flex-wrap:wrap;\n",
              "      gap: 12px;\n",
              "    }\n",
              "\n",
              "    .colab-df-convert {\n",
              "      background-color: #E8F0FE;\n",
              "      border: none;\n",
              "      border-radius: 50%;\n",
              "      cursor: pointer;\n",
              "      display: none;\n",
              "      fill: #1967D2;\n",
              "      height: 32px;\n",
              "      padding: 0 0 0 0;\n",
              "      width: 32px;\n",
              "    }\n",
              "\n",
              "    .colab-df-convert:hover {\n",
              "      background-color: #E2EBFA;\n",
              "      box-shadow: 0px 1px 2px rgba(60, 64, 67, 0.3), 0px 1px 3px 1px rgba(60, 64, 67, 0.15);\n",
              "      fill: #174EA6;\n",
              "    }\n",
              "\n",
              "    [theme=dark] .colab-df-convert {\n",
              "      background-color: #3B4455;\n",
              "      fill: #D2E3FC;\n",
              "    }\n",
              "\n",
              "    [theme=dark] .colab-df-convert:hover {\n",
              "      background-color: #434B5C;\n",
              "      box-shadow: 0px 1px 3px 1px rgba(0, 0, 0, 0.15);\n",
              "      filter: drop-shadow(0px 1px 2px rgba(0, 0, 0, 0.3));\n",
              "      fill: #FFFFFF;\n",
              "    }\n",
              "  </style>\n",
              "\n",
              "      <script>\n",
              "        const buttonEl =\n",
              "          document.querySelector('#df-d0d62379-05cf-4eeb-8b1d-eb8747b73533 button.colab-df-convert');\n",
              "        buttonEl.style.display =\n",
              "          google.colab.kernel.accessAllowed ? 'block' : 'none';\n",
              "\n",
              "        async function convertToInteractive(key) {\n",
              "          const element = document.querySelector('#df-d0d62379-05cf-4eeb-8b1d-eb8747b73533');\n",
              "          const dataTable =\n",
              "            await google.colab.kernel.invokeFunction('convertToInteractive',\n",
              "                                                     [key], {});\n",
              "          if (!dataTable) return;\n",
              "\n",
              "          const docLinkHtml = 'Like what you see? Visit the ' +\n",
              "            '<a target=\"_blank\" href=https://colab.research.google.com/notebooks/data_table.ipynb>data table notebook</a>'\n",
              "            + ' to learn more about interactive tables.';\n",
              "          element.innerHTML = '';\n",
              "          dataTable['output_type'] = 'display_data';\n",
              "          await google.colab.output.renderOutput(dataTable, element);\n",
              "          const docLink = document.createElement('div');\n",
              "          docLink.innerHTML = docLinkHtml;\n",
              "          element.appendChild(docLink);\n",
              "        }\n",
              "      </script>\n",
              "    </div>\n",
              "  </div>\n",
              "  "
            ]
          },
          "metadata": {},
          "execution_count": 97
        }
      ]
    },
    {
      "cell_type": "code",
      "source": [
        "w = 0.25\n",
        "plt.bar(index - w, dataf['고장에 의한 교체'],width = w, label='고장에 의한 교체')\n",
        "plt.bar(index, dataf['총 평균'],width = w, label='총 평균')\n",
        "plt.bar(index + w, dataf['정기적 교체'],width = w, label='정기적 교체')\n",
        "plt.legend(ncol=3)\n",
        "plt.xticks(index, mam)\n",
        "plt.ylim(20,160)\n",
        "plt.title('교체 평균 주기 파악')\n",
        "plt.show()"
      ],
      "metadata": {
        "colab": {
          "base_uri": "https://localhost:8080/",
          "height": 280
        },
        "id": "5TsKrAOQBFDd",
        "outputId": "6346c52f-dfd4-47cb-e44c-0b0dd66f7139"
      },
      "execution_count": 108,
      "outputs": [
        {
          "output_type": "display_data",
          "data": {
            "text/plain": [
              "<Figure size 432x288 with 1 Axes>"
            ],
            "image/png": "[encoded data removed]"
          },
          "metadata": {
            "needs_background": "light"
          }
        }
      ]
    },
    {
      "cell_type": "code",
      "source": [],
      "metadata": {
        "id": "zNMygd3BC-mA"
      },
      "execution_count": 83,
      "outputs": []
    }
  ]
}
