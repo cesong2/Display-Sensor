{
  "nbformat": 4,
  "nbformat_minor": 0,
  "metadata": {
    "colab": {
      "provenance": [],
      "authorship_tag": "ABX9TyOHpLQ5OnatfcuHS1k6QoF/",
      "include_colab_link": true
    },
    "kernelspec": {
      "name": "python3",
      "display_name": "Python 3"
    },
    "language_info": {
      "name": "python"
    }
  },
  "cells": [
    {
      "cell_type": "markdown",
      "metadata": {
        "id": "view-in-github",
        "colab_type": "text"
      },
      "source": [
        "<a href=\"https://colab.research.google.com/github/cesong2/Display-Sensor/blob/Chan/teamproject.ipynb\" target=\"_parent\"><img src=\"https://colab.research.google.com/assets/colab-badge.svg\" alt=\"Open In Colab\"/></a>"
      ]
    },
    {
      "cell_type": "code",
      "execution_count": 1,
      "metadata": {
        "id": "o3_2sft50wvy"
      },
      "outputs": [],
      "source": [
        "import pandas as pd\n",
        "import matplotlib.pyplot as plt\n",
        "import matplotlib\n",
        "import seaborn as sns\n",
        "import numpy as np\n",
        "#Load the data\n",
        "telemetry_df = pd.read_csv(\"/content/PdM_telemetry.csv\")\n",
        "errors_df = pd.read_csv(\"/content/PdM_errors.csv\")\n",
        "maint_df = pd.read_csv(\"/content/PdM_maint.csv\")\n",
        "failures_df = pd.read_csv(\"/content/PdM_failures.csv\")\n",
        "machines_df = pd.read_csv(\"/content/PdM_machines.csv\")\n",
        "machines_age = pd.DataFrame(machines_df[['machineID','age']]).set_index('machineID')\n",
        "machines_errors = pd.DataFrame(errors_df.groupby('machineID')['errorID'].count())\n",
        "machines_maint = pd.DataFrame(maint_df.groupby('machineID')['comp'].count())\n",
        "machines_failures = pd.DataFrame(failures_df.groupby('machineID')['failure'].count())"
      ]
    },
    {
      "cell_type": "code",
      "source": [
        "# 추출한 데이터 합치기\n",
        "df_machines = pd.concat([machines_age, machines_errors, machines_maint, machines_failures], axis=1)\n",
        "df_machines.rename(columns={'errorID':'error', 'comp':'replace'},inplace=True)\n",
        "df_machines"
      ],
      "metadata": {
        "id": "x8of2C2d148m"
      },
      "execution_count": null,
      "outputs": []
    },
    {
      "cell_type": "code",
      "source": [
        "# 상관관계 찾기 (피어슨 상관계수 사용)\n",
        "df_machines.corr(method = \"pearson\")"
      ],
      "metadata": {
        "colab": {
          "base_uri": "https://localhost:8080/",
          "height": 175
        },
        "id": "GUuXyORq16hc",
        "outputId": "bb8f1659-feb1-4c67-dffc-085ff5277060"
      },
      "execution_count": 3,
      "outputs": [
        {
          "output_type": "execute_result",
          "data": {
            "text/plain": [
              "              age     error   replace   failure\n",
              "age      1.000000  0.106931  0.075445  0.476459\n",
              "error    0.106931  1.000000 -0.026558  0.483735\n",
              "replace  0.075445 -0.026558  1.000000 -0.030258\n",
              "failure  0.476459  0.483735 -0.030258  1.000000"
            ],
            "text/html": [
              "\n",
              "  <div id=\"df-df3ff148-a10b-4f0a-811a-5ab0becf9329\">\n",
              "    <div class=\"colab-df-container\">\n",
              "      <div>\n",
              "<style scoped>\n",
              "    .dataframe tbody tr th:only-of-type {\n",
              "        vertical-align: middle;\n",
              "    }\n",
              "\n",
              "    .dataframe tbody tr th {\n",
              "        vertical-align: top;\n",
              "    }\n",
              "\n",
              "    .dataframe thead th {\n",
              "        text-align: right;\n",
              "    }\n",
              "</style>\n",
              "<table border=\"1\" class=\"dataframe\">\n",
              "  <thead>\n",
              "    <tr style=\"text-align: right;\">\n",
              "      <th></th>\n",
              "      <th>age</th>\n",
              "      <th>error</th>\n",
              "      <th>replace</th>\n",
              "      <th>failure</th>\n",
              "    </tr>\n",
              "  </thead>\n",
              "  <tbody>\n",
              "    <tr>\n",
              "      <th>age</th>\n",
              "      <td>1.000000</td>\n",
              "      <td>0.106931</td>\n",
              "      <td>0.075445</td>\n",
              "      <td>0.476459</td>\n",
              "    </tr>\n",
              "    <tr>\n",
              "      <th>error</th>\n",
              "      <td>0.106931</td>\n",
              "      <td>1.000000</td>\n",
              "      <td>-0.026558</td>\n",
              "      <td>0.483735</td>\n",
              "    </tr>\n",
              "    <tr>\n",
              "      <th>replace</th>\n",
              "      <td>0.075445</td>\n",
              "      <td>-0.026558</td>\n",
              "      <td>1.000000</td>\n",
              "      <td>-0.030258</td>\n",
              "    </tr>\n",
              "    <tr>\n",
              "      <th>failure</th>\n",
              "      <td>0.476459</td>\n",
              "      <td>0.483735</td>\n",
              "      <td>-0.030258</td>\n",
              "      <td>1.000000</td>\n",
              "    </tr>\n",
              "  </tbody>\n",
              "</table>\n",
              "</div>\n",
              "      <button class=\"colab-df-convert\" onclick=\"convertToInteractive('df-df3ff148-a10b-4f0a-811a-5ab0becf9329')\"\n",
              "              title=\"Convert this dataframe to an interactive table.\"\n",
              "              style=\"display:none;\">\n",
              "        \n",
              "  <svg xmlns=\"http://www.w3.org/2000/svg\" height=\"24px\"viewBox=\"0 0 24 24\"\n",
              "       width=\"24px\">\n",
              "    <path d=\"M0 0h24v24H0V0z\" fill=\"none\"/>\n",
              "    <path d=\"M18.56 5.44l.94 2.06.94-2.06 2.06-.94-2.06-.94-.94-2.06-.94 2.06-2.06.94zm-11 1L8.5 8.5l.94-2.06 2.06-.94-2.06-.94L8.5 2.5l-.94 2.06-2.06.94zm10 10l.94 2.06.94-2.06 2.06-.94-2.06-.94-.94-2.06-.94 2.06-2.06.94z\"/><path d=\"M17.41 7.96l-1.37-1.37c-.4-.4-.92-.59-1.43-.59-.52 0-1.04.2-1.43.59L10.3 9.45l-7.72 7.72c-.78.78-.78 2.05 0 2.83L4 21.41c.39.39.9.59 1.41.59.51 0 1.02-.2 1.41-.59l7.78-7.78 2.81-2.81c.8-.78.8-2.07 0-2.86zM5.41 20L4 18.59l7.72-7.72 1.47 1.35L5.41 20z\"/>\n",
              "  </svg>\n",
              "      </button>\n",
              "      \n",
              "  <style>\n",
              "    .colab-df-container {\n",
              "      display:flex;\n",
              "      flex-wrap:wrap;\n",
              "      gap: 12px;\n",
              "    }\n",
              "\n",
              "    .colab-df-convert {\n",
              "      background-color: #E8F0FE;\n",
              "      border: none;\n",
              "      border-radius: 50%;\n",
              "      cursor: pointer;\n",
              "      display: none;\n",
              "      fill: #1967D2;\n",
              "      height: 32px;\n",
              "      padding: 0 0 0 0;\n",
              "      width: 32px;\n",
              "    }\n",
              "\n",
              "    .colab-df-convert:hover {\n",
              "      background-color: #E2EBFA;\n",
              "      box-shadow: 0px 1px 2px rgba(60, 64, 67, 0.3), 0px 1px 3px 1px rgba(60, 64, 67, 0.15);\n",
              "      fill: #174EA6;\n",
              "    }\n",
              "\n",
              "    [theme=dark] .colab-df-convert {\n",
              "      background-color: #3B4455;\n",
              "      fill: #D2E3FC;\n",
              "    }\n",
              "\n",
              "    [theme=dark] .colab-df-convert:hover {\n",
              "      background-color: #434B5C;\n",
              "      box-shadow: 0px 1px 3px 1px rgba(0, 0, 0, 0.15);\n",
              "      filter: drop-shadow(0px 1px 2px rgba(0, 0, 0, 0.3));\n",
              "      fill: #FFFFFF;\n",
              "    }\n",
              "  </style>\n",
              "\n",
              "      <script>\n",
              "        const buttonEl =\n",
              "          document.querySelector('#df-df3ff148-a10b-4f0a-811a-5ab0becf9329 button.colab-df-convert');\n",
              "        buttonEl.style.display =\n",
              "          google.colab.kernel.accessAllowed ? 'block' : 'none';\n",
              "\n",
              "        async function convertToInteractive(key) {\n",
              "          const element = document.querySelector('#df-df3ff148-a10b-4f0a-811a-5ab0becf9329');\n",
              "          const dataTable =\n",
              "            await google.colab.kernel.invokeFunction('convertToInteractive',\n",
              "                                                     [key], {});\n",
              "          if (!dataTable) return;\n",
              "\n",
              "          const docLinkHtml = 'Like what you see? Visit the ' +\n",
              "            '<a target=\"_blank\" href=https://colab.research.google.com/notebooks/data_table.ipynb>data table notebook</a>'\n",
              "            + ' to learn more about interactive tables.';\n",
              "          element.innerHTML = '';\n",
              "          dataTable['output_type'] = 'display_data';\n",
              "          await google.colab.output.renderOutput(dataTable, element);\n",
              "          const docLink = document.createElement('div');\n",
              "          docLink.innerHTML = docLinkHtml;\n",
              "          element.appendChild(docLink);\n",
              "        }\n",
              "      </script>\n",
              "    </div>\n",
              "  </div>\n",
              "  "
            ]
          },
          "metadata": {},
          "execution_count": 3
        }
      ]
    },
    {
      "cell_type": "code",
      "source": [
        "# 히트맵 시각화\n",
        "matplotlib.rcParams['font.family'] = \"NaNumGothic\"  #나눔고딕체 사용\n",
        "colormap = plt.cm.BuGn  #색설정 : BlueGreen\n",
        "plt.figure(figsize = (10,10))\n",
        "plt.title(\"피어슨 상관계수\")\n",
        "sns.heatmap(df_machines.astype(float).corr(), cmap=colormap)"
      ],
      "metadata": {
        "colab": {
          "base_uri": "https://localhost:8080/",
          "height": 1000
        },
        "id": "aDMrIyko18GU",
        "outputId": "bf8207a6-037e-461a-f428-572984e18444"
      },
      "execution_count": 4,
      "outputs": [
        {
          "output_type": "stream",
          "name": "stderr",
          "text": [
            "WARNING:matplotlib.font_manager:findfont: Font family ['NaNumGothic'] not found. Falling back to DejaVu Sans.\n",
            "/usr/local/lib/python3.8/dist-packages/matplotlib/backends/backend_agg.py:214: RuntimeWarning: Glyph 54588 missing from current font.\n",
            "  font.set_text(s, 0.0, flags=flags)\n",
            "/usr/local/lib/python3.8/dist-packages/matplotlib/backends/backend_agg.py:214: RuntimeWarning: Glyph 50612 missing from current font.\n",
            "  font.set_text(s, 0.0, flags=flags)\n",
            "/usr/local/lib/python3.8/dist-packages/matplotlib/backends/backend_agg.py:214: RuntimeWarning: Glyph 49832 missing from current font.\n",
            "  font.set_text(s, 0.0, flags=flags)\n",
            "/usr/local/lib/python3.8/dist-packages/matplotlib/backends/backend_agg.py:214: RuntimeWarning: Glyph 49345 missing from current font.\n",
            "  font.set_text(s, 0.0, flags=flags)\n",
            "/usr/local/lib/python3.8/dist-packages/matplotlib/backends/backend_agg.py:214: RuntimeWarning: Glyph 44288 missing from current font.\n",
            "  font.set_text(s, 0.0, flags=flags)\n",
            "/usr/local/lib/python3.8/dist-packages/matplotlib/backends/backend_agg.py:214: RuntimeWarning: Glyph 44228 missing from current font.\n",
            "  font.set_text(s, 0.0, flags=flags)\n",
            "/usr/local/lib/python3.8/dist-packages/matplotlib/backends/backend_agg.py:214: RuntimeWarning: Glyph 49688 missing from current font.\n",
            "  font.set_text(s, 0.0, flags=flags)\n",
            "WARNING:matplotlib.font_manager:findfont: Font family ['NaNumGothic'] not found. Falling back to DejaVu Sans.\n",
            "/usr/local/lib/python3.8/dist-packages/matplotlib/backends/backend_agg.py:183: RuntimeWarning: Glyph 54588 missing from current font.\n",
            "  font.set_text(s, 0, flags=flags)\n",
            "/usr/local/lib/python3.8/dist-packages/matplotlib/backends/backend_agg.py:183: RuntimeWarning: Glyph 50612 missing from current font.\n",
            "  font.set_text(s, 0, flags=flags)\n",
            "/usr/local/lib/python3.8/dist-packages/matplotlib/backends/backend_agg.py:183: RuntimeWarning: Glyph 49832 missing from current font.\n",
            "  font.set_text(s, 0, flags=flags)\n",
            "/usr/local/lib/python3.8/dist-packages/matplotlib/backends/backend_agg.py:183: RuntimeWarning: Glyph 49345 missing from current font.\n",
            "  font.set_text(s, 0, flags=flags)\n",
            "/usr/local/lib/python3.8/dist-packages/matplotlib/backends/backend_agg.py:183: RuntimeWarning: Glyph 44288 missing from current font.\n",
            "  font.set_text(s, 0, flags=flags)\n",
            "/usr/local/lib/python3.8/dist-packages/matplotlib/backends/backend_agg.py:183: RuntimeWarning: Glyph 44228 missing from current font.\n",
            "  font.set_text(s, 0, flags=flags)\n",
            "/usr/local/lib/python3.8/dist-packages/matplotlib/backends/backend_agg.py:183: RuntimeWarning: Glyph 49688 missing from current font.\n",
            "  font.set_text(s, 0, flags=flags)\n"
          ]
        },
        {
          "output_type": "execute_result",
          "data": {
            "text/plain": [
              "<matplotlib.axes._subplots.AxesSubplot at 0x7fb8b2372b80>"
            ]
          },
          "metadata": {},
          "execution_count": 4
        },
        {
          "output_type": "display_data",
          "data": {
            "text/plain": [
              "<Figure size 720x720 with 2 Axes>"
            ],
            "image/png": "[encoded data removed]"
          },
          "metadata": {
            "needs_background": "light"
          }
        }
      ]
    },
    {
      "cell_type": "code",
      "source": [
        "#기계별 고장 데이터\n",
        "machines_failures = pd.DataFrame(failures_df.groupby('machineID')['failure'].count())"
      ],
      "metadata": {
        "id": "SXBjfFQv1-Ms"
      },
      "execution_count": 5,
      "outputs": []
    },
    {
      "cell_type": "code",
      "source": [
        "# 각 요인별 이상치 찾기\n",
        "telemetry_df.boxplot(figsize=(10,10))\n",
        "plt.show()"
      ],
      "metadata": {
        "colab": {
          "base_uri": "https://localhost:8080/",
          "height": 649
        },
        "id": "dMJc5oi21_7c",
        "outputId": "8ac2f860-9779-47fa-c940-a50049cc0b34"
      },
      "execution_count": 6,
      "outputs": [
        {
          "output_type": "stream",
          "name": "stderr",
          "text": [
            "/usr/local/lib/python3.8/dist-packages/matplotlib/cbook/__init__.py:1376: VisibleDeprecationWarning: Creating an ndarray from ragged nested sequences (which is a list-or-tuple of lists-or-tuples-or ndarrays with different lengths or shapes) is deprecated. If you meant to do this, you must specify 'dtype=object' when creating the ndarray.\n",
            "  X = np.atleast_1d(X.T if isinstance(X, np.ndarray) else np.asarray(X))\n"
          ]
        },
        {
          "output_type": "display_data",
          "data": {
            "text/plain": [
              "<Figure size 720x720 with 1 Axes>"
            ],
            "image/png": "[encoded data removed]"
          },
          "metadata": {
            "needs_background": "light"
          }
        }
      ]
    },
    {
      "cell_type": "code",
      "source": [
        "# 각 요인별 이상치 데이터 추출\n",
        "def outlier(df, column):\n",
        "    Q1 = np.quantile(df[column], 0.25)\n",
        "    Q3 = np.quantile(df[column], 0.75)\n",
        "    IQR = Q3 - Q1\n",
        "    minimum = Q1 - (IQR * 1.5)\n",
        "    maximum = Q3 + (IQR * 1.5)\n",
        "    ###여기서부터 ㄴㄴ\n",
        "    return pd.DataFrame(df['machineID'], df[[(df[column] > maximum) or (df[column] < minimum)]])\n",
        "\n",
        "volt_outlier = outlier(telemetry_df, 'volt')\n",
        "rotate_outlier = outlier(telemetry_df, 'rotate')\n",
        "pressure_outlier = outlier(telemetry_df, 'pressure')\n",
        "vibration_outlier = outlier(telemetry_df, 'vibration')"
      ],
      "metadata": {
        "colab": {
          "base_uri": "https://localhost:8080/",
          "height": 400
        },
        "id": "ZcsCp_cS2C98",
        "outputId": "3bdc1ac8-bf84-4afc-83b2-a95d19a3d061"
      },
      "execution_count": 47,
      "outputs": [
        {
          "output_type": "error",
          "ename": "ValueError",
          "evalue": "ignored",
          "traceback": [
            "\u001b[0;31m---------------------------------------------------------------------------\u001b[0m",
            "\u001b[0;31mValueError\u001b[0m                                Traceback (most recent call last)",
            "\u001b[0;32m<ipython-input-47-8bbe63a05c7c>\u001b[0m in \u001b[0;36m<module>\u001b[0;34m\u001b[0m\n\u001b[1;32m      9\u001b[0m     \u001b[0;32mreturn\u001b[0m \u001b[0mans\u001b[0m\u001b[0;34m\u001b[0m\u001b[0;34m\u001b[0m\u001b[0m\n\u001b[1;32m     10\u001b[0m \u001b[0;34m\u001b[0m\u001b[0m\n\u001b[0;32m---> 11\u001b[0;31m \u001b[0mvolt_outlier\u001b[0m \u001b[0;34m=\u001b[0m \u001b[0moutlier\u001b[0m\u001b[0;34m(\u001b[0m\u001b[0mtelemetry_df\u001b[0m\u001b[0;34m,\u001b[0m \u001b[0;34m'volt'\u001b[0m\u001b[0;34m)\u001b[0m\u001b[0;34m\u001b[0m\u001b[0;34m\u001b[0m\u001b[0m\n\u001b[0m\u001b[1;32m     12\u001b[0m \u001b[0mrotate_outlier\u001b[0m \u001b[0;34m=\u001b[0m \u001b[0moutlier\u001b[0m\u001b[0;34m(\u001b[0m\u001b[0mtelemetry_df\u001b[0m\u001b[0;34m,\u001b[0m \u001b[0;34m'rotate'\u001b[0m\u001b[0;34m)\u001b[0m\u001b[0;34m\u001b[0m\u001b[0;34m\u001b[0m\u001b[0m\n\u001b[1;32m     13\u001b[0m \u001b[0mpressure_outlier\u001b[0m \u001b[0;34m=\u001b[0m \u001b[0moutlier\u001b[0m\u001b[0;34m(\u001b[0m\u001b[0mtelemetry_df\u001b[0m\u001b[0;34m,\u001b[0m \u001b[0;34m'pressure'\u001b[0m\u001b[0;34m)\u001b[0m\u001b[0;34m\u001b[0m\u001b[0;34m\u001b[0m\u001b[0m\n",
            "\u001b[0;32m<ipython-input-47-8bbe63a05c7c>\u001b[0m in \u001b[0;36moutlier\u001b[0;34m(df, column)\u001b[0m\n\u001b[1;32m      6\u001b[0m     \u001b[0mminimum\u001b[0m \u001b[0;34m=\u001b[0m \u001b[0mQ1\u001b[0m \u001b[0;34m-\u001b[0m \u001b[0;34m(\u001b[0m\u001b[0mIQR\u001b[0m \u001b[0;34m*\u001b[0m \u001b[0;36m1.5\u001b[0m\u001b[0;34m)\u001b[0m\u001b[0;34m\u001b[0m\u001b[0;34m\u001b[0m\u001b[0m\n\u001b[1;32m      7\u001b[0m     \u001b[0mmaximum\u001b[0m \u001b[0;34m=\u001b[0m \u001b[0mQ3\u001b[0m \u001b[0;34m+\u001b[0m \u001b[0;34m(\u001b[0m\u001b[0mIQR\u001b[0m \u001b[0;34m*\u001b[0m \u001b[0;36m1.5\u001b[0m\u001b[0;34m)\u001b[0m\u001b[0;34m\u001b[0m\u001b[0;34m\u001b[0m\u001b[0m\n\u001b[0;32m----> 8\u001b[0;31m     \u001b[0mans\u001b[0m \u001b[0;34m=\u001b[0m \u001b[0mpd\u001b[0m\u001b[0;34m.\u001b[0m\u001b[0mDataFrame\u001b[0m\u001b[0;34m(\u001b[0m\u001b[0mdf\u001b[0m\u001b[0;34m[\u001b[0m\u001b[0mcolumn\u001b[0m\u001b[0;34m]\u001b[0m\u001b[0;34m,\u001b[0m \u001b[0mdf\u001b[0m\u001b[0;34m[\u001b[0m\u001b[0;34m[\u001b[0m\u001b[0;34m(\u001b[0m\u001b[0mdf\u001b[0m\u001b[0;34m[\u001b[0m\u001b[0mcolumn\u001b[0m\u001b[0;34m]\u001b[0m\u001b[0;34m.\u001b[0m\u001b[0mdescribe\u001b[0m\u001b[0;34m(\u001b[0m\u001b[0;34m)\u001b[0m\u001b[0;34m[\u001b[0m\u001b[0;34m'75%'\u001b[0m\u001b[0;34m]\u001b[0m \u001b[0;34m>\u001b[0m \u001b[0mmaximum\u001b[0m\u001b[0;34m)\u001b[0m\u001b[0;34m]\u001b[0m\u001b[0;34m]\u001b[0m\u001b[0;34m)\u001b[0m\u001b[0;34m\u001b[0m\u001b[0;34m\u001b[0m\u001b[0m\n\u001b[0m\u001b[1;32m      9\u001b[0m     \u001b[0;32mreturn\u001b[0m \u001b[0mans\u001b[0m\u001b[0;34m\u001b[0m\u001b[0;34m\u001b[0m\u001b[0m\n\u001b[1;32m     10\u001b[0m \u001b[0;34m\u001b[0m\u001b[0m\n",
            "\u001b[0;32m/usr/local/lib/python3.8/dist-packages/pandas/core/frame.py\u001b[0m in \u001b[0;36m__getitem__\u001b[0;34m(self, key)\u001b[0m\n\u001b[1;32m   3447\u001b[0m         \u001b[0;31m# Do we have a (boolean) 1d indexer?\u001b[0m\u001b[0;34m\u001b[0m\u001b[0;34m\u001b[0m\u001b[0;34m\u001b[0m\u001b[0m\n\u001b[1;32m   3448\u001b[0m         \u001b[0;32mif\u001b[0m \u001b[0mcom\u001b[0m\u001b[0;34m.\u001b[0m\u001b[0mis_bool_indexer\u001b[0m\u001b[0;34m(\u001b[0m\u001b[0mkey\u001b[0m\u001b[0;34m)\u001b[0m\u001b[0;34m:\u001b[0m\u001b[0;34m\u001b[0m\u001b[0;34m\u001b[0m\u001b[0m\n\u001b[0;32m-> 3449\u001b[0;31m             \u001b[0;32mreturn\u001b[0m \u001b[0mself\u001b[0m\u001b[0;34m.\u001b[0m\u001b[0m_getitem_bool_array\u001b[0m\u001b[0;34m(\u001b[0m\u001b[0mkey\u001b[0m\u001b[0;34m)\u001b[0m\u001b[0;34m\u001b[0m\u001b[0;34m\u001b[0m\u001b[0m\n\u001b[0m\u001b[1;32m   3450\u001b[0m \u001b[0;34m\u001b[0m\u001b[0m\n\u001b[1;32m   3451\u001b[0m         \u001b[0;31m# We are left with two options: a single key, and a collection of keys,\u001b[0m\u001b[0;34m\u001b[0m\u001b[0;34m\u001b[0m\u001b[0;34m\u001b[0m\u001b[0m\n",
            "\u001b[0;32m/usr/local/lib/python3.8/dist-packages/pandas/core/frame.py\u001b[0m in \u001b[0;36m_getitem_bool_array\u001b[0;34m(self, key)\u001b[0m\n\u001b[1;32m   3494\u001b[0m             )\n\u001b[1;32m   3495\u001b[0m         \u001b[0;32melif\u001b[0m \u001b[0mlen\u001b[0m\u001b[0;34m(\u001b[0m\u001b[0mkey\u001b[0m\u001b[0;34m)\u001b[0m \u001b[0;34m!=\u001b[0m \u001b[0mlen\u001b[0m\u001b[0;34m(\u001b[0m\u001b[0mself\u001b[0m\u001b[0;34m.\u001b[0m\u001b[0mindex\u001b[0m\u001b[0;34m)\u001b[0m\u001b[0;34m:\u001b[0m\u001b[0;34m\u001b[0m\u001b[0;34m\u001b[0m\u001b[0m\n\u001b[0;32m-> 3496\u001b[0;31m             raise ValueError(\n\u001b[0m\u001b[1;32m   3497\u001b[0m                 \u001b[0;34mf\"Item wrong length {len(key)} instead of {len(self.index)}.\"\u001b[0m\u001b[0;34m\u001b[0m\u001b[0;34m\u001b[0m\u001b[0m\n\u001b[1;32m   3498\u001b[0m             )\n",
            "\u001b[0;31mValueError\u001b[0m: Item wrong length 1 instead of 584955."
          ]
        }
      ]
    },
    {
      "cell_type": "code",
      "source": [
        "Q1 = np.quantile(telemetry_df[\"volt\"], 0.25)\n",
        "Q3 = np.quantile(telemetry_df[\"volt\"], 0.75)\n",
        "IQR = Q3 - Q1\n",
        "minimum = Q1 - (IQR * 1.5)\n",
        "maximum = Q3 + (IQR * 1.5)\n",
        "minimum"
      ],
      "metadata": {
        "colab": {
          "base_uri": "https://localhost:8080/"
        },
        "id": "7fbqkwSG2yM0",
        "outputId": "426725d6-b632-448c-f274-e7ed60939aaa"
      },
      "execution_count": 86,
      "outputs": [
        {
          "output_type": "execute_result",
          "data": {
            "text/plain": [
              "129.2802607757475"
            ]
          },
          "metadata": {},
          "execution_count": 86
        }
      ]
    },
    {
      "cell_type": "code",
      "source": [
        "maximum,min\n",
        "len(telemetry_df['volt'])"
      ],
      "metadata": {
        "colab": {
          "base_uri": "https://localhost:8080/"
        },
        "id": "zXI6f-9d413d",
        "outputId": "cb68d4eb-9008-4689-aa0f-1592827515a0"
      },
      "execution_count": 76,
      "outputs": [
        {
          "output_type": "execute_result",
          "data": {
            "text/plain": [
              "584955"
            ]
          },
          "metadata": {},
          "execution_count": 76
        }
      ]
    },
    {
      "cell_type": "code",
      "source": [
        "minimum,max"
      ],
      "metadata": {
        "colab": {
          "base_uri": "https://localhost:8080/"
        },
        "id": "cWBB7lao43hE",
        "outputId": "8db15049-4d9a-40a6-cf7f-c90687e398e4"
      },
      "execution_count": 84,
      "outputs": [
        {
          "output_type": "execute_result",
          "data": {
            "text/plain": [
              "(191.35778372711852, 160.319022251433)"
            ]
          },
          "metadata": {},
          "execution_count": 84
        }
      ]
    },
    {
      "cell_type": "code",
      "source": [
        "im = []\n",
        "nm = []\n",
        "for i in range(len(telemetry_df['volt'])):\n",
        "  if telemetry_df['volt'][i]>=maximum or telemetry_df['volt'][i]<=minimum:\n",
        "    im.append(telemetry_df['volt'][i])\n",
        "    nm.append(telemetry_df['machineID'][i])"
      ],
      "metadata": {
        "id": "PVnhtjwB69yF"
      },
      "execution_count": 87,
      "outputs": []
    },
    {
      "cell_type": "code",
      "source": [
        "len(im),"
      ],
      "metadata": {
        "colab": {
          "base_uri": "https://localhost:8080/"
        },
        "id": "n0_DeQgX-eL9",
        "outputId": "dee67e9b-fe44-4266-93ff-48fa237f5e2f"
      },
      "execution_count": 88,
      "outputs": [
        {
          "output_type": "execute_result",
          "data": {
            "text/plain": [
              "4986"
            ]
          },
          "metadata": {},
          "execution_count": 88
        }
      ]
    },
    {
      "cell_type": "code",
      "source": [
        "#컴포넌트 교체주기 확인"
      ],
      "metadata": {
        "id": "cjEioZQYtW4X"
      },
      "execution_count": null,
      "outputs": []
    },
    {
      "cell_type": "code",
      "source": [
        "#maint 데이터파일 0과 1로 정리해주기\n",
        "import numpy as np\n",
        "comp_rep = pd.get_dummies(maint_df.set_index('datetime')).reset_index()\n",
        "comp_rep.columns = ['datetime', 'machineID','comp1', 'comp2', 'comp3', 'comp4']\n",
        "comp_rep = telemetry_df[['datetime', 'machineID']].merge(comp_rep,on=['datetime','machineID'],how='outer').fillna(0).sort_values(by=['machineID', 'datetime'])"
      ],
      "metadata": {
        "id": "ECz-ZFw9CjYG"
      },
      "execution_count": 257,
      "outputs": []
    },
    {
      "cell_type": "code",
      "source": [
        "#maint 데이터파일 시간대별로 채우기\n",
        "components = ['comp1', 'comp2', 'comp3', 'comp4']\n",
        "for comp in components:\n",
        "    comp_rep.loc[comp_rep[comp] < 1, comp] = None\n",
        "    comp_rep.loc[-comp_rep[comp].isnull(),\n",
        "                 comp] = comp_rep.loc[-comp_rep[comp].isnull(), 'datetime']\n",
        "    comp_rep[comp] = comp_rep[comp].fillna(method='ffill')"
      ],
      "metadata": {
        "id": "zgO0l6hbHEcZ"
      },
      "execution_count": 258,
      "outputs": []
    },
    {
      "cell_type": "markdown",
      "source": [
        "##몇번 교체되었는지 component별 확인"
      ],
      "metadata": {
        "id": "zGOWuiuibvH9"
      }
    },
    {
      "cell_type": "code",
      "source": [
        "#컴포넌트별 모든 시간대 정리\n",
        "comp1_t = pd.DataFrame(comp_rep, columns = ['datetime','machineID','comp1'])\n",
        "comp2_t = pd.DataFrame(comp_rep, columns = ['datetime','machineID','comp2'])\n",
        "comp3_t = pd.DataFrame(comp_rep, columns = ['datetime','machineID','comp3'])\n",
        "comp4_t = pd.DataFrame(comp_rep, columns = ['datetime','machineID','comp4'])"
      ],
      "metadata": {
        "id": "DstRHr7THjbe"
      },
      "execution_count": 266,
      "outputs": []
    },
    {
      "cell_type": "code",
      "source": [
        "#컴포넌트 시간대별 중복 데이터 정리 (586799데이터 中)\n",
        "comp1_rep = comp1_t.drop_duplicates(['comp1']) #303데이터열\n",
        "comp2_rep = comp2_t.drop_duplicates(['comp2']) #317데이터열\n",
        "comp3_rep = comp3_t.drop_duplicates(['comp3']) #311데이터열\n",
        "comp4_rep = comp4_t.drop_duplicates(['comp4']) #314데이터열"
      ],
      "metadata": {
        "id": "15_lN8OqDtG9"
      },
      "execution_count": 267,
      "outputs": []
    },
    {
      "cell_type": "code",
      "source": [
        "print(f'comp1은 {len(comp1_rep)}번 교체, comp2은 {len(comp2_rep)}번 교체, comp3은 {len(comp3_rep)}번 교체, comp4은 {len(comp4_rep)}번 교체,')"
      ],
      "metadata": {
        "colab": {
          "base_uri": "https://localhost:8080/"
        },
        "id": "avxnh2-2DwFd",
        "outputId": "969ea9e7-d1ce-41dd-e9b2-e561d9b70e19"
      },
      "execution_count": 139,
      "outputs": [
        {
          "output_type": "stream",
          "name": "stdout",
          "text": [
            "comp1은 303번 교체, comp2은 317번 교체, comp3은 311번 교체, comp4은 314번 교체,\n"
          ]
        }
      ]
    },
    {
      "cell_type": "code",
      "source": [
        "comp1 = comp1_rep.set_index('datetime').reset_index()\n",
        "comp2 = comp2_rep.set_index('datetime').reset_index()\n",
        "comp3 = comp3_rep.set_index('datetime').reset_index()\n",
        "comp4 = comp4_rep.set_index('datetime').reset_index()"
      ],
      "metadata": {
        "id": "W-j36yyMjWWW"
      },
      "execution_count": 268,
      "outputs": []
    },
    {
      "cell_type": "code",
      "source": [
        "#결측치 제거 전 (Nan값제거)\n",
        "comp1\n",
        "comp2\n",
        "comp3\n",
        "comp4\n",
        "#결측치 제거 후 (Nan값제거)\n",
        "comp1_n = comp1.dropna(axis=0) #결측치 1개 삭제\n",
        "comp2_n = comp2.dropna(axis=0) #결측치 0개 삭제\n",
        "comp3_n = comp3.dropna(axis=0) #결측치 1개 삭제\n",
        "comp4_n = comp4.dropna(axis=0) #결측치 1개 삭제\n",
        "#순서 재배치\n",
        "comp1_n = comp1_n.set_index('datetime').reset_index()\n",
        "comp2_n = comp2_n.set_index('datetime').reset_index()\n",
        "comp3_n = comp3_n.set_index('datetime').reset_index()\n",
        "comp4_n = comp4_n.set_index('datetime').reset_index()"
      ],
      "metadata": {
        "id": "-kHDeQcOl6Ce"
      },
      "execution_count": null,
      "outputs": []
    },
    {
      "cell_type": "code",
      "source": [
        "#나중에 def 로 수정해주기"
      ],
      "metadata": {
        "id": "kTmF9lBNvcA3"
      },
      "execution_count": null,
      "outputs": []
    },
    {
      "cell_type": "code",
      "source": [
        "#datetime 을 이용한 교체주기 확인\n",
        "comp1_re = []\n",
        "n = 1\n",
        "for i in range(len(comp1_n)-1):\n",
        "  if n != range(len(comp1_n)):\n",
        "    str_datetime1 = comp1_n[\"comp1\"][n]\n",
        "    str_datetime2 = comp1_n[\"comp1\"][i]\n",
        "    currdate1 = datetime.strptime(str_datetime1, '%Y-%m-%d %H:%M:%S')\n",
        "    currdate2 = datetime.strptime(str_datetime2, '%Y-%m-%d %H:%M:%S')\n",
        "    new = currdate1- currdate2\n",
        "    comp1_re.append(new.days)\n",
        "    n += 1\n",
        "  else:\n",
        "    break\n",
        "comp2_re = []\n",
        "n1 = 1\n",
        "for i in range(len(comp2_n)-1):\n",
        "  if n1 != range(len(comp2_n)):\n",
        "    str_datetime1 = comp2_n[\"comp2\"][n1]\n",
        "    str_datetime2 = comp2_n[\"comp2\"][i]\n",
        "    currdate1 = datetime.strptime(str_datetime1, '%Y-%m-%d %H:%M:%S')\n",
        "    currdate2 = datetime.strptime(str_datetime2, '%Y-%m-%d %H:%M:%S')\n",
        "    new = currdate1- currdate2\n",
        "    comp2_re.append(new.days)\n",
        "    n1 += 1\n",
        "  else:\n",
        "    break\n",
        "comp3_re = []\n",
        "n2 = 1\n",
        "for i in range(len(comp3_n)-1):\n",
        "  if n2 != range(len(comp3_n)):\n",
        "    str_datetime1 = comp3_n[\"comp3\"][n2]\n",
        "    str_datetime2 = comp3_n[\"comp3\"][i]\n",
        "    currdate1 = datetime.strptime(str_datetime1, '%Y-%m-%d %H:%M:%S')\n",
        "    currdate2 = datetime.strptime(str_datetime2, '%Y-%m-%d %H:%M:%S')\n",
        "    new = currdate1- currdate2\n",
        "    comp3_re.append(new.days)\n",
        "    n2 += 1\n",
        "  else:\n",
        "    break\n",
        "comp4_re = []\n",
        "n3 = 1\n",
        "for i in range(len(comp4_n)-1):\n",
        "  if n3 != range(len(comp4_n)):\n",
        "    str_datetime1 = comp4_n[\"comp4\"][n3]\n",
        "    str_datetime2 = comp4_n[\"comp4\"][i]\n",
        "    currdate1 = datetime.strptime(str_datetime1, '%Y-%m-%d %H:%M:%S')\n",
        "    currdate2 = datetime.strptime(str_datetime2, '%Y-%m-%d %H:%M:%S')\n",
        "    new = currdate1- currdate2\n",
        "    comp4_re.append(new.days)\n",
        "    n3 += 1\n",
        "  else:\n",
        "    break"
      ],
      "metadata": {
        "id": "W2zm7gPYtjEG"
      },
      "execution_count": 335,
      "outputs": []
    },
    {
      "cell_type": "code",
      "source": [
        " # 음수인 데이터는 machineID 가 바뀌면서 생기는 데이터로 사실상 의미가없음.\n",
        "len(comp1_re),len(comp2_re),len(comp3_re),len(comp4_re)"
      ],
      "metadata": {
        "colab": {
          "base_uri": "https://localhost:8080/"
        },
        "id": "W7pwjgDAvzcG",
        "outputId": "865bda1d-c1dc-4c13-83dc-e1778f04399c"
      },
      "execution_count": 336,
      "outputs": [
        {
          "output_type": "execute_result",
          "data": {
            "text/plain": [
              "(301, 316, 309, 312)"
            ]
          },
          "metadata": {},
          "execution_count": 336
        }
      ]
    },
    {
      "cell_type": "markdown",
      "source": [
        "#리스트안의 음수를 nan 처리하고, 기존데이터에 dataframe으로 추가"
      ],
      "metadata": {
        "id": "AMGI6K7S2T44"
      }
    },
    {
      "cell_type": "code",
      "source": [
        "#리스트 안의 음수를 none으로 바꾸기 #def로 바꾸기\n",
        "comp1_re1 =[]\n",
        "for i in range(len(comp1_re)):\n",
        "  if comp1_re[i] > 0:\n",
        "    comp1_re1.append(comp1_re[i])\n",
        "  else:\n",
        "    comp1_re1.append(None)\n",
        "  \n",
        "comp2_re1 =[]\n",
        "for i in range(len(comp2_re)):\n",
        "  if comp2_re[i] > 0:\n",
        "    comp2_re1.append(comp2_re[i])\n",
        "  else:\n",
        "    comp2_re1.append(None)\n",
        "  \n",
        "comp3_re1 =[]\n",
        "for i in range(len(comp3_re)):\n",
        "  if comp3_re[i] > 0:\n",
        "    comp3_re1.append(comp3_re[i])\n",
        "  else:\n",
        "    comp3_re1.append(None)\n",
        "  \n",
        "comp4_re1 =[]\n",
        "for i in range(len(comp4_re)):\n",
        "  if comp4_re[i] > 0:\n",
        "    comp4_re1.append(comp4_re[i])\n",
        "  else:\n",
        "    comp4_re1.append(None)"
      ],
      "metadata": {
        "id": "Wn10Hov-2b6W"
      },
      "execution_count": 338,
      "outputs": []
    },
    {
      "cell_type": "code",
      "source": [
        "#마지막 한 열은 다음 계산할것이 없으니 None값 하나를 추가해줘서 index개수 맞춰주기\n",
        "comp1_re1.append(None) \n",
        "comp2_re1.append(None) \n",
        "comp3_re1.append(None) \n",
        "comp4_re1.append(None) "
      ],
      "metadata": {
        "id": "lnj1CmEp3xpv"
      },
      "execution_count": 339,
      "outputs": []
    },
    {
      "cell_type": "code",
      "source": [
        "#기존데이터에 dataframe으로 추가해주기\n",
        "comp1_n['time_diff'] = comp1_re1\n",
        "comp2_n['time_diff'] = comp2_re1\n",
        "comp3_n['time_diff'] = comp3_re1\n",
        "comp4_n['time_diff'] = comp4_re1"
      ],
      "metadata": {
        "id": "5pYzztHV3SiP"
      },
      "execution_count": 340,
      "outputs": []
    },
    {
      "cell_type": "code",
      "source": [
        "comp2_n.tail(10)"
      ],
      "metadata": {
        "colab": {
          "base_uri": "https://localhost:8080/",
          "height": 363
        },
        "id": "VA_8FbER4umP",
        "outputId": "0f618ac0-3153-46f1-9bce-c628f34aa39c"
      },
      "execution_count": 343,
      "outputs": [
        {
          "output_type": "execute_result",
          "data": {
            "text/plain": [
              "                datetime  machineID                comp2  time_diff\n",
              "307  2015-03-24 06:00:00         89  2015-03-24 06:00:00      165.0\n",
              "308  2015-09-05 06:00:00         89  2015-09-05 06:00:00       15.0\n",
              "309  2015-09-20 06:00:00         89  2015-09-20 06:00:00        NaN\n",
              "310  2015-03-21 06:00:00         90  2015-03-21 06:00:00       57.0\n",
              "311  2015-05-17 06:00:00         91  2015-05-17 06:00:00        NaN\n",
              "312  2015-01-08 06:00:00         94  2015-01-08 06:00:00        NaN\n",
              "313  2015-01-03 06:00:00         96  2015-01-03 06:00:00      126.0\n",
              "314  2015-05-09 06:00:00         97  2015-05-09 06:00:00        NaN\n",
              "315  2015-04-03 06:00:00         99  2015-04-03 06:00:00      115.0\n",
              "316  2015-07-27 06:00:00        100  2015-07-27 06:00:00        NaN"
            ],
            "text/html": [
              "\n",
              "  <div id=\"df-c9205226-fb71-4f2f-bf83-7c02a4510f1f\">\n",
              "    <div class=\"colab-df-container\">\n",
              "      <div>\n",
              "<style scoped>\n",
              "    .dataframe tbody tr th:only-of-type {\n",
              "        vertical-align: middle;\n",
              "    }\n",
              "\n",
              "    .dataframe tbody tr th {\n",
              "        vertical-align: top;\n",
              "    }\n",
              "\n",
              "    .dataframe thead th {\n",
              "        text-align: right;\n",
              "    }\n",
              "</style>\n",
              "<table border=\"1\" class=\"dataframe\">\n",
              "  <thead>\n",
              "    <tr style=\"text-align: right;\">\n",
              "      <th></th>\n",
              "      <th>datetime</th>\n",
              "      <th>machineID</th>\n",
              "      <th>comp2</th>\n",
              "      <th>time_diff</th>\n",
              "    </tr>\n",
              "  </thead>\n",
              "  <tbody>\n",
              "    <tr>\n",
              "      <th>307</th>\n",
              "      <td>2015-03-24 06:00:00</td>\n",
              "      <td>89</td>\n",
              "      <td>2015-03-24 06:00:00</td>\n",
              "      <td>165.0</td>\n",
              "    </tr>\n",
              "    <tr>\n",
              "      <th>308</th>\n",
              "      <td>2015-09-05 06:00:00</td>\n",
              "      <td>89</td>\n",
              "      <td>2015-09-05 06:00:00</td>\n",
              "      <td>15.0</td>\n",
              "    </tr>\n",
              "    <tr>\n",
              "      <th>309</th>\n",
              "      <td>2015-09-20 06:00:00</td>\n",
              "      <td>89</td>\n",
              "      <td>2015-09-20 06:00:00</td>\n",
              "      <td>NaN</td>\n",
              "    </tr>\n",
              "    <tr>\n",
              "      <th>310</th>\n",
              "      <td>2015-03-21 06:00:00</td>\n",
              "      <td>90</td>\n",
              "      <td>2015-03-21 06:00:00</td>\n",
              "      <td>57.0</td>\n",
              "    </tr>\n",
              "    <tr>\n",
              "      <th>311</th>\n",
              "      <td>2015-05-17 06:00:00</td>\n",
              "      <td>91</td>\n",
              "      <td>2015-05-17 06:00:00</td>\n",
              "      <td>NaN</td>\n",
              "    </tr>\n",
              "    <tr>\n",
              "      <th>312</th>\n",
              "      <td>2015-01-08 06:00:00</td>\n",
              "      <td>94</td>\n",
              "      <td>2015-01-08 06:00:00</td>\n",
              "      <td>NaN</td>\n",
              "    </tr>\n",
              "    <tr>\n",
              "      <th>313</th>\n",
              "      <td>2015-01-03 06:00:00</td>\n",
              "      <td>96</td>\n",
              "      <td>2015-01-03 06:00:00</td>\n",
              "      <td>126.0</td>\n",
              "    </tr>\n",
              "    <tr>\n",
              "      <th>314</th>\n",
              "      <td>2015-05-09 06:00:00</td>\n",
              "      <td>97</td>\n",
              "      <td>2015-05-09 06:00:00</td>\n",
              "      <td>NaN</td>\n",
              "    </tr>\n",
              "    <tr>\n",
              "      <th>315</th>\n",
              "      <td>2015-04-03 06:00:00</td>\n",
              "      <td>99</td>\n",
              "      <td>2015-04-03 06:00:00</td>\n",
              "      <td>115.0</td>\n",
              "    </tr>\n",
              "    <tr>\n",
              "      <th>316</th>\n",
              "      <td>2015-07-27 06:00:00</td>\n",
              "      <td>100</td>\n",
              "      <td>2015-07-27 06:00:00</td>\n",
              "      <td>NaN</td>\n",
              "    </tr>\n",
              "  </tbody>\n",
              "</table>\n",
              "</div>\n",
              "      <button class=\"colab-df-convert\" onclick=\"convertToInteractive('df-c9205226-fb71-4f2f-bf83-7c02a4510f1f')\"\n",
              "              title=\"Convert this dataframe to an interactive table.\"\n",
              "              style=\"display:none;\">\n",
              "        \n",
              "  <svg xmlns=\"http://www.w3.org/2000/svg\" height=\"24px\"viewBox=\"0 0 24 24\"\n",
              "       width=\"24px\">\n",
              "    <path d=\"M0 0h24v24H0V0z\" fill=\"none\"/>\n",
              "    <path d=\"M18.56 5.44l.94 2.06.94-2.06 2.06-.94-2.06-.94-.94-2.06-.94 2.06-2.06.94zm-11 1L8.5 8.5l.94-2.06 2.06-.94-2.06-.94L8.5 2.5l-.94 2.06-2.06.94zm10 10l.94 2.06.94-2.06 2.06-.94-2.06-.94-.94-2.06-.94 2.06-2.06.94z\"/><path d=\"M17.41 7.96l-1.37-1.37c-.4-.4-.92-.59-1.43-.59-.52 0-1.04.2-1.43.59L10.3 9.45l-7.72 7.72c-.78.78-.78 2.05 0 2.83L4 21.41c.39.39.9.59 1.41.59.51 0 1.02-.2 1.41-.59l7.78-7.78 2.81-2.81c.8-.78.8-2.07 0-2.86zM5.41 20L4 18.59l7.72-7.72 1.47 1.35L5.41 20z\"/>\n",
              "  </svg>\n",
              "      </button>\n",
              "      \n",
              "  <style>\n",
              "    .colab-df-container {\n",
              "      display:flex;\n",
              "      flex-wrap:wrap;\n",
              "      gap: 12px;\n",
              "    }\n",
              "\n",
              "    .colab-df-convert {\n",
              "      background-color: #E8F0FE;\n",
              "      border: none;\n",
              "      border-radius: 50%;\n",
              "      cursor: pointer;\n",
              "      display: none;\n",
              "      fill: #1967D2;\n",
              "      height: 32px;\n",
              "      padding: 0 0 0 0;\n",
              "      width: 32px;\n",
              "    }\n",
              "\n",
              "    .colab-df-convert:hover {\n",
              "      background-color: #E2EBFA;\n",
              "      box-shadow: 0px 1px 2px rgba(60, 64, 67, 0.3), 0px 1px 3px 1px rgba(60, 64, 67, 0.15);\n",
              "      fill: #174EA6;\n",
              "    }\n",
              "\n",
              "    [theme=dark] .colab-df-convert {\n",
              "      background-color: #3B4455;\n",
              "      fill: #D2E3FC;\n",
              "    }\n",
              "\n",
              "    [theme=dark] .colab-df-convert:hover {\n",
              "      background-color: #434B5C;\n",
              "      box-shadow: 0px 1px 3px 1px rgba(0, 0, 0, 0.15);\n",
              "      filter: drop-shadow(0px 1px 2px rgba(0, 0, 0, 0.3));\n",
              "      fill: #FFFFFF;\n",
              "    }\n",
              "  </style>\n",
              "\n",
              "      <script>\n",
              "        const buttonEl =\n",
              "          document.querySelector('#df-c9205226-fb71-4f2f-bf83-7c02a4510f1f button.colab-df-convert');\n",
              "        buttonEl.style.display =\n",
              "          google.colab.kernel.accessAllowed ? 'block' : 'none';\n",
              "\n",
              "        async function convertToInteractive(key) {\n",
              "          const element = document.querySelector('#df-c9205226-fb71-4f2f-bf83-7c02a4510f1f');\n",
              "          const dataTable =\n",
              "            await google.colab.kernel.invokeFunction('convertToInteractive',\n",
              "                                                     [key], {});\n",
              "          if (!dataTable) return;\n",
              "\n",
              "          const docLinkHtml = 'Like what you see? Visit the ' +\n",
              "            '<a target=\"_blank\" href=https://colab.research.google.com/notebooks/data_table.ipynb>data table notebook</a>'\n",
              "            + ' to learn more about interactive tables.';\n",
              "          element.innerHTML = '';\n",
              "          dataTable['output_type'] = 'display_data';\n",
              "          await google.colab.output.renderOutput(dataTable, element);\n",
              "          const docLink = document.createElement('div');\n",
              "          docLink.innerHTML = docLinkHtml;\n",
              "          element.appendChild(docLink);\n",
              "        }\n",
              "      </script>\n",
              "    </div>\n",
              "  </div>\n",
              "  "
            ]
          },
          "metadata": {},
          "execution_count": 343
        }
      ]
    },
    {
      "cell_type": "code",
      "source": [
        "#machineID가 한개일경우 time_diff 는 nan값이 되도록 전처리하기"
      ],
      "metadata": {
        "id": "9OIjPvgk8Hb3"
      },
      "execution_count": 345,
      "outputs": []
    },
    {
      "cell_type": "code",
      "source": [
        "#def 로 바꾸기\n",
        "li = []#한개씩가져오기\n",
        "li1 = []#최소 한개 이상인 데이터 머신아이디 뽑아오기\n",
        "for i in range(len(comp1_n)):\n",
        "  if comp1_n['machineID'][i] not in li:\n",
        "    li.append(comp1_n['machineID'][i])\n",
        "  else:\n",
        "    li1.append(comp1_n['machineID'][i])\n",
        "\n",
        "\n",
        "li2 = []#한개씩가져오기\n",
        "li3 = []#최소 한개 이상인 데이터 머신아이디 뽑아오기\n",
        "for i in range(len(comp2_n)):\n",
        "  if comp2_n['machineID'][i] not in li2:\n",
        "    li2.append(comp2_n['machineID'][i])\n",
        "  else:\n",
        "    li3.append(comp2_n['machineID'][i])\n",
        "\n",
        "\n",
        "li4 = []#한개씩가져오기\n",
        "li5 = []#최소 한개 이상인 데이터 머신아이디 뽑아오기\n",
        "for i in range(len(comp3_n)):\n",
        "  if comp3_n['machineID'][i] not in li4:\n",
        "    li4.append(comp3_n['machineID'][i])\n",
        "  else:\n",
        "    li5.append(comp3_n['machineID'][i])\n",
        "\n",
        "\n",
        "li6 = []#한개씩가져오기\n",
        "li7 = []#최소 한개 이상인 데이터 머신아이디 뽑아오기\n",
        "for i in range(len(comp4_n)):\n",
        "  if comp4_n['machineID'][i] not in li6:\n",
        "    li6.append(comp4_n['machineID'][i])\n",
        "  else:\n",
        "    li7.append(comp4_n['machineID'][i])"
      ],
      "metadata": {
        "id": "vd-u5m-v-fN_"
      },
      "execution_count": 389,
      "outputs": []
    },
    {
      "cell_type": "code",
      "source": [
        "#중복처리\n",
        "li1=set(li1)\n",
        "li3=set(li3)\n",
        "li5=set(li5)\n",
        "li7=set(li7)"
      ],
      "metadata": {
        "id": "5QmQV3O-Bxyg"
      },
      "execution_count": 390,
      "outputs": []
    },
    {
      "cell_type": "code",
      "source": [
        "#한개씩 있는 머신아이디 추출\n",
        "nli1 = []\n",
        "for i in range(len(li)):\n",
        "  if li[i] not in li1:\n",
        "    nli1.append(li[i])\n",
        "  else:\n",
        "    pass\n",
        "\n",
        "nli2 = []\n",
        "for i in range(len(li2)):\n",
        "  if li2[i] not in li3:\n",
        "    nli2.append(li2[i])\n",
        "  else:\n",
        "    pass\n",
        "\n",
        "nli3 = []\n",
        "for i in range(len(li4)):\n",
        "  if li4[i] not in li5:\n",
        "    nli3.append(li4[i])\n",
        "  else:\n",
        "    pass\n",
        "\n",
        "nli4 = []\n",
        "for i in range(len(li6)):\n",
        "  if li6[i] not in li7:\n",
        "    nli4.append(li6[i])\n",
        "  else:\n",
        "    pass"
      ],
      "metadata": {
        "id": "L9Hfpys3BUJP"
      },
      "execution_count": 396,
      "outputs": []
    },
    {
      "cell_type": "code",
      "source": [
        " #한개씩 있는 머신아이디 추출\n",
        " nli1\n",
        "nli2\n",
        "nli3\n",
        "nli4"
      ],
      "metadata": {
        "colab": {
          "base_uri": "https://localhost:8080/"
        },
        "id": "K1TLcYi6Bo8v",
        "outputId": "d65295db-2579-4446-ed2c-0dc8080ee50e"
      },
      "execution_count": 400,
      "outputs": [
        {
          "output_type": "execute_result",
          "data": {
            "text/plain": [
              "[15, 34, 43, 51, 52, 60, 76, 80, 82, 86, 88, 90, 94, 97, 100]"
            ]
          },
          "metadata": {},
          "execution_count": 400
        }
      ]
    },
    {
      "cell_type": "code",
      "source": [
        "#nli를 이용하여 한개씩 있는 machineID의 time_diff를 nan값으로 처리\n",
        "for i in range(len(nli1)):\n",
        "  comp1_n.loc[comp1_n['machineID']==nli1[i],'time_diff'] = None\n",
        "for i in range(len(nli2)):\n",
        "  comp2_n.loc[comp2_n['machineID']==nli2[i],'time_diff'] = None\n",
        "for i in range(len(nli3)):\n",
        "  comp3_n.loc[comp3_n['machineID']==nli3[i],'time_diff'] = None\n",
        "for i in range(len(nli4)):\n",
        "  comp4_n.loc[comp4_n['machineID']==nli4[i],'time_diff'] = None"
      ],
      "metadata": {
        "id": "15nwU5h6A4gY"
      },
      "execution_count": 401,
      "outputs": []
    },
    {
      "cell_type": "code",
      "source": [
        "#데이터 개수 확인\n",
        "len(comp1_n),len(comp2_n),len(comp3_n),len(comp4_n)"
      ],
      "metadata": {
        "colab": {
          "base_uri": "https://localhost:8080/"
        },
        "id": "yz1PtvEVHItg",
        "outputId": "675061cd-4776-48f7-90bf-25e3561f3631"
      },
      "execution_count": 409,
      "outputs": [
        {
          "output_type": "execute_result",
          "data": {
            "text/plain": [
              "(302, 317, 310, 313)"
            ]
          },
          "metadata": {},
          "execution_count": 409
        }
      ]
    },
    {
      "cell_type": "code",
      "source": [
        "from datetime import timedelta\n",
        "import datetime\n",
        "import numpy as np\n",
        "from datetime import datetime\n",
        "import time"
      ],
      "metadata": {
        "id": "K5kXlUkRcwTt"
      },
      "execution_count": 179,
      "outputs": []
    },
    {
      "cell_type": "markdown",
      "source": [
        "##교체 주기 확인"
      ],
      "metadata": {
        "id": "XmyLT-ufb5id"
      }
    },
    {
      "cell_type": "code",
      "source": [
        "#day기준\n",
        "comp1_n['time_diff'].describe()\n",
        "comp2_n['time_diff'].describe()\n",
        "comp3_n['time_diff'].describe()\n",
        "comp4_n['time_diff'].describe()\n",
        "comp_mean1=comp1_n['time_diff'].mean().round(3)\n",
        "comp_mean2=comp2_n['time_diff'].mean().round(3)\n",
        "comp_mean3=comp3_n['time_diff'].mean().round(3)\n",
        "comp_mean4=comp4_n['time_diff'].mean().round(3)\n",
        "print(f'컴포넌트 1의 평균 교체주기 (day)는 {comp_mean1}일입니다,   컴포넌트 2의 평균 교체주기 (day)는 {comp_mean2}일입니다,    컴포넌트 3의 평균 교체주기 (day)는 {comp_mean3}일입니다,    컴포넌트 4의 평균 교체주기 (day)는 {comp_mean4}일입니다')"
      ],
      "metadata": {
        "colab": {
          "base_uri": "https://localhost:8080/"
        },
        "id": "aDn7OB-LJPR-",
        "outputId": "8d49f827-0fc8-4420-a431-58229eb0562b"
      },
      "execution_count": 422,
      "outputs": [
        {
          "output_type": "stream",
          "name": "stdout",
          "text": [
            "컴포넌트 1의 평균 교체주기 (day)는 73.655일입니다,   컴포넌트 2의 평균 교체주기 (day)는 63.177일입니다,    컴포넌트 3의 평균 교체주기 (day)는 76.194일입니다,    컴포넌트 4의 평균 교체주기 (day)는 69.667일입니다\n"
          ]
        }
      ]
    }
  ]
}
